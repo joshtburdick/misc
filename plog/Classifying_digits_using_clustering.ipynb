{
  "nbformat": 4,
  "nbformat_minor": 0,
  "metadata": {
    "colab": {
      "provenance": [],
      "authorship_tag": "ABX9TyP76MUSiU5uHCjQfA/fsEpA",
      "include_colab_link": true
    },
    "kernelspec": {
      "name": "python3",
      "display_name": "Python 3"
    },
    "language_info": {
      "name": "python"
    },
    "widgets": {
      "application/vnd.jupyter.widget-state+json": {
        "f7f6b11740c54f9c897b89e6191ea742": {
          "model_module": "@jupyter-widgets/controls",
          "model_name": "HBoxModel",
          "model_module_version": "1.5.0",
          "state": {
            "_dom_classes": [],
            "_model_module": "@jupyter-widgets/controls",
            "_model_module_version": "1.5.0",
            "_model_name": "HBoxModel",
            "_view_count": null,
            "_view_module": "@jupyter-widgets/controls",
            "_view_module_version": "1.5.0",
            "_view_name": "HBoxView",
            "box_style": "",
            "children": [
              "IPY_MODEL_bdc8074abfec41e7a51b8dda42c7328b",
              "IPY_MODEL_7c14413939294a89a8fa2a2b9eec76f4",
              "IPY_MODEL_d66dc1afcbd44817b9d4cf8ba29317cb"
            ],
            "layout": "IPY_MODEL_ab7e1eebb85540e285a6986805f580da"
          }
        },
        "bdc8074abfec41e7a51b8dda42c7328b": {
          "model_module": "@jupyter-widgets/controls",
          "model_name": "HTMLModel",
          "model_module_version": "1.5.0",
          "state": {
            "_dom_classes": [],
            "_model_module": "@jupyter-widgets/controls",
            "_model_module_version": "1.5.0",
            "_model_name": "HTMLModel",
            "_view_count": null,
            "_view_module": "@jupyter-widgets/controls",
            "_view_module_version": "1.5.0",
            "_view_name": "HTMLView",
            "description": "",
            "description_tooltip": null,
            "layout": "IPY_MODEL_59c30bf5ecfb4bd2a6b85256eb29aa41",
            "placeholder": "​",
            "style": "IPY_MODEL_15df3d8eeb3541fa8e0713dc1c0e0688",
            "value": "Dl Completed...: 100%"
          }
        },
        "7c14413939294a89a8fa2a2b9eec76f4": {
          "model_module": "@jupyter-widgets/controls",
          "model_name": "FloatProgressModel",
          "model_module_version": "1.5.0",
          "state": {
            "_dom_classes": [],
            "_model_module": "@jupyter-widgets/controls",
            "_model_module_version": "1.5.0",
            "_model_name": "FloatProgressModel",
            "_view_count": null,
            "_view_module": "@jupyter-widgets/controls",
            "_view_module_version": "1.5.0",
            "_view_name": "ProgressView",
            "bar_style": "success",
            "description": "",
            "description_tooltip": null,
            "layout": "IPY_MODEL_d63e32147e47432cb6ea5f3e7524dd8b",
            "max": 1,
            "min": 0,
            "orientation": "horizontal",
            "style": "IPY_MODEL_a1534d0dd4f046d8b213278887c3ea2a",
            "value": 1
          }
        },
        "d66dc1afcbd44817b9d4cf8ba29317cb": {
          "model_module": "@jupyter-widgets/controls",
          "model_name": "HTMLModel",
          "model_module_version": "1.5.0",
          "state": {
            "_dom_classes": [],
            "_model_module": "@jupyter-widgets/controls",
            "_model_module_version": "1.5.0",
            "_model_name": "HTMLModel",
            "_view_count": null,
            "_view_module": "@jupyter-widgets/controls",
            "_view_module_version": "1.5.0",
            "_view_name": "HTMLView",
            "description": "",
            "description_tooltip": null,
            "layout": "IPY_MODEL_42e08df6cbd649eea177592d38e38f7a",
            "placeholder": "​",
            "style": "IPY_MODEL_4e992592729d48bfb7a765c41cdb916b",
            "value": " 4/4 [00:00&lt;00:00,  4.33 url/s]"
          }
        },
        "ab7e1eebb85540e285a6986805f580da": {
          "model_module": "@jupyter-widgets/base",
          "model_name": "LayoutModel",
          "model_module_version": "1.2.0",
          "state": {
            "_model_module": "@jupyter-widgets/base",
            "_model_module_version": "1.2.0",
            "_model_name": "LayoutModel",
            "_view_count": null,
            "_view_module": "@jupyter-widgets/base",
            "_view_module_version": "1.2.0",
            "_view_name": "LayoutView",
            "align_content": null,
            "align_items": null,
            "align_self": null,
            "border": null,
            "bottom": null,
            "display": null,
            "flex": null,
            "flex_flow": null,
            "grid_area": null,
            "grid_auto_columns": null,
            "grid_auto_flow": null,
            "grid_auto_rows": null,
            "grid_column": null,
            "grid_gap": null,
            "grid_row": null,
            "grid_template_areas": null,
            "grid_template_columns": null,
            "grid_template_rows": null,
            "height": null,
            "justify_content": null,
            "justify_items": null,
            "left": null,
            "margin": null,
            "max_height": null,
            "max_width": null,
            "min_height": null,
            "min_width": null,
            "object_fit": null,
            "object_position": null,
            "order": null,
            "overflow": null,
            "overflow_x": null,
            "overflow_y": null,
            "padding": null,
            "right": null,
            "top": null,
            "visibility": null,
            "width": null
          }
        },
        "59c30bf5ecfb4bd2a6b85256eb29aa41": {
          "model_module": "@jupyter-widgets/base",
          "model_name": "LayoutModel",
          "model_module_version": "1.2.0",
          "state": {
            "_model_module": "@jupyter-widgets/base",
            "_model_module_version": "1.2.0",
            "_model_name": "LayoutModel",
            "_view_count": null,
            "_view_module": "@jupyter-widgets/base",
            "_view_module_version": "1.2.0",
            "_view_name": "LayoutView",
            "align_content": null,
            "align_items": null,
            "align_self": null,
            "border": null,
            "bottom": null,
            "display": null,
            "flex": null,
            "flex_flow": null,
            "grid_area": null,
            "grid_auto_columns": null,
            "grid_auto_flow": null,
            "grid_auto_rows": null,
            "grid_column": null,
            "grid_gap": null,
            "grid_row": null,
            "grid_template_areas": null,
            "grid_template_columns": null,
            "grid_template_rows": null,
            "height": null,
            "justify_content": null,
            "justify_items": null,
            "left": null,
            "margin": null,
            "max_height": null,
            "max_width": null,
            "min_height": null,
            "min_width": null,
            "object_fit": null,
            "object_position": null,
            "order": null,
            "overflow": null,
            "overflow_x": null,
            "overflow_y": null,
            "padding": null,
            "right": null,
            "top": null,
            "visibility": null,
            "width": null
          }
        },
        "15df3d8eeb3541fa8e0713dc1c0e0688": {
          "model_module": "@jupyter-widgets/controls",
          "model_name": "DescriptionStyleModel",
          "model_module_version": "1.5.0",
          "state": {
            "_model_module": "@jupyter-widgets/controls",
            "_model_module_version": "1.5.0",
            "_model_name": "DescriptionStyleModel",
            "_view_count": null,
            "_view_module": "@jupyter-widgets/base",
            "_view_module_version": "1.2.0",
            "_view_name": "StyleView",
            "description_width": ""
          }
        },
        "d63e32147e47432cb6ea5f3e7524dd8b": {
          "model_module": "@jupyter-widgets/base",
          "model_name": "LayoutModel",
          "model_module_version": "1.2.0",
          "state": {
            "_model_module": "@jupyter-widgets/base",
            "_model_module_version": "1.2.0",
            "_model_name": "LayoutModel",
            "_view_count": null,
            "_view_module": "@jupyter-widgets/base",
            "_view_module_version": "1.2.0",
            "_view_name": "LayoutView",
            "align_content": null,
            "align_items": null,
            "align_self": null,
            "border": null,
            "bottom": null,
            "display": null,
            "flex": null,
            "flex_flow": null,
            "grid_area": null,
            "grid_auto_columns": null,
            "grid_auto_flow": null,
            "grid_auto_rows": null,
            "grid_column": null,
            "grid_gap": null,
            "grid_row": null,
            "grid_template_areas": null,
            "grid_template_columns": null,
            "grid_template_rows": null,
            "height": null,
            "justify_content": null,
            "justify_items": null,
            "left": null,
            "margin": null,
            "max_height": null,
            "max_width": null,
            "min_height": null,
            "min_width": null,
            "object_fit": null,
            "object_position": null,
            "order": null,
            "overflow": null,
            "overflow_x": null,
            "overflow_y": null,
            "padding": null,
            "right": null,
            "top": null,
            "visibility": null,
            "width": "20px"
          }
        },
        "a1534d0dd4f046d8b213278887c3ea2a": {
          "model_module": "@jupyter-widgets/controls",
          "model_name": "ProgressStyleModel",
          "model_module_version": "1.5.0",
          "state": {
            "_model_module": "@jupyter-widgets/controls",
            "_model_module_version": "1.5.0",
            "_model_name": "ProgressStyleModel",
            "_view_count": null,
            "_view_module": "@jupyter-widgets/base",
            "_view_module_version": "1.2.0",
            "_view_name": "StyleView",
            "bar_color": null,
            "description_width": ""
          }
        },
        "42e08df6cbd649eea177592d38e38f7a": {
          "model_module": "@jupyter-widgets/base",
          "model_name": "LayoutModel",
          "model_module_version": "1.2.0",
          "state": {
            "_model_module": "@jupyter-widgets/base",
            "_model_module_version": "1.2.0",
            "_model_name": "LayoutModel",
            "_view_count": null,
            "_view_module": "@jupyter-widgets/base",
            "_view_module_version": "1.2.0",
            "_view_name": "LayoutView",
            "align_content": null,
            "align_items": null,
            "align_self": null,
            "border": null,
            "bottom": null,
            "display": null,
            "flex": null,
            "flex_flow": null,
            "grid_area": null,
            "grid_auto_columns": null,
            "grid_auto_flow": null,
            "grid_auto_rows": null,
            "grid_column": null,
            "grid_gap": null,
            "grid_row": null,
            "grid_template_areas": null,
            "grid_template_columns": null,
            "grid_template_rows": null,
            "height": null,
            "justify_content": null,
            "justify_items": null,
            "left": null,
            "margin": null,
            "max_height": null,
            "max_width": null,
            "min_height": null,
            "min_width": null,
            "object_fit": null,
            "object_position": null,
            "order": null,
            "overflow": null,
            "overflow_x": null,
            "overflow_y": null,
            "padding": null,
            "right": null,
            "top": null,
            "visibility": null,
            "width": null
          }
        },
        "4e992592729d48bfb7a765c41cdb916b": {
          "model_module": "@jupyter-widgets/controls",
          "model_name": "DescriptionStyleModel",
          "model_module_version": "1.5.0",
          "state": {
            "_model_module": "@jupyter-widgets/controls",
            "_model_module_version": "1.5.0",
            "_model_name": "DescriptionStyleModel",
            "_view_count": null,
            "_view_module": "@jupyter-widgets/base",
            "_view_module_version": "1.2.0",
            "_view_name": "StyleView",
            "description_width": ""
          }
        },
        "cae9824c398b4ef680d427d66c2150a2": {
          "model_module": "@jupyter-widgets/controls",
          "model_name": "HBoxModel",
          "model_module_version": "1.5.0",
          "state": {
            "_dom_classes": [],
            "_model_module": "@jupyter-widgets/controls",
            "_model_module_version": "1.5.0",
            "_model_name": "HBoxModel",
            "_view_count": null,
            "_view_module": "@jupyter-widgets/controls",
            "_view_module_version": "1.5.0",
            "_view_name": "HBoxView",
            "box_style": "",
            "children": [
              "IPY_MODEL_3604a55764a24ee686906974615dd4d3",
              "IPY_MODEL_e8405d899d574da49972fb7fd919af65",
              "IPY_MODEL_b7602bc2d4d14e4d906301990aeae021"
            ],
            "layout": "IPY_MODEL_37975b290b654e539f228f5971cc9057"
          }
        },
        "3604a55764a24ee686906974615dd4d3": {
          "model_module": "@jupyter-widgets/controls",
          "model_name": "HTMLModel",
          "model_module_version": "1.5.0",
          "state": {
            "_dom_classes": [],
            "_model_module": "@jupyter-widgets/controls",
            "_model_module_version": "1.5.0",
            "_model_name": "HTMLModel",
            "_view_count": null,
            "_view_module": "@jupyter-widgets/controls",
            "_view_module_version": "1.5.0",
            "_view_name": "HTMLView",
            "description": "",
            "description_tooltip": null,
            "layout": "IPY_MODEL_c871b1b64d3847dda94c45b4dd8f7eef",
            "placeholder": "​",
            "style": "IPY_MODEL_53eb26ee687347e3a4ad9cda539848d7",
            "value": "Dl Size...: 100%"
          }
        },
        "e8405d899d574da49972fb7fd919af65": {
          "model_module": "@jupyter-widgets/controls",
          "model_name": "FloatProgressModel",
          "model_module_version": "1.5.0",
          "state": {
            "_dom_classes": [],
            "_model_module": "@jupyter-widgets/controls",
            "_model_module_version": "1.5.0",
            "_model_name": "FloatProgressModel",
            "_view_count": null,
            "_view_module": "@jupyter-widgets/controls",
            "_view_module_version": "1.5.0",
            "_view_name": "ProgressView",
            "bar_style": "success",
            "description": "",
            "description_tooltip": null,
            "layout": "IPY_MODEL_04e272d7d4804dba8d97d6e96326f459",
            "max": 1,
            "min": 0,
            "orientation": "horizontal",
            "style": "IPY_MODEL_99733c1fe3334f699d03e461176fb063",
            "value": 1
          }
        },
        "b7602bc2d4d14e4d906301990aeae021": {
          "model_module": "@jupyter-widgets/controls",
          "model_name": "HTMLModel",
          "model_module_version": "1.5.0",
          "state": {
            "_dom_classes": [],
            "_model_module": "@jupyter-widgets/controls",
            "_model_module_version": "1.5.0",
            "_model_name": "HTMLModel",
            "_view_count": null,
            "_view_module": "@jupyter-widgets/controls",
            "_view_module_version": "1.5.0",
            "_view_name": "HTMLView",
            "description": "",
            "description_tooltip": null,
            "layout": "IPY_MODEL_d0cbf89f64f14f6fad5a240423e635e9",
            "placeholder": "​",
            "style": "IPY_MODEL_aab693079f6043f0ad2658a3838c0440",
            "value": " 10/10 [00:00&lt;00:00, 11.02 MiB/s]"
          }
        },
        "37975b290b654e539f228f5971cc9057": {
          "model_module": "@jupyter-widgets/base",
          "model_name": "LayoutModel",
          "model_module_version": "1.2.0",
          "state": {
            "_model_module": "@jupyter-widgets/base",
            "_model_module_version": "1.2.0",
            "_model_name": "LayoutModel",
            "_view_count": null,
            "_view_module": "@jupyter-widgets/base",
            "_view_module_version": "1.2.0",
            "_view_name": "LayoutView",
            "align_content": null,
            "align_items": null,
            "align_self": null,
            "border": null,
            "bottom": null,
            "display": null,
            "flex": null,
            "flex_flow": null,
            "grid_area": null,
            "grid_auto_columns": null,
            "grid_auto_flow": null,
            "grid_auto_rows": null,
            "grid_column": null,
            "grid_gap": null,
            "grid_row": null,
            "grid_template_areas": null,
            "grid_template_columns": null,
            "grid_template_rows": null,
            "height": null,
            "justify_content": null,
            "justify_items": null,
            "left": null,
            "margin": null,
            "max_height": null,
            "max_width": null,
            "min_height": null,
            "min_width": null,
            "object_fit": null,
            "object_position": null,
            "order": null,
            "overflow": null,
            "overflow_x": null,
            "overflow_y": null,
            "padding": null,
            "right": null,
            "top": null,
            "visibility": null,
            "width": null
          }
        },
        "c871b1b64d3847dda94c45b4dd8f7eef": {
          "model_module": "@jupyter-widgets/base",
          "model_name": "LayoutModel",
          "model_module_version": "1.2.0",
          "state": {
            "_model_module": "@jupyter-widgets/base",
            "_model_module_version": "1.2.0",
            "_model_name": "LayoutModel",
            "_view_count": null,
            "_view_module": "@jupyter-widgets/base",
            "_view_module_version": "1.2.0",
            "_view_name": "LayoutView",
            "align_content": null,
            "align_items": null,
            "align_self": null,
            "border": null,
            "bottom": null,
            "display": null,
            "flex": null,
            "flex_flow": null,
            "grid_area": null,
            "grid_auto_columns": null,
            "grid_auto_flow": null,
            "grid_auto_rows": null,
            "grid_column": null,
            "grid_gap": null,
            "grid_row": null,
            "grid_template_areas": null,
            "grid_template_columns": null,
            "grid_template_rows": null,
            "height": null,
            "justify_content": null,
            "justify_items": null,
            "left": null,
            "margin": null,
            "max_height": null,
            "max_width": null,
            "min_height": null,
            "min_width": null,
            "object_fit": null,
            "object_position": null,
            "order": null,
            "overflow": null,
            "overflow_x": null,
            "overflow_y": null,
            "padding": null,
            "right": null,
            "top": null,
            "visibility": null,
            "width": null
          }
        },
        "53eb26ee687347e3a4ad9cda539848d7": {
          "model_module": "@jupyter-widgets/controls",
          "model_name": "DescriptionStyleModel",
          "model_module_version": "1.5.0",
          "state": {
            "_model_module": "@jupyter-widgets/controls",
            "_model_module_version": "1.5.0",
            "_model_name": "DescriptionStyleModel",
            "_view_count": null,
            "_view_module": "@jupyter-widgets/base",
            "_view_module_version": "1.2.0",
            "_view_name": "StyleView",
            "description_width": ""
          }
        },
        "04e272d7d4804dba8d97d6e96326f459": {
          "model_module": "@jupyter-widgets/base",
          "model_name": "LayoutModel",
          "model_module_version": "1.2.0",
          "state": {
            "_model_module": "@jupyter-widgets/base",
            "_model_module_version": "1.2.0",
            "_model_name": "LayoutModel",
            "_view_count": null,
            "_view_module": "@jupyter-widgets/base",
            "_view_module_version": "1.2.0",
            "_view_name": "LayoutView",
            "align_content": null,
            "align_items": null,
            "align_self": null,
            "border": null,
            "bottom": null,
            "display": null,
            "flex": null,
            "flex_flow": null,
            "grid_area": null,
            "grid_auto_columns": null,
            "grid_auto_flow": null,
            "grid_auto_rows": null,
            "grid_column": null,
            "grid_gap": null,
            "grid_row": null,
            "grid_template_areas": null,
            "grid_template_columns": null,
            "grid_template_rows": null,
            "height": null,
            "justify_content": null,
            "justify_items": null,
            "left": null,
            "margin": null,
            "max_height": null,
            "max_width": null,
            "min_height": null,
            "min_width": null,
            "object_fit": null,
            "object_position": null,
            "order": null,
            "overflow": null,
            "overflow_x": null,
            "overflow_y": null,
            "padding": null,
            "right": null,
            "top": null,
            "visibility": null,
            "width": "20px"
          }
        },
        "99733c1fe3334f699d03e461176fb063": {
          "model_module": "@jupyter-widgets/controls",
          "model_name": "ProgressStyleModel",
          "model_module_version": "1.5.0",
          "state": {
            "_model_module": "@jupyter-widgets/controls",
            "_model_module_version": "1.5.0",
            "_model_name": "ProgressStyleModel",
            "_view_count": null,
            "_view_module": "@jupyter-widgets/base",
            "_view_module_version": "1.2.0",
            "_view_name": "StyleView",
            "bar_color": null,
            "description_width": ""
          }
        },
        "d0cbf89f64f14f6fad5a240423e635e9": {
          "model_module": "@jupyter-widgets/base",
          "model_name": "LayoutModel",
          "model_module_version": "1.2.0",
          "state": {
            "_model_module": "@jupyter-widgets/base",
            "_model_module_version": "1.2.0",
            "_model_name": "LayoutModel",
            "_view_count": null,
            "_view_module": "@jupyter-widgets/base",
            "_view_module_version": "1.2.0",
            "_view_name": "LayoutView",
            "align_content": null,
            "align_items": null,
            "align_self": null,
            "border": null,
            "bottom": null,
            "display": null,
            "flex": null,
            "flex_flow": null,
            "grid_area": null,
            "grid_auto_columns": null,
            "grid_auto_flow": null,
            "grid_auto_rows": null,
            "grid_column": null,
            "grid_gap": null,
            "grid_row": null,
            "grid_template_areas": null,
            "grid_template_columns": null,
            "grid_template_rows": null,
            "height": null,
            "justify_content": null,
            "justify_items": null,
            "left": null,
            "margin": null,
            "max_height": null,
            "max_width": null,
            "min_height": null,
            "min_width": null,
            "object_fit": null,
            "object_position": null,
            "order": null,
            "overflow": null,
            "overflow_x": null,
            "overflow_y": null,
            "padding": null,
            "right": null,
            "top": null,
            "visibility": null,
            "width": null
          }
        },
        "aab693079f6043f0ad2658a3838c0440": {
          "model_module": "@jupyter-widgets/controls",
          "model_name": "DescriptionStyleModel",
          "model_module_version": "1.5.0",
          "state": {
            "_model_module": "@jupyter-widgets/controls",
            "_model_module_version": "1.5.0",
            "_model_name": "DescriptionStyleModel",
            "_view_count": null,
            "_view_module": "@jupyter-widgets/base",
            "_view_module_version": "1.2.0",
            "_view_name": "StyleView",
            "description_width": ""
          }
        },
        "6c601aa476d948c2b70b53a77184729b": {
          "model_module": "@jupyter-widgets/controls",
          "model_name": "HBoxModel",
          "model_module_version": "1.5.0",
          "state": {
            "_dom_classes": [],
            "_model_module": "@jupyter-widgets/controls",
            "_model_module_version": "1.5.0",
            "_model_name": "HBoxModel",
            "_view_count": null,
            "_view_module": "@jupyter-widgets/controls",
            "_view_module_version": "1.5.0",
            "_view_name": "HBoxView",
            "box_style": "",
            "children": [
              "IPY_MODEL_205bb98075ae4dc0bbc722e16992cce3",
              "IPY_MODEL_beb832633086437fa493232c60098cc1",
              "IPY_MODEL_c5efe4eae88640c8a171a9e24f26c843"
            ],
            "layout": "IPY_MODEL_8d3a1d5a98c649edab34201a1a48ff87"
          }
        },
        "205bb98075ae4dc0bbc722e16992cce3": {
          "model_module": "@jupyter-widgets/controls",
          "model_name": "HTMLModel",
          "model_module_version": "1.5.0",
          "state": {
            "_dom_classes": [],
            "_model_module": "@jupyter-widgets/controls",
            "_model_module_version": "1.5.0",
            "_model_name": "HTMLModel",
            "_view_count": null,
            "_view_module": "@jupyter-widgets/controls",
            "_view_module_version": "1.5.0",
            "_view_name": "HTMLView",
            "description": "",
            "description_tooltip": null,
            "layout": "IPY_MODEL_3693726200a6477facb33b2cbf2acb15",
            "placeholder": "​",
            "style": "IPY_MODEL_a863136bd87f4bc18c2d3bb02704295e",
            "value": "Extraction completed...: 100%"
          }
        },
        "beb832633086437fa493232c60098cc1": {
          "model_module": "@jupyter-widgets/controls",
          "model_name": "FloatProgressModel",
          "model_module_version": "1.5.0",
          "state": {
            "_dom_classes": [],
            "_model_module": "@jupyter-widgets/controls",
            "_model_module_version": "1.5.0",
            "_model_name": "FloatProgressModel",
            "_view_count": null,
            "_view_module": "@jupyter-widgets/controls",
            "_view_module_version": "1.5.0",
            "_view_name": "ProgressView",
            "bar_style": "success",
            "description": "",
            "description_tooltip": null,
            "layout": "IPY_MODEL_ad3c0b2456b244db932e82e43c2f95ad",
            "max": 1,
            "min": 0,
            "orientation": "horizontal",
            "style": "IPY_MODEL_087fd61463f8495588778ae0af600ead",
            "value": 1
          }
        },
        "c5efe4eae88640c8a171a9e24f26c843": {
          "model_module": "@jupyter-widgets/controls",
          "model_name": "HTMLModel",
          "model_module_version": "1.5.0",
          "state": {
            "_dom_classes": [],
            "_model_module": "@jupyter-widgets/controls",
            "_model_module_version": "1.5.0",
            "_model_name": "HTMLModel",
            "_view_count": null,
            "_view_module": "@jupyter-widgets/controls",
            "_view_module_version": "1.5.0",
            "_view_name": "HTMLView",
            "description": "",
            "description_tooltip": null,
            "layout": "IPY_MODEL_8b90014722e44d9b8aba015b450c6308",
            "placeholder": "​",
            "style": "IPY_MODEL_9edbccc1bc274e9cb346adf7d13a3a94",
            "value": " 4/4 [00:00&lt;00:00,  4.51 file/s]"
          }
        },
        "8d3a1d5a98c649edab34201a1a48ff87": {
          "model_module": "@jupyter-widgets/base",
          "model_name": "LayoutModel",
          "model_module_version": "1.2.0",
          "state": {
            "_model_module": "@jupyter-widgets/base",
            "_model_module_version": "1.2.0",
            "_model_name": "LayoutModel",
            "_view_count": null,
            "_view_module": "@jupyter-widgets/base",
            "_view_module_version": "1.2.0",
            "_view_name": "LayoutView",
            "align_content": null,
            "align_items": null,
            "align_self": null,
            "border": null,
            "bottom": null,
            "display": null,
            "flex": null,
            "flex_flow": null,
            "grid_area": null,
            "grid_auto_columns": null,
            "grid_auto_flow": null,
            "grid_auto_rows": null,
            "grid_column": null,
            "grid_gap": null,
            "grid_row": null,
            "grid_template_areas": null,
            "grid_template_columns": null,
            "grid_template_rows": null,
            "height": null,
            "justify_content": null,
            "justify_items": null,
            "left": null,
            "margin": null,
            "max_height": null,
            "max_width": null,
            "min_height": null,
            "min_width": null,
            "object_fit": null,
            "object_position": null,
            "order": null,
            "overflow": null,
            "overflow_x": null,
            "overflow_y": null,
            "padding": null,
            "right": null,
            "top": null,
            "visibility": null,
            "width": null
          }
        },
        "3693726200a6477facb33b2cbf2acb15": {
          "model_module": "@jupyter-widgets/base",
          "model_name": "LayoutModel",
          "model_module_version": "1.2.0",
          "state": {
            "_model_module": "@jupyter-widgets/base",
            "_model_module_version": "1.2.0",
            "_model_name": "LayoutModel",
            "_view_count": null,
            "_view_module": "@jupyter-widgets/base",
            "_view_module_version": "1.2.0",
            "_view_name": "LayoutView",
            "align_content": null,
            "align_items": null,
            "align_self": null,
            "border": null,
            "bottom": null,
            "display": null,
            "flex": null,
            "flex_flow": null,
            "grid_area": null,
            "grid_auto_columns": null,
            "grid_auto_flow": null,
            "grid_auto_rows": null,
            "grid_column": null,
            "grid_gap": null,
            "grid_row": null,
            "grid_template_areas": null,
            "grid_template_columns": null,
            "grid_template_rows": null,
            "height": null,
            "justify_content": null,
            "justify_items": null,
            "left": null,
            "margin": null,
            "max_height": null,
            "max_width": null,
            "min_height": null,
            "min_width": null,
            "object_fit": null,
            "object_position": null,
            "order": null,
            "overflow": null,
            "overflow_x": null,
            "overflow_y": null,
            "padding": null,
            "right": null,
            "top": null,
            "visibility": null,
            "width": null
          }
        },
        "a863136bd87f4bc18c2d3bb02704295e": {
          "model_module": "@jupyter-widgets/controls",
          "model_name": "DescriptionStyleModel",
          "model_module_version": "1.5.0",
          "state": {
            "_model_module": "@jupyter-widgets/controls",
            "_model_module_version": "1.5.0",
            "_model_name": "DescriptionStyleModel",
            "_view_count": null,
            "_view_module": "@jupyter-widgets/base",
            "_view_module_version": "1.2.0",
            "_view_name": "StyleView",
            "description_width": ""
          }
        },
        "ad3c0b2456b244db932e82e43c2f95ad": {
          "model_module": "@jupyter-widgets/base",
          "model_name": "LayoutModel",
          "model_module_version": "1.2.0",
          "state": {
            "_model_module": "@jupyter-widgets/base",
            "_model_module_version": "1.2.0",
            "_model_name": "LayoutModel",
            "_view_count": null,
            "_view_module": "@jupyter-widgets/base",
            "_view_module_version": "1.2.0",
            "_view_name": "LayoutView",
            "align_content": null,
            "align_items": null,
            "align_self": null,
            "border": null,
            "bottom": null,
            "display": null,
            "flex": null,
            "flex_flow": null,
            "grid_area": null,
            "grid_auto_columns": null,
            "grid_auto_flow": null,
            "grid_auto_rows": null,
            "grid_column": null,
            "grid_gap": null,
            "grid_row": null,
            "grid_template_areas": null,
            "grid_template_columns": null,
            "grid_template_rows": null,
            "height": null,
            "justify_content": null,
            "justify_items": null,
            "left": null,
            "margin": null,
            "max_height": null,
            "max_width": null,
            "min_height": null,
            "min_width": null,
            "object_fit": null,
            "object_position": null,
            "order": null,
            "overflow": null,
            "overflow_x": null,
            "overflow_y": null,
            "padding": null,
            "right": null,
            "top": null,
            "visibility": null,
            "width": "20px"
          }
        },
        "087fd61463f8495588778ae0af600ead": {
          "model_module": "@jupyter-widgets/controls",
          "model_name": "ProgressStyleModel",
          "model_module_version": "1.5.0",
          "state": {
            "_model_module": "@jupyter-widgets/controls",
            "_model_module_version": "1.5.0",
            "_model_name": "ProgressStyleModel",
            "_view_count": null,
            "_view_module": "@jupyter-widgets/base",
            "_view_module_version": "1.2.0",
            "_view_name": "StyleView",
            "bar_color": null,
            "description_width": ""
          }
        },
        "8b90014722e44d9b8aba015b450c6308": {
          "model_module": "@jupyter-widgets/base",
          "model_name": "LayoutModel",
          "model_module_version": "1.2.0",
          "state": {
            "_model_module": "@jupyter-widgets/base",
            "_model_module_version": "1.2.0",
            "_model_name": "LayoutModel",
            "_view_count": null,
            "_view_module": "@jupyter-widgets/base",
            "_view_module_version": "1.2.0",
            "_view_name": "LayoutView",
            "align_content": null,
            "align_items": null,
            "align_self": null,
            "border": null,
            "bottom": null,
            "display": null,
            "flex": null,
            "flex_flow": null,
            "grid_area": null,
            "grid_auto_columns": null,
            "grid_auto_flow": null,
            "grid_auto_rows": null,
            "grid_column": null,
            "grid_gap": null,
            "grid_row": null,
            "grid_template_areas": null,
            "grid_template_columns": null,
            "grid_template_rows": null,
            "height": null,
            "justify_content": null,
            "justify_items": null,
            "left": null,
            "margin": null,
            "max_height": null,
            "max_width": null,
            "min_height": null,
            "min_width": null,
            "object_fit": null,
            "object_position": null,
            "order": null,
            "overflow": null,
            "overflow_x": null,
            "overflow_y": null,
            "padding": null,
            "right": null,
            "top": null,
            "visibility": null,
            "width": null
          }
        },
        "9edbccc1bc274e9cb346adf7d13a3a94": {
          "model_module": "@jupyter-widgets/controls",
          "model_name": "DescriptionStyleModel",
          "model_module_version": "1.5.0",
          "state": {
            "_model_module": "@jupyter-widgets/controls",
            "_model_module_version": "1.5.0",
            "_model_name": "DescriptionStyleModel",
            "_view_count": null,
            "_view_module": "@jupyter-widgets/base",
            "_view_module_version": "1.2.0",
            "_view_name": "StyleView",
            "description_width": ""
          }
        },
        "81d9168ae7bc4dd683ee2f642f8ed1c9": {
          "model_module": "@jupyter-widgets/controls",
          "model_name": "HBoxModel",
          "model_module_version": "1.5.0",
          "state": {
            "_dom_classes": [],
            "_model_module": "@jupyter-widgets/controls",
            "_model_module_version": "1.5.0",
            "_model_name": "HBoxModel",
            "_view_count": null,
            "_view_module": "@jupyter-widgets/controls",
            "_view_module_version": "1.5.0",
            "_view_name": "HBoxView",
            "box_style": "",
            "children": [
              "IPY_MODEL_50c6361b2f9148c2b8a5af10cbe66e1d",
              "IPY_MODEL_201df6cca09b45389e385f30b4cb3904",
              "IPY_MODEL_82510d667aae4157b50430512e02c467"
            ],
            "layout": "IPY_MODEL_f8a7126a5a364caab997804985e17058"
          }
        },
        "50c6361b2f9148c2b8a5af10cbe66e1d": {
          "model_module": "@jupyter-widgets/controls",
          "model_name": "HTMLModel",
          "model_module_version": "1.5.0",
          "state": {
            "_dom_classes": [],
            "_model_module": "@jupyter-widgets/controls",
            "_model_module_version": "1.5.0",
            "_model_name": "HTMLModel",
            "_view_count": null,
            "_view_module": "@jupyter-widgets/controls",
            "_view_module_version": "1.5.0",
            "_view_name": "HTMLView",
            "description": "",
            "description_tooltip": null,
            "layout": "IPY_MODEL_f83f2f67cbda44dd951d0d63c4b6043f",
            "placeholder": "​",
            "style": "IPY_MODEL_0cd3594ffd5f4d48a96250f7e6f2e234",
            "value": "Generating splits...: 100%"
          }
        },
        "201df6cca09b45389e385f30b4cb3904": {
          "model_module": "@jupyter-widgets/controls",
          "model_name": "FloatProgressModel",
          "model_module_version": "1.5.0",
          "state": {
            "_dom_classes": [],
            "_model_module": "@jupyter-widgets/controls",
            "_model_module_version": "1.5.0",
            "_model_name": "FloatProgressModel",
            "_view_count": null,
            "_view_module": "@jupyter-widgets/controls",
            "_view_module_version": "1.5.0",
            "_view_name": "ProgressView",
            "bar_style": "",
            "description": "",
            "description_tooltip": null,
            "layout": "IPY_MODEL_86ceb16623b242668eaf1f272b87b3f4",
            "max": 2,
            "min": 0,
            "orientation": "horizontal",
            "style": "IPY_MODEL_9e00b204697b45138b6f6db68e11d3db",
            "value": 2
          }
        },
        "82510d667aae4157b50430512e02c467": {
          "model_module": "@jupyter-widgets/controls",
          "model_name": "HTMLModel",
          "model_module_version": "1.5.0",
          "state": {
            "_dom_classes": [],
            "_model_module": "@jupyter-widgets/controls",
            "_model_module_version": "1.5.0",
            "_model_name": "HTMLModel",
            "_view_count": null,
            "_view_module": "@jupyter-widgets/controls",
            "_view_module_version": "1.5.0",
            "_view_name": "HTMLView",
            "description": "",
            "description_tooltip": null,
            "layout": "IPY_MODEL_4f41bece62c449199867021878235825",
            "placeholder": "​",
            "style": "IPY_MODEL_06fe22b9bf7642689418fc948f4f86d7",
            "value": " 2/2 [00:25&lt;00:00, 11.02s/ splits]"
          }
        },
        "f8a7126a5a364caab997804985e17058": {
          "model_module": "@jupyter-widgets/base",
          "model_name": "LayoutModel",
          "model_module_version": "1.2.0",
          "state": {
            "_model_module": "@jupyter-widgets/base",
            "_model_module_version": "1.2.0",
            "_model_name": "LayoutModel",
            "_view_count": null,
            "_view_module": "@jupyter-widgets/base",
            "_view_module_version": "1.2.0",
            "_view_name": "LayoutView",
            "align_content": null,
            "align_items": null,
            "align_self": null,
            "border": null,
            "bottom": null,
            "display": null,
            "flex": null,
            "flex_flow": null,
            "grid_area": null,
            "grid_auto_columns": null,
            "grid_auto_flow": null,
            "grid_auto_rows": null,
            "grid_column": null,
            "grid_gap": null,
            "grid_row": null,
            "grid_template_areas": null,
            "grid_template_columns": null,
            "grid_template_rows": null,
            "height": null,
            "justify_content": null,
            "justify_items": null,
            "left": null,
            "margin": null,
            "max_height": null,
            "max_width": null,
            "min_height": null,
            "min_width": null,
            "object_fit": null,
            "object_position": null,
            "order": null,
            "overflow": null,
            "overflow_x": null,
            "overflow_y": null,
            "padding": null,
            "right": null,
            "top": null,
            "visibility": "hidden",
            "width": null
          }
        },
        "f83f2f67cbda44dd951d0d63c4b6043f": {
          "model_module": "@jupyter-widgets/base",
          "model_name": "LayoutModel",
          "model_module_version": "1.2.0",
          "state": {
            "_model_module": "@jupyter-widgets/base",
            "_model_module_version": "1.2.0",
            "_model_name": "LayoutModel",
            "_view_count": null,
            "_view_module": "@jupyter-widgets/base",
            "_view_module_version": "1.2.0",
            "_view_name": "LayoutView",
            "align_content": null,
            "align_items": null,
            "align_self": null,
            "border": null,
            "bottom": null,
            "display": null,
            "flex": null,
            "flex_flow": null,
            "grid_area": null,
            "grid_auto_columns": null,
            "grid_auto_flow": null,
            "grid_auto_rows": null,
            "grid_column": null,
            "grid_gap": null,
            "grid_row": null,
            "grid_template_areas": null,
            "grid_template_columns": null,
            "grid_template_rows": null,
            "height": null,
            "justify_content": null,
            "justify_items": null,
            "left": null,
            "margin": null,
            "max_height": null,
            "max_width": null,
            "min_height": null,
            "min_width": null,
            "object_fit": null,
            "object_position": null,
            "order": null,
            "overflow": null,
            "overflow_x": null,
            "overflow_y": null,
            "padding": null,
            "right": null,
            "top": null,
            "visibility": null,
            "width": null
          }
        },
        "0cd3594ffd5f4d48a96250f7e6f2e234": {
          "model_module": "@jupyter-widgets/controls",
          "model_name": "DescriptionStyleModel",
          "model_module_version": "1.5.0",
          "state": {
            "_model_module": "@jupyter-widgets/controls",
            "_model_module_version": "1.5.0",
            "_model_name": "DescriptionStyleModel",
            "_view_count": null,
            "_view_module": "@jupyter-widgets/base",
            "_view_module_version": "1.2.0",
            "_view_name": "StyleView",
            "description_width": ""
          }
        },
        "86ceb16623b242668eaf1f272b87b3f4": {
          "model_module": "@jupyter-widgets/base",
          "model_name": "LayoutModel",
          "model_module_version": "1.2.0",
          "state": {
            "_model_module": "@jupyter-widgets/base",
            "_model_module_version": "1.2.0",
            "_model_name": "LayoutModel",
            "_view_count": null,
            "_view_module": "@jupyter-widgets/base",
            "_view_module_version": "1.2.0",
            "_view_name": "LayoutView",
            "align_content": null,
            "align_items": null,
            "align_self": null,
            "border": null,
            "bottom": null,
            "display": null,
            "flex": null,
            "flex_flow": null,
            "grid_area": null,
            "grid_auto_columns": null,
            "grid_auto_flow": null,
            "grid_auto_rows": null,
            "grid_column": null,
            "grid_gap": null,
            "grid_row": null,
            "grid_template_areas": null,
            "grid_template_columns": null,
            "grid_template_rows": null,
            "height": null,
            "justify_content": null,
            "justify_items": null,
            "left": null,
            "margin": null,
            "max_height": null,
            "max_width": null,
            "min_height": null,
            "min_width": null,
            "object_fit": null,
            "object_position": null,
            "order": null,
            "overflow": null,
            "overflow_x": null,
            "overflow_y": null,
            "padding": null,
            "right": null,
            "top": null,
            "visibility": null,
            "width": null
          }
        },
        "9e00b204697b45138b6f6db68e11d3db": {
          "model_module": "@jupyter-widgets/controls",
          "model_name": "ProgressStyleModel",
          "model_module_version": "1.5.0",
          "state": {
            "_model_module": "@jupyter-widgets/controls",
            "_model_module_version": "1.5.0",
            "_model_name": "ProgressStyleModel",
            "_view_count": null,
            "_view_module": "@jupyter-widgets/base",
            "_view_module_version": "1.2.0",
            "_view_name": "StyleView",
            "bar_color": null,
            "description_width": ""
          }
        },
        "4f41bece62c449199867021878235825": {
          "model_module": "@jupyter-widgets/base",
          "model_name": "LayoutModel",
          "model_module_version": "1.2.0",
          "state": {
            "_model_module": "@jupyter-widgets/base",
            "_model_module_version": "1.2.0",
            "_model_name": "LayoutModel",
            "_view_count": null,
            "_view_module": "@jupyter-widgets/base",
            "_view_module_version": "1.2.0",
            "_view_name": "LayoutView",
            "align_content": null,
            "align_items": null,
            "align_self": null,
            "border": null,
            "bottom": null,
            "display": null,
            "flex": null,
            "flex_flow": null,
            "grid_area": null,
            "grid_auto_columns": null,
            "grid_auto_flow": null,
            "grid_auto_rows": null,
            "grid_column": null,
            "grid_gap": null,
            "grid_row": null,
            "grid_template_areas": null,
            "grid_template_columns": null,
            "grid_template_rows": null,
            "height": null,
            "justify_content": null,
            "justify_items": null,
            "left": null,
            "margin": null,
            "max_height": null,
            "max_width": null,
            "min_height": null,
            "min_width": null,
            "object_fit": null,
            "object_position": null,
            "order": null,
            "overflow": null,
            "overflow_x": null,
            "overflow_y": null,
            "padding": null,
            "right": null,
            "top": null,
            "visibility": null,
            "width": null
          }
        },
        "06fe22b9bf7642689418fc948f4f86d7": {
          "model_module": "@jupyter-widgets/controls",
          "model_name": "DescriptionStyleModel",
          "model_module_version": "1.5.0",
          "state": {
            "_model_module": "@jupyter-widgets/controls",
            "_model_module_version": "1.5.0",
            "_model_name": "DescriptionStyleModel",
            "_view_count": null,
            "_view_module": "@jupyter-widgets/base",
            "_view_module_version": "1.2.0",
            "_view_name": "StyleView",
            "description_width": ""
          }
        },
        "b5e6d6b434234a8c8074e2588a8ba2dd": {
          "model_module": "@jupyter-widgets/controls",
          "model_name": "HBoxModel",
          "model_module_version": "1.5.0",
          "state": {
            "_dom_classes": [],
            "_model_module": "@jupyter-widgets/controls",
            "_model_module_version": "1.5.0",
            "_model_name": "HBoxModel",
            "_view_count": null,
            "_view_module": "@jupyter-widgets/controls",
            "_view_module_version": "1.5.0",
            "_view_name": "HBoxView",
            "box_style": "",
            "children": [
              "IPY_MODEL_d75d74a484854a3c908e1a8c2b2bf7c5",
              "IPY_MODEL_1f87c54846b447fea2ae9f93e4a8382e",
              "IPY_MODEL_83c871a8782c4468b50f64908f0b67cd"
            ],
            "layout": "IPY_MODEL_0bbd54dc28c14c2e94c16ed4b8ed1a71"
          }
        },
        "d75d74a484854a3c908e1a8c2b2bf7c5": {
          "model_module": "@jupyter-widgets/controls",
          "model_name": "HTMLModel",
          "model_module_version": "1.5.0",
          "state": {
            "_dom_classes": [],
            "_model_module": "@jupyter-widgets/controls",
            "_model_module_version": "1.5.0",
            "_model_name": "HTMLModel",
            "_view_count": null,
            "_view_module": "@jupyter-widgets/controls",
            "_view_module_version": "1.5.0",
            "_view_name": "HTMLView",
            "description": "",
            "description_tooltip": null,
            "layout": "IPY_MODEL_d9b5953f6b09441b945a8e9f117f8295",
            "placeholder": "​",
            "style": "IPY_MODEL_c8d4b36fe77e49be93af7fefb0c31f80",
            "value": "Generating train examples...: "
          }
        },
        "1f87c54846b447fea2ae9f93e4a8382e": {
          "model_module": "@jupyter-widgets/controls",
          "model_name": "FloatProgressModel",
          "model_module_version": "1.5.0",
          "state": {
            "_dom_classes": [],
            "_model_module": "@jupyter-widgets/controls",
            "_model_module_version": "1.5.0",
            "_model_name": "FloatProgressModel",
            "_view_count": null,
            "_view_module": "@jupyter-widgets/controls",
            "_view_module_version": "1.5.0",
            "_view_name": "ProgressView",
            "bar_style": "info",
            "description": "",
            "description_tooltip": null,
            "layout": "IPY_MODEL_0f88c08ce36b4939a0a64177377c2493",
            "max": 1,
            "min": 0,
            "orientation": "horizontal",
            "style": "IPY_MODEL_4902c9b0566642aa845afc93b394c111",
            "value": 1
          }
        },
        "83c871a8782c4468b50f64908f0b67cd": {
          "model_module": "@jupyter-widgets/controls",
          "model_name": "HTMLModel",
          "model_module_version": "1.5.0",
          "state": {
            "_dom_classes": [],
            "_model_module": "@jupyter-widgets/controls",
            "_model_module_version": "1.5.0",
            "_model_name": "HTMLModel",
            "_view_count": null,
            "_view_module": "@jupyter-widgets/controls",
            "_view_module_version": "1.5.0",
            "_view_name": "HTMLView",
            "description": "",
            "description_tooltip": null,
            "layout": "IPY_MODEL_69c10664943a447eb00e4fc7974a961c",
            "placeholder": "​",
            "style": "IPY_MODEL_29f87d56e10f4ecc81f6febe827ab0a3",
            "value": " 59916/? [00:21&lt;00:00, 3000.49 examples/s]"
          }
        },
        "0bbd54dc28c14c2e94c16ed4b8ed1a71": {
          "model_module": "@jupyter-widgets/base",
          "model_name": "LayoutModel",
          "model_module_version": "1.2.0",
          "state": {
            "_model_module": "@jupyter-widgets/base",
            "_model_module_version": "1.2.0",
            "_model_name": "LayoutModel",
            "_view_count": null,
            "_view_module": "@jupyter-widgets/base",
            "_view_module_version": "1.2.0",
            "_view_name": "LayoutView",
            "align_content": null,
            "align_items": null,
            "align_self": null,
            "border": null,
            "bottom": null,
            "display": null,
            "flex": null,
            "flex_flow": null,
            "grid_area": null,
            "grid_auto_columns": null,
            "grid_auto_flow": null,
            "grid_auto_rows": null,
            "grid_column": null,
            "grid_gap": null,
            "grid_row": null,
            "grid_template_areas": null,
            "grid_template_columns": null,
            "grid_template_rows": null,
            "height": null,
            "justify_content": null,
            "justify_items": null,
            "left": null,
            "margin": null,
            "max_height": null,
            "max_width": null,
            "min_height": null,
            "min_width": null,
            "object_fit": null,
            "object_position": null,
            "order": null,
            "overflow": null,
            "overflow_x": null,
            "overflow_y": null,
            "padding": null,
            "right": null,
            "top": null,
            "visibility": "hidden",
            "width": null
          }
        },
        "d9b5953f6b09441b945a8e9f117f8295": {
          "model_module": "@jupyter-widgets/base",
          "model_name": "LayoutModel",
          "model_module_version": "1.2.0",
          "state": {
            "_model_module": "@jupyter-widgets/base",
            "_model_module_version": "1.2.0",
            "_model_name": "LayoutModel",
            "_view_count": null,
            "_view_module": "@jupyter-widgets/base",
            "_view_module_version": "1.2.0",
            "_view_name": "LayoutView",
            "align_content": null,
            "align_items": null,
            "align_self": null,
            "border": null,
            "bottom": null,
            "display": null,
            "flex": null,
            "flex_flow": null,
            "grid_area": null,
            "grid_auto_columns": null,
            "grid_auto_flow": null,
            "grid_auto_rows": null,
            "grid_column": null,
            "grid_gap": null,
            "grid_row": null,
            "grid_template_areas": null,
            "grid_template_columns": null,
            "grid_template_rows": null,
            "height": null,
            "justify_content": null,
            "justify_items": null,
            "left": null,
            "margin": null,
            "max_height": null,
            "max_width": null,
            "min_height": null,
            "min_width": null,
            "object_fit": null,
            "object_position": null,
            "order": null,
            "overflow": null,
            "overflow_x": null,
            "overflow_y": null,
            "padding": null,
            "right": null,
            "top": null,
            "visibility": null,
            "width": null
          }
        },
        "c8d4b36fe77e49be93af7fefb0c31f80": {
          "model_module": "@jupyter-widgets/controls",
          "model_name": "DescriptionStyleModel",
          "model_module_version": "1.5.0",
          "state": {
            "_model_module": "@jupyter-widgets/controls",
            "_model_module_version": "1.5.0",
            "_model_name": "DescriptionStyleModel",
            "_view_count": null,
            "_view_module": "@jupyter-widgets/base",
            "_view_module_version": "1.2.0",
            "_view_name": "StyleView",
            "description_width": ""
          }
        },
        "0f88c08ce36b4939a0a64177377c2493": {
          "model_module": "@jupyter-widgets/base",
          "model_name": "LayoutModel",
          "model_module_version": "1.2.0",
          "state": {
            "_model_module": "@jupyter-widgets/base",
            "_model_module_version": "1.2.0",
            "_model_name": "LayoutModel",
            "_view_count": null,
            "_view_module": "@jupyter-widgets/base",
            "_view_module_version": "1.2.0",
            "_view_name": "LayoutView",
            "align_content": null,
            "align_items": null,
            "align_self": null,
            "border": null,
            "bottom": null,
            "display": null,
            "flex": null,
            "flex_flow": null,
            "grid_area": null,
            "grid_auto_columns": null,
            "grid_auto_flow": null,
            "grid_auto_rows": null,
            "grid_column": null,
            "grid_gap": null,
            "grid_row": null,
            "grid_template_areas": null,
            "grid_template_columns": null,
            "grid_template_rows": null,
            "height": null,
            "justify_content": null,
            "justify_items": null,
            "left": null,
            "margin": null,
            "max_height": null,
            "max_width": null,
            "min_height": null,
            "min_width": null,
            "object_fit": null,
            "object_position": null,
            "order": null,
            "overflow": null,
            "overflow_x": null,
            "overflow_y": null,
            "padding": null,
            "right": null,
            "top": null,
            "visibility": null,
            "width": "20px"
          }
        },
        "4902c9b0566642aa845afc93b394c111": {
          "model_module": "@jupyter-widgets/controls",
          "model_name": "ProgressStyleModel",
          "model_module_version": "1.5.0",
          "state": {
            "_model_module": "@jupyter-widgets/controls",
            "_model_module_version": "1.5.0",
            "_model_name": "ProgressStyleModel",
            "_view_count": null,
            "_view_module": "@jupyter-widgets/base",
            "_view_module_version": "1.2.0",
            "_view_name": "StyleView",
            "bar_color": null,
            "description_width": ""
          }
        },
        "69c10664943a447eb00e4fc7974a961c": {
          "model_module": "@jupyter-widgets/base",
          "model_name": "LayoutModel",
          "model_module_version": "1.2.0",
          "state": {
            "_model_module": "@jupyter-widgets/base",
            "_model_module_version": "1.2.0",
            "_model_name": "LayoutModel",
            "_view_count": null,
            "_view_module": "@jupyter-widgets/base",
            "_view_module_version": "1.2.0",
            "_view_name": "LayoutView",
            "align_content": null,
            "align_items": null,
            "align_self": null,
            "border": null,
            "bottom": null,
            "display": null,
            "flex": null,
            "flex_flow": null,
            "grid_area": null,
            "grid_auto_columns": null,
            "grid_auto_flow": null,
            "grid_auto_rows": null,
            "grid_column": null,
            "grid_gap": null,
            "grid_row": null,
            "grid_template_areas": null,
            "grid_template_columns": null,
            "grid_template_rows": null,
            "height": null,
            "justify_content": null,
            "justify_items": null,
            "left": null,
            "margin": null,
            "max_height": null,
            "max_width": null,
            "min_height": null,
            "min_width": null,
            "object_fit": null,
            "object_position": null,
            "order": null,
            "overflow": null,
            "overflow_x": null,
            "overflow_y": null,
            "padding": null,
            "right": null,
            "top": null,
            "visibility": null,
            "width": null
          }
        },
        "29f87d56e10f4ecc81f6febe827ab0a3": {
          "model_module": "@jupyter-widgets/controls",
          "model_name": "DescriptionStyleModel",
          "model_module_version": "1.5.0",
          "state": {
            "_model_module": "@jupyter-widgets/controls",
            "_model_module_version": "1.5.0",
            "_model_name": "DescriptionStyleModel",
            "_view_count": null,
            "_view_module": "@jupyter-widgets/base",
            "_view_module_version": "1.2.0",
            "_view_name": "StyleView",
            "description_width": ""
          }
        },
        "9a6888c1f24246999f7d14a23e8a6582": {
          "model_module": "@jupyter-widgets/controls",
          "model_name": "HBoxModel",
          "model_module_version": "1.5.0",
          "state": {
            "_dom_classes": [],
            "_model_module": "@jupyter-widgets/controls",
            "_model_module_version": "1.5.0",
            "_model_name": "HBoxModel",
            "_view_count": null,
            "_view_module": "@jupyter-widgets/controls",
            "_view_module_version": "1.5.0",
            "_view_name": "HBoxView",
            "box_style": "",
            "children": [
              "IPY_MODEL_ad3278dbd6ae473f841f146e7b2b4928",
              "IPY_MODEL_27ce66ab96e048a78b2d4c358a25a041",
              "IPY_MODEL_620dea327e4641d3be946db5a35800e3"
            ],
            "layout": "IPY_MODEL_08a177c102a14d308b868cf1d9db680f"
          }
        },
        "ad3278dbd6ae473f841f146e7b2b4928": {
          "model_module": "@jupyter-widgets/controls",
          "model_name": "HTMLModel",
          "model_module_version": "1.5.0",
          "state": {
            "_dom_classes": [],
            "_model_module": "@jupyter-widgets/controls",
            "_model_module_version": "1.5.0",
            "_model_name": "HTMLModel",
            "_view_count": null,
            "_view_module": "@jupyter-widgets/controls",
            "_view_module_version": "1.5.0",
            "_view_name": "HTMLView",
            "description": "",
            "description_tooltip": null,
            "layout": "IPY_MODEL_ad19b65d1da64559822cf4d01a2d1fc3",
            "placeholder": "​",
            "style": "IPY_MODEL_29c91f85f3a840d99a901f1feed5f0e4",
            "value": "Shuffling /tmp/tfds/mnist/incomplete.YDWEBQ_3.0.1/mnist-train.tfrecord*...:   0%"
          }
        },
        "27ce66ab96e048a78b2d4c358a25a041": {
          "model_module": "@jupyter-widgets/controls",
          "model_name": "FloatProgressModel",
          "model_module_version": "1.5.0",
          "state": {
            "_dom_classes": [],
            "_model_module": "@jupyter-widgets/controls",
            "_model_module_version": "1.5.0",
            "_model_name": "FloatProgressModel",
            "_view_count": null,
            "_view_module": "@jupyter-widgets/controls",
            "_view_module_version": "1.5.0",
            "_view_name": "ProgressView",
            "bar_style": "",
            "description": "",
            "description_tooltip": null,
            "layout": "IPY_MODEL_30fc9ca0d4b64069a24bad275ca340aa",
            "max": 60000,
            "min": 0,
            "orientation": "horizontal",
            "style": "IPY_MODEL_cc7e8913eac94848a33b8032c7c9ba3a",
            "value": 60000
          }
        },
        "620dea327e4641d3be946db5a35800e3": {
          "model_module": "@jupyter-widgets/controls",
          "model_name": "HTMLModel",
          "model_module_version": "1.5.0",
          "state": {
            "_dom_classes": [],
            "_model_module": "@jupyter-widgets/controls",
            "_model_module_version": "1.5.0",
            "_model_name": "HTMLModel",
            "_view_count": null,
            "_view_module": "@jupyter-widgets/controls",
            "_view_module_version": "1.5.0",
            "_view_name": "HTMLView",
            "description": "",
            "description_tooltip": null,
            "layout": "IPY_MODEL_349f0013179b4c0494d99b973c19eaa2",
            "placeholder": "​",
            "style": "IPY_MODEL_baae19673562461892b791b24929496f",
            "value": " 0/60000 [00:00&lt;?, ? examples/s]"
          }
        },
        "08a177c102a14d308b868cf1d9db680f": {
          "model_module": "@jupyter-widgets/base",
          "model_name": "LayoutModel",
          "model_module_version": "1.2.0",
          "state": {
            "_model_module": "@jupyter-widgets/base",
            "_model_module_version": "1.2.0",
            "_model_name": "LayoutModel",
            "_view_count": null,
            "_view_module": "@jupyter-widgets/base",
            "_view_module_version": "1.2.0",
            "_view_name": "LayoutView",
            "align_content": null,
            "align_items": null,
            "align_self": null,
            "border": null,
            "bottom": null,
            "display": null,
            "flex": null,
            "flex_flow": null,
            "grid_area": null,
            "grid_auto_columns": null,
            "grid_auto_flow": null,
            "grid_auto_rows": null,
            "grid_column": null,
            "grid_gap": null,
            "grid_row": null,
            "grid_template_areas": null,
            "grid_template_columns": null,
            "grid_template_rows": null,
            "height": null,
            "justify_content": null,
            "justify_items": null,
            "left": null,
            "margin": null,
            "max_height": null,
            "max_width": null,
            "min_height": null,
            "min_width": null,
            "object_fit": null,
            "object_position": null,
            "order": null,
            "overflow": null,
            "overflow_x": null,
            "overflow_y": null,
            "padding": null,
            "right": null,
            "top": null,
            "visibility": "hidden",
            "width": null
          }
        },
        "ad19b65d1da64559822cf4d01a2d1fc3": {
          "model_module": "@jupyter-widgets/base",
          "model_name": "LayoutModel",
          "model_module_version": "1.2.0",
          "state": {
            "_model_module": "@jupyter-widgets/base",
            "_model_module_version": "1.2.0",
            "_model_name": "LayoutModel",
            "_view_count": null,
            "_view_module": "@jupyter-widgets/base",
            "_view_module_version": "1.2.0",
            "_view_name": "LayoutView",
            "align_content": null,
            "align_items": null,
            "align_self": null,
            "border": null,
            "bottom": null,
            "display": null,
            "flex": null,
            "flex_flow": null,
            "grid_area": null,
            "grid_auto_columns": null,
            "grid_auto_flow": null,
            "grid_auto_rows": null,
            "grid_column": null,
            "grid_gap": null,
            "grid_row": null,
            "grid_template_areas": null,
            "grid_template_columns": null,
            "grid_template_rows": null,
            "height": null,
            "justify_content": null,
            "justify_items": null,
            "left": null,
            "margin": null,
            "max_height": null,
            "max_width": null,
            "min_height": null,
            "min_width": null,
            "object_fit": null,
            "object_position": null,
            "order": null,
            "overflow": null,
            "overflow_x": null,
            "overflow_y": null,
            "padding": null,
            "right": null,
            "top": null,
            "visibility": null,
            "width": null
          }
        },
        "29c91f85f3a840d99a901f1feed5f0e4": {
          "model_module": "@jupyter-widgets/controls",
          "model_name": "DescriptionStyleModel",
          "model_module_version": "1.5.0",
          "state": {
            "_model_module": "@jupyter-widgets/controls",
            "_model_module_version": "1.5.0",
            "_model_name": "DescriptionStyleModel",
            "_view_count": null,
            "_view_module": "@jupyter-widgets/base",
            "_view_module_version": "1.2.0",
            "_view_name": "StyleView",
            "description_width": ""
          }
        },
        "30fc9ca0d4b64069a24bad275ca340aa": {
          "model_module": "@jupyter-widgets/base",
          "model_name": "LayoutModel",
          "model_module_version": "1.2.0",
          "state": {
            "_model_module": "@jupyter-widgets/base",
            "_model_module_version": "1.2.0",
            "_model_name": "LayoutModel",
            "_view_count": null,
            "_view_module": "@jupyter-widgets/base",
            "_view_module_version": "1.2.0",
            "_view_name": "LayoutView",
            "align_content": null,
            "align_items": null,
            "align_self": null,
            "border": null,
            "bottom": null,
            "display": null,
            "flex": null,
            "flex_flow": null,
            "grid_area": null,
            "grid_auto_columns": null,
            "grid_auto_flow": null,
            "grid_auto_rows": null,
            "grid_column": null,
            "grid_gap": null,
            "grid_row": null,
            "grid_template_areas": null,
            "grid_template_columns": null,
            "grid_template_rows": null,
            "height": null,
            "justify_content": null,
            "justify_items": null,
            "left": null,
            "margin": null,
            "max_height": null,
            "max_width": null,
            "min_height": null,
            "min_width": null,
            "object_fit": null,
            "object_position": null,
            "order": null,
            "overflow": null,
            "overflow_x": null,
            "overflow_y": null,
            "padding": null,
            "right": null,
            "top": null,
            "visibility": null,
            "width": null
          }
        },
        "cc7e8913eac94848a33b8032c7c9ba3a": {
          "model_module": "@jupyter-widgets/controls",
          "model_name": "ProgressStyleModel",
          "model_module_version": "1.5.0",
          "state": {
            "_model_module": "@jupyter-widgets/controls",
            "_model_module_version": "1.5.0",
            "_model_name": "ProgressStyleModel",
            "_view_count": null,
            "_view_module": "@jupyter-widgets/base",
            "_view_module_version": "1.2.0",
            "_view_name": "StyleView",
            "bar_color": null,
            "description_width": ""
          }
        },
        "349f0013179b4c0494d99b973c19eaa2": {
          "model_module": "@jupyter-widgets/base",
          "model_name": "LayoutModel",
          "model_module_version": "1.2.0",
          "state": {
            "_model_module": "@jupyter-widgets/base",
            "_model_module_version": "1.2.0",
            "_model_name": "LayoutModel",
            "_view_count": null,
            "_view_module": "@jupyter-widgets/base",
            "_view_module_version": "1.2.0",
            "_view_name": "LayoutView",
            "align_content": null,
            "align_items": null,
            "align_self": null,
            "border": null,
            "bottom": null,
            "display": null,
            "flex": null,
            "flex_flow": null,
            "grid_area": null,
            "grid_auto_columns": null,
            "grid_auto_flow": null,
            "grid_auto_rows": null,
            "grid_column": null,
            "grid_gap": null,
            "grid_row": null,
            "grid_template_areas": null,
            "grid_template_columns": null,
            "grid_template_rows": null,
            "height": null,
            "justify_content": null,
            "justify_items": null,
            "left": null,
            "margin": null,
            "max_height": null,
            "max_width": null,
            "min_height": null,
            "min_width": null,
            "object_fit": null,
            "object_position": null,
            "order": null,
            "overflow": null,
            "overflow_x": null,
            "overflow_y": null,
            "padding": null,
            "right": null,
            "top": null,
            "visibility": null,
            "width": null
          }
        },
        "baae19673562461892b791b24929496f": {
          "model_module": "@jupyter-widgets/controls",
          "model_name": "DescriptionStyleModel",
          "model_module_version": "1.5.0",
          "state": {
            "_model_module": "@jupyter-widgets/controls",
            "_model_module_version": "1.5.0",
            "_model_name": "DescriptionStyleModel",
            "_view_count": null,
            "_view_module": "@jupyter-widgets/base",
            "_view_module_version": "1.2.0",
            "_view_name": "StyleView",
            "description_width": ""
          }
        },
        "e1dbe76e3fba4854b53570998a5f12a0": {
          "model_module": "@jupyter-widgets/controls",
          "model_name": "HBoxModel",
          "model_module_version": "1.5.0",
          "state": {
            "_dom_classes": [],
            "_model_module": "@jupyter-widgets/controls",
            "_model_module_version": "1.5.0",
            "_model_name": "HBoxModel",
            "_view_count": null,
            "_view_module": "@jupyter-widgets/controls",
            "_view_module_version": "1.5.0",
            "_view_name": "HBoxView",
            "box_style": "",
            "children": [
              "IPY_MODEL_8526e914a3ba4b31adfd2121ecc0760f",
              "IPY_MODEL_e159ca2a87cd4e33bf6dd6970e44c51a",
              "IPY_MODEL_18c4f6d2eda74b9d9904588bd2390467"
            ],
            "layout": "IPY_MODEL_c2aa2ca284354110a31ea55b8959fab5"
          }
        },
        "8526e914a3ba4b31adfd2121ecc0760f": {
          "model_module": "@jupyter-widgets/controls",
          "model_name": "HTMLModel",
          "model_module_version": "1.5.0",
          "state": {
            "_dom_classes": [],
            "_model_module": "@jupyter-widgets/controls",
            "_model_module_version": "1.5.0",
            "_model_name": "HTMLModel",
            "_view_count": null,
            "_view_module": "@jupyter-widgets/controls",
            "_view_module_version": "1.5.0",
            "_view_name": "HTMLView",
            "description": "",
            "description_tooltip": null,
            "layout": "IPY_MODEL_baa57bce0a4c4945bfca24464a17745e",
            "placeholder": "​",
            "style": "IPY_MODEL_8ce83af8defa4309a1ed2fc8861fb632",
            "value": "Generating test examples...: "
          }
        },
        "e159ca2a87cd4e33bf6dd6970e44c51a": {
          "model_module": "@jupyter-widgets/controls",
          "model_name": "FloatProgressModel",
          "model_module_version": "1.5.0",
          "state": {
            "_dom_classes": [],
            "_model_module": "@jupyter-widgets/controls",
            "_model_module_version": "1.5.0",
            "_model_name": "FloatProgressModel",
            "_view_count": null,
            "_view_module": "@jupyter-widgets/controls",
            "_view_module_version": "1.5.0",
            "_view_name": "ProgressView",
            "bar_style": "info",
            "description": "",
            "description_tooltip": null,
            "layout": "IPY_MODEL_1702ea3ca8cf438185f697ef35d3f048",
            "max": 1,
            "min": 0,
            "orientation": "horizontal",
            "style": "IPY_MODEL_5624c369a7e242238f6d6f1468bc0a02",
            "value": 1
          }
        },
        "18c4f6d2eda74b9d9904588bd2390467": {
          "model_module": "@jupyter-widgets/controls",
          "model_name": "HTMLModel",
          "model_module_version": "1.5.0",
          "state": {
            "_dom_classes": [],
            "_model_module": "@jupyter-widgets/controls",
            "_model_module_version": "1.5.0",
            "_model_name": "HTMLModel",
            "_view_count": null,
            "_view_module": "@jupyter-widgets/controls",
            "_view_module_version": "1.5.0",
            "_view_name": "HTMLView",
            "description": "",
            "description_tooltip": null,
            "layout": "IPY_MODEL_aa3bd85598ab4b34a8501a132c15c774",
            "placeholder": "​",
            "style": "IPY_MODEL_6067e90feb274fc3b408582e6f5f0822",
            "value": " 9037/? [00:03&lt;00:00, 3012.13 examples/s]"
          }
        },
        "c2aa2ca284354110a31ea55b8959fab5": {
          "model_module": "@jupyter-widgets/base",
          "model_name": "LayoutModel",
          "model_module_version": "1.2.0",
          "state": {
            "_model_module": "@jupyter-widgets/base",
            "_model_module_version": "1.2.0",
            "_model_name": "LayoutModel",
            "_view_count": null,
            "_view_module": "@jupyter-widgets/base",
            "_view_module_version": "1.2.0",
            "_view_name": "LayoutView",
            "align_content": null,
            "align_items": null,
            "align_self": null,
            "border": null,
            "bottom": null,
            "display": null,
            "flex": null,
            "flex_flow": null,
            "grid_area": null,
            "grid_auto_columns": null,
            "grid_auto_flow": null,
            "grid_auto_rows": null,
            "grid_column": null,
            "grid_gap": null,
            "grid_row": null,
            "grid_template_areas": null,
            "grid_template_columns": null,
            "grid_template_rows": null,
            "height": null,
            "justify_content": null,
            "justify_items": null,
            "left": null,
            "margin": null,
            "max_height": null,
            "max_width": null,
            "min_height": null,
            "min_width": null,
            "object_fit": null,
            "object_position": null,
            "order": null,
            "overflow": null,
            "overflow_x": null,
            "overflow_y": null,
            "padding": null,
            "right": null,
            "top": null,
            "visibility": "hidden",
            "width": null
          }
        },
        "baa57bce0a4c4945bfca24464a17745e": {
          "model_module": "@jupyter-widgets/base",
          "model_name": "LayoutModel",
          "model_module_version": "1.2.0",
          "state": {
            "_model_module": "@jupyter-widgets/base",
            "_model_module_version": "1.2.0",
            "_model_name": "LayoutModel",
            "_view_count": null,
            "_view_module": "@jupyter-widgets/base",
            "_view_module_version": "1.2.0",
            "_view_name": "LayoutView",
            "align_content": null,
            "align_items": null,
            "align_self": null,
            "border": null,
            "bottom": null,
            "display": null,
            "flex": null,
            "flex_flow": null,
            "grid_area": null,
            "grid_auto_columns": null,
            "grid_auto_flow": null,
            "grid_auto_rows": null,
            "grid_column": null,
            "grid_gap": null,
            "grid_row": null,
            "grid_template_areas": null,
            "grid_template_columns": null,
            "grid_template_rows": null,
            "height": null,
            "justify_content": null,
            "justify_items": null,
            "left": null,
            "margin": null,
            "max_height": null,
            "max_width": null,
            "min_height": null,
            "min_width": null,
            "object_fit": null,
            "object_position": null,
            "order": null,
            "overflow": null,
            "overflow_x": null,
            "overflow_y": null,
            "padding": null,
            "right": null,
            "top": null,
            "visibility": null,
            "width": null
          }
        },
        "8ce83af8defa4309a1ed2fc8861fb632": {
          "model_module": "@jupyter-widgets/controls",
          "model_name": "DescriptionStyleModel",
          "model_module_version": "1.5.0",
          "state": {
            "_model_module": "@jupyter-widgets/controls",
            "_model_module_version": "1.5.0",
            "_model_name": "DescriptionStyleModel",
            "_view_count": null,
            "_view_module": "@jupyter-widgets/base",
            "_view_module_version": "1.2.0",
            "_view_name": "StyleView",
            "description_width": ""
          }
        },
        "1702ea3ca8cf438185f697ef35d3f048": {
          "model_module": "@jupyter-widgets/base",
          "model_name": "LayoutModel",
          "model_module_version": "1.2.0",
          "state": {
            "_model_module": "@jupyter-widgets/base",
            "_model_module_version": "1.2.0",
            "_model_name": "LayoutModel",
            "_view_count": null,
            "_view_module": "@jupyter-widgets/base",
            "_view_module_version": "1.2.0",
            "_view_name": "LayoutView",
            "align_content": null,
            "align_items": null,
            "align_self": null,
            "border": null,
            "bottom": null,
            "display": null,
            "flex": null,
            "flex_flow": null,
            "grid_area": null,
            "grid_auto_columns": null,
            "grid_auto_flow": null,
            "grid_auto_rows": null,
            "grid_column": null,
            "grid_gap": null,
            "grid_row": null,
            "grid_template_areas": null,
            "grid_template_columns": null,
            "grid_template_rows": null,
            "height": null,
            "justify_content": null,
            "justify_items": null,
            "left": null,
            "margin": null,
            "max_height": null,
            "max_width": null,
            "min_height": null,
            "min_width": null,
            "object_fit": null,
            "object_position": null,
            "order": null,
            "overflow": null,
            "overflow_x": null,
            "overflow_y": null,
            "padding": null,
            "right": null,
            "top": null,
            "visibility": null,
            "width": "20px"
          }
        },
        "5624c369a7e242238f6d6f1468bc0a02": {
          "model_module": "@jupyter-widgets/controls",
          "model_name": "ProgressStyleModel",
          "model_module_version": "1.5.0",
          "state": {
            "_model_module": "@jupyter-widgets/controls",
            "_model_module_version": "1.5.0",
            "_model_name": "ProgressStyleModel",
            "_view_count": null,
            "_view_module": "@jupyter-widgets/base",
            "_view_module_version": "1.2.0",
            "_view_name": "StyleView",
            "bar_color": null,
            "description_width": ""
          }
        },
        "aa3bd85598ab4b34a8501a132c15c774": {
          "model_module": "@jupyter-widgets/base",
          "model_name": "LayoutModel",
          "model_module_version": "1.2.0",
          "state": {
            "_model_module": "@jupyter-widgets/base",
            "_model_module_version": "1.2.0",
            "_model_name": "LayoutModel",
            "_view_count": null,
            "_view_module": "@jupyter-widgets/base",
            "_view_module_version": "1.2.0",
            "_view_name": "LayoutView",
            "align_content": null,
            "align_items": null,
            "align_self": null,
            "border": null,
            "bottom": null,
            "display": null,
            "flex": null,
            "flex_flow": null,
            "grid_area": null,
            "grid_auto_columns": null,
            "grid_auto_flow": null,
            "grid_auto_rows": null,
            "grid_column": null,
            "grid_gap": null,
            "grid_row": null,
            "grid_template_areas": null,
            "grid_template_columns": null,
            "grid_template_rows": null,
            "height": null,
            "justify_content": null,
            "justify_items": null,
            "left": null,
            "margin": null,
            "max_height": null,
            "max_width": null,
            "min_height": null,
            "min_width": null,
            "object_fit": null,
            "object_position": null,
            "order": null,
            "overflow": null,
            "overflow_x": null,
            "overflow_y": null,
            "padding": null,
            "right": null,
            "top": null,
            "visibility": null,
            "width": null
          }
        },
        "6067e90feb274fc3b408582e6f5f0822": {
          "model_module": "@jupyter-widgets/controls",
          "model_name": "DescriptionStyleModel",
          "model_module_version": "1.5.0",
          "state": {
            "_model_module": "@jupyter-widgets/controls",
            "_model_module_version": "1.5.0",
            "_model_name": "DescriptionStyleModel",
            "_view_count": null,
            "_view_module": "@jupyter-widgets/base",
            "_view_module_version": "1.2.0",
            "_view_name": "StyleView",
            "description_width": ""
          }
        },
        "11967614e14a4c5baab8313e6ee34b74": {
          "model_module": "@jupyter-widgets/controls",
          "model_name": "HBoxModel",
          "model_module_version": "1.5.0",
          "state": {
            "_dom_classes": [],
            "_model_module": "@jupyter-widgets/controls",
            "_model_module_version": "1.5.0",
            "_model_name": "HBoxModel",
            "_view_count": null,
            "_view_module": "@jupyter-widgets/controls",
            "_view_module_version": "1.5.0",
            "_view_name": "HBoxView",
            "box_style": "",
            "children": [
              "IPY_MODEL_972a255edb97494cbcea85ecc72be12d",
              "IPY_MODEL_7f2b455769784deba569eb4d2e94c284",
              "IPY_MODEL_7bb061a87f0941f5b0d1b1c3040cf706"
            ],
            "layout": "IPY_MODEL_37190cbc1b284846bf0ebc4536ece5da"
          }
        },
        "972a255edb97494cbcea85ecc72be12d": {
          "model_module": "@jupyter-widgets/controls",
          "model_name": "HTMLModel",
          "model_module_version": "1.5.0",
          "state": {
            "_dom_classes": [],
            "_model_module": "@jupyter-widgets/controls",
            "_model_module_version": "1.5.0",
            "_model_name": "HTMLModel",
            "_view_count": null,
            "_view_module": "@jupyter-widgets/controls",
            "_view_module_version": "1.5.0",
            "_view_name": "HTMLView",
            "description": "",
            "description_tooltip": null,
            "layout": "IPY_MODEL_7be649b08aad4250aa0c77eed3e58103",
            "placeholder": "​",
            "style": "IPY_MODEL_dd43b99c49b94a418f870426c0f59c98",
            "value": "Shuffling /tmp/tfds/mnist/incomplete.YDWEBQ_3.0.1/mnist-test.tfrecord*...:   0%"
          }
        },
        "7f2b455769784deba569eb4d2e94c284": {
          "model_module": "@jupyter-widgets/controls",
          "model_name": "FloatProgressModel",
          "model_module_version": "1.5.0",
          "state": {
            "_dom_classes": [],
            "_model_module": "@jupyter-widgets/controls",
            "_model_module_version": "1.5.0",
            "_model_name": "FloatProgressModel",
            "_view_count": null,
            "_view_module": "@jupyter-widgets/controls",
            "_view_module_version": "1.5.0",
            "_view_name": "ProgressView",
            "bar_style": "",
            "description": "",
            "description_tooltip": null,
            "layout": "IPY_MODEL_54fef3a5159b43bc877cf5b187129f4a",
            "max": 10000,
            "min": 0,
            "orientation": "horizontal",
            "style": "IPY_MODEL_68ab1803c372444e8a69036f40c76c0d",
            "value": 10000
          }
        },
        "7bb061a87f0941f5b0d1b1c3040cf706": {
          "model_module": "@jupyter-widgets/controls",
          "model_name": "HTMLModel",
          "model_module_version": "1.5.0",
          "state": {
            "_dom_classes": [],
            "_model_module": "@jupyter-widgets/controls",
            "_model_module_version": "1.5.0",
            "_model_name": "HTMLModel",
            "_view_count": null,
            "_view_module": "@jupyter-widgets/controls",
            "_view_module_version": "1.5.0",
            "_view_name": "HTMLView",
            "description": "",
            "description_tooltip": null,
            "layout": "IPY_MODEL_6048234adb33431dbd6a7da3da2751aa",
            "placeholder": "​",
            "style": "IPY_MODEL_7e05c02216a94b0697e1cc25a69ebc22",
            "value": " 0/10000 [00:00&lt;?, ? examples/s]"
          }
        },
        "37190cbc1b284846bf0ebc4536ece5da": {
          "model_module": "@jupyter-widgets/base",
          "model_name": "LayoutModel",
          "model_module_version": "1.2.0",
          "state": {
            "_model_module": "@jupyter-widgets/base",
            "_model_module_version": "1.2.0",
            "_model_name": "LayoutModel",
            "_view_count": null,
            "_view_module": "@jupyter-widgets/base",
            "_view_module_version": "1.2.0",
            "_view_name": "LayoutView",
            "align_content": null,
            "align_items": null,
            "align_self": null,
            "border": null,
            "bottom": null,
            "display": null,
            "flex": null,
            "flex_flow": null,
            "grid_area": null,
            "grid_auto_columns": null,
            "grid_auto_flow": null,
            "grid_auto_rows": null,
            "grid_column": null,
            "grid_gap": null,
            "grid_row": null,
            "grid_template_areas": null,
            "grid_template_columns": null,
            "grid_template_rows": null,
            "height": null,
            "justify_content": null,
            "justify_items": null,
            "left": null,
            "margin": null,
            "max_height": null,
            "max_width": null,
            "min_height": null,
            "min_width": null,
            "object_fit": null,
            "object_position": null,
            "order": null,
            "overflow": null,
            "overflow_x": null,
            "overflow_y": null,
            "padding": null,
            "right": null,
            "top": null,
            "visibility": "hidden",
            "width": null
          }
        },
        "7be649b08aad4250aa0c77eed3e58103": {
          "model_module": "@jupyter-widgets/base",
          "model_name": "LayoutModel",
          "model_module_version": "1.2.0",
          "state": {
            "_model_module": "@jupyter-widgets/base",
            "_model_module_version": "1.2.0",
            "_model_name": "LayoutModel",
            "_view_count": null,
            "_view_module": "@jupyter-widgets/base",
            "_view_module_version": "1.2.0",
            "_view_name": "LayoutView",
            "align_content": null,
            "align_items": null,
            "align_self": null,
            "border": null,
            "bottom": null,
            "display": null,
            "flex": null,
            "flex_flow": null,
            "grid_area": null,
            "grid_auto_columns": null,
            "grid_auto_flow": null,
            "grid_auto_rows": null,
            "grid_column": null,
            "grid_gap": null,
            "grid_row": null,
            "grid_template_areas": null,
            "grid_template_columns": null,
            "grid_template_rows": null,
            "height": null,
            "justify_content": null,
            "justify_items": null,
            "left": null,
            "margin": null,
            "max_height": null,
            "max_width": null,
            "min_height": null,
            "min_width": null,
            "object_fit": null,
            "object_position": null,
            "order": null,
            "overflow": null,
            "overflow_x": null,
            "overflow_y": null,
            "padding": null,
            "right": null,
            "top": null,
            "visibility": null,
            "width": null
          }
        },
        "dd43b99c49b94a418f870426c0f59c98": {
          "model_module": "@jupyter-widgets/controls",
          "model_name": "DescriptionStyleModel",
          "model_module_version": "1.5.0",
          "state": {
            "_model_module": "@jupyter-widgets/controls",
            "_model_module_version": "1.5.0",
            "_model_name": "DescriptionStyleModel",
            "_view_count": null,
            "_view_module": "@jupyter-widgets/base",
            "_view_module_version": "1.2.0",
            "_view_name": "StyleView",
            "description_width": ""
          }
        },
        "54fef3a5159b43bc877cf5b187129f4a": {
          "model_module": "@jupyter-widgets/base",
          "model_name": "LayoutModel",
          "model_module_version": "1.2.0",
          "state": {
            "_model_module": "@jupyter-widgets/base",
            "_model_module_version": "1.2.0",
            "_model_name": "LayoutModel",
            "_view_count": null,
            "_view_module": "@jupyter-widgets/base",
            "_view_module_version": "1.2.0",
            "_view_name": "LayoutView",
            "align_content": null,
            "align_items": null,
            "align_self": null,
            "border": null,
            "bottom": null,
            "display": null,
            "flex": null,
            "flex_flow": null,
            "grid_area": null,
            "grid_auto_columns": null,
            "grid_auto_flow": null,
            "grid_auto_rows": null,
            "grid_column": null,
            "grid_gap": null,
            "grid_row": null,
            "grid_template_areas": null,
            "grid_template_columns": null,
            "grid_template_rows": null,
            "height": null,
            "justify_content": null,
            "justify_items": null,
            "left": null,
            "margin": null,
            "max_height": null,
            "max_width": null,
            "min_height": null,
            "min_width": null,
            "object_fit": null,
            "object_position": null,
            "order": null,
            "overflow": null,
            "overflow_x": null,
            "overflow_y": null,
            "padding": null,
            "right": null,
            "top": null,
            "visibility": null,
            "width": null
          }
        },
        "68ab1803c372444e8a69036f40c76c0d": {
          "model_module": "@jupyter-widgets/controls",
          "model_name": "ProgressStyleModel",
          "model_module_version": "1.5.0",
          "state": {
            "_model_module": "@jupyter-widgets/controls",
            "_model_module_version": "1.5.0",
            "_model_name": "ProgressStyleModel",
            "_view_count": null,
            "_view_module": "@jupyter-widgets/base",
            "_view_module_version": "1.2.0",
            "_view_name": "StyleView",
            "bar_color": null,
            "description_width": ""
          }
        },
        "6048234adb33431dbd6a7da3da2751aa": {
          "model_module": "@jupyter-widgets/base",
          "model_name": "LayoutModel",
          "model_module_version": "1.2.0",
          "state": {
            "_model_module": "@jupyter-widgets/base",
            "_model_module_version": "1.2.0",
            "_model_name": "LayoutModel",
            "_view_count": null,
            "_view_module": "@jupyter-widgets/base",
            "_view_module_version": "1.2.0",
            "_view_name": "LayoutView",
            "align_content": null,
            "align_items": null,
            "align_self": null,
            "border": null,
            "bottom": null,
            "display": null,
            "flex": null,
            "flex_flow": null,
            "grid_area": null,
            "grid_auto_columns": null,
            "grid_auto_flow": null,
            "grid_auto_rows": null,
            "grid_column": null,
            "grid_gap": null,
            "grid_row": null,
            "grid_template_areas": null,
            "grid_template_columns": null,
            "grid_template_rows": null,
            "height": null,
            "justify_content": null,
            "justify_items": null,
            "left": null,
            "margin": null,
            "max_height": null,
            "max_width": null,
            "min_height": null,
            "min_width": null,
            "object_fit": null,
            "object_position": null,
            "order": null,
            "overflow": null,
            "overflow_x": null,
            "overflow_y": null,
            "padding": null,
            "right": null,
            "top": null,
            "visibility": null,
            "width": null
          }
        },
        "7e05c02216a94b0697e1cc25a69ebc22": {
          "model_module": "@jupyter-widgets/controls",
          "model_name": "DescriptionStyleModel",
          "model_module_version": "1.5.0",
          "state": {
            "_model_module": "@jupyter-widgets/controls",
            "_model_module_version": "1.5.0",
            "_model_name": "DescriptionStyleModel",
            "_view_count": null,
            "_view_module": "@jupyter-widgets/base",
            "_view_module_version": "1.2.0",
            "_view_name": "StyleView",
            "description_width": ""
          }
        }
      }
    }
  },
  "cells": [
    {
      "cell_type": "markdown",
      "metadata": {
        "id": "view-in-github",
        "colab_type": "text"
      },
      "source": [
        "<a href=\"https://colab.research.google.com/github/joshtburdick/misc/blob/master/plog/Classifying_digits_using_clustering.ipynb\" target=\"_parent\"><img src=\"https://colab.research.google.com/assets/colab-badge.svg\" alt=\"Open In Colab\"/></a>"
      ]
    },
    {
      "cell_type": "markdown",
      "source": [],
      "metadata": {
        "id": "xZwtJ9EdSZhq"
      }
    },
    {
      "cell_type": "markdown",
      "source": [
        "#Classifying digits using clustering\n",
        "This is an attempt at using multivariate-normal soft clustering to model and classify digits. It's inspired by Gaussian Processes, and soft clustering.\n",
        "\n",
        "It's based on:\n",
        "- https://jax.readthedocs.io/en/latest/notebooks/neural_network_with_tfds_data.html (for basic Jax info, and loading MNIST)\n",
        "\n",
        "\n"
      ],
      "metadata": {
        "id": "QhwN3gzXSamJ"
      }
    },
    {
      "cell_type": "code",
      "execution_count": 27,
      "metadata": {
        "id": "ISngVrSi9RFV"
      },
      "outputs": [],
      "source": [
        "import jax.numpy as jnp\n",
        "from jax import grad, jit, vmap\n",
        "from jax import random\n",
        "from jax import nn\n",
        "import matplotlib.pyplot as plt"
      ]
    },
    {
      "cell_type": "markdown",
      "source": [],
      "metadata": {
        "id": "4nPWoekUSYJ8"
      }
    },
    {
      "cell_type": "code",
      "source": [
        "def one_hot(x, k, dtype=jnp.float32):\n",
        "  \"\"\"Create a one-hot encoding of x of size k.\"\"\"\n",
        "  return jnp.array(x[:, None] == jnp.arange(k), dtype)\n",
        "\n",
        "def accuracy(params, images, targets):\n",
        "  target_class = jnp.argmax(targets, axis=1)\n",
        "  predicted_class = jnp.argmax(batched_predict(params, images), axis=1)\n",
        "  return jnp.mean(predicted_class == target_class)\n",
        "\n",
        "def loss(params, images, targets):\n",
        "  preds = batched_predict(params, images)\n",
        "  return -jnp.mean(preds * targets)\n",
        "\n",
        "@jit\n",
        "def update(params, x, y):\n",
        "  grads = grad(loss)(params, x, y)\n",
        "  return [(w - step_size * dw, b - step_size * db)\n",
        "          for (w, b), (dw, db) in zip(params, grads)]"
      ],
      "metadata": {
        "id": "GGU5BqK2dcBH"
      },
      "execution_count": 4,
      "outputs": []
    },
    {
      "cell_type": "code",
      "source": [
        "import tensorflow as tf\n",
        "# Ensure TF does not see GPU and grab all GPU memory.\n",
        "tf.config.set_visible_devices([], device_type='GPU')\n",
        "\n",
        "import tensorflow_datasets as tfds\n",
        "\n",
        "data_dir = '/tmp/tfds'\n",
        "\n",
        "# Fetch full datasets for evaluation\n",
        "# tfds.load returns tf.Tensors (or tf.data.Datasets if batch_size != -1)\n",
        "# You can convert them to NumPy arrays (or iterables of NumPy arrays) with tfds.dataset_as_numpy\n",
        "mnist_data, info = tfds.load(name=\"mnist\", batch_size=-1, data_dir=data_dir, with_info=True)\n",
        "mnist_data = tfds.as_numpy(mnist_data)\n",
        "train_data, test_data = mnist_data['train'], mnist_data['test']\n",
        "num_labels = info.features['label'].num_classes\n",
        "h, w, c = info.features['image'].shape\n",
        "num_pixels = h * w * c\n",
        "\n",
        "# Full train set\n",
        "train_images, train_labels = train_data['image'], train_data['label']\n",
        "train_images = jnp.reshape(train_images, (len(train_images), num_pixels))\n",
        "train_labels = one_hot(train_labels, num_labels)\n",
        "\n",
        "# Full test set\n",
        "test_images, test_labels = test_data['image'], test_data['label']\n",
        "test_images = jnp.reshape(test_images, (len(test_images), num_pixels))\n",
        "test_labels = one_hot(test_labels, num_labels)"
      ],
      "metadata": {
        "colab": {
          "base_uri": "https://localhost:8080/",
          "height": 185,
          "referenced_widgets": [
            "f7f6b11740c54f9c897b89e6191ea742",
            "bdc8074abfec41e7a51b8dda42c7328b",
            "7c14413939294a89a8fa2a2b9eec76f4",
            "d66dc1afcbd44817b9d4cf8ba29317cb",
            "ab7e1eebb85540e285a6986805f580da",
            "59c30bf5ecfb4bd2a6b85256eb29aa41",
            "15df3d8eeb3541fa8e0713dc1c0e0688",
            "d63e32147e47432cb6ea5f3e7524dd8b",
            "a1534d0dd4f046d8b213278887c3ea2a",
            "42e08df6cbd649eea177592d38e38f7a",
            "4e992592729d48bfb7a765c41cdb916b",
            "cae9824c398b4ef680d427d66c2150a2",
            "3604a55764a24ee686906974615dd4d3",
            "e8405d899d574da49972fb7fd919af65",
            "b7602bc2d4d14e4d906301990aeae021",
            "37975b290b654e539f228f5971cc9057",
            "c871b1b64d3847dda94c45b4dd8f7eef",
            "53eb26ee687347e3a4ad9cda539848d7",
            "04e272d7d4804dba8d97d6e96326f459",
            "99733c1fe3334f699d03e461176fb063",
            "d0cbf89f64f14f6fad5a240423e635e9",
            "aab693079f6043f0ad2658a3838c0440",
            "6c601aa476d948c2b70b53a77184729b",
            "205bb98075ae4dc0bbc722e16992cce3",
            "beb832633086437fa493232c60098cc1",
            "c5efe4eae88640c8a171a9e24f26c843",
            "8d3a1d5a98c649edab34201a1a48ff87",
            "3693726200a6477facb33b2cbf2acb15",
            "a863136bd87f4bc18c2d3bb02704295e",
            "ad3c0b2456b244db932e82e43c2f95ad",
            "087fd61463f8495588778ae0af600ead",
            "8b90014722e44d9b8aba015b450c6308",
            "9edbccc1bc274e9cb346adf7d13a3a94",
            "81d9168ae7bc4dd683ee2f642f8ed1c9",
            "50c6361b2f9148c2b8a5af10cbe66e1d",
            "201df6cca09b45389e385f30b4cb3904",
            "82510d667aae4157b50430512e02c467",
            "f8a7126a5a364caab997804985e17058",
            "f83f2f67cbda44dd951d0d63c4b6043f",
            "0cd3594ffd5f4d48a96250f7e6f2e234",
            "86ceb16623b242668eaf1f272b87b3f4",
            "9e00b204697b45138b6f6db68e11d3db",
            "4f41bece62c449199867021878235825",
            "06fe22b9bf7642689418fc948f4f86d7",
            "b5e6d6b434234a8c8074e2588a8ba2dd",
            "d75d74a484854a3c908e1a8c2b2bf7c5",
            "1f87c54846b447fea2ae9f93e4a8382e",
            "83c871a8782c4468b50f64908f0b67cd",
            "0bbd54dc28c14c2e94c16ed4b8ed1a71",
            "d9b5953f6b09441b945a8e9f117f8295",
            "c8d4b36fe77e49be93af7fefb0c31f80",
            "0f88c08ce36b4939a0a64177377c2493",
            "4902c9b0566642aa845afc93b394c111",
            "69c10664943a447eb00e4fc7974a961c",
            "29f87d56e10f4ecc81f6febe827ab0a3",
            "9a6888c1f24246999f7d14a23e8a6582",
            "ad3278dbd6ae473f841f146e7b2b4928",
            "27ce66ab96e048a78b2d4c358a25a041",
            "620dea327e4641d3be946db5a35800e3",
            "08a177c102a14d308b868cf1d9db680f",
            "ad19b65d1da64559822cf4d01a2d1fc3",
            "29c91f85f3a840d99a901f1feed5f0e4",
            "30fc9ca0d4b64069a24bad275ca340aa",
            "cc7e8913eac94848a33b8032c7c9ba3a",
            "349f0013179b4c0494d99b973c19eaa2",
            "baae19673562461892b791b24929496f",
            "e1dbe76e3fba4854b53570998a5f12a0",
            "8526e914a3ba4b31adfd2121ecc0760f",
            "e159ca2a87cd4e33bf6dd6970e44c51a",
            "18c4f6d2eda74b9d9904588bd2390467",
            "c2aa2ca284354110a31ea55b8959fab5",
            "baa57bce0a4c4945bfca24464a17745e",
            "8ce83af8defa4309a1ed2fc8861fb632",
            "1702ea3ca8cf438185f697ef35d3f048",
            "5624c369a7e242238f6d6f1468bc0a02",
            "aa3bd85598ab4b34a8501a132c15c774",
            "6067e90feb274fc3b408582e6f5f0822",
            "11967614e14a4c5baab8313e6ee34b74",
            "972a255edb97494cbcea85ecc72be12d",
            "7f2b455769784deba569eb4d2e94c284",
            "7bb061a87f0941f5b0d1b1c3040cf706",
            "37190cbc1b284846bf0ebc4536ece5da",
            "7be649b08aad4250aa0c77eed3e58103",
            "dd43b99c49b94a418f870426c0f59c98",
            "54fef3a5159b43bc877cf5b187129f4a",
            "68ab1803c372444e8a69036f40c76c0d",
            "6048234adb33431dbd6a7da3da2751aa",
            "7e05c02216a94b0697e1cc25a69ebc22"
          ]
        },
        "id": "U0OEX0o1cyA4",
        "outputId": "a90583de-a811-4145-8424-7812e838f7cd"
      },
      "execution_count": 5,
      "outputs": [
        {
          "output_type": "stream",
          "name": "stderr",
          "text": [
            "WARNING:absl:Variant folder /tmp/tfds/mnist/3.0.1 has no dataset_info.json\n"
          ]
        },
        {
          "output_type": "stream",
          "name": "stdout",
          "text": [
            "Downloading and preparing dataset Unknown size (download: Unknown size, generated: Unknown size, total: Unknown size) to /tmp/tfds/mnist/3.0.1...\n"
          ]
        },
        {
          "output_type": "display_data",
          "data": {
            "text/plain": [
              "Dl Completed...: 0 url [00:00, ? url/s]"
            ],
            "application/vnd.jupyter.widget-view+json": {
              "version_major": 2,
              "version_minor": 0,
              "model_id": "f7f6b11740c54f9c897b89e6191ea742"
            }
          },
          "metadata": {}
        },
        {
          "output_type": "display_data",
          "data": {
            "text/plain": [
              "Dl Size...: 0 MiB [00:00, ? MiB/s]"
            ],
            "application/vnd.jupyter.widget-view+json": {
              "version_major": 2,
              "version_minor": 0,
              "model_id": "cae9824c398b4ef680d427d66c2150a2"
            }
          },
          "metadata": {}
        },
        {
          "output_type": "display_data",
          "data": {
            "text/plain": [
              "Extraction completed...: 0 file [00:00, ? file/s]"
            ],
            "application/vnd.jupyter.widget-view+json": {
              "version_major": 2,
              "version_minor": 0,
              "model_id": "6c601aa476d948c2b70b53a77184729b"
            }
          },
          "metadata": {}
        },
        {
          "output_type": "display_data",
          "data": {
            "text/plain": [
              "Generating splits...:   0%|          | 0/2 [00:00<?, ? splits/s]"
            ],
            "application/vnd.jupyter.widget-view+json": {
              "version_major": 2,
              "version_minor": 0,
              "model_id": "81d9168ae7bc4dd683ee2f642f8ed1c9"
            }
          },
          "metadata": {}
        },
        {
          "output_type": "display_data",
          "data": {
            "text/plain": [
              "Generating train examples...: 0 examples [00:00, ? examples/s]"
            ],
            "application/vnd.jupyter.widget-view+json": {
              "version_major": 2,
              "version_minor": 0,
              "model_id": "b5e6d6b434234a8c8074e2588a8ba2dd"
            }
          },
          "metadata": {}
        },
        {
          "output_type": "display_data",
          "data": {
            "text/plain": [
              "Shuffling /tmp/tfds/mnist/incomplete.YDWEBQ_3.0.1/mnist-train.tfrecord*...:   0%|          | 0/60000 [00:00<?,…"
            ],
            "application/vnd.jupyter.widget-view+json": {
              "version_major": 2,
              "version_minor": 0,
              "model_id": "9a6888c1f24246999f7d14a23e8a6582"
            }
          },
          "metadata": {}
        },
        {
          "output_type": "display_data",
          "data": {
            "text/plain": [
              "Generating test examples...: 0 examples [00:00, ? examples/s]"
            ],
            "application/vnd.jupyter.widget-view+json": {
              "version_major": 2,
              "version_minor": 0,
              "model_id": "e1dbe76e3fba4854b53570998a5f12a0"
            }
          },
          "metadata": {}
        },
        {
          "output_type": "display_data",
          "data": {
            "text/plain": [
              "Shuffling /tmp/tfds/mnist/incomplete.YDWEBQ_3.0.1/mnist-test.tfrecord*...:   0%|          | 0/10000 [00:00<?, …"
            ],
            "application/vnd.jupyter.widget-view+json": {
              "version_major": 2,
              "version_minor": 0,
              "model_id": "11967614e14a4c5baab8313e6ee34b74"
            }
          },
          "metadata": {}
        },
        {
          "output_type": "stream",
          "name": "stdout",
          "text": [
            "Dataset mnist downloaded and prepared to /tmp/tfds/mnist/3.0.1. Subsequent calls will reuse this data.\n"
          ]
        }
      ]
    },
    {
      "cell_type": "code",
      "source": [
        "print('Train:', train_images.shape, train_labels.shape)\n",
        "print('Test:', test_images.shape, test_labels.shape)"
      ],
      "metadata": {
        "colab": {
          "base_uri": "https://localhost:8080/"
        },
        "id": "TP7zF4MfdE5-",
        "outputId": "7faf399e-1d0f-4a53-84cb-79bae9b93452"
      },
      "execution_count": 6,
      "outputs": [
        {
          "output_type": "stream",
          "name": "stdout",
          "text": [
            "Train: (60000, 784) (60000, 10)\n",
            "Test: (10000, 784) (10000, 10)\n"
          ]
        }
      ]
    },
    {
      "cell_type": "markdown",
      "source": [
        "We plot some digits as examples."
      ],
      "metadata": {
        "id": "070Cnu0veASe"
      }
    },
    {
      "cell_type": "code",
      "source": [
        "x = test_images.reshape([-1,28,28])\n",
        "plt.figure(figsize=(15,3))\n",
        "fig, axs = plt.subplots(1, 5)\n",
        "for i in range(5):\n",
        "  axs[i].imshow(x[i,:,:])\n",
        "fig.tight_layout()\n",
        "plt.show()"
      ],
      "metadata": {
        "colab": {
          "base_uri": "https://localhost:8080/",
          "height": 164
        },
        "id": "WXf0qyiwdlc2",
        "outputId": "008de1f5-731c-4cd8-fe27-964d9d805341"
      },
      "execution_count": 7,
      "outputs": [
        {
          "output_type": "display_data",
          "data": {
            "text/plain": [
              "<Figure size 1500x300 with 0 Axes>"
            ]
          },
          "metadata": {}
        },
        {
          "output_type": "display_data",
          "data": {
            "text/plain": [
              "<Figure size 640x480 with 5 Axes>"
            ],
            "image/png": "[encoded data removed]"
          },
          "metadata": {}
        }
      ]
    },
    {
      "cell_type": "markdown",
      "source": [
        "### Converting to \"long\" form\n",
        "\n",
        "We will need to convert things to \"long\" form (Tidyverse-style). Thus, we construct a vector of the coordinates of each points."
      ],
      "metadata": {
        "id": "eGUYaTnN3wtJ"
      }
    },
    {
      "cell_type": "code",
      "source": [
        "# Deprecated; doesn't seem neccessary.\n",
        "def grid_points(n):\n",
        "  \"\"\"Constructs an array of 2-D points in a grid.\n",
        "\n",
        "  n: the number of points\n",
        "  Returns: an array with two columns, being the x and y coordinates,\n",
        "    (in the range [0, 1))\n",
        "  \"\"\"\n",
        "  # this is not super-efficient\n",
        "  x = jnp.array([list(range(n))] * n)\n",
        "  return jnp.stack([\n",
        "      x.flatten(),\n",
        "      x.T.flatten()\n",
        "  ])"
      ],
      "metadata": {
        "id": "8qBKd-hqjHBT"
      },
      "execution_count": 8,
      "outputs": []
    },
    {
      "cell_type": "markdown",
      "source": [
        "### 2-D normal density on a grid\n",
        "\n",
        "We'll need a normal density defined over the grid points."
      ],
      "metadata": {
        "id": "fPEqpNpzajoN"
      }
    },
    {
      "cell_type": "code",
      "source": [
        "# prompt: given the mean and covariance of a 2-dimensional normal vector, compute its density in a square grid of n points, numbering from 0..n-1 .\n",
        "\n",
        "import numpy as np\n",
        "import jax.numpy as jnp\n",
        "from jax import grad, jit, vmap\n",
        "from jax import random\n",
        "import matplotlib.pyplot as plt\n",
        "import tensorflow as tf\n",
        "import tensorflow_datasets as tfds\n",
        "\n",
        "# ... (rest of the provided code)\n",
        "\n",
        "def normal_density_2d_grid(mu, si2, n):\n",
        "  \"\"\"\n",
        "  Computes the density of a 2D normal distribution on a grid.\n",
        "\n",
        "  Args:\n",
        "    mu: array of shape (2,), giving the mean.\n",
        "    si2: array of shape (2, 2), giving the covariance matrix.\n",
        "    n: Number of points along each dimension of the grid.\n",
        "\n",
        "  Returns:\n",
        "    A 2D array of shape (n, n) representing the density values on the grid.\n",
        "  \"\"\"\n",
        "  x = jnp.linspace(0, n - 1, n)\n",
        "  X, Y = jnp.meshgrid(x, x)\n",
        "  pos = jnp.dstack((X, Y))\n",
        "\n",
        "  # Calculate the density using the multivariate normal probability density function\n",
        "  diff = pos - mu\n",
        "  exponent = -0.5 * jnp.sum(diff @ jnp.linalg.inv(si2) * diff, axis=2)\n",
        "  density = jnp.exp(exponent) / (2 * jnp.pi * jnp.sqrt(jnp.linalg.det(si2)))\n",
        "  return density\n"
      ],
      "metadata": {
        "id": "aeegfU-SVnZT"
      },
      "execution_count": 9,
      "outputs": []
    },
    {
      "cell_type": "code",
      "source": [
        "mvnorm_density = normal_density_2d_grid(jnp.array([5,5]), jnp.array([[10,-8],[-8,10]]), 16)"
      ],
      "metadata": {
        "id": "XPzEe2eexlQC"
      },
      "execution_count": 10,
      "outputs": []
    },
    {
      "cell_type": "code",
      "source": [
        "plt.imshow(mvnorm_density)"
      ],
      "metadata": {
        "colab": {
          "base_uri": "https://localhost:8080/",
          "height": 447
        },
        "id": "hgcb9uLUxoDR",
        "outputId": "4be55243-3f09-4e5e-e798-602bad92174c"
      },
      "execution_count": 11,
      "outputs": [
        {
          "output_type": "execute_result",
          "data": {
            "text/plain": [
              "<matplotlib.image.AxesImage at 0x7ade11907dd0>"
            ]
          },
          "metadata": {},
          "execution_count": 11
        },
        {
          "output_type": "display_data",
          "data": {
            "text/plain": [
              "<Figure size 640x480 with 1 Axes>"
            ],
            "image/png": "[encoded data removed]"
          },
          "metadata": {}
        }
      ]
    },
    {
      "cell_type": "markdown",
      "source": [
        "This is what I got, when I tried to explain this. (I don't think I explained it very well.)"
      ],
      "metadata": {
        "id": "4mHPaT0zNba4"
      }
    },
    {
      "cell_type": "code",
      "source": [
        "def shape_representation(points, means, covariances):\n",
        "  \"\"\"\n",
        "  Represents the shape of a digit using a mixture of multivariate normal distributions.\n",
        "\n",
        "  Args:\n",
        "    points: An array of shape (N, 2) representing the coordinates of the points.\n",
        "    means: An array of shape (k, 2) representing the means of the k distributions.\n",
        "    covariances: An array of shape (k, 2, 2) representing the covariance matrices of the k distributions.\n",
        "\n",
        "  Returns:\n",
        "    An array of shape (N, k) representing the probability density of each point under each distribution.\n",
        "  \"\"\"\n",
        "  # This is a placeholder and needs to be implemented based on the specific\n",
        "  # mixture model and classification approach (e.g., soft clustering, nearest center).\n",
        "  # For a simple nearest center approach, you might calculate the distance\n",
        "  # from each point to each mean and assign to the closest.\n",
        "  # For a soft clustering approach, you would calculate the probability density\n",
        "  # of each point under each multivariate normal distribution.\n",
        "\n",
        "  # Example (soft clustering):\n",
        "  k = means.shape[0]\n",
        "  n = points.shape[0]\n",
        "  density = jnp.zeros((n, k))\n",
        "\n",
        "  for i in range(k):\n",
        "    mu = means[i]\n",
        "    si2 = covariances[i]\n",
        "    diff = points - mu\n",
        "    exponent = -0.5 * jnp.sum(diff @ jnp.linalg.inv(si2) * diff, axis=1)\n",
        "    density = density.at[:, i].set(jnp.exp(exponent) / (2 * jnp.pi * jnp.sqrt(jnp.linalg.det(si2))))\n",
        "\n",
        "  return density"
      ],
      "metadata": {
        "id": "sNB8i8vnLfyL"
      },
      "execution_count": 12,
      "outputs": []
    },
    {
      "cell_type": "markdown",
      "source": [
        "We'll represent each digit's shape by k 2D MV normal distributions. But we'll be keeping track of the *covariance* between all of them\n",
        "(kind of as in a Gaussian process). So for each digit, we'll have a $2k$-dimensional MV normal distribution.\n",
        "\n",
        "Breaking this down some:"
      ],
      "metadata": {
        "id": "_Ho0UTHONiAU"
      }
    },
    {
      "cell_type": "code",
      "source": [
        "def pixel_likelihoods(image, means, covariances, image_shape=(28, 28)):\n",
        "    \"\"\"\n",
        "    Calculates the likelihood of each pixel in an image originating from each of k 2D MV normal distributions.\n",
        "\n",
        "    Args:\n",
        "      image: A flattened array of shape (num_pixels,) representing the image.\n",
        "      means: An array of shape (k, 2) representing the means of the k distributions.\n",
        "      covariances: An array of shape (k, 2, 2) representing the covariance matrices of the k distributions.\n",
        "      image_shape: A tuple (height, width) representing the original shape of the image.\n",
        "\n",
        "    Returns:\n",
        "      An array of shape (num_pixels, k) representing the likelihood of each pixel under each distribution.\n",
        "    \"\"\"\n",
        "    num_pixels = image.shape[0]\n",
        "    k = means.shape[0]\n",
        "    likelihoods = jnp.zeros((num_pixels, k))\n",
        "\n",
        "    # Create a grid of pixel coordinates\n",
        "    height, width = image_shape\n",
        "    x = jnp.linspace(0, width - 1, width)\n",
        "    y = jnp.linspace(0, height - 1, height)\n",
        "    X, Y = jnp.meshgrid(x, y)\n",
        "    points = jnp.dstack((X, Y)).reshape(-1, 2)\n",
        "\n",
        "    for i in range(k):\n",
        "        mu = means[i]\n",
        "        si2 = covariances[i]\n",
        "        diff = points - mu\n",
        "        # Calculate the exponent term of the multivariate normal PDF\n",
        "        # We need to handle potential singular covariance matrices, add a small epsilon for numerical stability\n",
        "        si2_inv = jnp.linalg.inv(si2 + jnp.eye(2) * 1e-6)\n",
        "        exponent = -0.5 * jnp.sum((diff @ si2_inv) * diff, axis=1)\n",
        "\n",
        "        # Calculate the density and scale by the pixel intensity\n",
        "        density = jnp.exp(exponent) / (2 * jnp.pi * jnp.sqrt(jnp.linalg.det(si2 + jnp.eye(2) * 1e-6)))\n",
        "        likelihoods = likelihoods.at[:, i].set(density * image)\n",
        "\n",
        "    return likelihoods"
      ],
      "metadata": {
        "id": "wPvwQAChOVtV"
      },
      "execution_count": 13,
      "outputs": []
    },
    {
      "cell_type": "code",
      "metadata": {
        "colab": {
          "base_uri": "https://localhost:8080/"
        },
        "id": "5e21c81d",
        "outputId": "fdb1fbae-e14a-4cfb-e4ed-ec191361dedf"
      },
      "source": [
        "# Select a test image (e.g., the first one)\n",
        "test_image = test_images[0]\n",
        "\n",
        "# Normalize pixel intensities to [0, 1]\n",
        "test_image_normalized = test_image / 255.0\n",
        "\n",
        "# Define the number of distributions (k)\n",
        "k = 5\n",
        "\n",
        "# Create random means and covariances for k distributions\n",
        "key = random.PRNGKey(0)\n",
        "means_key, cov_key = random.split(key)\n",
        "\n",
        "# Random means within the image dimensions\n",
        "means = random.uniform(means_key, (k, 2), minval=0, maxval=27)\n",
        "\n",
        "# Random covariances (ensure they are positive semi-definite)\n",
        "# A simple way is to generate random matrices and make them symmetric and add a diagonal for stability\n",
        "random_cov_matrices = random.normal(cov_key, (k, 2, 2))\n",
        "covariances = jnp.matmul(random_cov_matrices, jnp.transpose(random_cov_matrices, (0, 2, 1))) + jnp.eye(2) * 1e-3\n",
        "\n",
        "# Calculate the pixel likelihoods\n",
        "pixel_lik = pixel_likelihoods(test_image_normalized, means, covariances)\n",
        "\n",
        "print(\"Shape of pixel likelihoods:\", pixel_lik.shape)"
      ],
      "execution_count": 16,
      "outputs": [
        {
          "output_type": "stream",
          "name": "stdout",
          "text": [
            "Shape of pixel likelihoods: (784, 5)\n"
          ]
        }
      ]
    },
    {
      "cell_type": "markdown",
      "metadata": {
        "id": "a5286112"
      },
      "source": [
        "Now let's visualize the likelihoods for each distribution."
      ]
    },
    {
      "cell_type": "code",
      "metadata": {
        "colab": {
          "base_uri": "https://localhost:8080/",
          "height": 195
        },
        "id": "0297bbfc",
        "outputId": "275a5939-33c4-46d3-8949-5c29ed55e3ba"
      },
      "source": [
        "fig, axes = plt.subplots(1, k, figsize=(15, 3))\n",
        "\n",
        "for i in range(k):\n",
        "    likelihood_image = pixel_lik[:, i].reshape(28, 28)\n",
        "    axes[i].imshow(likelihood_image, cmap='viridis')\n",
        "    axes[i].set_title(f'Distribution {i+1}')\n",
        "    axes[i].axis('off')\n",
        "\n",
        "plt.tight_layout()\n",
        "plt.show()"
      ],
      "execution_count": 17,
      "outputs": [
        {
          "output_type": "display_data",
          "data": {
            "text/plain": [
              "<Figure size 1500x300 with 5 Axes>"
            ],
            "image/png": "[encoded data removed]"
          },
          "metadata": {}
        }
      ]
    },
    {
      "cell_type": "code",
      "metadata": {
        "colab": {
          "base_uri": "https://localhost:8080/",
          "height": 521
        },
        "id": "7a47339d",
        "outputId": "930f1b9e-8519-4d8f-f6b7-1fd122ba0116"
      },
      "source": [
        "# Reshape the test image back to 28x28 for plotting\n",
        "original_image = test_image_normalized.reshape(28, 28)\n",
        "\n",
        "# Create an RGB image to overlay the distributions\n",
        "# Start with the original image as a grayscale background (converted to RGB)\n",
        "# We can use a colormap like 'gray'\n",
        "original_image_rgb = plt.cm.gray(original_image)[:,:,:3] # Take only the RGB channels\n",
        "\n",
        "# Create a figure and axes\n",
        "fig, ax = plt.subplots(figsize=(6, 6))\n",
        "\n",
        "# Display the original image\n",
        "ax.imshow(original_image, cmap='gray')\n",
        "\n",
        "# Overlay each distribution's likelihoods\n",
        "# We will use different colormaps for each distribution and adjust alpha for transparency\n",
        "cmaps = ['Reds', 'Blues', 'Greens', 'Purples', 'Oranges'] # Colormaps for k distributions\n",
        "\n",
        "for i in range(k):\n",
        "    likelihood_image = pixel_lik[:, i].reshape(28, 28)\n",
        "    # Use a colormap to color the likelihoods and set alpha for transparency\n",
        "    # Only apply the colormap where the likelihood is significant\n",
        "    masked_likelihood = jnp.where(likelihood_image > 1e-5, likelihood_image, jnp.nan) # Mask low likelihoods\n",
        "\n",
        "    ax.imshow(masked_likelihood, cmap=cmaps[i], alpha=0.5) # Adjust alpha as needed\n",
        "\n",
        "ax.set_title('Original Digit with Distribution Overlays')\n",
        "ax.axis('off')\n",
        "plt.show()"
      ],
      "execution_count": 18,
      "outputs": [
        {
          "output_type": "display_data",
          "data": {
            "text/plain": [
              "<Figure size 600x600 with 1 Axes>"
            ],
            "image/png": "[encoded data removed]"
          },
          "metadata": {}
        }
      ]
    },
    {
      "cell_type": "markdown",
      "metadata": {
        "id": "e47f94a4"
      },
      "source": [
        "# Task\n",
        "Implement a model that represents a shape as a mixture of k 2-D MV normal distributions, where these k distributions are derived from a single 2k-dimensional multivariate normal distribution. The model should take an MNIST digit (normalized to [0,1]) as input and return the likelihood of each pixel belonging to each of the k 2-D distributions. Train this model using JAX to classify MNIST digits and evaluate its performance."
      ]
    },
    {
      "cell_type": "markdown",
      "metadata": {
        "id": "f165dfad"
      },
      "source": [
        "## Define the 2k-dimensional mv normal\n",
        "\n",
        "### Subtask:\n",
        "Define the parameters (mean vector and covariance matrix) for a single 2k-dimensional multivariate normal distribution.\n"
      ]
    },
    {
      "cell_type": "markdown",
      "metadata": {
        "id": "1f9cb31d"
      },
      "source": [
        "**Reasoning**:\n",
        "Define the parameters for the 2k-dimensional multivariate normal distribution based on the instructions.\n",
        "\n"
      ]
    },
    {
      "cell_type": "code",
      "metadata": {
        "colab": {
          "base_uri": "https://localhost:8080/"
        },
        "id": "2c3b3894",
        "outputId": "877feaa2-1f4c-4d67-adac-4687bd92a689"
      },
      "source": [
        "# Determine the total dimension\n",
        "total_dim = 2 * k\n",
        "\n",
        "# Initialize the mean vector (2k)\n",
        "# Initialize with zeros\n",
        "mean_2k = jnp.zeros(total_dim)\n",
        "\n",
        "# Initialize the covariance matrix (2k, 2k)\n",
        "# Start with an identity matrix scaled by a small value for stability\n",
        "cov_2k = jnp.eye(total_dim) * 1e-2\n",
        "\n",
        "# Add some small random symmetric noise (optional, but can help break symmetry)\n",
        "# Ensure the resulting matrix is symmetric and positive semi-definite\n",
        "key, subkey = random.split(key)\n",
        "random_noise = random.normal(subkey, (total_dim, total_dim))\n",
        "random_noise = (random_noise + random_noise.T) * 1e-4 # Make it symmetric and small\n",
        "cov_2k = cov_2k + random_noise\n",
        "\n",
        "# Ensure positive semi-definite by adding a diagonal term if needed (though starting with eye * small_value helps)\n",
        "# Another way is to use the form A @ A.T + epsilon * I\n",
        "key, subkey = random.split(key)\n",
        "A = random.normal(subkey, (total_dim, total_dim)) * 1e-2\n",
        "cov_2k = jnp.matmul(A, A.T) + jnp.eye(total_dim) * 1e-3\n",
        "\n",
        "\n",
        "print(\"Shape of 2k-dimensional mean vector:\", mean_2k.shape)\n",
        "print(\"Shape of 2k-dimensional covariance matrix:\", cov_2k.shape)"
      ],
      "execution_count": 20,
      "outputs": [
        {
          "output_type": "stream",
          "name": "stdout",
          "text": [
            "Shape of 2k-dimensional mean vector: (10,)\n",
            "Shape of 2k-dimensional covariance matrix: (10, 10)\n"
          ]
        }
      ]
    },
    {
      "cell_type": "markdown",
      "metadata": {
        "id": "fe55ab62"
      },
      "source": [
        "## Derive parameters for k 2d mv normals\n",
        "\n",
        "### Subtask:\n",
        "Create a function to extract the means and covariance matrices for the k individual 2D MV normal distributions from the parameters of the 2k-dimensional distribution. The 2k-dimensional covariance matrix will define the relationships between the k 2D distributions.\n"
      ]
    },
    {
      "cell_type": "markdown",
      "metadata": {
        "id": "06df60c8"
      },
      "source": [
        "**Reasoning**:\n",
        "Define the function to extract the k 2D means and covariance matrices from the 2k-dimensional parameters.\n",
        "\n"
      ]
    },
    {
      "cell_type": "code",
      "metadata": {
        "colab": {
          "base_uri": "https://localhost:8080/"
        },
        "id": "3c8ceccc",
        "outputId": "90b23ffe-fdd3-41ec-fe6e-bec2cdc67287"
      },
      "source": [
        "def extract_2d_params(mean_2k, cov_2k, k):\n",
        "  \"\"\"\n",
        "  Extracts the means and covariance matrices for k 2D normal distributions\n",
        "  from the parameters of a single 2k-dimensional normal distribution.\n",
        "\n",
        "  Args:\n",
        "    mean_2k: A JAX array of shape (2k,) representing the mean of the 2k-dim distribution.\n",
        "    cov_2k: A JAX array of shape (2k, 2k) representing the covariance matrix\n",
        "            of the 2k-dim distribution.\n",
        "    k: The number of 2D distributions.\n",
        "\n",
        "  Returns:\n",
        "    A tuple containing:\n",
        "      - means_2d: A JAX array of shape (k, 2) representing the means of the k 2D distributions.\n",
        "      - covariances_2d: A JAX array of shape (k, 2, 2) representing the covariance\n",
        "                        matrices of the k 2D distributions.\n",
        "  \"\"\"\n",
        "  # Extract the k 2D mean vectors by splitting the 2k-dimensional mean vector\n",
        "  means_2d = mean_2k.reshape(k, 2)\n",
        "\n",
        "  # Extract the k 2D covariance matrices by taking 2x2 slices\n",
        "  covariances_2d = jnp.zeros((k, 2, 2))\n",
        "  for i in range(k):\n",
        "    covariances_2d = covariances_2d.at[i].set(cov_2k[2*i : 2*i+2, 2*i : 2*i+2])\n",
        "\n",
        "  return means_2d, covariances_2d\n",
        "\n",
        "# Example usage with the previously defined mean_2k and cov_2k\n",
        "extracted_means, extracted_covariances = extract_2d_params(mean_2k, cov_2k, k)\n",
        "\n",
        "print(\"Shape of extracted 2D means:\", extracted_means.shape)\n",
        "print(\"Shape of extracted 2D covariances:\", extracted_covariances.shape)"
      ],
      "execution_count": 21,
      "outputs": [
        {
          "output_type": "stream",
          "name": "stdout",
          "text": [
            "Shape of extracted 2D means: (5, 2)\n",
            "Shape of extracted 2D covariances: (5, 2, 2)\n"
          ]
        }
      ]
    },
    {
      "cell_type": "markdown",
      "metadata": {
        "id": "bf811a84"
      },
      "source": [
        "## Update `pixel likelihoods`\n",
        "\n",
        "### Subtask:\n",
        "Modify the `pixel_likelihoods` function to take the parameters of the 2k-dimensional MV normal as input, derive the parameters for the k 2D distributions using the function from step 2, and then calculate the pixel likelihoods as before.\n"
      ]
    },
    {
      "cell_type": "markdown",
      "metadata": {
        "id": "a505dcf9"
      },
      "source": [
        "**Reasoning**:\n",
        "Modify the pixel_likelihoods function as instructed, then test it with the 2k-dimensional parameters and print the shape of the output.\n",
        "\n"
      ]
    },
    {
      "cell_type": "code",
      "metadata": {
        "colab": {
          "base_uri": "https://localhost:8080/"
        },
        "id": "a956e6e0",
        "outputId": "91ea34e8-b83d-4685-ad40-492e0173e842"
      },
      "source": [
        "def pixel_likelihoods(image, mean_2k, cov_2k, image_shape=(28, 28)):\n",
        "    \"\"\"\n",
        "    Calculates the likelihood of each pixel in an image originating from each of k 2D MV normal distributions,\n",
        "    derived from a single 2k-dimensional MV normal distribution.\n",
        "\n",
        "    Args:\n",
        "      image: A flattened array of shape (num_pixels,) representing the image.\n",
        "      mean_2k: A JAX array of shape (2k,) representing the mean of the 2k-dim distribution.\n",
        "      cov_2k: A JAX array of shape (2k, 2k) representing the covariance matrix\n",
        "              of the 2k-dim distribution.\n",
        "      image_shape: A tuple (height, width) representing the original shape of the image.\n",
        "\n",
        "    Returns:\n",
        "      An array of shape (num_pixels, k) representing the likelihood of each pixel under each distribution.\n",
        "    \"\"\"\n",
        "    # Determine k from the shape of the 2k-dimensional mean\n",
        "    k = mean_2k.shape[0] // 2\n",
        "\n",
        "    # Extract the k 2D means and covariances using the helper function\n",
        "    means, covariances = extract_2d_params(mean_2k, cov_2k, k)\n",
        "\n",
        "    num_pixels = image.shape[0]\n",
        "    likelihoods = jnp.zeros((num_pixels, k))\n",
        "\n",
        "    # Create a grid of pixel coordinates\n",
        "    height, width = image_shape\n",
        "    x = jnp.linspace(0, width - 1, width)\n",
        "    y = jnp.linspace(0, height - 1, height)\n",
        "    X, Y = jnp.meshgrid(x, y)\n",
        "    points = jnp.dstack((X, Y)).reshape(-1, 2)\n",
        "\n",
        "    for i in range(k):\n",
        "        mu = means[i]\n",
        "        si2 = covariances[i]\n",
        "        diff = points - mu\n",
        "        # Calculate the exponent term of the multivariate normal PDF\n",
        "        # We need to handle potential singular covariance matrices, add a small epsilon for numerical stability\n",
        "        si2_inv = jnp.linalg.inv(si2 + jnp.eye(2) * 1e-6)\n",
        "        exponent = -0.5 * jnp.sum((diff @ si2_inv) * diff, axis=1)\n",
        "\n",
        "        # Calculate the density and scale by the pixel intensity\n",
        "        density = jnp.exp(exponent) / (2 * jnp.pi * jnp.sqrt(jnp.linalg.det(si2 + jnp.eye(2) * 1e-6)))\n",
        "        likelihoods = likelihoods.at[:, i].set(density * image)\n",
        "\n",
        "    return likelihoods\n",
        "\n",
        "# Test the modified function\n",
        "pixel_lik_modified = pixel_likelihoods(test_image_normalized, mean_2k, cov_2k, image_shape=(28, 28))\n",
        "\n",
        "print(\"Shape of pixel likelihoods (modified function):\", pixel_lik_modified.shape)"
      ],
      "execution_count": 22,
      "outputs": [
        {
          "output_type": "stream",
          "name": "stdout",
          "text": [
            "Shape of pixel likelihoods (modified function): (784, 5)\n"
          ]
        }
      ]
    },
    {
      "cell_type": "markdown",
      "metadata": {
        "id": "d37807e4"
      },
      "source": [
        "## Define the model's output\n",
        "\n",
        "### Subtask:\n",
        "Determine how the output of this model will be used for classification. Since we have likelihoods for each pixel under each of the k distributions (derived from the 2k-dimensional MVN), we need a way to combine this information to produce a classification score for each digit class.\n"
      ]
    },
    {
      "cell_type": "markdown",
      "metadata": {
        "id": "94680482"
      },
      "source": [
        "**Reasoning**:\n",
        "I will implement the `predict` and `batched_predict` functions as described in the instructions. The `predict` function will calculate the likelihood of an image belonging to each digit class by summing the pixel likelihoods for each of the `k` distributions and then summing the results for each class. The `batched_predict` function will use `vmap` to apply this logic to a batch of images.\n",
        "\n"
      ]
    },
    {
      "cell_type": "code",
      "metadata": {
        "colab": {
          "base_uri": "https://localhost:8080/"
        },
        "id": "fc320e5b",
        "outputId": "d92e6fea-5c30-44e0-b0b6-988dd5f5946e"
      },
      "source": [
        "def predict(params, image):\n",
        "  \"\"\"Predict the class of a single image.\"\"\"\n",
        "  scores = []\n",
        "  for mean_2k, cov_2k in params:\n",
        "    # 1. & 2. Summarize pixel likelihoods and combine for a final score\n",
        "    pixel_lik = pixel_likelihoods(image, mean_2k, cov_2k)\n",
        "    score = jnp.sum(pixel_lik)\n",
        "    scores.append(score)\n",
        "  return jnp.array(scores)\n",
        "\n",
        "# 3. Create a batched version of the prediction function\n",
        "batched_predict = vmap(predict, in_axes=(None, 0))\n",
        "\n",
        "# Example usage (will be used in training later)\n",
        "# Initialize dummy parameters for 10 digit classes\n",
        "# In a real scenario, these would be learned during training\n",
        "key = random.PRNGKey(42)\n",
        "num_classes = 10\n",
        "k = 5 # Number of 2D distributions per class\n",
        "total_dim = 2 * k\n",
        "# Create a list of (mean, cov) tuples for each class\n",
        "dummy_params = []\n",
        "for _ in range(num_classes):\n",
        "    key, subkey1, subkey2 = random.split(key, 3)\n",
        "    mean_2k = random.normal(subkey1, (total_dim,))\n",
        "    # Ensure covariance is positive semi-definite\n",
        "    A = random.normal(subkey2, (total_dim, total_dim))\n",
        "    cov_2k = jnp.matmul(A, A.T) + jnp.eye(total_dim) * 1e-3\n",
        "    dummy_params.append((mean_2k, cov_2k))\n",
        "\n",
        "\n",
        "# Predict on a single image\n",
        "single_prediction_scores = predict(dummy_params, test_image_normalized)\n",
        "print(\"Scores for a single image (one for each class):\", single_prediction_scores)\n",
        "print(\"Predicted class for single image:\", jnp.argmax(single_prediction_scores))\n",
        "\n",
        "\n",
        "# Predict on a batch of images\n",
        "# Let's take a small batch from the test set\n",
        "batch_size = 16\n",
        "image_batch = test_images[:batch_size] / 255.0\n",
        "batch_prediction_scores = batched_predict(dummy_params, image_batch)\n",
        "print(\"\\nShape of scores for a batch of images:\", batch_prediction_scores.shape)\n",
        "print(\"Predicted classes for the batch:\", jnp.argmax(batch_prediction_scores, axis=1))"
      ],
      "execution_count": 23,
      "outputs": [
        {
          "output_type": "stream",
          "name": "stdout",
          "text": [
            "Scores for a single image (one for each class): [1.7459634e-04 7.0525298e-04 1.2217680e-04 4.2716385e-04 3.3630738e-05\n",
            " 6.7911437e-04 1.2212989e-03 1.2942227e-05 3.3954083e-04 1.0607917e-03]\n",
            "Predicted class for single image: 6\n",
            "\n",
            "Shape of scores for a batch of images: (16, 10)\n",
            "Predicted classes for the batch: [6 6 6 6 6 6 6 6 6 1 6 9 6 6 6 6]\n"
          ]
        }
      ]
    },
    {
      "cell_type": "markdown",
      "metadata": {
        "id": "5cc7e4ba"
      },
      "source": [
        "## Define the loss function\n",
        "\n",
        "### Subtask:\n",
        "Based on the model's output and the classification goal, define a suitable loss function (e.g., negative log-likelihood of the correct digit class).\n"
      ]
    },
    {
      "cell_type": "markdown",
      "metadata": {
        "id": "524f6564"
      },
      "source": [
        "**Reasoning**:\n",
        "Define the loss function based on the negative log-likelihood of the correct digit class, using the predicted scores from `batched_predict`.\n",
        "\n"
      ]
    },
    {
      "cell_type": "code",
      "metadata": {
        "colab": {
          "base_uri": "https://localhost:8080/"
        },
        "id": "9472b216",
        "outputId": "1ecd33ed-c743-4c00-bf99-e921ff65935c"
      },
      "source": [
        "import jax.nn\n",
        "\n",
        "def loss(params, images, targets):\n",
        "  \"\"\"\n",
        "  Calculates the negative log-likelihood loss.\n",
        "\n",
        "  Args:\n",
        "    params: A list of (mean_2k, cov_2k) tuples, one for each class.\n",
        "    images: A batch of flattened images, shape (batch_size, num_pixels).\n",
        "    targets: A batch of one-hot encoded target labels, shape (batch_size, num_labels).\n",
        "\n",
        "  Returns:\n",
        "    The calculated negative log-likelihood loss.\n",
        "  \"\"\"\n",
        "  preds = batched_predict(params, images)\n",
        "\n",
        "  # Implement negative log-likelihood loss.\n",
        "  # Since batched_predict returns scores (sum of likelihoods), which are not\n",
        "  # directly probabilities, we can interpret them as unnormalized log-probabilities\n",
        "  # or use a loss function that encourages higher scores for the correct class.\n",
        "  # Given the prompt specifically mentions \"negative log-likelihood\", let's\n",
        "  # assume the scores can be treated as unnormalized log-probabilities for now,\n",
        "  # and use logsumexp for normalization and then the negative log-likelihood.\n",
        "  # Add a small epsilon to scores before log for numerical stability if needed,\n",
        "  # or use jnp.logaddexp or jnp.logsumexp directly on the scores.\n",
        "\n",
        "  # A common approach for unnormalized log-probabilities (logits) is\n",
        "  # cross-entropy loss, which is equivalent to negative log-likelihood\n",
        "  # when targets are one-hot encoded.\n",
        "  # log_softmax(preds) = preds - logsumexp(preds, axis=-1, keepdims=True)\n",
        "  # negative_log_likelihood = -sum(targets * log_softmax(preds), axis=-1)\n",
        "  # mean_negative_log_likelihood = mean(-sum(targets * log_softmax(preds), axis=-1))\n",
        "\n",
        "  # JAX provides jnp.nn.softmax and jnp.nn.log_softmax which are numerically stable.\n",
        "  # We can also directly compute the negative log-likelihood from scores:\n",
        "  # log_likelihood = jnp.sum(targets * jnp.log(jnp.nn.softmax(preds)), axis=-1)\n",
        "  # negative_log_likelihood = -jnp.mean(log_likelihood)\n",
        "\n",
        "  # Or, more directly using the log-softmax trick:\n",
        "  log_preds = jnp.log(jax.nn.softmax(preds) + 1e-9) # Add epsilon for stability\n",
        "  return -jnp.mean(targets * log_preds)\n",
        "\n",
        "# Example usage (assuming dummy_params, image_batch, test_labels[:batch_size] are available)\n",
        "# Need to make sure test_labels[:batch_size] is one-hot encoded\n",
        "target_batch = one_hot(test_data['label'][:batch_size], num_labels)\n",
        "calculated_loss = loss(dummy_params, image_batch, target_batch)\n",
        "print(\"Calculated loss for the batch:\", calculated_loss)"
      ],
      "execution_count": 29,
      "outputs": [
        {
          "output_type": "stream",
          "name": "stdout",
          "text": [
            "Calculated loss for the batch: 0.23041712\n"
          ]
        }
      ]
    },
    {
      "cell_type": "markdown",
      "metadata": {
        "id": "6dffa461"
      },
      "source": [
        "**Reasoning**:\n",
        "The previous code failed because `jnp.nn` does not exist. The `nn` module in JAX is typically accessed via `jax.experimental.nn` or `flax.linen`. Since we are aiming for a basic implementation without external libraries like Flax, we can manually implement the softmax and log functions or use `jax.scipy.special.logsumexp` to compute the log-softmax for numerical stability as described in the instruction's comments. Let's use `jax.scipy.special.logsumexp` to compute the log-softmax.\n",
        "\n"
      ]
    },
    {
      "cell_type": "code",
      "metadata": {
        "colab": {
          "base_uri": "https://localhost:8080/"
        },
        "id": "uKyNoxmaMbJK",
        "outputId": "1c20cf12-aed4-40e8-c5bc-baec77541584"
      },
      "source": [
        "import jax.scipy.special as jsp\n",
        "\n",
        "def loss(params, images, targets):\n",
        "  \"\"\"\n",
        "  Calculates the negative log-likelihood loss.\n",
        "\n",
        "  Args:\n",
        "    params: A list of (mean_2k, cov_2k) tuples, one for each class.\n",
        "    images: A batch of flattened images, shape (batch_size, num_pixels).\n",
        "    targets: A batch of one-hot encoded target labels, shape (batch_size, num_labels).\n",
        "\n",
        "  Returns:\n",
        "    The calculated negative log-likelihood loss.\n",
        "  \"\"\"\n",
        "  preds = batched_predict(params, images)\n",
        "\n",
        "  # Implement negative log-likelihood loss using log-softmax trick for numerical stability.\n",
        "  # log_softmax(preds) = preds - logsumexp(preds, axis=-1, keepdims=True)\n",
        "  # negative_log_likelihood = -sum(targets * log_softmax(preds), axis=-1)\n",
        "  # mean_negative_log_likelihood = mean(-sum(targets * log_softmax(preds), axis=-1))\n",
        "\n",
        "  log_probs = preds - jsp.logsumexp(preds, axis=-1, keepdims=True)\n",
        "  return -jnp.mean(targets * log_probs)\n",
        "\n",
        "# Example usage (assuming dummy_params, image_batch, test_labels[:batch_size] are available)\n",
        "# Need to make sure test_labels[:batch_size] is one-hot encoded\n",
        "target_batch = one_hot(test_data['label'][:batch_size], num_labels)\n",
        "calculated_loss = loss(dummy_params, image_batch, target_batch)\n",
        "print(\"Calculated loss for the batch:\", calculated_loss)"
      ],
      "execution_count": 30,
      "outputs": [
        {
          "output_type": "stream",
          "name": "stdout",
          "text": [
            "Calculated loss for the batch: 0.23041709\n"
          ]
        }
      ]
    },
    {
      "cell_type": "markdown",
      "metadata": {
        "id": "7f698e6e"
      },
      "source": [
        "## Implement the update rule\n",
        "\n",
        "### Subtask:\n",
        "Implement the training step using JAX's `grad` and `jit` to optimize the parameters of the 2k-dimensional MV normal distribution based on the loss function.\n"
      ]
    },
    {
      "cell_type": "markdown",
      "metadata": {
        "id": "cc2fe453"
      },
      "source": [
        "**Reasoning**:\n",
        "Implement the update step for the model parameters using JAX's grad and jit to optimize the loss function.\n",
        "\n"
      ]
    },
    {
      "cell_type": "code",
      "metadata": {
        "colab": {
          "base_uri": "https://localhost:8080/"
        },
        "id": "4b33f135",
        "outputId": "3c959959-1bd5-454e-b108-309172514c0f"
      },
      "source": [
        "step_size = 1e-3 # Define a learning rate\n",
        "\n",
        "@jit\n",
        "def update_step(params, images, targets):\n",
        "  \"\"\"\n",
        "  Performs a single gradient descent update step for the model parameters.\n",
        "\n",
        "  Args:\n",
        "    params: A list of (mean_2k, cov_2k) tuples, one for each class.\n",
        "    images: A batch of flattened images, shape (batch_size, num_pixels).\n",
        "    targets: A batch of one-hot encoded target labels, shape (batch_size, num_labels).\n",
        "\n",
        "  Returns:\n",
        "    A list of updated (mean_2k, cov_2k) tuples.\n",
        "  \"\"\"\n",
        "  # Compute gradients of the loss function with respect to params\n",
        "  grads = grad(loss)(params, images, targets)\n",
        "\n",
        "  # Update parameters using gradient descent\n",
        "  updated_params = []\n",
        "  for i in range(len(params)):\n",
        "    mean_2k, cov_2k = params[i]\n",
        "    dmean_2k, dcov_2k = grads[i]\n",
        "\n",
        "    # Update mean\n",
        "    new_mean_2k = mean_2k - step_size * dmean_2k\n",
        "\n",
        "    # Update covariance matrix\n",
        "    # Simple gradient descent on the covariance matrix might not maintain\n",
        "    # positive semi-definiteness. A common approach is to update a lower\n",
        "    # triangular matrix L such that Cov = L @ L.T.\n",
        "    # For this implementation, let's apply gradient descent directly and\n",
        "    # rely on later steps or a projection to maintain positive semi-definiteness\n",
        "    # if needed. This is a simplification for this subtask.\n",
        "    new_cov_2k = cov_2k - step_size * dcov_2k\n",
        "\n",
        "    updated_params.append((new_mean_2k, new_cov_2k))\n",
        "\n",
        "  return updated_params\n",
        "\n",
        "# Example usage (assuming dummy_params, image_batch, target_batch are available)\n",
        "updated_dummy_params = update_step(dummy_params, image_batch, target_batch)\n",
        "\n",
        "# Check the shapes of the updated parameters\n",
        "print(\"Shape of updated mean for class 0:\", updated_dummy_params[0][0].shape)\n",
        "print(\"Shape of updated covariance for class 0:\", updated_dummy_params[0][1].shape)\n",
        "\n",
        "# Calculate loss after one update step\n",
        "loss_after_update = loss(updated_dummy_params, image_batch, target_batch)\n",
        "print(\"Loss after one update step:\", loss_after_update)"
      ],
      "execution_count": 32,
      "outputs": [
        {
          "output_type": "stream",
          "name": "stdout",
          "text": [
            "Shape of updated mean for class 0: (10,)\n",
            "Shape of updated covariance for class 0: (10, 10)\n",
            "Loss after one update step: 0.23041709\n"
          ]
        }
      ]
    }
  ]
}