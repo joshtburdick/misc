{
  "nbformat": 4,
  "nbformat_minor": 0,
  "metadata": {
    "colab": {
      "provenance": [],
      "authorship_tag": "ABX9TyMfuNLUvUl1tItARnyZuxfV",
      "include_colab_link": true
    },
    "kernelspec": {
      "name": "python3",
      "display_name": "Python 3"
    },
    "language_info": {
      "name": "python"
    }
  },
  "cells": [
    {
      "cell_type": "markdown",
      "metadata": {
        "id": "view-in-github",
        "colab_type": "text"
      },
      "source": [
        "<a href=\"https://colab.research.google.com/github/joshtburdick/misc/blob/master/plog/Factoring3.ipynb\" target=\"_parent\"><img src=\"https://colab.research.google.com/assets/colab-badge.svg\" alt=\"Open In Colab\"/></a>"
      ]
    },
    {
      "cell_type": "markdown",
      "source": [
        "# Further attempt at factoring\n",
        "\n",
        "This is to test a simpler variant of the factoring method using loopy belief propagation. But without the loopy belief propagation.\n",
        "\n",
        "The main idea is, given $n$, to solve $n=(a+b)(a-b) \\mod m$, where $m = \\prod p_i$ for $P$ (smallish) primes. Then check $\\mathrm{GCD}(n, x)$ for $2^{2P}$ numbers $x$ which are derived from $a$ and $b$ using the Chinese Remainder Theorem.\n",
        "\n",
        "N.B.: This seems fairly impractical, as it requires computing GCD $2^{2P}$ times, for multiple choices of $a+b$ and $a-b$."
      ],
      "metadata": {
        "id": "X6cpF_rNWJml"
      }
    },
    {
      "cell_type": "code",
      "source": [
        "!pip install --quiet modulo"
      ],
      "metadata": {
        "id": "XCnOY3ERWUbg"
      },
      "execution_count": 1,
      "outputs": []
    },
    {
      "cell_type": "code",
      "execution_count": 2,
      "metadata": {
        "id": "h3KvAAJHWF2U"
      },
      "outputs": [],
      "source": [
        "import itertools\n",
        "import math\n",
        "\n",
        "import numpy as np\n",
        "\n",
        "from modulo import modulo"
      ]
    },
    {
      "cell_type": "markdown",
      "source": [
        "We'll need some Chinese Remainder Theorem utilities."
      ],
      "metadata": {
        "id": "LFLYG-gGv_QO"
      }
    },
    {
      "cell_type": "code",
      "source": [
        "def solve_mod_primes(x_mod, primes):\n",
        "    \"\"\"Given what x is (mod some primes), solve for x.\n",
        "\n",
        "    x_mod: an array of small integers, such that x % primes[i] == x_mod[i]\n",
        "    primes: an array of primes\n",
        "\n",
        "    Returns: x, in the range 1 <= x <= product(primes),\n",
        "        satisfying x % primes[i] == xmod[i].\n",
        "    \"\"\"\n",
        "    x = modulo(x_mod[0], primes[0])\n",
        "    for i in range(1, len(primes)):\n",
        "        x &= modulo(x_mod[i], primes[i])\n",
        "    return int(x)"
      ],
      "metadata": {
        "id": "NkCe5SwHqXel"
      },
      "execution_count": 3,
      "outputs": []
    },
    {
      "cell_type": "markdown",
      "source": [
        "Let $n$ be the number to be factored (WLOG assume $n$ is odd). We want to write $n=(a+b)(a-b)$.\n",
        "\n",
        "### Factoring $n$ $mod$ $m$\n",
        "\n",
        "Fermat's method writes $n = a^2-b^2 = (a+b)(a-b)$. For convenience, let $x = a+b$ and $y = a-b$.\n",
        "\n",
        "I had assumed we can assume $y=1$. This doesn't always work. Therefore, we search for increasing values of $y$, starting with 1. (We skip numbers divisible by any of the $p_i$.)\n",
        "\n",
        "This guarantees that we'll *eventually* find a factor (when $x$ or $y$ is a factor of $n$). This is essentially trial division -- hopefully the method will find a factor sooner, but it's unclear if that will happen.\n",
        "\n",
        "Given a value of $g$, it's easy enough to solve for $f$, using the Chinese Remainder Theorem. (Especially using the `modulo` library.)\n"
      ],
      "metadata": {
        "id": "INzXujsIXDsg"
      }
    },
    {
      "cell_type": "code",
      "source": [
        "primes = [3,5,7,11,13]\n",
        "m = math.prod(primes)\n",
        "y = modulo(17, m)\n",
        "n = modulo(17*1001, m)\n",
        "\n",
        "print(f\"y = {y}, n = {n}\")\n",
        "x = n // y\n",
        "print(f\"n // y = {x}\")\n",
        "print(f\"x*y = {x*y}\")\n",
        "print(f\"x*y % m = {x*y % m}\")\n"
      ],
      "metadata": {
        "id": "GzjJy33Oj7lj",
        "outputId": "c9a9126b-6bf5-442b-96f7-f9cc37644b44",
        "colab": {
          "base_uri": "https://localhost:8080/"
        }
      },
      "execution_count": 4,
      "outputs": [
        {
          "output_type": "stream",
          "name": "stdout",
          "text": [
            "y = modulo(17, 15015), n = modulo(2002, 15015)\n",
            "n // y = modulo(1001, 15015)\n",
            "x*y = modulo(2002, 15015)\n",
            "x*y % m = modulo(2002, 15015)\n"
          ]
        }
      ]
    },
    {
      "cell_type": "markdown",
      "source": [
        ""
      ],
      "metadata": {
        "id": "GZa5PQoSm1Ak"
      }
    },
    {
      "cell_type": "code",
      "source": [
        "int(modulo(5-2, 17))"
      ],
      "metadata": {
        "colab": {
          "base_uri": "https://localhost:8080/"
        },
        "id": "esOdQasXW9-f",
        "outputId": "d00b3a96-391f-4f94-c2bf-cf33951bf627"
      },
      "execution_count": 5,
      "outputs": [
        {
          "output_type": "execute_result",
          "data": {
            "text/plain": [
              "3"
            ]
          },
          "metadata": {},
          "execution_count": 5
        }
      ]
    },
    {
      "cell_type": "code",
      "source": [
        "def compute_a_and_b(n, y, m):\n",
        "  \"\"\"Solves for $x$ in $xy = n (mod m)$.\n",
        "\n",
        "  n: number to be factored\n",
        "  y: the value of y == a-b\n",
        "  m: the modulus\n",
        "  \"\"\"\n",
        "  x = modulo(n, m) // y\n",
        "  # print(x, y)\n",
        "  # I think that we want to make sure that y-x is even;\n",
        "  # this may not matter?\n",
        "  if (int(y) - int(x)) % 2 != 0:\n",
        "    print(\"switched x and y\")\n",
        "    (x, y) = (y, x)\n",
        "  b = (y - x) // 2\n",
        "  a = x + b\n",
        "  return (int(a), int(b))"
      ],
      "metadata": {
        "id": "_ofcOZLsUJS1"
      },
      "execution_count": 6,
      "outputs": []
    },
    {
      "cell_type": "code",
      "source": [
        "# test of this\n",
        "compute_a_and_b(29*31, 1, 7*11*13*17*19*23)"
      ],
      "metadata": {
        "colab": {
          "base_uri": "https://localhost:8080/"
        },
        "id": "-Onkl_Y_bt5o",
        "outputId": "1b3da561-442e-4be4-a407-4cf85563faa1"
      },
      "execution_count": 7,
      "outputs": [
        {
          "output_type": "execute_result",
          "data": {
            "text/plain": [
              "(450, 7435980)"
            ]
          },
          "metadata": {},
          "execution_count": 7
        }
      ]
    },
    {
      "cell_type": "code",
      "source": [
        "def factor(n, primes):\n",
        "    \"\"\"Factor n using the Chinese Remainder Theorem.\n",
        "\n",
        "    n: the number to factor\n",
        "    primes: an array of primes\n",
        "    Returns: a nontrivial factor of n, or None on failure\n",
        "    \"\"\"\n",
        "    def check_for_factors(y):\n",
        "        a_mod_m, b_mod_m = compute_a_and_b(n, 1, math.prod(primes))\n",
        "        a = [[a_mod_m % p, -a_mod_m % p] for p in primes]\n",
        "        b = [[b_mod_m % p, -b_mod_m % p] for p in primes]\n",
        "        # get all possible a +/- b (\"generalized\", for however\n",
        "        # many prime factors)\n",
        "        a_mod_m = [solve_mod_primes(a1, primes)\n",
        "            for a1 in itertools.product(*a)]\n",
        "        b_mod_m = [solve_mod_primes(b1, primes)\n",
        "            for b1 in itertools.product(*b)]\n",
        "        # check GCD of each of these\n",
        "        for (a1,b1) in itertools.product(a_mod_m, b_mod_m):\n",
        "            f = math.gcd(n, a1+b1)\n",
        "            if f != 1 and f != n:\n",
        "                # print(f\"f = {f}\")\n",
        "                return f\n",
        "        return None\n",
        "    y = 1\n",
        "    num_y_checked = 1\n",
        "    while y < n:\n",
        "        print(f\"y = {y}\", flush=True)\n",
        "        f = check_for_factors(y)\n",
        "        if f is not None:\n",
        "            return {\"f\": f, \"num_y_checked\": num_y_checked}\n",
        "        # go to next relatively prime y\n",
        "        y += 1\n",
        "        num_y_checked += 1\n",
        "        while math.gcd(y, n) != 1:\n",
        "            y += 1\n",
        "    # hopefully _some_ value of y will work\n",
        "    assert(False)"
      ],
      "metadata": {
        "id": "XVRkHf7nWusK"
      },
      "execution_count": 8,
      "outputs": []
    },
    {
      "cell_type": "markdown",
      "source": [
        "Some tests:"
      ],
      "metadata": {
        "id": "AEErEqbJ6E8e"
      }
    },
    {
      "cell_type": "code",
      "source": [
        "primes = [11,13,17]"
      ],
      "metadata": {
        "id": "C5Lol_vg6En7"
      },
      "execution_count": 9,
      "outputs": []
    },
    {
      "cell_type": "code",
      "source": [
        "factor(3*5, primes)"
      ],
      "metadata": {
        "colab": {
          "base_uri": "https://localhost:8080/"
        },
        "id": "-ep3nXo26NjQ",
        "outputId": "8de62d99-e027-420b-ea7b-a39eef02a8e4"
      },
      "execution_count": 10,
      "outputs": [
        {
          "output_type": "stream",
          "name": "stdout",
          "text": [
            "y = 1\n"
          ]
        },
        {
          "output_type": "execute_result",
          "data": {
            "text/plain": [
              "{'f': 3, 'num_y_checked': 1}"
            ]
          },
          "metadata": {},
          "execution_count": 10
        }
      ]
    },
    {
      "cell_type": "code",
      "source": [
        "factor(5*7, primes)"
      ],
      "metadata": {
        "colab": {
          "base_uri": "https://localhost:8080/"
        },
        "id": "7dQ3P0nT6Qdz",
        "outputId": "f27a4b62-f45f-4eff-f5a1-40bebf733c2e"
      },
      "execution_count": 11,
      "outputs": [
        {
          "output_type": "stream",
          "name": "stdout",
          "text": [
            "y = 1\n"
          ]
        },
        {
          "output_type": "execute_result",
          "data": {
            "text/plain": [
              "{'f': 5, 'num_y_checked': 1}"
            ]
          },
          "metadata": {},
          "execution_count": 11
        }
      ]
    },
    {
      "cell_type": "code",
      "source": [
        "primes = [11,13,17,19,23]"
      ],
      "metadata": {
        "id": "LTTFMN2r6ni2"
      },
      "execution_count": 12,
      "outputs": []
    },
    {
      "cell_type": "code",
      "source": [
        "factor(29*31, primes)"
      ],
      "metadata": {
        "colab": {
          "base_uri": "https://localhost:8080/"
        },
        "id": "3v5gjERg6t9W",
        "outputId": "012aa4c1-6c6f-4ea2-e38e-5b146fb1f746"
      },
      "execution_count": 13,
      "outputs": [
        {
          "output_type": "stream",
          "name": "stdout",
          "text": [
            "y = 1\n"
          ]
        },
        {
          "output_type": "execute_result",
          "data": {
            "text/plain": [
              "{'f': 31, 'num_y_checked': 1}"
            ]
          },
          "metadata": {},
          "execution_count": 13
        }
      ]
    },
    {
      "cell_type": "code",
      "source": [
        "primes = [11,13,17,19,23,29,31]"
      ],
      "metadata": {
        "id": "JsFhZBZw6s_-"
      },
      "execution_count": 14,
      "outputs": []
    },
    {
      "cell_type": "code",
      "source": [
        "factor(37*41, primes)"
      ],
      "metadata": {
        "colab": {
          "base_uri": "https://localhost:8080/"
        },
        "id": "JKZjB2Sw66TP",
        "outputId": "3a9d9aab-1d44-4bbf-ab0c-523837347bdc"
      },
      "execution_count": 15,
      "outputs": [
        {
          "output_type": "stream",
          "name": "stdout",
          "text": [
            "y = 1\n"
          ]
        },
        {
          "output_type": "execute_result",
          "data": {
            "text/plain": [
              "{'f': 37, 'num_y_checked': 1}"
            ]
          },
          "metadata": {},
          "execution_count": 15
        }
      ]
    },
    {
      "cell_type": "code",
      "source": [
        "factor(41*43, primes)"
      ],
      "metadata": {
        "colab": {
          "base_uri": "https://localhost:8080/"
        },
        "id": "1eqr8E906-fW",
        "outputId": "3bd9795c-7db4-4f33-b1ee-bef76a618a81"
      },
      "execution_count": 16,
      "outputs": [
        {
          "output_type": "stream",
          "name": "stdout",
          "text": [
            "y = 1\n"
          ]
        },
        {
          "output_type": "execute_result",
          "data": {
            "text/plain": [
              "{'f': 43, 'num_y_checked': 1}"
            ]
          },
          "metadata": {},
          "execution_count": 16
        }
      ]
    },
    {
      "cell_type": "code",
      "source": [
        "factor(3*47, primes)"
      ],
      "metadata": {
        "colab": {
          "base_uri": "https://localhost:8080/"
        },
        "id": "en8aOFDC7HXQ",
        "outputId": "a4ad1171-e235-496d-d11c-12e60f977d3f"
      },
      "execution_count": 17,
      "outputs": [
        {
          "output_type": "stream",
          "name": "stdout",
          "text": [
            "y = 1\n"
          ]
        },
        {
          "output_type": "execute_result",
          "data": {
            "text/plain": [
              "{'f': 3, 'num_y_checked': 1}"
            ]
          },
          "metadata": {},
          "execution_count": 17
        }
      ]
    },
    {
      "cell_type": "code",
      "source": [
        "factor(47*59, primes)"
      ],
      "metadata": {
        "colab": {
          "base_uri": "https://localhost:8080/"
        },
        "id": "oi8YnDBo7UmB",
        "outputId": "f82a2185-1583-4e47-f05e-eb0a6c0d1567"
      },
      "execution_count": 18,
      "outputs": [
        {
          "output_type": "stream",
          "name": "stdout",
          "text": [
            "y = 1\n"
          ]
        },
        {
          "output_type": "execute_result",
          "data": {
            "text/plain": [
              "{'f': 59, 'num_y_checked': 1}"
            ]
          },
          "metadata": {},
          "execution_count": 18
        }
      ]
    },
    {
      "cell_type": "code",
      "source": [
        "# just confirming that, even though 47*59 isn't divisible by 11,\n",
        "# a == 1386 is\n",
        "a = (47*59-1) // 2\n",
        "a, a % 11"
      ],
      "metadata": {
        "colab": {
          "base_uri": "https://localhost:8080/"
        },
        "id": "XfQ8s1aD7Tnt",
        "outputId": "88ae0c5b-ee48-494d-f594-b04da1d5afea"
      },
      "execution_count": 19,
      "outputs": [
        {
          "output_type": "execute_result",
          "data": {
            "text/plain": [
              "(1386, 0)"
            ]
          },
          "metadata": {},
          "execution_count": 19
        }
      ]
    },
    {
      "cell_type": "code",
      "source": [
        "factor(61*67, primes)"
      ],
      "metadata": {
        "colab": {
          "base_uri": "https://localhost:8080/"
        },
        "id": "A1tNwRZJ9TVI",
        "outputId": "93345153-4f71-434c-bb5b-c86f20ce7ac2"
      },
      "execution_count": 20,
      "outputs": [
        {
          "output_type": "stream",
          "name": "stdout",
          "text": [
            "y = 1\n"
          ]
        },
        {
          "output_type": "execute_result",
          "data": {
            "text/plain": [
              "{'f': 61, 'num_y_checked': 1}"
            ]
          },
          "metadata": {},
          "execution_count": 20
        }
      ]
    },
    {
      "cell_type": "markdown",
      "source": [
        "## Slightly more testing\n",
        "\n",
        "It seems to work for small numbers. What about slightly larger numbers?"
      ],
      "metadata": {
        "id": "Gm2az8J3BuBG"
      }
    },
    {
      "cell_type": "code",
      "source": [
        "def is_prime(n):\n",
        "    if n < 2:\n",
        "        return False\n",
        "    for i in range(2, int(math.sqrt(n)) + 1):\n",
        "        if n % i == 0:\n",
        "            return False\n",
        "    return True\n",
        "\n",
        "def get_primes(n_primes):\n",
        "    primes = []\n",
        "    num = 2\n",
        "    while len(primes) < n_primes:\n",
        "        if is_prime(num):\n",
        "            primes.append(num)\n",
        "        num += 1\n",
        "    return primes\n",
        "\n",
        "primes = get_primes(1000)\n",
        "display(primes[:10]) # display the first 10 primes"
      ],
      "metadata": {
        "colab": {
          "base_uri": "https://localhost:8080/",
          "height": 34
        },
        "id": "O2DCj62HB1sP",
        "outputId": "eb44e535-a095-4b86-fa4d-d2defd61caaf"
      },
      "execution_count": 21,
      "outputs": [
        {
          "output_type": "display_data",
          "data": {
            "text/plain": [
              "[2, 3, 5, 7, 11, 13, 17, 19, 23, 29]"
            ]
          },
          "metadata": {}
        }
      ]
    },
    {
      "cell_type": "code",
      "metadata": {
        "colab": {
          "base_uri": "https://localhost:8080/"
        },
        "id": "802027a0",
        "outputId": "f4cfbc15-15a3-4e7d-fa7c-c1a41ace6612"
      },
      "source": [
        "# use some small primes (starting with 7) for m\n",
        "small_primes = primes[3:12]\n",
        "print(small_primes)\n",
        "larger_primes = primes[300:310]\n",
        "m = math.prod(small_primes)\n",
        "print(f\"m = {m}\")\n",
        "\n",
        "for (a, b) in itertools.combinations(larger_primes, 2):\n",
        "    n = a*b\n",
        "    if n > m:\n",
        "        continue\n",
        "    print(f\"n = {n} = {a} * {b}\", flush=True)\n",
        "    f = factor(n, small_primes)\n",
        "    if f is not None:\n",
        "        print(f\"f = {f}\\n\", flush=True)\n",
        "    else:\n",
        "        print(f\"failed to factor {n} = {a}*{b}\", flush=True)\n",
        "        break"
      ],
      "execution_count": 22,
      "outputs": [
        {
          "output_type": "stream",
          "name": "stdout",
          "text": [
            "[7, 11, 13, 17, 19, 23, 29, 31, 37]\n",
            "m = 247357937827\n",
            "n = 3980021 = 1993 * 1997\n",
            "y = 1\n",
            "f = {'f': 1993, 'num_y_checked': 1}\n",
            "\n",
            "n = 3984007 = 1993 * 1999\n",
            "y = 1\n",
            "f = {'f': 1993, 'num_y_checked': 1}\n",
            "\n",
            "n = 3991979 = 1993 * 2003\n",
            "y = 1\n",
            "f = {'f': 2003, 'num_y_checked': 1}\n",
            "\n",
            "n = 4007923 = 1993 * 2011\n",
            "y = 1\n",
            "f = {'f': 1993, 'num_y_checked': 1}\n",
            "\n",
            "n = 4019881 = 1993 * 2017\n",
            "y = 1\n",
            "f = {'f': 2017, 'num_y_checked': 1}\n",
            "\n",
            "n = 4039811 = 1993 * 2027\n",
            "y = 1\n",
            "f = {'f': 1993, 'num_y_checked': 1}\n",
            "\n",
            "n = 4043797 = 1993 * 2029\n",
            "y = 1\n",
            "f = {'f': 1993, 'num_y_checked': 1}\n",
            "\n",
            "n = 4063727 = 1993 * 2039\n",
            "y = 1\n",
            "f = {'f': 1993, 'num_y_checked': 1}\n",
            "\n",
            "n = 4091629 = 1993 * 2053\n",
            "y = 1\n",
            "f = {'f': 2053, 'num_y_checked': 1}\n",
            "\n",
            "n = 3992003 = 1997 * 1999\n",
            "y = 1\n",
            "f = {'f': 1997, 'num_y_checked': 1}\n",
            "\n",
            "n = 3999991 = 1997 * 2003\n",
            "y = 1\n",
            "f = {'f': 1997, 'num_y_checked': 1}\n",
            "\n",
            "n = 4015967 = 1997 * 2011\n",
            "y = 1\n",
            "f = {'f': 2011, 'num_y_checked': 1}\n",
            "\n",
            "n = 4027949 = 1997 * 2017\n",
            "y = 1\n",
            "f = {'f': 1997, 'num_y_checked': 1}\n",
            "\n",
            "n = 4047919 = 1997 * 2027\n",
            "y = 1\n",
            "f = {'f': 2027, 'num_y_checked': 1}\n",
            "\n",
            "n = 4051913 = 1997 * 2029\n",
            "y = 1\n",
            "f = {'f': 2029, 'num_y_checked': 1}\n",
            "\n",
            "n = 4071883 = 1997 * 2039\n",
            "y = 1\n",
            "f = {'f': 1997, 'num_y_checked': 1}\n",
            "\n",
            "n = 4099841 = 1997 * 2053\n",
            "y = 1\n",
            "f = {'f': 2053, 'num_y_checked': 1}\n",
            "\n",
            "n = 4003997 = 1999 * 2003\n",
            "y = 1\n",
            "f = {'f': 1999, 'num_y_checked': 1}\n",
            "\n",
            "n = 4019989 = 1999 * 2011\n",
            "y = 1\n",
            "f = {'f': 2011, 'num_y_checked': 1}\n",
            "\n",
            "n = 4031983 = 1999 * 2017\n",
            "y = 1\n",
            "f = {'f': 2017, 'num_y_checked': 1}\n",
            "\n",
            "n = 4051973 = 1999 * 2027\n",
            "y = 1\n",
            "f = {'f': 1999, 'num_y_checked': 1}\n",
            "\n",
            "n = 4055971 = 1999 * 2029\n",
            "y = 1\n",
            "f = {'f': 1999, 'num_y_checked': 1}\n",
            "\n",
            "n = 4075961 = 1999 * 2039\n",
            "y = 1\n",
            "f = {'f': 1999, 'num_y_checked': 1}\n",
            "\n",
            "n = 4103947 = 1999 * 2053\n",
            "y = 1\n",
            "f = {'f': 2053, 'num_y_checked': 1}\n",
            "\n",
            "n = 4028033 = 2003 * 2011\n",
            "y = 1\n",
            "f = {'f': 2003, 'num_y_checked': 1}\n",
            "\n",
            "n = 4040051 = 2003 * 2017\n",
            "y = 1\n",
            "f = {'f': 2017, 'num_y_checked': 1}\n",
            "\n",
            "n = 4060081 = 2003 * 2027\n",
            "y = 1\n",
            "f = {'f': 2027, 'num_y_checked': 1}\n",
            "\n",
            "n = 4064087 = 2003 * 2029\n",
            "y = 1\n",
            "f = {'f': 2003, 'num_y_checked': 1}\n",
            "\n",
            "n = 4084117 = 2003 * 2039\n",
            "y = 1\n",
            "f = {'f': 2003, 'num_y_checked': 1}\n",
            "\n",
            "n = 4112159 = 2003 * 2053\n",
            "y = 1\n",
            "f = {'f': 2003, 'num_y_checked': 1}\n",
            "\n",
            "n = 4056187 = 2011 * 2017\n",
            "y = 1\n",
            "f = {'f': 2017, 'num_y_checked': 1}\n",
            "\n",
            "n = 4076297 = 2011 * 2027\n",
            "y = 1\n",
            "f = {'f': 2011, 'num_y_checked': 1}\n",
            "\n",
            "n = 4080319 = 2011 * 2029\n",
            "y = 1\n",
            "f = {'f': 2011, 'num_y_checked': 1}\n",
            "\n",
            "n = 4100429 = 2011 * 2039\n",
            "y = 1\n",
            "f = {'f': 2039, 'num_y_checked': 1}\n",
            "\n",
            "n = 4128583 = 2011 * 2053\n",
            "y = 1\n",
            "f = {'f': 2011, 'num_y_checked': 1}\n",
            "\n",
            "n = 4088459 = 2017 * 2027\n",
            "y = 1\n",
            "f = {'f': 2027, 'num_y_checked': 1}\n",
            "\n",
            "n = 4092493 = 2017 * 2029\n",
            "y = 1\n",
            "f = {'f': 2017, 'num_y_checked': 1}\n",
            "\n",
            "n = 4112663 = 2017 * 2039\n",
            "y = 1\n",
            "f = {'f': 2039, 'num_y_checked': 1}\n",
            "\n",
            "n = 4140901 = 2017 * 2053\n",
            "y = 1\n",
            "f = {'f': 2017, 'num_y_checked': 1}\n",
            "\n",
            "n = 4112783 = 2027 * 2029\n",
            "y = 1\n",
            "f = {'f': 2027, 'num_y_checked': 1}\n",
            "\n",
            "n = 4133053 = 2027 * 2039\n",
            "y = 1\n",
            "f = {'f': 2027, 'num_y_checked': 1}\n",
            "\n",
            "n = 4161431 = 2027 * 2053\n",
            "y = 1\n",
            "f = {'f': 2027, 'num_y_checked': 1}\n",
            "\n",
            "n = 4137131 = 2029 * 2039\n",
            "y = 1\n",
            "f = {'f': 2039, 'num_y_checked': 1}\n",
            "\n",
            "n = 4165537 = 2029 * 2053\n",
            "y = 1\n",
            "f = {'f': 2053, 'num_y_checked': 1}\n",
            "\n",
            "n = 4186067 = 2039 * 2053\n",
            "y = 1\n",
            "f = {'f': 2053, 'num_y_checked': 1}\n",
            "\n"
          ]
        }
      ]
    },
    {
      "cell_type": "markdown",
      "source": [
        "However, if we don't use \"enough\" prime factors, using $a-b=1$ sometimes doesn't work:"
      ],
      "metadata": {
        "id": "_rAYQD2Pad1t"
      }
    },
    {
      "cell_type": "code",
      "metadata": {
        "colab": {
          "base_uri": "https://localhost:8080/",
          "height": 1000
        },
        "outputId": "78ebf771-a1de-4d90-b50b-e68ae2169184",
        "id": "0_t6XWz1au7o"
      },
      "source": [
        "# use some small primes (starting with 7) for m\n",
        "small_primes = primes[3:9]\n",
        "print(small_primes)\n",
        "larger_primes = primes[302:305]\n",
        "m = math.prod(small_primes)\n",
        "print(f\"m = {m}\")\n",
        "\n",
        "for (a, b) in itertools.combinations(larger_primes, 2):\n",
        "    n = a*b\n",
        "    if n > m:\n",
        "        continue\n",
        "    print(f\"n = {n} = {a} * {b}\", flush=True)\n",
        "    f = factor(n, small_primes)\n",
        "    if f is not None:\n",
        "        print(f\"f = {f}\\n\", flush=True)\n",
        "    else:\n",
        "        print(f\"failed to factor {n} = {a}*{b}\", flush=True)\n",
        "        break"
      ],
      "execution_count": 23,
      "outputs": [
        {
          "output_type": "stream",
          "name": "stdout",
          "text": [
            "[7, 11, 13, 17, 19, 23]\n",
            "m = 7436429\n",
            "n = 4003997 = 1999 * 2003\n",
            "y = 1\n",
            "f = {'f': 2003, 'num_y_checked': 1}\n",
            "\n",
            "n = 4019989 = 1999 * 2011\n",
            "y = 1\n",
            "y = 2\n",
            "y = 3\n",
            "y = 4\n",
            "y = 5\n",
            "y = 6\n",
            "y = 7\n",
            "y = 8\n",
            "y = 9\n",
            "y = 10\n",
            "y = 11\n",
            "y = 12\n",
            "y = 13\n",
            "y = 14\n",
            "y = 15\n",
            "y = 16\n",
            "y = 17\n",
            "y = 18\n",
            "y = 19\n",
            "y = 20\n",
            "y = 21\n",
            "y = 22\n",
            "y = 23\n",
            "y = 24\n",
            "y = 25\n",
            "y = 26\n",
            "y = 27\n",
            "y = 28\n",
            "y = 29\n",
            "y = 30\n",
            "y = 31\n",
            "y = 32\n",
            "y = 33\n",
            "y = 34\n",
            "y = 35\n",
            "y = 36\n",
            "y = 37\n",
            "y = 38\n",
            "y = 39\n",
            "y = 40\n",
            "y = 41\n",
            "y = 42\n",
            "y = 43\n",
            "y = 44\n",
            "y = 45\n",
            "y = 46\n",
            "y = 47\n",
            "y = 48\n",
            "y = 49\n",
            "y = 50\n",
            "y = 51\n",
            "y = 52\n",
            "y = 53\n",
            "y = 54\n",
            "y = 55\n",
            "y = 56\n",
            "y = 57\n",
            "y = 58\n",
            "y = 59\n",
            "y = 60\n",
            "y = 61\n",
            "y = 62\n",
            "y = 63\n",
            "y = 64\n",
            "y = 65\n",
            "y = 66\n",
            "y = 67\n",
            "y = 68\n",
            "y = 69\n",
            "y = 70\n",
            "y = 71\n",
            "y = 72\n",
            "y = 73\n",
            "y = 74\n",
            "y = 75\n",
            "y = 76\n",
            "y = 77\n",
            "y = 78\n",
            "y = 79\n",
            "y = 80\n",
            "y = 81\n",
            "y = 82\n",
            "y = 83\n",
            "y = 84\n",
            "y = 85\n",
            "y = 86\n",
            "y = 87\n",
            "y = 88\n",
            "y = 89\n",
            "y = 90\n",
            "y = 91\n",
            "y = 92\n",
            "y = 93\n",
            "y = 94\n",
            "y = 95\n",
            "y = 96\n",
            "y = 97\n",
            "y = 98\n",
            "y = 99\n",
            "y = 100\n",
            "y = 101\n",
            "y = 102\n",
            "y = 103\n",
            "y = 104\n",
            "y = 105\n",
            "y = 106\n",
            "y = 107\n",
            "y = 108\n",
            "y = 109\n",
            "y = 110\n",
            "y = 111\n",
            "y = 112\n",
            "y = 113\n",
            "y = 114\n",
            "y = 115\n",
            "y = 116\n",
            "y = 117\n",
            "y = 118\n",
            "y = 119\n",
            "y = 120\n",
            "y = 121\n",
            "y = 122\n",
            "y = 123\n",
            "y = 124\n",
            "y = 125\n",
            "y = 126\n",
            "y = 127\n",
            "y = 128\n",
            "y = 129\n",
            "y = 130\n",
            "y = 131\n",
            "y = 132\n",
            "y = 133\n",
            "y = 134\n",
            "y = 135\n",
            "y = 136\n",
            "y = 137\n",
            "y = 138\n",
            "y = 139\n",
            "y = 140\n",
            "y = 141\n",
            "y = 142\n",
            "y = 143\n",
            "y = 144\n",
            "y = 145\n",
            "y = 146\n",
            "y = 147\n",
            "y = 148\n",
            "y = 149\n",
            "y = 150\n",
            "y = 151\n",
            "y = 152\n",
            "y = 153\n",
            "y = 154\n",
            "y = 155\n",
            "y = 156\n",
            "y = 157\n",
            "y = 158\n",
            "y = 159\n",
            "y = 160\n",
            "y = 161\n",
            "y = 162\n",
            "y = 163\n",
            "y = 164\n",
            "y = 165\n",
            "y = 166\n",
            "y = 167\n",
            "y = 168\n",
            "y = 169\n",
            "y = 170\n",
            "y = 171\n",
            "y = 172\n",
            "y = 173\n",
            "y = 174\n",
            "y = 175\n",
            "y = 176\n",
            "y = 177\n",
            "y = 178\n",
            "y = 179\n",
            "y = 180\n",
            "y = 181\n",
            "y = 182\n",
            "y = 183\n",
            "y = 184\n",
            "y = 185\n",
            "y = 186\n",
            "y = 187\n",
            "y = 188\n",
            "y = 189\n",
            "y = 190\n",
            "y = 191\n",
            "y = 192\n",
            "y = 193\n",
            "y = 194\n",
            "y = 195\n",
            "y = 196\n",
            "y = 197\n",
            "y = 198\n",
            "y = 199\n",
            "y = 200\n",
            "y = 201\n",
            "y = 202\n",
            "y = 203\n",
            "y = 204\n",
            "y = 205\n",
            "y = 206\n",
            "y = 207\n",
            "y = 208\n",
            "y = 209\n",
            "y = 210\n",
            "y = 211\n",
            "y = 212\n",
            "y = 213\n",
            "y = 214\n",
            "y = 215\n",
            "y = 216\n",
            "y = 217\n",
            "y = 218\n",
            "y = 219\n",
            "y = 220\n",
            "y = 221\n",
            "y = 222\n",
            "y = 223\n",
            "y = 224\n",
            "y = 225\n",
            "y = 226\n",
            "y = 227\n",
            "y = 228\n",
            "y = 229\n",
            "y = 230\n",
            "y = 231\n",
            "y = 232\n",
            "y = 233\n",
            "y = 234\n",
            "y = 235\n",
            "y = 236\n",
            "y = 237\n",
            "y = 238\n",
            "y = 239\n",
            "y = 240\n",
            "y = 241\n",
            "y = 242\n",
            "y = 243\n",
            "y = 244\n",
            "y = 245\n",
            "y = 246\n",
            "y = 247\n",
            "y = 248\n",
            "y = 249\n",
            "y = 250\n",
            "y = 251\n",
            "y = 252\n",
            "y = 253\n",
            "y = 254\n",
            "y = 255\n",
            "y = 256\n",
            "y = 257\n",
            "y = 258\n",
            "y = 259\n",
            "y = 260\n",
            "y = 261\n",
            "y = 262\n",
            "y = 263\n",
            "y = 264\n",
            "y = 265\n",
            "y = 266\n",
            "y = 267\n",
            "y = 268\n",
            "y = 269\n",
            "y = 270\n",
            "y = 271\n",
            "y = 272\n",
            "y = 273\n",
            "y = 274\n",
            "y = 275\n",
            "y = 276\n",
            "y = 277\n",
            "y = 278\n",
            "y = 279\n",
            "y = 280\n",
            "y = 281\n",
            "y = 282\n",
            "y = 283\n",
            "y = 284\n",
            "y = 285\n",
            "y = 286\n",
            "y = 287\n",
            "y = 288\n",
            "y = 289\n",
            "y = 290\n",
            "y = 291\n",
            "y = 292\n",
            "y = 293\n",
            "y = 294\n",
            "y = 295\n",
            "y = 296\n",
            "y = 297\n",
            "y = 298\n",
            "y = 299\n",
            "y = 300\n",
            "y = 301\n",
            "y = 302\n",
            "y = 303\n",
            "y = 304\n",
            "y = 305\n",
            "y = 306\n",
            "y = 307\n",
            "y = 308\n",
            "y = 309\n",
            "y = 310\n",
            "y = 311\n",
            "y = 312\n",
            "y = 313\n",
            "y = 314\n",
            "y = 315\n",
            "y = 316\n",
            "y = 317\n",
            "y = 318\n",
            "y = 319\n",
            "y = 320\n",
            "y = 321\n",
            "y = 322\n",
            "y = 323\n",
            "y = 324\n",
            "y = 325\n",
            "y = 326\n",
            "y = 327\n",
            "y = 328\n",
            "y = 329\n",
            "y = 330\n",
            "y = 331\n",
            "y = 332\n",
            "y = 333\n",
            "y = 334\n",
            "y = 335\n",
            "y = 336\n",
            "y = 337\n",
            "y = 338\n",
            "y = 339\n",
            "y = 340\n",
            "y = 341\n",
            "y = 342\n",
            "y = 343\n",
            "y = 344\n",
            "y = 345\n",
            "y = 346\n",
            "y = 347\n",
            "y = 348\n",
            "y = 349\n",
            "y = 350\n",
            "y = 351\n",
            "y = 352\n",
            "y = 353\n",
            "y = 354\n",
            "y = 355\n",
            "y = 356\n",
            "y = 357\n",
            "y = 358\n",
            "y = 359\n",
            "y = 360\n",
            "y = 361\n",
            "y = 362\n",
            "y = 363\n",
            "y = 364\n",
            "y = 365\n",
            "y = 366\n",
            "y = 367\n",
            "y = 368\n",
            "y = 369\n",
            "y = 370\n",
            "y = 371\n",
            "y = 372\n",
            "y = 373\n",
            "y = 374\n",
            "y = 375\n",
            "y = 376\n",
            "y = 377\n",
            "y = 378\n",
            "y = 379\n",
            "y = 380\n",
            "y = 381\n",
            "y = 382\n",
            "y = 383\n",
            "y = 384\n",
            "y = 385\n",
            "y = 386\n",
            "y = 387\n",
            "y = 388\n",
            "y = 389\n",
            "y = 390\n",
            "y = 391\n",
            "y = 392\n",
            "y = 393\n",
            "y = 394\n",
            "y = 395\n",
            "y = 396\n",
            "y = 397\n",
            "y = 398\n",
            "y = 399\n",
            "y = 400\n",
            "y = 401\n",
            "y = 402\n",
            "y = 403\n",
            "y = 404\n",
            "y = 405\n",
            "y = 406\n",
            "y = 407\n",
            "y = 408\n",
            "y = 409\n",
            "y = 410\n",
            "y = 411\n",
            "y = 412\n",
            "y = 413\n",
            "y = 414\n",
            "y = 415\n",
            "y = 416\n",
            "y = 417\n",
            "y = 418\n",
            "y = 419\n",
            "y = 420\n",
            "y = 421\n",
            "y = 422\n",
            "y = 423\n",
            "y = 424\n",
            "y = 425\n",
            "y = 426\n",
            "y = 427\n",
            "y = 428\n",
            "y = 429\n",
            "y = 430\n",
            "y = 431\n",
            "y = 432\n",
            "y = 433\n",
            "y = 434\n",
            "y = 435\n",
            "y = 436\n",
            "y = 437\n",
            "y = 438\n",
            "y = 439\n",
            "y = 440\n",
            "y = 441\n",
            "y = 442\n",
            "y = 443\n",
            "y = 444\n",
            "y = 445\n",
            "y = 446\n",
            "y = 447\n",
            "y = 448\n",
            "y = 449\n",
            "y = 450\n",
            "y = 451\n",
            "y = 452\n",
            "y = 453\n",
            "y = 454\n",
            "y = 455\n",
            "y = 456\n",
            "y = 457\n",
            "y = 458\n"
          ]
        },
        {
          "output_type": "error",
          "ename": "KeyboardInterrupt",
          "evalue": "",
          "traceback": [
            "\u001b[0;31m---------------------------------------------------------------------------\u001b[0m",
            "\u001b[0;31mKeyboardInterrupt\u001b[0m                         Traceback (most recent call last)",
            "\u001b[0;32m/tmp/ipython-input-200020466.py\u001b[0m in \u001b[0;36m<cell line: 0>\u001b[0;34m()\u001b[0m\n\u001b[1;32m     11\u001b[0m         \u001b[0;32mcontinue\u001b[0m\u001b[0;34m\u001b[0m\u001b[0;34m\u001b[0m\u001b[0m\n\u001b[1;32m     12\u001b[0m     \u001b[0mprint\u001b[0m\u001b[0;34m(\u001b[0m\u001b[0;34mf\"n = {n} = {a} * {b}\"\u001b[0m\u001b[0;34m,\u001b[0m \u001b[0mflush\u001b[0m\u001b[0;34m=\u001b[0m\u001b[0;32mTrue\u001b[0m\u001b[0;34m)\u001b[0m\u001b[0;34m\u001b[0m\u001b[0;34m\u001b[0m\u001b[0m\n\u001b[0;32m---> 13\u001b[0;31m     \u001b[0mf\u001b[0m \u001b[0;34m=\u001b[0m \u001b[0mfactor\u001b[0m\u001b[0;34m(\u001b[0m\u001b[0mn\u001b[0m\u001b[0;34m,\u001b[0m \u001b[0msmall_primes\u001b[0m\u001b[0;34m)\u001b[0m\u001b[0;34m\u001b[0m\u001b[0;34m\u001b[0m\u001b[0m\n\u001b[0m\u001b[1;32m     14\u001b[0m     \u001b[0;32mif\u001b[0m \u001b[0mf\u001b[0m \u001b[0;32mis\u001b[0m \u001b[0;32mnot\u001b[0m \u001b[0;32mNone\u001b[0m\u001b[0;34m:\u001b[0m\u001b[0;34m\u001b[0m\u001b[0;34m\u001b[0m\u001b[0m\n\u001b[1;32m     15\u001b[0m         \u001b[0mprint\u001b[0m\u001b[0;34m(\u001b[0m\u001b[0;34mf\"f = {f}\\n\"\u001b[0m\u001b[0;34m,\u001b[0m \u001b[0mflush\u001b[0m\u001b[0;34m=\u001b[0m\u001b[0;32mTrue\u001b[0m\u001b[0;34m)\u001b[0m\u001b[0;34m\u001b[0m\u001b[0;34m\u001b[0m\u001b[0m\n",
            "\u001b[0;32m/tmp/ipython-input-24766692.py\u001b[0m in \u001b[0;36mfactor\u001b[0;34m(n, primes)\u001b[0m\n\u001b[1;32m     27\u001b[0m     \u001b[0;32mwhile\u001b[0m \u001b[0my\u001b[0m \u001b[0;34m<\u001b[0m \u001b[0mn\u001b[0m\u001b[0;34m:\u001b[0m\u001b[0;34m\u001b[0m\u001b[0;34m\u001b[0m\u001b[0m\n\u001b[1;32m     28\u001b[0m         \u001b[0mprint\u001b[0m\u001b[0;34m(\u001b[0m\u001b[0;34mf\"y = {y}\"\u001b[0m\u001b[0;34m,\u001b[0m \u001b[0mflush\u001b[0m\u001b[0;34m=\u001b[0m\u001b[0;32mTrue\u001b[0m\u001b[0;34m)\u001b[0m\u001b[0;34m\u001b[0m\u001b[0;34m\u001b[0m\u001b[0m\n\u001b[0;32m---> 29\u001b[0;31m         \u001b[0mf\u001b[0m \u001b[0;34m=\u001b[0m \u001b[0mcheck_for_factors\u001b[0m\u001b[0;34m(\u001b[0m\u001b[0my\u001b[0m\u001b[0;34m)\u001b[0m\u001b[0;34m\u001b[0m\u001b[0;34m\u001b[0m\u001b[0m\n\u001b[0m\u001b[1;32m     30\u001b[0m         \u001b[0;32mif\u001b[0m \u001b[0mf\u001b[0m \u001b[0;32mis\u001b[0m \u001b[0;32mnot\u001b[0m \u001b[0;32mNone\u001b[0m\u001b[0;34m:\u001b[0m\u001b[0;34m\u001b[0m\u001b[0;34m\u001b[0m\u001b[0m\n\u001b[1;32m     31\u001b[0m             \u001b[0;32mreturn\u001b[0m \u001b[0;34m{\u001b[0m\u001b[0;34m\"f\"\u001b[0m\u001b[0;34m:\u001b[0m \u001b[0mf\u001b[0m\u001b[0;34m,\u001b[0m \u001b[0;34m\"num_y_checked\"\u001b[0m\u001b[0;34m:\u001b[0m \u001b[0mnum_y_checked\u001b[0m\u001b[0;34m}\u001b[0m\u001b[0;34m\u001b[0m\u001b[0;34m\u001b[0m\u001b[0m\n",
            "\u001b[0;32m/tmp/ipython-input-24766692.py\u001b[0m in \u001b[0;36mcheck_for_factors\u001b[0;34m(y)\u001b[0m\n\u001b[1;32m     19\u001b[0m         \u001b[0;32mfor\u001b[0m \u001b[0;34m(\u001b[0m\u001b[0ma1\u001b[0m\u001b[0;34m,\u001b[0m\u001b[0mb1\u001b[0m\u001b[0;34m)\u001b[0m \u001b[0;32min\u001b[0m \u001b[0mitertools\u001b[0m\u001b[0;34m.\u001b[0m\u001b[0mproduct\u001b[0m\u001b[0;34m(\u001b[0m\u001b[0ma_mod_m\u001b[0m\u001b[0;34m,\u001b[0m \u001b[0mb_mod_m\u001b[0m\u001b[0;34m)\u001b[0m\u001b[0;34m:\u001b[0m\u001b[0;34m\u001b[0m\u001b[0;34m\u001b[0m\u001b[0m\n\u001b[1;32m     20\u001b[0m             \u001b[0mf\u001b[0m \u001b[0;34m=\u001b[0m \u001b[0mmath\u001b[0m\u001b[0;34m.\u001b[0m\u001b[0mgcd\u001b[0m\u001b[0;34m(\u001b[0m\u001b[0mn\u001b[0m\u001b[0;34m,\u001b[0m \u001b[0ma1\u001b[0m\u001b[0;34m+\u001b[0m\u001b[0mb1\u001b[0m\u001b[0;34m)\u001b[0m\u001b[0;34m\u001b[0m\u001b[0;34m\u001b[0m\u001b[0m\n\u001b[0;32m---> 21\u001b[0;31m             \u001b[0;32mif\u001b[0m \u001b[0mf\u001b[0m \u001b[0;34m!=\u001b[0m \u001b[0;36m1\u001b[0m \u001b[0;32mand\u001b[0m \u001b[0mf\u001b[0m \u001b[0;34m!=\u001b[0m \u001b[0mn\u001b[0m\u001b[0;34m:\u001b[0m\u001b[0;34m\u001b[0m\u001b[0;34m\u001b[0m\u001b[0m\n\u001b[0m\u001b[1;32m     22\u001b[0m                 \u001b[0;31m# print(f\"f = {f}\")\u001b[0m\u001b[0;34m\u001b[0m\u001b[0;34m\u001b[0m\u001b[0m\n\u001b[1;32m     23\u001b[0m                 \u001b[0;32mreturn\u001b[0m \u001b[0mf\u001b[0m\u001b[0;34m\u001b[0m\u001b[0;34m\u001b[0m\u001b[0m\n",
            "\u001b[0;31mKeyboardInterrupt\u001b[0m: "
          ]
        }
      ]
    },
    {
      "cell_type": "markdown",
      "source": [
        "In this case, it's searching for many values of $y$, and so is very slow. (I'm not sure it finds a factor, for this example.)"
      ],
      "metadata": {
        "id": "5SqDKWJcgXyB"
      }
    },
    {
      "cell_type": "markdown",
      "source": [
        "# Questions\n",
        "\n",
        "- With $a$ and $b$ chosen with $a-b=1$, how often will at least one of the \"generalized $a+b$\" numbers have a nontrivial GCD with $n$? (It works for some small examples, but not larger examples.)\n",
        "\n",
        "- What value of $m = \\prod p_i$ works best? Presumably there are some trade-offs here.\n",
        "\n",
        "- Given that the number of \"generalized $a+b$\" numbers grows like $2^{|P|}$, is this practical? (Presumably not.)\n",
        "\n",
        "- What is this most similar to? (Gemini suggests the quadratic sieve, which seems plausible.)\n"
      ],
      "metadata": {
        "id": "XzRXqVBqkiY0"
      }
    }
  ]
}