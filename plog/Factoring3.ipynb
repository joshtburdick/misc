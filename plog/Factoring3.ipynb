{
  "nbformat": 4,
  "nbformat_minor": 0,
  "metadata": {
    "colab": {
      "provenance": [],
      "authorship_tag": "ABX9TyOY7VFJaHfizQ9EHz3Iaxsu",
      "include_colab_link": true
    },
    "kernelspec": {
      "name": "python3",
      "display_name": "Python 3"
    },
    "language_info": {
      "name": "python"
    }
  },
  "cells": [
    {
      "cell_type": "markdown",
      "metadata": {
        "id": "view-in-github",
        "colab_type": "text"
      },
      "source": [
        "<a href=\"https://colab.research.google.com/github/joshtburdick/misc/blob/master/plog/Factoring3.ipynb\" target=\"_parent\"><img src=\"https://colab.research.google.com/assets/colab-badge.svg\" alt=\"Open In Colab\"/></a>"
      ]
    },
    {
      "cell_type": "markdown",
      "source": [
        "# Further attempt at factoring\n",
        "\n",
        "This is to test a simpler variant of the factoring method using loopy belief propagation. But without the loopy belief propagation.\n",
        "\n",
        "The main idea is, given $n$, to solve $n=(a+b)(a-b) \\mod m$, where $m = \\prod p_i$ for $P$ (smallish) primes. Then check $\\mathrm{GCD}(n, x)$ for $2^{2P}$ numbers $x$ which are derived from $a$ and $b$ using the Chinese Remainder Theorem.\n",
        "\n",
        "N.B.: This seems fairly impractical, as it requires computing GCD $2^{2P}$ times, for multiple choices of $a+b$ and $a-b$."
      ],
      "metadata": {
        "id": "X6cpF_rNWJml"
      }
    },
    {
      "cell_type": "code",
      "source": [
        "!pip install --quiet modulo"
      ],
      "metadata": {
        "id": "XCnOY3ERWUbg"
      },
      "execution_count": 1,
      "outputs": []
    },
    {
      "cell_type": "code",
      "execution_count": 2,
      "metadata": {
        "id": "h3KvAAJHWF2U"
      },
      "outputs": [],
      "source": [
        "import itertools\n",
        "import math\n",
        "\n",
        "import numpy as np\n",
        "\n",
        "from modulo import modulo"
      ]
    },
    {
      "cell_type": "markdown",
      "source": [
        "We'll need some Chinese Remainder Theorem utilities."
      ],
      "metadata": {
        "id": "LFLYG-gGv_QO"
      }
    },
    {
      "cell_type": "code",
      "source": [
        "def solve_mod_primes(x_mod, primes):\n",
        "    \"\"\"Given what x is (mod some primes), solve for x.\n",
        "\n",
        "    x_mod: an array of small integers, such that x % primes[i] == x_mod[i]\n",
        "    primes: an array of primes\n",
        "\n",
        "    Returns: x, in the range 1 <= x <= product(primes),\n",
        "        satisfying x % primes[i] == xmod[i].\n",
        "    \"\"\"\n",
        "    x = modulo(x_mod[0], primes[0])\n",
        "    for i in range(1, len(primes)):\n",
        "        x &= modulo(x_mod[i], primes[i])\n",
        "    return int(x)"
      ],
      "metadata": {
        "id": "NkCe5SwHqXel"
      },
      "execution_count": 3,
      "outputs": []
    },
    {
      "cell_type": "markdown",
      "source": [
        "Let $n$ be the number to be factored (WLOG assume $n$ is odd). We want to write $n=(a+b)(a-b)$.\n",
        "\n",
        "### Factoring $n$ $mod$ $m$\n",
        "\n",
        "Fermat's method writes $n = a^2-b^2 = (a+b)(a-b)$. For convenience, let $x = a+b$ and $y = a-b$.\n",
        "\n",
        "I had assumed we can assume $y=1$. This doesn't always work. Therefore, we search for increasing values of $y$, starting with 1. (We skip numbers divisible by any of the $p_i$.)\n",
        "\n",
        "This guarantees that we'll *eventually* find a factor (when $x$ or $y$ is a factor of $n$). This is essentially trial division -- hopefully the method will find a factor sooner, but it's unclear if that will happen.\n",
        "\n",
        "Given a value of $g$, it's easy enough to solve for $f$, using the Chinese Remainder Theorem. (Especially using the `modulo` library.)\n"
      ],
      "metadata": {
        "id": "INzXujsIXDsg"
      }
    },
    {
      "cell_type": "code",
      "source": [
        "primes = [3,5,7,11,13]\n",
        "m = math.prod(primes)\n",
        "y = modulo(17, m)\n",
        "n = modulo(17*1001, m)\n",
        "\n",
        "print(f\"y = {y}, n = {n}\")\n",
        "x = n // y\n",
        "print(f\"n // y = {x}\")\n",
        "print(f\"x*y = {x*y}\")\n",
        "print(f\"x*y % m = {x*y % m}\")\n"
      ],
      "metadata": {
        "id": "GzjJy33Oj7lj",
        "outputId": "26e1c0eb-ca8d-40ab-825a-e215d336a4b4",
        "colab": {
          "base_uri": "https://localhost:8080/"
        }
      },
      "execution_count": 4,
      "outputs": [
        {
          "output_type": "stream",
          "name": "stdout",
          "text": [
            "y = modulo(17, 15015), n = modulo(2002, 15015)\n",
            "n // y = modulo(1001, 15015)\n",
            "x*y = modulo(2002, 15015)\n",
            "x*y % m = modulo(2002, 15015)\n"
          ]
        }
      ]
    },
    {
      "cell_type": "markdown",
      "source": [
        ""
      ],
      "metadata": {
        "id": "GZa5PQoSm1Ak"
      }
    },
    {
      "cell_type": "code",
      "source": [
        "int(modulo(5-2, 17))"
      ],
      "metadata": {
        "id": "esOdQasXW9-f",
        "outputId": "eb2c1239-e511-4a24-8a21-6713caf182fd",
        "colab": {
          "base_uri": "https://localhost:8080/"
        }
      },
      "execution_count": 5,
      "outputs": [
        {
          "output_type": "execute_result",
          "data": {
            "text/plain": [
              "3"
            ]
          },
          "metadata": {},
          "execution_count": 5
        }
      ]
    },
    {
      "cell_type": "code",
      "source": [
        "def compute_a_and_b(n, y, m):\n",
        "  \"\"\"Solves for $x$ in $xy = n (mod m)$.\n",
        "\n",
        "  n: number to be factored\n",
        "  y: the value of y == a-b\n",
        "  m: the modulus\n",
        "  \"\"\"\n",
        "  x = modulo(n, m) // y\n",
        "  # print(x, y)\n",
        "  # I think that we want to make sure that y-x is even;\n",
        "  # this may not matter?\n",
        "  if (int(y) - int(x)) % 2 != 0:\n",
        "    print(\"switched x and y\")\n",
        "    (x, y) = (y, x)\n",
        "  b = (y - x) // 2\n",
        "  a = x + b\n",
        "  return (int(a), int(b))"
      ],
      "metadata": {
        "id": "_ofcOZLsUJS1"
      },
      "execution_count": 6,
      "outputs": []
    },
    {
      "cell_type": "code",
      "source": [
        "# test of this\n",
        "compute_a_and_b(29*31, 1, 7*11*13*17*19*23)"
      ],
      "metadata": {
        "id": "-Onkl_Y_bt5o",
        "outputId": "62878bf3-645d-44d9-cb5f-cb1da24b0162",
        "colab": {
          "base_uri": "https://localhost:8080/"
        }
      },
      "execution_count": 7,
      "outputs": [
        {
          "output_type": "execute_result",
          "data": {
            "text/plain": [
              "(450, 7435980)"
            ]
          },
          "metadata": {},
          "execution_count": 7
        }
      ]
    },
    {
      "cell_type": "code",
      "source": [
        "def factor(n, primes):\n",
        "    \"\"\"Factor n using the Chinese Remainder Theorem.\n",
        "\n",
        "    n: the number to factor\n",
        "    primes: an array of primes\n",
        "    Returns: a nontrivial factor of n, or None on failure\n",
        "    \"\"\"\n",
        "    a_mod_m, b_mod_m = compute_a_and_b(n, 1, math.prod(primes))\n",
        "    print(f\"a_mod_m = {a_mod_m}, b_mod_m = {b_mod_m}\")\n",
        "    a = [[a_mod_m % p, -a_mod_m % p] for p in primes]\n",
        "    b = [[b_mod_m % p, -b_mod_m % p] for p in primes]\n",
        "    print(f\"a = {a}\")\n",
        "    print(f\"b = {b}\")\n",
        "    # get all possible a +/- b (\"generalized\", for however\n",
        "    # many prime factors)\n",
        "    a_mod_m = [solve_mod_primes(a1, primes)\n",
        "        for a1 in itertools.product(*a)]\n",
        "    b_mod_m = [solve_mod_primes(b1, primes)\n",
        "        for b1 in itertools.product(*b)]\n",
        "    # check GCD of each of these\n",
        "    for (a1,b1) in itertools.product(a_mod_m, b_mod_m):\n",
        "        f = math.gcd(n, a1+b1)\n",
        "        if f != 1 and f != n:\n",
        "            # print(f\"f = {f}\")\n",
        "            return f\n",
        "    return None"
      ],
      "metadata": {
        "id": "XVRkHf7nWusK"
      },
      "execution_count": 8,
      "outputs": []
    },
    {
      "cell_type": "markdown",
      "source": [
        "Some tests:"
      ],
      "metadata": {
        "id": "AEErEqbJ6E8e"
      }
    },
    {
      "cell_type": "code",
      "source": [
        "primes = [11,13,17]"
      ],
      "metadata": {
        "id": "C5Lol_vg6En7"
      },
      "execution_count": 9,
      "outputs": []
    },
    {
      "cell_type": "code",
      "source": [
        "factor(3*5, primes)"
      ],
      "metadata": {
        "colab": {
          "base_uri": "https://localhost:8080/"
        },
        "id": "-ep3nXo26NjQ",
        "outputId": "f825427a-82f4-434c-8367-f63e1389e247"
      },
      "execution_count": 10,
      "outputs": [
        {
          "output_type": "stream",
          "name": "stdout",
          "text": [
            "a_mod_m = 8, b_mod_m = 2424\n",
            "a = [[8, 3], [8, 5], [8, 9]]\n",
            "b = [[4, 7], [6, 7], [10, 7]]\n"
          ]
        },
        {
          "output_type": "execute_result",
          "data": {
            "text/plain": [
              "3"
            ]
          },
          "metadata": {},
          "execution_count": 10
        }
      ]
    },
    {
      "cell_type": "code",
      "source": [
        "factor(5*7, primes)"
      ],
      "metadata": {
        "colab": {
          "base_uri": "https://localhost:8080/"
        },
        "id": "7dQ3P0nT6Qdz",
        "outputId": "e3576bef-2d68-44c6-d50e-65900231a349"
      },
      "execution_count": 11,
      "outputs": [
        {
          "output_type": "stream",
          "name": "stdout",
          "text": [
            "a_mod_m = 18, b_mod_m = 2414\n",
            "a = [[7, 4], [5, 8], [1, 16]]\n",
            "b = [[5, 6], [9, 4], [0, 0]]\n"
          ]
        },
        {
          "output_type": "execute_result",
          "data": {
            "text/plain": [
              "5"
            ]
          },
          "metadata": {},
          "execution_count": 11
        }
      ]
    },
    {
      "cell_type": "code",
      "source": [
        "primes = [11,13,17,19,23]"
      ],
      "metadata": {
        "id": "LTTFMN2r6ni2"
      },
      "execution_count": 12,
      "outputs": []
    },
    {
      "cell_type": "code",
      "source": [
        "factor(29*31, primes)"
      ],
      "metadata": {
        "colab": {
          "base_uri": "https://localhost:8080/"
        },
        "id": "3v5gjERg6t9W",
        "outputId": "13e13d5b-0a16-4481-96dc-ecb13a3c925b"
      },
      "execution_count": 13,
      "outputs": [
        {
          "output_type": "stream",
          "name": "stdout",
          "text": [
            "a_mod_m = 450, b_mod_m = 1061898\n",
            "a = [[10, 1], [8, 5], [8, 9], [13, 6], [13, 10]]\n",
            "b = [[2, 9], [6, 7], [10, 7], [7, 12], [11, 12]]\n"
          ]
        },
        {
          "output_type": "execute_result",
          "data": {
            "text/plain": [
              "31"
            ]
          },
          "metadata": {},
          "execution_count": 13
        }
      ]
    },
    {
      "cell_type": "code",
      "source": [
        "primes = [11,13,17,19,23,29,31]"
      ],
      "metadata": {
        "id": "JsFhZBZw6s_-"
      },
      "execution_count": 14,
      "outputs": []
    },
    {
      "cell_type": "code",
      "source": [
        "factor(37*41, primes)"
      ],
      "metadata": {
        "colab": {
          "base_uri": "https://localhost:8080/"
        },
        "id": "JKZjB2Sw66TP",
        "outputId": "8290acb4-3cf8-43a4-c580-0967917a67ff"
      },
      "execution_count": 15,
      "outputs": [
        {
          "output_type": "stream",
          "name": "stdout",
          "text": [
            "a_mod_m = 759, b_mod_m = 955049195\n",
            "a = [[0, 0], [5, 8], [11, 6], [18, 1], [0, 0], [5, 24], [15, 16]]\n",
            "b = [[1, 10], [9, 4], [7, 10], [2, 17], [1, 22], [25, 4], [17, 14]]\n"
          ]
        },
        {
          "output_type": "execute_result",
          "data": {
            "text/plain": [
              "37"
            ]
          },
          "metadata": {},
          "execution_count": 15
        }
      ]
    },
    {
      "cell_type": "code",
      "source": [
        "factor(41*43, primes)"
      ],
      "metadata": {
        "colab": {
          "base_uri": "https://localhost:8080/"
        },
        "id": "1eqr8E906-fW",
        "outputId": "014a83b4-ea9e-4aa6-e3d5-ffd9f772ebca"
      },
      "execution_count": 16,
      "outputs": [
        {
          "output_type": "stream",
          "name": "stdout",
          "text": [
            "a_mod_m = 882, b_mod_m = 955049072\n",
            "a = [[2, 9], [11, 2], [15, 2], [8, 11], [8, 15], [12, 17], [14, 17]]\n",
            "b = [[10, 1], [3, 10], [3, 14], [12, 7], [16, 7], [18, 11], [18, 13]]\n"
          ]
        },
        {
          "output_type": "execute_result",
          "data": {
            "text/plain": [
              "43"
            ]
          },
          "metadata": {},
          "execution_count": 16
        }
      ]
    },
    {
      "cell_type": "code",
      "source": [
        "factor(3*47, primes)"
      ],
      "metadata": {
        "colab": {
          "base_uri": "https://localhost:8080/"
        },
        "id": "en8aOFDC7HXQ",
        "outputId": "bc4ffe7e-33b5-48d3-c2b5-bc811b435a1a"
      },
      "execution_count": 17,
      "outputs": [
        {
          "output_type": "stream",
          "name": "stdout",
          "text": [
            "a_mod_m = 71, b_mod_m = 955049883\n",
            "a = [[5, 6], [6, 7], [3, 14], [14, 5], [2, 21], [13, 16], [9, 22]]\n",
            "b = [[7, 4], [8, 5], [15, 2], [6, 13], [22, 1], [17, 12], [23, 8]]\n"
          ]
        },
        {
          "output_type": "execute_result",
          "data": {
            "text/plain": [
              "3"
            ]
          },
          "metadata": {},
          "execution_count": 17
        }
      ]
    },
    {
      "cell_type": "code",
      "source": [
        "factor(47*59, primes)"
      ],
      "metadata": {
        "colab": {
          "base_uri": "https://localhost:8080/"
        },
        "id": "oi8YnDBo7UmB",
        "outputId": "451b25bd-0d5a-4de2-e81d-3be2c9640b87"
      },
      "execution_count": 18,
      "outputs": [
        {
          "output_type": "stream",
          "name": "stdout",
          "text": [
            "a_mod_m = 1387, b_mod_m = 955048567\n",
            "a = [[1, 10], [9, 4], [10, 7], [0, 0], [7, 16], [24, 5], [23, 8]]\n",
            "b = [[0, 0], [5, 8], [8, 9], [1, 18], [17, 6], [6, 23], [9, 22]]\n"
          ]
        },
        {
          "output_type": "execute_result",
          "data": {
            "text/plain": [
              "59"
            ]
          },
          "metadata": {},
          "execution_count": 18
        }
      ]
    },
    {
      "cell_type": "code",
      "source": [
        "# just confirming that, even though 47*59 isn't divisible by 11,\n",
        "# a == 1386 is\n",
        "a = (47*59-1) // 2\n",
        "a, a % 11"
      ],
      "metadata": {
        "colab": {
          "base_uri": "https://localhost:8080/"
        },
        "id": "XfQ8s1aD7Tnt",
        "outputId": "247093e2-51da-4ca2-dcd9-e1e50e063cb6"
      },
      "execution_count": 19,
      "outputs": [
        {
          "output_type": "execute_result",
          "data": {
            "text/plain": [
              "(1386, 0)"
            ]
          },
          "metadata": {},
          "execution_count": 19
        }
      ]
    },
    {
      "cell_type": "code",
      "source": [
        "factor(61*67, primes)"
      ],
      "metadata": {
        "colab": {
          "base_uri": "https://localhost:8080/"
        },
        "id": "A1tNwRZJ9TVI",
        "outputId": "3b23009f-b293-415d-bf52-e37cc295a637"
      },
      "execution_count": 20,
      "outputs": [
        {
          "output_type": "stream",
          "name": "stdout",
          "text": [
            "a_mod_m = 2044, b_mod_m = 955047910\n",
            "a = [[9, 2], [3, 10], [4, 13], [11, 8], [20, 3], [14, 15], [29, 2]]\n",
            "b = [[3, 8], [11, 2], [14, 3], [9, 10], [4, 19], [16, 13], [3, 28]]\n"
          ]
        },
        {
          "output_type": "execute_result",
          "data": {
            "text/plain": [
              "61"
            ]
          },
          "metadata": {},
          "execution_count": 20
        }
      ]
    },
    {
      "cell_type": "markdown",
      "source": [
        "## Slightly more testing\n",
        "\n",
        "It seems to work for small numbers. What about slightly larger numbers?"
      ],
      "metadata": {
        "id": "Gm2az8J3BuBG"
      }
    },
    {
      "cell_type": "code",
      "source": [
        "def is_prime(n):\n",
        "    if n < 2:\n",
        "        return False\n",
        "    for i in range(2, int(math.sqrt(n)) + 1):\n",
        "        if n % i == 0:\n",
        "            return False\n",
        "    return True\n",
        "\n",
        "def get_primes(n_primes):\n",
        "    primes = []\n",
        "    num = 2\n",
        "    while len(primes) < n_primes:\n",
        "        if is_prime(num):\n",
        "            primes.append(num)\n",
        "        num += 1\n",
        "    return primes\n",
        "\n",
        "primes = get_primes(1000)\n",
        "display(primes[:10]) # display the first 10 primes"
      ],
      "metadata": {
        "colab": {
          "base_uri": "https://localhost:8080/",
          "height": 34
        },
        "id": "O2DCj62HB1sP",
        "outputId": "f857da33-40e7-4be6-e450-2e4768e20f17"
      },
      "execution_count": 21,
      "outputs": [
        {
          "output_type": "display_data",
          "data": {
            "text/plain": [
              "[2, 3, 5, 7, 11, 13, 17, 19, 23, 29]"
            ]
          },
          "metadata": {}
        }
      ]
    },
    {
      "cell_type": "code",
      "metadata": {
        "colab": {
          "base_uri": "https://localhost:8080/"
        },
        "id": "802027a0",
        "outputId": "85969081-9fee-4533-baa1-dc1755307afd"
      },
      "source": [
        "# use some small primes (starting with 7) for m\n",
        "small_primes = primes[3:12]\n",
        "print(small_primes)\n",
        "larger_primes = primes[300:310]\n",
        "m = math.prod(small_primes)\n",
        "print(f\"m = {m}\")\n",
        "\n",
        "for (a, b) in itertools.combinations(larger_primes, 2):\n",
        "    n = a*b\n",
        "    if n > m:\n",
        "        continue\n",
        "    print(f\"n = {n} = {a} * {b}\", flush=True)\n",
        "    f = factor(n, small_primes)\n",
        "    if f is not None:\n",
        "        print(f\"f = {f}\\n\", flush=True)\n",
        "    else:\n",
        "        print(f\"failed to factor {n} = {a}*{b}\", flush=True)\n",
        "        break"
      ],
      "execution_count": 22,
      "outputs": [
        {
          "output_type": "stream",
          "name": "stdout",
          "text": [
            "[7, 11, 13, 17, 19, 23, 29, 31, 37]\n",
            "m = 247357937827\n",
            "n = 3980021 = 1993 * 1997\n",
            "a_mod_m = 1990011, b_mod_m = 247355947817\n",
            "a = [[2, 5], [1, 10], [10, 3], [8, 9], [8, 11], [5, 18], [2, 27], [28, 3], [3, 34]]\n",
            "b = [[6, 1], [0, 0], [4, 9], [10, 7], [12, 7], [19, 4], [28, 1], [4, 27], [35, 2]]\n",
            "f = 1993\n",
            "\n",
            "n = 3984007 = 1993 * 1999\n",
            "a_mod_m = 1992004, b_mod_m = 247355945824\n",
            "a = [[0, 0], [3, 8], [1, 12], [12, 5], [6, 13], [20, 3], [23, 6], [6, 25], [35, 2]]\n",
            "b = [[1, 6], [9, 2], [0, 0], [6, 11], [14, 5], [4, 19], [7, 22], [26, 5], [3, 34]]\n",
            "f = 1993\n",
            "\n",
            "n = 3991979 = 1993 * 2003\n",
            "a_mod_m = 1995990, b_mod_m = 247355941838\n",
            "a = [[3, 4], [7, 4], [9, 4], [3, 14], [2, 17], [4, 19], [7, 22], [24, 7], [25, 12]]\n",
            "b = [[5, 2], [5, 6], [5, 8], [15, 2], [18, 1], [20, 3], [23, 6], [8, 23], [13, 24]]\n",
            "f = 2003\n",
            "\n",
            "n = 4007923 = 1993 * 2011\n",
            "a_mod_m = 2003962, b_mod_m = 247355933866\n",
            "a = [[2, 5], [4, 7], [12, 1], [2, 15], [13, 6], [18, 5], [4, 25], [29, 2], [5, 32]]\n",
            "b = [[6, 1], [8, 3], [2, 11], [16, 1], [7, 12], [6, 17], [26, 3], [3, 28], [33, 4]]\n",
            "f = 1993\n",
            "\n",
            "n = 4019881 = 1993 * 2017\n",
            "a_mod_m = 2009941, b_mod_m = 247355927887\n",
            "a = [[3, 4], [10, 1], [11, 2], [14, 3], [7, 12], [17, 6], [9, 20], [25, 6], [27, 10]]\n",
            "b = [[5, 2], [2, 9], [3, 10], [4, 13], [13, 6], [7, 16], [21, 8], [7, 24], [11, 26]]\n",
            "f = 2017\n",
            "\n",
            "n = 4039811 = 1993 * 2027\n",
            "a_mod_m = 2019906, b_mod_m = 247355917922\n",
            "a = [[0, 0], [9, 2], [5, 8], [0, 0], [16, 3], [0, 0], [27, 2], [8, 23], [2, 35]]\n",
            "b = [[1, 6], [3, 8], [9, 4], [1, 16], [4, 15], [1, 22], [3, 26], [24, 7], [36, 1]]\n",
            "f = 1993\n",
            "\n",
            "n = 4043797 = 1993 * 2029\n",
            "a_mod_m = 2021899, b_mod_m = 247355915929\n",
            "a = [[5, 2], [0, 0], [9, 4], [4, 13], [14, 5], [15, 8], [19, 10], [17, 14], [34, 3]]\n",
            "b = [[3, 4], [1, 10], [5, 8], [14, 3], [6, 13], [9, 14], [11, 18], [15, 16], [4, 33]]\n",
            "f = 1993\n",
            "\n",
            "n = 4063727 = 1993 * 2039\n",
            "a_mod_m = 2031864, b_mod_m = 247355905964\n",
            "a = [[2, 5], [10, 1], [3, 10], [7, 10], [4, 15], [21, 2], [8, 21], [0, 0], [9, 28]]\n",
            "b = [[6, 1], [2, 9], [11, 2], [11, 6], [16, 3], [3, 20], [22, 7], [1, 30], [29, 8]]\n",
            "f = 1993\n",
            "\n",
            "n = 4091629 = 1993 * 2053\n",
            "a_mod_m = 2045815, b_mod_m = 247355892013\n",
            "a = [[2, 5], [2, 9], [5, 8], [1, 16], [9, 10], [11, 12], [10, 19], [1, 30], [11, 26]]\n",
            "b = [[6, 1], [10, 1], [9, 4], [0, 0], [11, 8], [13, 10], [20, 9], [0, 0], [27, 10]]\n",
            "f = 2053\n",
            "\n",
            "n = 3992003 = 1997 * 1999\n",
            "a_mod_m = 1996002, b_mod_m = 247355941826\n",
            "a = [[1, 6], [8, 3], [8, 5], [15, 2], [14, 5], [16, 7], [19, 10], [5, 26], [0, 0]]\n",
            "b = [[0, 0], [4, 7], [6, 7], [3, 14], [6, 13], [8, 15], [11, 18], [27, 4], [1, 36]]\n",
            "f = 1997\n",
            "\n",
            "n = 3999991 = 1997 * 2003\n",
            "a_mod_m = 1999996, b_mod_m = 247355937832\n",
            "a = [[5, 2], [9, 2], [11, 2], [14, 3], [18, 1], [8, 15], [11, 18], [0, 0], [35, 2]]\n",
            "b = [[3, 4], [3, 8], [3, 10], [4, 13], [2, 17], [16, 7], [19, 10], [1, 30], [3, 34]]\n",
            "f = 1997\n",
            "\n",
            "n = 4015967 = 1997 * 2011\n",
            "a_mod_m = 2007984, b_mod_m = 247355929844\n",
            "a = [[6, 1], [0, 0], [4, 9], [12, 5], [7, 12], [15, 8], [24, 5], [21, 10], [31, 6]]\n",
            "b = [[2, 5], [1, 10], [10, 3], [6, 11], [13, 6], [9, 14], [6, 23], [11, 20], [7, 30]]\n",
            "f = 2011\n",
            "\n",
            "n = 4027949 = 1997 * 2017\n",
            "a_mod_m = 2013975, b_mod_m = 247355923853\n",
            "a = [[5, 2], [7, 4], [2, 11], [2, 15], [13, 6], [3, 20], [12, 17], [29, 2], [28, 9]]\n",
            "b = [[3, 4], [5, 6], [12, 1], [16, 1], [7, 12], [21, 2], [18, 11], [3, 28], [10, 27]]\n",
            "f = 1997\n",
            "\n",
            "n = 4047919 = 1997 * 2027\n",
            "a_mod_m = 2023960, b_mod_m = 247355913868\n",
            "a = [[1, 6], [4, 7], [3, 10], [8, 9], [4, 15], [6, 17], [21, 8], [1, 30], [23, 14]]\n",
            "b = [[0, 0], [8, 3], [11, 2], [10, 7], [16, 3], [18, 5], [9, 20], [0, 0], [15, 22]]\n",
            "f = 2027\n",
            "\n",
            "n = 4051913 = 1997 * 2029\n",
            "a_mod_m = 2025957, b_mod_m = 247355911871\n",
            "a = [[3, 4], [10, 1], [11, 2], [16, 1], [6, 13], [2, 21], [17, 12], [14, 17], [22, 15]]\n",
            "b = [[5, 2], [2, 9], [3, 10], [2, 15], [14, 5], [22, 1], [13, 16], [18, 13], [16, 21]]\n",
            "f = 2029\n",
            "\n",
            "n = 4071883 = 1997 * 2039\n",
            "a_mod_m = 2035942, b_mod_m = 247355901886\n",
            "a = [[6, 1], [7, 4], [12, 1], [5, 12], [16, 3], [5, 18], [26, 3], [17, 14], [17, 20]]\n",
            "b = [[2, 5], [5, 6], [2, 11], [13, 4], [4, 15], [19, 4], [4, 25], [15, 16], [21, 16]]\n",
            "f = 1997\n",
            "\n",
            "n = 4099841 = 1997 * 2053\n",
            "a_mod_m = 2049921, b_mod_m = 247355887907\n",
            "a = [[6, 1], [5, 6], [3, 10], [10, 7], [11, 8], [0, 0], [27, 2], [15, 16], [10, 27]]\n",
            "b = [[2, 5], [7, 4], [11, 2], [8, 9], [9, 10], [1, 22], [3, 26], [17, 14], [28, 9]]\n",
            "f = 2053\n",
            "\n",
            "n = 4003997 = 1999 * 2003\n",
            "a_mod_m = 2001999, b_mod_m = 247355935829\n",
            "a = [[6, 1], [10, 1], [12, 1], [11, 6], [7, 12], [10, 13], [13, 16], [19, 12], [3, 34]]\n",
            "b = [[2, 5], [2, 9], [2, 11], [7, 10], [13, 6], [14, 9], [17, 12], [13, 18], [35, 2]]\n",
            "f = 1999\n",
            "\n",
            "n = 4019989 = 1999 * 2011\n",
            "a_mod_m = 2009995, b_mod_m = 247355927833\n",
            "a = [[1, 6], [9, 2], [0, 0], [0, 0], [4, 15], [2, 21], [5, 24], [17, 14], [7, 30]]\n",
            "b = [[0, 0], [3, 8], [1, 12], [1, 16], [16, 3], [22, 1], [25, 4], [15, 16], [31, 6]]\n",
            "f = 2011\n",
            "\n",
            "n = 4031983 = 1999 * 2017\n",
            "a_mod_m = 2015992, b_mod_m = 247355921836\n",
            "a = [[6, 1], [0, 0], [4, 9], [13, 4], [16, 3], [19, 4], [28, 1], [0, 0], [10, 27]]\n",
            "b = [[2, 5], [1, 10], [10, 3], [5, 12], [4, 15], [5, 18], [2, 27], [1, 30], [28, 9]]\n",
            "f = 2017\n",
            "\n",
            "n = 4051973 = 1999 * 2027\n",
            "a_mod_m = 2025987, b_mod_m = 247355911841\n",
            "a = [[5, 2], [7, 4], [2, 11], [12, 5], [17, 2], [9, 14], [18, 11], [13, 18], [15, 22]]\n",
            "b = [[3, 4], [5, 6], [12, 1], [6, 11], [3, 16], [15, 8], [12, 17], [19, 12], [23, 14]]\n",
            "f = 1999\n",
            "\n",
            "n = 4055971 = 1999 * 2029\n",
            "a_mod_m = 2027986, b_mod_m = 247355909842\n",
            "a = [[2, 5], [4, 7], [12, 1], [5, 12], [2, 17], [7, 16], [16, 13], [28, 3], [16, 21]]\n",
            "b = [[6, 1], [8, 3], [2, 11], [13, 4], [18, 1], [17, 6], [14, 15], [4, 27], [22, 15]]\n",
            "f = 1999\n",
            "\n",
            "n = 4075961 = 1999 * 2039\n",
            "a_mod_m = 2037981, b_mod_m = 247355899847\n",
            "a = [[1, 6], [0, 0], [10, 3], [4, 13], [3, 16], [20, 3], [6, 23], [10, 21], [21, 16]]\n",
            "b = [[0, 0], [1, 10], [4, 9], [14, 3], [17, 2], [4, 19], [24, 5], [22, 9], [17, 20]]\n",
            "f = 1999\n",
            "\n",
            "n = 4103947 = 1999 * 2053\n",
            "a_mod_m = 2051974, b_mod_m = 247355885854\n",
            "a = [[1, 6], [1, 10], [2, 11], [6, 11], [12, 7], [6, 17], [21, 8], [22, 9], [28, 9]]\n",
            "b = [[0, 0], [0, 0], [12, 1], [12, 5], [8, 11], [18, 5], [9, 20], [10, 21], [10, 27]]\n",
            "f = 2053\n",
            "\n",
            "n = 4028033 = 2003 * 2011\n",
            "a_mod_m = 2014017, b_mod_m = 247355923811\n",
            "a = [[5, 2], [5, 6], [5, 8], [10, 7], [17, 2], [22, 1], [25, 4], [9, 22], [33, 4]]\n",
            "b = [[3, 4], [7, 4], [9, 4], [8, 9], [3, 16], [2, 21], [5, 24], [23, 8], [5, 32]]\n",
            "f = 2003\n",
            "\n",
            "n = 4040051 = 2003 * 2017\n",
            "a_mod_m = 2020026, b_mod_m = 247355917802\n",
            "a = [[1, 6], [8, 3], [8, 5], [1, 16], [3, 16], [5, 18], [2, 27], [4, 27], [11, 26]]\n",
            "b = [[0, 0], [4, 7], [6, 7], [0, 0], [17, 2], [19, 4], [28, 1], [28, 3], [27, 10]]\n",
            "f = 2017\n",
            "\n",
            "n = 4060081 = 2003 * 2027\n",
            "a_mod_m = 2030041, b_mod_m = 247355907787\n",
            "a = [[6, 1], [2, 9], [0, 0], [3, 14], [5, 14], [15, 8], [12, 17], [6, 25], [36, 1]]\n",
            "b = [[2, 5], [10, 1], [1, 12], [15, 2], [15, 4], [9, 14], [18, 11], [26, 5], [2, 35]]\n",
            "f = 2027\n",
            "\n",
            "n = 4064087 = 2003 * 2029\n",
            "a_mod_m = 2032044, b_mod_m = 247355905784\n",
            "a = [[0, 0], [3, 8], [1, 12], [0, 0], [13, 6], [17, 6], [14, 15], [25, 6], [4, 33]]\n",
            "b = [[1, 6], [9, 2], [0, 0], [1, 16], [7, 12], [7, 16], [16, 13], [7, 24], [34, 3]]\n",
            "f = 2003\n",
            "\n",
            "n = 4084117 = 2003 * 2039\n",
            "a_mod_m = 2042059, b_mod_m = 247355895769\n",
            "a = [[5, 2], [8, 3], [6, 7], [2, 15], [15, 4], [4, 19], [24, 5], [27, 4], [29, 8]]\n",
            "b = [[3, 4], [4, 7], [8, 5], [16, 1], [5, 14], [20, 3], [6, 23], [5, 26], [9, 28]]\n",
            "f = 2003\n",
            "\n",
            "n = 4112159 = 2003 * 2053\n",
            "a_mod_m = 2056080, b_mod_m = 247355881748\n",
            "a = [[5, 2], [4, 7], [0, 0], [15, 2], [14, 5], [18, 5], [9, 20], [5, 26], [27, 10]]\n",
            "b = [[3, 4], [8, 3], [1, 12], [3, 14], [6, 13], [6, 17], [21, 8], [27, 4], [11, 26]]\n",
            "f = 2003\n",
            "\n",
            "n = 4056187 = 2011 * 2017\n",
            "a_mod_m = 2028094, b_mod_m = 247355909734\n",
            "a = [[5, 2], [2, 9], [3, 10], [11, 6], [15, 4], [0, 0], [8, 21], [12, 19], [13, 24]]\n",
            "b = [[3, 4], [10, 1], [11, 2], [7, 10], [5, 14], [1, 22], [22, 7], [20, 11], [25, 12]]\n",
            "f = 2017\n",
            "\n",
            "n = 4076297 = 2011 * 2027\n",
            "a_mod_m = 2038149, b_mod_m = 247355899679\n",
            "a = [[1, 6], [3, 8], [9, 4], [2, 15], [0, 0], [4, 19], [0, 0], [23, 8], [4, 33]]\n",
            "b = [[0, 0], [9, 2], [5, 8], [16, 1], [1, 18], [20, 3], [1, 28], [9, 22], [34, 3]]\n",
            "f = 2011\n",
            "\n",
            "n = 4080319 = 2011 * 2029\n",
            "a_mod_m = 2040160, b_mod_m = 247355897668\n",
            "a = [[3, 4], [1, 10], [5, 8], [7, 10], [16, 3], [14, 9], [10, 19], [19, 12], [17, 20]]\n",
            "b = [[5, 2], [0, 0], [9, 4], [11, 6], [4, 15], [10, 13], [20, 9], [13, 18], [21, 16]]\n",
            "f = 2011\n",
            "\n",
            "n = 4100429 = 2011 * 2039\n",
            "a_mod_m = 2050215, b_mod_m = 247355887613\n",
            "a = [[6, 1], [2, 9], [11, 2], [15, 2], [1, 18], [18, 5], [2, 27], [30, 1], [8, 29]]\n",
            "b = [[2, 5], [10, 1], [3, 10], [3, 14], [0, 0], [6, 17], [28, 1], [2, 29], [30, 7]]\n",
            "f = 2039\n",
            "\n",
            "n = 4128583 = 2011 * 2053\n",
            "a_mod_m = 2064292, b_mod_m = 247355873536\n",
            "a = [[6, 1], [10, 1], [9, 4], [16, 1], [18, 1], [19, 4], [14, 15], [2, 29], [25, 12]]\n",
            "b = [[2, 5], [2, 9], [5, 8], [2, 15], [2, 17], [5, 18], [16, 13], [30, 1], [13, 24]]\n",
            "f = 2011\n",
            "\n",
            "n = 4088459 = 2017 * 2027\n",
            "a_mod_m = 2044230, b_mod_m = 247355893598\n",
            "a = [[6, 1], [1, 10], [6, 7], [14, 3], [1, 18], [13, 10], [20, 9], [28, 3], [17, 20]]\n",
            "b = [[2, 5], [0, 0], [8, 5], [4, 13], [0, 0], [11, 12], [10, 19], [4, 27], [21, 16]]\n",
            "f = 2027\n",
            "\n",
            "n = 4092493 = 2017 * 2029\n",
            "a_mod_m = 2046247, b_mod_m = 247355891581\n",
            "a = [[0, 0], [5, 6], [8, 5], [8, 9], [4, 15], [6, 17], [7, 22], [30, 1], [36, 1]]\n",
            "b = [[1, 6], [7, 4], [6, 7], [10, 7], [16, 3], [18, 5], [23, 6], [2, 29], [2, 35]]\n",
            "f = 2017\n",
            "\n",
            "n = 4112663 = 2017 * 2039\n",
            "a_mod_m = 2056332, b_mod_m = 247355881496\n",
            "a = [[5, 2], [3, 8], [5, 8], [12, 5], [0, 0], [17, 6], [0, 0], [9, 22], [20, 17]]\n",
            "b = [[3, 4], [9, 2], [9, 4], [6, 11], [1, 18], [7, 16], [1, 28], [23, 8], [18, 19]]\n",
            "f = 2039\n",
            "\n",
            "n = 4140901 = 2017 * 2053\n",
            "a_mod_m = 2070451, b_mod_m = 247355867377\n",
            "a = [[5, 2], [9, 2], [6, 7], [4, 13], [2, 17], [14, 9], [25, 4], [23, 8], [5, 32]]\n",
            "b = [[3, 4], [3, 8], [8, 5], [14, 3], [18, 1], [10, 13], [5, 24], [9, 22], [33, 4]]\n",
            "f = 2017\n",
            "\n",
            "n = 4112783 = 2027 * 2029\n",
            "a_mod_m = 2056392, b_mod_m = 247355881436\n",
            "a = [[2, 5], [8, 3], [0, 0], [4, 13], [3, 16], [8, 15], [2, 27], [7, 24], [6, 31]]\n",
            "b = [[6, 1], [4, 7], [1, 12], [14, 3], [17, 2], [16, 7], [28, 1], [25, 6], [32, 5]]\n",
            "f = 2027\n",
            "\n",
            "n = 4133053 = 2027 * 2039\n",
            "a_mod_m = 2066527, b_mod_m = 247355871301\n",
            "a = [[1, 6], [1, 10], [8, 5], [7, 10], [11, 8], [0, 0], [16, 13], [5, 26], [3, 34]]\n",
            "b = [[0, 0], [0, 0], [6, 7], [11, 6], [9, 10], [1, 22], [14, 15], [27, 4], [35, 2]]\n",
            "f = 2027\n",
            "\n",
            "n = 4161431 = 2027 * 2053\n",
            "a_mod_m = 2080716, b_mod_m = 247355857112\n",
            "a = [[1, 6], [0, 0], [1, 12], [1, 16], [7, 12], [21, 2], [24, 5], [27, 4], [21, 16]]\n",
            "b = [[0, 0], [1, 10], [0, 0], [0, 0], [13, 6], [3, 20], [6, 23], [5, 26], [17, 20]]\n",
            "f = 2027\n",
            "\n",
            "n = 4137131 = 2029 * 2039\n",
            "a_mod_m = 2068566, b_mod_m = 247355869262\n",
            "a = [[3, 4], [5, 6], [6, 7], [6, 11], [17, 2], [15, 8], [25, 4], [29, 2], [7, 30]]\n",
            "b = [[5, 2], [7, 4], [8, 5], [12, 5], [3, 16], [9, 14], [5, 24], [3, 28], [31, 6]]\n",
            "f = 2039\n",
            "\n",
            "n = 4165537 = 2029 * 2053\n",
            "a_mod_m = 2082769, b_mod_m = 247355855059\n",
            "a = [[3, 4], [7, 4], [0, 0], [14, 3], [8, 11], [4, 19], [18, 11], [3, 28], [2, 35]]\n",
            "b = [[5, 2], [5, 6], [1, 12], [4, 13], [12, 7], [20, 3], [12, 17], [29, 2], [36, 1]]\n",
            "f = 2053\n",
            "\n",
            "n = 4186067 = 2039 * 2053\n",
            "a_mod_m = 2093034, b_mod_m = 247355844794\n",
            "a = [[6, 1], [9, 2], [8, 5], [11, 6], [13, 6], [11, 12], [17, 12], [7, 24], [18, 19]]\n",
            "b = [[2, 5], [3, 8], [6, 7], [7, 10], [7, 12], [13, 10], [13, 16], [25, 6], [20, 17]]\n",
            "f = 2053\n",
            "\n"
          ]
        }
      ]
    },
    {
      "cell_type": "markdown",
      "source": [
        "However, if we don't use \"enough\" prime factors, using $a-b=1$ sometimes doesn't work:"
      ],
      "metadata": {
        "id": "_rAYQD2Pad1t"
      }
    },
    {
      "cell_type": "code",
      "metadata": {
        "colab": {
          "base_uri": "https://localhost:8080/"
        },
        "outputId": "800549c5-231e-482d-902a-ac360f62c326",
        "id": "0_t6XWz1au7o"
      },
      "source": [
        "# use some small primes (starting with 7) for m\n",
        "small_primes = primes[3:9]\n",
        "print(small_primes)\n",
        "larger_primes = primes[302:305]\n",
        "m = math.prod(small_primes)\n",
        "print(f\"m = {m}\")\n",
        "\n",
        "for (a, b) in itertools.combinations(larger_primes, 2):\n",
        "    n = a*b\n",
        "    if n > m:\n",
        "        continue\n",
        "    print(f\"n = {n} = {a} * {b}\", flush=True)\n",
        "    f = factor(n, small_primes)\n",
        "    if f is not None:\n",
        "        print(f\"f = {f}\\n\", flush=True)\n",
        "    else:\n",
        "        print(f\"failed to factor {n} = {a}*{b}\", flush=True)\n",
        "        break"
      ],
      "execution_count": 23,
      "outputs": [
        {
          "output_type": "stream",
          "name": "stdout",
          "text": [
            "[7, 11, 13, 17, 19, 23]\n",
            "m = 7436429\n",
            "n = 4003997 = 1999 * 2003\n",
            "a_mod_m = 2001999, b_mod_m = 5434431\n",
            "a = [[6, 1], [10, 1], [12, 1], [11, 6], [7, 12], [10, 13]]\n",
            "b = [[2, 5], [2, 9], [2, 11], [7, 10], [13, 6], [14, 9]]\n",
            "f = 2003\n",
            "\n",
            "n = 4019989 = 1999 * 2011\n",
            "a_mod_m = 2009995, b_mod_m = 5426435\n",
            "a = [[1, 6], [9, 2], [0, 0], [0, 0], [4, 15], [2, 21]]\n",
            "b = [[0, 0], [3, 8], [1, 12], [1, 16], [16, 3], [22, 1]]\n",
            "failed to factor 4019989 = 1999*2011\n"
          ]
        }
      ]
    },
    {
      "cell_type": "markdown",
      "source": [
        "We could guarantee that this would always work, by trying many random values of $a+b$ and $a-b$ -- eventually, we'd just find those which are factors of $n$! This obviously might take a while..."
      ],
      "metadata": {
        "id": "5SqDKWJcgXyB"
      }
    },
    {
      "cell_type": "markdown",
      "source": [
        "# Questions\n",
        "\n",
        "- With $a$ and $b$ chosen with $a-b=1$, how often will at least one of the \"generalized $a+b$\" numbers have a nontrivial GCD with $n$? (It works for some small examples, but not larger examples.)\n",
        "\n",
        "- What value of $m = \\prod p_i$ works best? Presumably there are some trade-offs here.\n",
        "\n",
        "- Given that the number of \"generalized $a+b$\" numbers grows like $2^{|P|}$, is this practical? (Presumably not.)\n",
        "\n",
        "- What is this most similar to? (Gemini suggests the quadratic sieve, which seems plausible.)\n"
      ],
      "metadata": {
        "id": "XzRXqVBqkiY0"
      }
    }
  ]
}