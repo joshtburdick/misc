{
  "nbformat": 4,
  "nbformat_minor": 0,
  "metadata": {
    "colab": {
      "provenance": [],
      "authorship_tag": "ABX9TyMnsYdphCb7VESLnJR6w6da",
      "include_colab_link": true
    },
    "kernelspec": {
      "name": "python3",
      "display_name": "Python 3"
    },
    "language_info": {
      "name": "python"
    }
  },
  "cells": [
    {
      "cell_type": "markdown",
      "metadata": {
        "id": "view-in-github",
        "colab_type": "text"
      },
      "source": [
        "<a href=\"https://colab.research.google.com/github/joshtburdick/misc/blob/master/plog/Factoring3.ipynb\" target=\"_parent\"><img src=\"https://colab.research.google.com/assets/colab-badge.svg\" alt=\"Open In Colab\"/></a>"
      ]
    },
    {
      "cell_type": "markdown",
      "source": [
        "# Further attempt at factoring\n",
        "\n",
        "This is to test a simpler variant of the factoring method using loopy belief propagation. But without the loopy belief propagation.\n",
        "\n",
        "The main idea is, given $n$, to solve $n=(a+b)(a-b) \\mod m$, where $m = \\prod p_i$ for $P$ (smallish) primes. Then check $\\mathrm{GCD}(n, x)$ for $2^{2P}$ numbers $x$ which are derived from $a$ and $b$ using the Chinese Remainder Theorem.\n",
        "\n",
        "N.B.: This seems fairly impractical, as it requires computing GCD $2^{2P}$ times, for multiple choices of $a+b$ and $a-b$."
      ],
      "metadata": {
        "id": "X6cpF_rNWJml"
      }
    },
    {
      "cell_type": "code",
      "source": [
        "!pip install --quiet modulo"
      ],
      "metadata": {
        "id": "XCnOY3ERWUbg"
      },
      "execution_count": 1,
      "outputs": []
    },
    {
      "cell_type": "code",
      "execution_count": 2,
      "metadata": {
        "id": "h3KvAAJHWF2U"
      },
      "outputs": [],
      "source": [
        "import itertools\n",
        "import math\n",
        "\n",
        "import numpy as np\n",
        "import sympy\n",
        "\n",
        "from modulo import modulo"
      ]
    },
    {
      "cell_type": "markdown",
      "source": [
        "We'll need some Chinese Remainder Theorem utilities."
      ],
      "metadata": {
        "id": "LFLYG-gGv_QO"
      }
    },
    {
      "cell_type": "code",
      "source": [
        "def solve_mod_primes(x_mod, primes):\n",
        "    \"\"\"Given what x is (mod some primes), solve for x.\n",
        "\n",
        "    x_mod: an array of small integers, such that x % primes[i] == x_mod[i]\n",
        "    primes: an array of primes\n",
        "\n",
        "    Returns: x, in the range 1 <= x <= product(primes),\n",
        "        satisfying x % primes[i] == xmod[i].\n",
        "    \"\"\"\n",
        "    x = modulo(x_mod[0], primes[0])\n",
        "    for i in range(1, len(primes)):\n",
        "        x &= modulo(x_mod[i], primes[i])\n",
        "    return int(x)"
      ],
      "metadata": {
        "id": "NkCe5SwHqXel"
      },
      "execution_count": 3,
      "outputs": []
    },
    {
      "cell_type": "markdown",
      "source": [
        "Let $n$ be the number to be factored (WLOG assume $n$ is odd). We want to write $n=(a+b)(a-b)$.\n",
        "\n",
        "### Factoring $n$ $mod$ $m$\n",
        "\n",
        "Fermat's method writes $n = a^2-b^2 = (a+b)(a-b)$. For convenience, let $x = a+b$ and $y = a-b$.\n",
        "\n",
        "I had assumed we can assume $y=1$. This doesn't always work. Therefore, we search for increasing values of $y$, starting with 1. (We skip numbers divisible by any of the $p_i$.)\n",
        "\n",
        "This guarantees that we'll *eventually* find a factor (when $x$ or $y$ is a factor of $n$). This is essentially trial division -- hopefully the method will find a factor sooner, but it's unclear if that will happen.\n",
        "\n",
        "Given a value of $g$, it's easy enough to solve for $f$, using the Chinese Remainder Theorem. (Especially using the `modulo` library.)\n"
      ],
      "metadata": {
        "id": "INzXujsIXDsg"
      }
    },
    {
      "cell_type": "code",
      "source": [
        "primes = [3,5,7,11,13]\n",
        "m = math.prod(primes)\n",
        "y = modulo(17, m)\n",
        "n = modulo(17*1001, m)\n",
        "\n",
        "print(f\"y = {y}, n = {n}\")\n",
        "x = n // y\n",
        "print(f\"n // y = {x}\")\n",
        "print(f\"x*y = {x*y}\")\n",
        "print(f\"x*y % m = {x*y % m}\")\n"
      ],
      "metadata": {
        "id": "GzjJy33Oj7lj",
        "outputId": "245c3e38-5420-4321-a1af-053aaba19ce6",
        "colab": {
          "base_uri": "https://localhost:8080/"
        }
      },
      "execution_count": 4,
      "outputs": [
        {
          "output_type": "stream",
          "name": "stdout",
          "text": [
            "y = modulo(17, 15015), n = modulo(2002, 15015)\n",
            "n // y = modulo(1001, 15015)\n",
            "x*y = modulo(2002, 15015)\n",
            "x*y % m = modulo(2002, 15015)\n"
          ]
        }
      ]
    },
    {
      "cell_type": "markdown",
      "source": [],
      "metadata": {
        "id": "GZa5PQoSm1Ak"
      }
    },
    {
      "cell_type": "code",
      "source": [
        "int(modulo(5-2, 17))"
      ],
      "metadata": {
        "colab": {
          "base_uri": "https://localhost:8080/"
        },
        "id": "esOdQasXW9-f",
        "outputId": "3572c80e-d555-4f36-b999-de42c8097fbf"
      },
      "execution_count": 5,
      "outputs": [
        {
          "output_type": "execute_result",
          "data": {
            "text/plain": [
              "3"
            ]
          },
          "metadata": {},
          "execution_count": 5
        }
      ]
    },
    {
      "cell_type": "code",
      "source": [
        "def compute_a_and_b(n, y, m):\n",
        "  \"\"\"Solves for $x$ in $xy = n (mod m)$.\n",
        "\n",
        "  n: number to be factored\n",
        "  y: the value of y == a-b\n",
        "  m: the modulus\n",
        "  \"\"\"\n",
        "  x = modulo(n, m) // y\n",
        "  # print(x, y)\n",
        "  # I think that we want to make sure that y-x is even;\n",
        "  # this may not matter?\n",
        "  if (int(y) - int(x)) % 2 != 0:\n",
        "    print(\"switched x and y\")\n",
        "    (x, y) = (y, x)\n",
        "  b = (y - x) // 2\n",
        "  a = x + b\n",
        "  return (int(a), int(b))"
      ],
      "metadata": {
        "id": "_ofcOZLsUJS1"
      },
      "execution_count": 6,
      "outputs": []
    },
    {
      "cell_type": "code",
      "source": [
        "# test of this\n",
        "compute_a_and_b(29*31, 1, 7*11*13*17*19*23)"
      ],
      "metadata": {
        "colab": {
          "base_uri": "https://localhost:8080/"
        },
        "id": "-Onkl_Y_bt5o",
        "outputId": "677c9b63-d735-4f72-b5e8-82ffccbfd9db"
      },
      "execution_count": 7,
      "outputs": [
        {
          "output_type": "execute_result",
          "data": {
            "text/plain": [
              "(450, 7435980)"
            ]
          },
          "metadata": {},
          "execution_count": 7
        }
      ]
    },
    {
      "cell_type": "code",
      "source": [
        "def factor(n, primes, max_y=1e100):\n",
        "    \"\"\"Factor n using the Chinese Remainder Theorem.\n",
        "\n",
        "    n: the number to factor\n",
        "    primes: an array of primes\n",
        "    max_y: the largest value of y to try\n",
        "    Returns: a record with keys \"f\" and \"num_y_checked\",\n",
        "    where \"f\" is the factor, and \"num_y_checked\" is the\n",
        "    number of values of y checked, or None if no factor is found.\n",
        "    \"\"\"\n",
        "    def check_for_factors(y):\n",
        "        a_mod_m, b_mod_m = compute_a_and_b(n, 1, math.prod(primes))\n",
        "        a = [[a_mod_m % p, -a_mod_m % p] for p in primes]\n",
        "        b = [[b_mod_m % p, -b_mod_m % p] for p in primes]\n",
        "        # get all possible a +/- b (\"generalized\", for however\n",
        "        # many prime factors)\n",
        "        a_mod_m = [solve_mod_primes(a1, primes)\n",
        "            for a1 in itertools.product(*a)]\n",
        "        b_mod_m = [solve_mod_primes(b1, primes)\n",
        "            for b1 in itertools.product(*b)]\n",
        "        # check GCD of each of these\n",
        "        for (a1,b1) in itertools.product(a_mod_m, b_mod_m):\n",
        "            f = math.gcd(n, a1+b1)\n",
        "            if f != 1 and f != n:\n",
        "                # print(f\"f = {f}\")\n",
        "                return f\n",
        "        return None\n",
        "    y = 1\n",
        "    num_y_checked = 1\n",
        "    while y < n and y <= max_y:\n",
        "        # print(f\"y = {y}\", flush=True)\n",
        "        f = check_for_factors(y)\n",
        "        if f is not None:\n",
        "            # if a factor is found (according to this), check it\n",
        "            assert( n % f == 0 )\n",
        "            return {\"f\": f, \"num_y_checked\": num_y_checked}\n",
        "        # go to next relatively prime y\n",
        "        y += 1\n",
        "        num_y_checked += 1\n",
        "        while math.gcd(y, n) != 1:\n",
        "            y += 1\n",
        "    # at this point, the values of y we've tried didn't work\n",
        "    return None"
      ],
      "metadata": {
        "id": "XVRkHf7nWusK"
      },
      "execution_count": 8,
      "outputs": []
    },
    {
      "cell_type": "markdown",
      "source": [
        "Some tests:"
      ],
      "metadata": {
        "id": "AEErEqbJ6E8e"
      }
    },
    {
      "cell_type": "code",
      "source": [
        "primes = [11,13,17]"
      ],
      "metadata": {
        "id": "C5Lol_vg6En7"
      },
      "execution_count": 9,
      "outputs": []
    },
    {
      "cell_type": "code",
      "source": [
        "factor(3*5, primes)"
      ],
      "metadata": {
        "colab": {
          "base_uri": "https://localhost:8080/"
        },
        "id": "-ep3nXo26NjQ",
        "outputId": "7f220240-315b-4d04-8894-81f499bee36c"
      },
      "execution_count": 10,
      "outputs": [
        {
          "output_type": "execute_result",
          "data": {
            "text/plain": [
              "{'f': 3, 'num_y_checked': 1}"
            ]
          },
          "metadata": {},
          "execution_count": 10
        }
      ]
    },
    {
      "cell_type": "code",
      "source": [
        "factor(5*7, primes)"
      ],
      "metadata": {
        "colab": {
          "base_uri": "https://localhost:8080/"
        },
        "id": "7dQ3P0nT6Qdz",
        "outputId": "b4908664-9227-4d91-f9c7-1762f989d5f9"
      },
      "execution_count": 11,
      "outputs": [
        {
          "output_type": "execute_result",
          "data": {
            "text/plain": [
              "{'f': 5, 'num_y_checked': 1}"
            ]
          },
          "metadata": {},
          "execution_count": 11
        }
      ]
    },
    {
      "cell_type": "code",
      "source": [
        "primes = [11,13,17,19,23]"
      ],
      "metadata": {
        "id": "LTTFMN2r6ni2"
      },
      "execution_count": 12,
      "outputs": []
    },
    {
      "cell_type": "code",
      "source": [
        "factor(29*31, primes)"
      ],
      "metadata": {
        "colab": {
          "base_uri": "https://localhost:8080/"
        },
        "id": "3v5gjERg6t9W",
        "outputId": "b00cd628-393a-426c-827b-a2b384d2158a"
      },
      "execution_count": 13,
      "outputs": [
        {
          "output_type": "execute_result",
          "data": {
            "text/plain": [
              "{'f': 31, 'num_y_checked': 1}"
            ]
          },
          "metadata": {},
          "execution_count": 13
        }
      ]
    },
    {
      "cell_type": "code",
      "source": [
        "primes = [11,13,17,19,23,29,31]"
      ],
      "metadata": {
        "id": "JsFhZBZw6s_-"
      },
      "execution_count": 14,
      "outputs": []
    },
    {
      "cell_type": "code",
      "source": [
        "factor(37*41, primes)"
      ],
      "metadata": {
        "colab": {
          "base_uri": "https://localhost:8080/"
        },
        "id": "JKZjB2Sw66TP",
        "outputId": "f881460f-0334-4d2e-d5c9-1123ec15ee32"
      },
      "execution_count": 15,
      "outputs": [
        {
          "output_type": "execute_result",
          "data": {
            "text/plain": [
              "{'f': 37, 'num_y_checked': 1}"
            ]
          },
          "metadata": {},
          "execution_count": 15
        }
      ]
    },
    {
      "cell_type": "code",
      "source": [
        "factor(41*43, primes)"
      ],
      "metadata": {
        "colab": {
          "base_uri": "https://localhost:8080/"
        },
        "id": "1eqr8E906-fW",
        "outputId": "0514774c-cd12-44c1-cea5-719e08e05118"
      },
      "execution_count": 16,
      "outputs": [
        {
          "output_type": "execute_result",
          "data": {
            "text/plain": [
              "{'f': 43, 'num_y_checked': 1}"
            ]
          },
          "metadata": {},
          "execution_count": 16
        }
      ]
    },
    {
      "cell_type": "code",
      "source": [
        "factor(3*47, primes)"
      ],
      "metadata": {
        "colab": {
          "base_uri": "https://localhost:8080/"
        },
        "id": "en8aOFDC7HXQ",
        "outputId": "fc1b3bfc-8d81-41c3-d745-423df2d8a093"
      },
      "execution_count": 17,
      "outputs": [
        {
          "output_type": "execute_result",
          "data": {
            "text/plain": [
              "{'f': 3, 'num_y_checked': 1}"
            ]
          },
          "metadata": {},
          "execution_count": 17
        }
      ]
    },
    {
      "cell_type": "code",
      "source": [
        "factor(47*59, primes)"
      ],
      "metadata": {
        "colab": {
          "base_uri": "https://localhost:8080/"
        },
        "id": "oi8YnDBo7UmB",
        "outputId": "cf713f71-1cc4-4240-854d-b42dfb3f24aa"
      },
      "execution_count": 18,
      "outputs": [
        {
          "output_type": "execute_result",
          "data": {
            "text/plain": [
              "{'f': 59, 'num_y_checked': 1}"
            ]
          },
          "metadata": {},
          "execution_count": 18
        }
      ]
    },
    {
      "cell_type": "code",
      "source": [
        "# just confirming that, even though 47*59 isn't divisible by 11,\n",
        "# a == 1386 is\n",
        "a = (47*59-1) // 2\n",
        "a, a % 11"
      ],
      "metadata": {
        "colab": {
          "base_uri": "https://localhost:8080/"
        },
        "id": "XfQ8s1aD7Tnt",
        "outputId": "7473a024-8a90-4d77-bec5-05e3a0e214f9"
      },
      "execution_count": 19,
      "outputs": [
        {
          "output_type": "execute_result",
          "data": {
            "text/plain": [
              "(1386, 0)"
            ]
          },
          "metadata": {},
          "execution_count": 19
        }
      ]
    },
    {
      "cell_type": "code",
      "source": [
        "factor(61*67, primes)"
      ],
      "metadata": {
        "colab": {
          "base_uri": "https://localhost:8080/"
        },
        "id": "A1tNwRZJ9TVI",
        "outputId": "89b68fc6-c716-4492-982d-0ee9c13b958f"
      },
      "execution_count": 20,
      "outputs": [
        {
          "output_type": "execute_result",
          "data": {
            "text/plain": [
              "{'f': 61, 'num_y_checked': 1}"
            ]
          },
          "metadata": {},
          "execution_count": 20
        }
      ]
    },
    {
      "cell_type": "markdown",
      "source": [
        "## Slightly more testing\n",
        "\n",
        "It seems to work for small numbers. What about slightly larger numbers?"
      ],
      "metadata": {
        "id": "Gm2az8J3BuBG"
      }
    },
    {
      "cell_type": "code",
      "source": [
        "def is_prime(n):\n",
        "    if n < 2:\n",
        "        return False\n",
        "    for i in range(2, int(math.sqrt(n)) + 1):\n",
        "        if n % i == 0:\n",
        "            return False\n",
        "    return True\n",
        "\n",
        "def get_primes(n_primes):\n",
        "    primes = []\n",
        "    num = 2\n",
        "    while len(primes) < n_primes:\n",
        "        if is_prime(num):\n",
        "            primes.append(num)\n",
        "        num += 1\n",
        "    return primes\n",
        "\n",
        "primes = get_primes(1000)\n",
        "display(primes[:10]) # display the first 10 primes"
      ],
      "metadata": {
        "colab": {
          "base_uri": "https://localhost:8080/",
          "height": 34
        },
        "id": "O2DCj62HB1sP",
        "outputId": "c0374c3d-8a0e-41e2-f997-bb1926d52d81"
      },
      "execution_count": 21,
      "outputs": [
        {
          "output_type": "display_data",
          "data": {
            "text/plain": [
              "[2, 3, 5, 7, 11, 13, 17, 19, 23, 29]"
            ]
          },
          "metadata": {}
        }
      ]
    },
    {
      "cell_type": "code",
      "metadata": {
        "colab": {
          "base_uri": "https://localhost:8080/"
        },
        "id": "802027a0",
        "outputId": "06cb5120-ff36-4538-ceeb-0cbafb6cb4be"
      },
      "source": [
        "# use some small primes (starting with 7) for m\n",
        "small_primes = primes[3:12]\n",
        "print(small_primes)\n",
        "larger_primes = primes[300:310]\n",
        "m = math.prod(small_primes)\n",
        "print(f\"m = {m}\")\n",
        "\n",
        "for (a, b) in itertools.combinations(larger_primes, 2):\n",
        "    n = a*b\n",
        "    if n > m:\n",
        "        continue\n",
        "    print(f\"n = {n} = {a} * {b}\", flush=True)\n",
        "    f = factor(n, small_primes, max_y=1)\n",
        "    if f is not None:\n",
        "        print(f\"f = {f}\\n\", flush=True)\n",
        "    else:\n",
        "        print(f\"failed to factor {n} = {a}*{b}\", flush=True)\n",
        "        break"
      ],
      "execution_count": 22,
      "outputs": [
        {
          "output_type": "stream",
          "name": "stdout",
          "text": [
            "[7, 11, 13, 17, 19, 23, 29, 31, 37]\n",
            "m = 247357937827\n",
            "n = 3980021 = 1993 * 1997\n",
            "f = {'f': 1993, 'num_y_checked': 1}\n",
            "\n",
            "n = 3984007 = 1993 * 1999\n",
            "f = {'f': 1993, 'num_y_checked': 1}\n",
            "\n",
            "n = 3991979 = 1993 * 2003\n",
            "f = {'f': 2003, 'num_y_checked': 1}\n",
            "\n",
            "n = 4007923 = 1993 * 2011\n",
            "f = {'f': 1993, 'num_y_checked': 1}\n",
            "\n",
            "n = 4019881 = 1993 * 2017\n",
            "f = {'f': 2017, 'num_y_checked': 1}\n",
            "\n",
            "n = 4039811 = 1993 * 2027\n",
            "f = {'f': 1993, 'num_y_checked': 1}\n",
            "\n",
            "n = 4043797 = 1993 * 2029\n",
            "f = {'f': 1993, 'num_y_checked': 1}\n",
            "\n",
            "n = 4063727 = 1993 * 2039\n",
            "f = {'f': 1993, 'num_y_checked': 1}\n",
            "\n",
            "n = 4091629 = 1993 * 2053\n",
            "f = {'f': 2053, 'num_y_checked': 1}\n",
            "\n",
            "n = 3992003 = 1997 * 1999\n",
            "f = {'f': 1997, 'num_y_checked': 1}\n",
            "\n",
            "n = 3999991 = 1997 * 2003\n",
            "f = {'f': 1997, 'num_y_checked': 1}\n",
            "\n",
            "n = 4015967 = 1997 * 2011\n",
            "f = {'f': 2011, 'num_y_checked': 1}\n",
            "\n",
            "n = 4027949 = 1997 * 2017\n",
            "f = {'f': 1997, 'num_y_checked': 1}\n",
            "\n",
            "n = 4047919 = 1997 * 2027\n",
            "f = {'f': 2027, 'num_y_checked': 1}\n",
            "\n",
            "n = 4051913 = 1997 * 2029\n",
            "f = {'f': 2029, 'num_y_checked': 1}\n",
            "\n",
            "n = 4071883 = 1997 * 2039\n",
            "f = {'f': 1997, 'num_y_checked': 1}\n",
            "\n",
            "n = 4099841 = 1997 * 2053\n",
            "f = {'f': 2053, 'num_y_checked': 1}\n",
            "\n",
            "n = 4003997 = 1999 * 2003\n",
            "f = {'f': 1999, 'num_y_checked': 1}\n",
            "\n",
            "n = 4019989 = 1999 * 2011\n",
            "f = {'f': 2011, 'num_y_checked': 1}\n",
            "\n",
            "n = 4031983 = 1999 * 2017\n",
            "f = {'f': 2017, 'num_y_checked': 1}\n",
            "\n",
            "n = 4051973 = 1999 * 2027\n",
            "f = {'f': 1999, 'num_y_checked': 1}\n",
            "\n",
            "n = 4055971 = 1999 * 2029\n",
            "f = {'f': 1999, 'num_y_checked': 1}\n",
            "\n",
            "n = 4075961 = 1999 * 2039\n",
            "f = {'f': 1999, 'num_y_checked': 1}\n",
            "\n",
            "n = 4103947 = 1999 * 2053\n",
            "f = {'f': 2053, 'num_y_checked': 1}\n",
            "\n",
            "n = 4028033 = 2003 * 2011\n",
            "f = {'f': 2003, 'num_y_checked': 1}\n",
            "\n",
            "n = 4040051 = 2003 * 2017\n",
            "f = {'f': 2017, 'num_y_checked': 1}\n",
            "\n",
            "n = 4060081 = 2003 * 2027\n",
            "f = {'f': 2027, 'num_y_checked': 1}\n",
            "\n",
            "n = 4064087 = 2003 * 2029\n",
            "f = {'f': 2003, 'num_y_checked': 1}\n",
            "\n",
            "n = 4084117 = 2003 * 2039\n",
            "f = {'f': 2003, 'num_y_checked': 1}\n",
            "\n",
            "n = 4112159 = 2003 * 2053\n",
            "f = {'f': 2003, 'num_y_checked': 1}\n",
            "\n",
            "n = 4056187 = 2011 * 2017\n",
            "f = {'f': 2017, 'num_y_checked': 1}\n",
            "\n",
            "n = 4076297 = 2011 * 2027\n",
            "f = {'f': 2011, 'num_y_checked': 1}\n",
            "\n",
            "n = 4080319 = 2011 * 2029\n",
            "f = {'f': 2011, 'num_y_checked': 1}\n",
            "\n",
            "n = 4100429 = 2011 * 2039\n",
            "f = {'f': 2039, 'num_y_checked': 1}\n",
            "\n",
            "n = 4128583 = 2011 * 2053\n",
            "f = {'f': 2011, 'num_y_checked': 1}\n",
            "\n",
            "n = 4088459 = 2017 * 2027\n",
            "f = {'f': 2027, 'num_y_checked': 1}\n",
            "\n",
            "n = 4092493 = 2017 * 2029\n",
            "f = {'f': 2017, 'num_y_checked': 1}\n",
            "\n",
            "n = 4112663 = 2017 * 2039\n",
            "f = {'f': 2039, 'num_y_checked': 1}\n",
            "\n",
            "n = 4140901 = 2017 * 2053\n",
            "f = {'f': 2017, 'num_y_checked': 1}\n",
            "\n",
            "n = 4112783 = 2027 * 2029\n",
            "f = {'f': 2027, 'num_y_checked': 1}\n",
            "\n",
            "n = 4133053 = 2027 * 2039\n",
            "f = {'f': 2027, 'num_y_checked': 1}\n",
            "\n",
            "n = 4161431 = 2027 * 2053\n",
            "f = {'f': 2027, 'num_y_checked': 1}\n",
            "\n",
            "n = 4137131 = 2029 * 2039\n",
            "f = {'f': 2039, 'num_y_checked': 1}\n",
            "\n",
            "n = 4165537 = 2029 * 2053\n",
            "f = {'f': 2053, 'num_y_checked': 1}\n",
            "\n",
            "n = 4186067 = 2039 * 2053\n",
            "f = {'f': 2053, 'num_y_checked': 1}\n",
            "\n"
          ]
        }
      ]
    },
    {
      "cell_type": "markdown",
      "source": [
        "However, if we don't use \"enough\" prime factors, using $a-b=1$ sometimes doesn't work:"
      ],
      "metadata": {
        "id": "_rAYQD2Pad1t"
      }
    },
    {
      "cell_type": "code",
      "metadata": {
        "colab": {
          "base_uri": "https://localhost:8080/"
        },
        "outputId": "ad513a11-6294-4201-b68e-6d159635d714",
        "id": "0_t6XWz1au7o"
      },
      "source": [
        "# use some small primes (starting with 7) for m\n",
        "small_primes = primes[3:9]\n",
        "print(small_primes)\n",
        "larger_primes = primes[302:305]\n",
        "m = math.prod(small_primes)\n",
        "print(f\"m = {m}\")\n",
        "\n",
        "for (a, b) in itertools.combinations(larger_primes, 2):\n",
        "    n = a*b\n",
        "    if n > m:\n",
        "        continue\n",
        "    print(f\"n = {n} = {a} * {b}\", flush=True)\n",
        "    f = factor(n, small_primes, max_y=50)\n",
        "    if f is not None:\n",
        "        print(f\"f = {f}\\n\", flush=True)\n",
        "    else:\n",
        "        print(f\"failed to factor {n} = {a}*{b}\", flush=True)\n",
        "        break"
      ],
      "execution_count": 23,
      "outputs": [
        {
          "output_type": "stream",
          "name": "stdout",
          "text": [
            "[7, 11, 13, 17, 19, 23]\n",
            "m = 7436429\n",
            "n = 4003997 = 1999 * 2003\n",
            "f = {'f': 2003, 'num_y_checked': 1}\n",
            "\n",
            "n = 4019989 = 1999 * 2011\n",
            "failed to factor 4019989 = 1999*2011\n"
          ]
        }
      ]
    },
    {
      "cell_type": "markdown",
      "source": [
        "In this case, it's searching for many values of $y$, and so is very slow. (I'm not sure it finds a factor, for this example.)"
      ],
      "metadata": {
        "id": "5SqDKWJcgXyB"
      }
    },
    {
      "cell_type": "markdown",
      "source": [
        "# Questions\n",
        "\n",
        "- With $a$ and $b$ chosen with $a-b=1$, how often will at least one of the \"generalized $a+b$\" numbers have a nontrivial GCD with $n$? (It works for some small examples, but not larger examples.)\n",
        "\n",
        "- What value of $m = \\prod p_i$ works best? Presumably there are some trade-offs here.\n",
        "\n",
        "- Given that the number of \"generalized $a+b$\" numbers grows like $2^{|P|}$, is this practical? (Presumably not.)\n",
        "\n",
        "- What is this most similar to? (Gemini suggests the quadratic sieve, which seems plausible.)\n",
        "\n",
        "## Testing this with $y=1$\n",
        "\n",
        "This seems to work, at least some of the time, when $a-b=1$. How often is that the case?\n"
      ],
      "metadata": {
        "id": "XzRXqVBqkiY0"
      }
    },
    {
      "cell_type": "markdown",
      "metadata": {
        "id": "eb9c1f34"
      },
      "source": [
        "# Task\n",
        "Generate a list of primes, then select between 4 and 8 of the smallest primes to calculate their product $m$. Select two larger primes and calculate their product $n$. Attempt to factor $n$ using $m$ and plot $\\log(m)$ against $\\log(n)$ for successful factorizations."
      ]
    },
    {
      "cell_type": "markdown",
      "metadata": {
        "id": "13ed6220"
      },
      "source": [
        "## Generate primes\n",
        "\n",
        "### Subtask:\n",
        "Get a sufficient number of primes using the `get_primes` function.\n"
      ]
    },
    {
      "cell_type": "markdown",
      "metadata": {
        "id": "17cd36d8"
      },
      "source": [
        "**Reasoning**:\n",
        "Call the `get_primes` function to get a list of primes and store it in `all_primes`, then display the first few elements to confirm.\n",
        "\n"
      ]
    },
    {
      "cell_type": "code",
      "metadata": {
        "colab": {
          "base_uri": "https://localhost:8080/",
          "height": 34
        },
        "id": "d707df02",
        "outputId": "e0b11d74-393d-45bb-d338-36f79c8b5a43"
      },
      "source": [
        "all_primes = get_primes(1000)\n",
        "display(all_primes[:10])"
      ],
      "execution_count": 24,
      "outputs": [
        {
          "output_type": "display_data",
          "data": {
            "text/plain": [
              "[2, 3, 5, 7, 11, 13, 17, 19, 23, 29]"
            ]
          },
          "metadata": {}
        }
      ]
    },
    {
      "cell_type": "markdown",
      "metadata": {
        "id": "673c86d8"
      },
      "source": [
        "## Iterate and factor\n",
        "\n",
        "### Subtask:\n",
        "Iterate through different numbers of the smallest primes (from 4 to 8) to define `m`. For each `m`, iterate through pairs of larger primes to define `n`. Attempt to factor `n` with `y=1` using the `factor` function. Store the `log(m)` and `log(n)` values for successful factorizations.\n"
      ]
    },
    {
      "cell_type": "markdown",
      "metadata": {
        "id": "f974363f"
      },
      "source": [
        "**Reasoning**:\n",
        "The subtask requires iterating through different numbers of smallest primes to define `m` and then iterating through pairs of larger primes to define `n`, attempting factorization with `y=1` and storing the logarithms of successful factorizations. This can be implemented in a single code block following the instructions.\n",
        "\n"
      ]
    },
    {
      "cell_type": "code",
      "metadata": {
        "colab": {
          "base_uri": "https://localhost:8080/"
        },
        "id": "b33af0b2",
        "outputId": "1796111a-d1fa-4fa4-e58c-274f1ddd9225"
      },
      "source": [
        "# how many numbers to check per value of m\n",
        "max_to_check_per_m = 1000\n",
        "\n",
        "# using a list of dicts, for easy conversion to a dataframe\n",
        "results = []\n",
        "\n",
        "# Find the index of the first prime that is 7 or larger\n",
        "start_index_small_primes = next((i for i, prime in enumerate(all_primes) if prime >= 7), 0)\n",
        "\n",
        "for num_primes in range(4, 9):\n",
        "    small_primes = all_primes[start_index_small_primes : start_index_small_primes + num_primes]\n",
        "    # Ensure we have enough primes to form the required number of small primes\n",
        "    if len(small_primes) < num_primes:\n",
        "        print(f\"Not enough primes >= 7 to select {num_primes} primes.\")\n",
        "        break\n",
        "\n",
        "    m = math.prod(small_primes)\n",
        "    log_m = math.log(m)\n",
        "    print(f\"Considering {num_primes} primes: {small_primes}, m = {m}\")\n",
        "\n",
        "    num_checked = 0\n",
        "\n",
        "    # Starting index for larger primes to ensure they are somewhat larger\n",
        "    larger_primes_start_index = num_primes + 50\n",
        "\n",
        "    # FIXME pick these randomly?\n",
        "    for i in range(larger_primes_start_index, len(all_primes)):\n",
        "        for j in range(i + 1, len(all_primes)):\n",
        "            num_checked += 1\n",
        "            if num_checked >= max_to_check_per_m:\n",
        "                break\n",
        "            a = all_primes[i]\n",
        "            b = all_primes[j]\n",
        "            n = a * b\n",
        "\n",
        "            if n > m:\n",
        "                # Break the inner loop if n exceeds m for the current 'a',\n",
        "                # as subsequent 'b' values will also result in n > m.\n",
        "                break\n",
        "\n",
        "            # Attempt to factor n with y=1\n",
        "            try:\n",
        "                # print(f\"Calling factor with n={n}, small_primes={small_primes}, max_y=1\")\n",
        "                result = factor(n, small_primes, max_y=1)\n",
        "                if result is not None:\n",
        "                    results.append({\"m\": m, \"n\": n, \"worked\": True})\n",
        "                else:\n",
        "                    results.append({\"m\": m, \"n\": n, \"worked\": False})\n",
        "            except ValueError as e:\n",
        "                print(f\"Error factoring n={n} with m={m}: {e}\")\n",
        "\n",
        "\n",
        "        # If we broke the inner loop and n > m, the outer loop will also break\n",
        "        # as increasing `i` will only result in larger `n` values.\n",
        "        if n > m and i == larger_primes_start_index:\n",
        "            break\n"
      ],
      "execution_count": 25,
      "outputs": [
        {
          "output_type": "stream",
          "name": "stdout",
          "text": [
            "Considering 4 primes: [7, 11, 13, 17], m = 17017\n",
            "Considering 5 primes: [7, 11, 13, 17, 19], m = 323323\n",
            "Considering 6 primes: [7, 11, 13, 17, 19, 23], m = 7436429\n",
            "Considering 7 primes: [7, 11, 13, 17, 19, 23, 29], m = 215656441\n",
            "Considering 8 primes: [7, 11, 13, 17, 19, 23, 29, 31], m = 6685349671\n"
          ]
        }
      ]
    },
    {
      "cell_type": "code",
      "source": [
        "import pandas as pd\n",
        "results = pd.DataFrame(results)\n",
        "results.head()"
      ],
      "metadata": {
        "colab": {
          "base_uri": "https://localhost:8080/",
          "height": 206
        },
        "id": "f10g1iGpF-4t",
        "outputId": "fd3b17d1-ff61-4a5e-c849-1f93c29892af"
      },
      "execution_count": 26,
      "outputs": [
        {
          "output_type": "execute_result",
          "data": {
            "text/plain": [
              "        m      n  worked\n",
              "0  323323  70747    True\n",
              "1  323323  71273    True\n",
              "2  323323  72851    True\n",
              "3  323323  73903    True\n",
              "4  323323  74429    True"
            ],
            "text/html": [
              "\n",
              "  <div id=\"df-5c265519-400a-44a2-9c6d-93940f0ebb6e\" class=\"colab-df-container\">\n",
              "    <div>\n",
              "<style scoped>\n",
              "    .dataframe tbody tr th:only-of-type {\n",
              "        vertical-align: middle;\n",
              "    }\n",
              "\n",
              "    .dataframe tbody tr th {\n",
              "        vertical-align: top;\n",
              "    }\n",
              "\n",
              "    .dataframe thead th {\n",
              "        text-align: right;\n",
              "    }\n",
              "</style>\n",
              "<table border=\"1\" class=\"dataframe\">\n",
              "  <thead>\n",
              "    <tr style=\"text-align: right;\">\n",
              "      <th></th>\n",
              "      <th>m</th>\n",
              "      <th>n</th>\n",
              "      <th>worked</th>\n",
              "    </tr>\n",
              "  </thead>\n",
              "  <tbody>\n",
              "    <tr>\n",
              "      <th>0</th>\n",
              "      <td>323323</td>\n",
              "      <td>70747</td>\n",
              "      <td>True</td>\n",
              "    </tr>\n",
              "    <tr>\n",
              "      <th>1</th>\n",
              "      <td>323323</td>\n",
              "      <td>71273</td>\n",
              "      <td>True</td>\n",
              "    </tr>\n",
              "    <tr>\n",
              "      <th>2</th>\n",
              "      <td>323323</td>\n",
              "      <td>72851</td>\n",
              "      <td>True</td>\n",
              "    </tr>\n",
              "    <tr>\n",
              "      <th>3</th>\n",
              "      <td>323323</td>\n",
              "      <td>73903</td>\n",
              "      <td>True</td>\n",
              "    </tr>\n",
              "    <tr>\n",
              "      <th>4</th>\n",
              "      <td>323323</td>\n",
              "      <td>74429</td>\n",
              "      <td>True</td>\n",
              "    </tr>\n",
              "  </tbody>\n",
              "</table>\n",
              "</div>\n",
              "    <div class=\"colab-df-buttons\">\n",
              "\n",
              "  <div class=\"colab-df-container\">\n",
              "    <button class=\"colab-df-convert\" onclick=\"convertToInteractive('df-5c265519-400a-44a2-9c6d-93940f0ebb6e')\"\n",
              "            title=\"Convert this dataframe to an interactive table.\"\n",
              "            style=\"display:none;\">\n",
              "\n",
              "  <svg xmlns=\"http://www.w3.org/2000/svg\" height=\"24px\" viewBox=\"0 -960 960 960\">\n",
              "    <path d=\"M120-120v-720h720v720H120Zm60-500h600v-160H180v160Zm220 220h160v-160H400v160Zm0 220h160v-160H400v160ZM180-400h160v-160H180v160Zm440 0h160v-160H620v160ZM180-180h160v-160H180v160Zm440 0h160v-160H620v160Z\"/>\n",
              "  </svg>\n",
              "    </button>\n",
              "\n",
              "  <style>\n",
              "    .colab-df-container {\n",
              "      display:flex;\n",
              "      gap: 12px;\n",
              "    }\n",
              "\n",
              "    .colab-df-convert {\n",
              "      background-color: #E8F0FE;\n",
              "      border: none;\n",
              "      border-radius: 50%;\n",
              "      cursor: pointer;\n",
              "      display: none;\n",
              "      fill: #1967D2;\n",
              "      height: 32px;\n",
              "      padding: 0 0 0 0;\n",
              "      width: 32px;\n",
              "    }\n",
              "\n",
              "    .colab-df-convert:hover {\n",
              "      background-color: #E2EBFA;\n",
              "      box-shadow: 0px 1px 2px rgba(60, 64, 67, 0.3), 0px 1px 3px 1px rgba(60, 64, 67, 0.15);\n",
              "      fill: #174EA6;\n",
              "    }\n",
              "\n",
              "    .colab-df-buttons div {\n",
              "      margin-bottom: 4px;\n",
              "    }\n",
              "\n",
              "    [theme=dark] .colab-df-convert {\n",
              "      background-color: #3B4455;\n",
              "      fill: #D2E3FC;\n",
              "    }\n",
              "\n",
              "    [theme=dark] .colab-df-convert:hover {\n",
              "      background-color: #434B5C;\n",
              "      box-shadow: 0px 1px 3px 1px rgba(0, 0, 0, 0.15);\n",
              "      filter: drop-shadow(0px 1px 2px rgba(0, 0, 0, 0.3));\n",
              "      fill: #FFFFFF;\n",
              "    }\n",
              "  </style>\n",
              "\n",
              "    <script>\n",
              "      const buttonEl =\n",
              "        document.querySelector('#df-5c265519-400a-44a2-9c6d-93940f0ebb6e button.colab-df-convert');\n",
              "      buttonEl.style.display =\n",
              "        google.colab.kernel.accessAllowed ? 'block' : 'none';\n",
              "\n",
              "      async function convertToInteractive(key) {\n",
              "        const element = document.querySelector('#df-5c265519-400a-44a2-9c6d-93940f0ebb6e');\n",
              "        const dataTable =\n",
              "          await google.colab.kernel.invokeFunction('convertToInteractive',\n",
              "                                                    [key], {});\n",
              "        if (!dataTable) return;\n",
              "\n",
              "        const docLinkHtml = 'Like what you see? Visit the ' +\n",
              "          '<a target=\"_blank\" href=https://colab.research.google.com/notebooks/data_table.ipynb>data table notebook</a>'\n",
              "          + ' to learn more about interactive tables.';\n",
              "        element.innerHTML = '';\n",
              "        dataTable['output_type'] = 'display_data';\n",
              "        await google.colab.output.renderOutput(dataTable, element);\n",
              "        const docLink = document.createElement('div');\n",
              "        docLink.innerHTML = docLinkHtml;\n",
              "        element.appendChild(docLink);\n",
              "      }\n",
              "    </script>\n",
              "  </div>\n",
              "\n",
              "\n",
              "    <div id=\"df-32a3f811-0094-4fbe-af0e-d97a9739c21b\">\n",
              "      <button class=\"colab-df-quickchart\" onclick=\"quickchart('df-32a3f811-0094-4fbe-af0e-d97a9739c21b')\"\n",
              "                title=\"Suggest charts\"\n",
              "                style=\"display:none;\">\n",
              "\n",
              "<svg xmlns=\"http://www.w3.org/2000/svg\" height=\"24px\"viewBox=\"0 0 24 24\"\n",
              "     width=\"24px\">\n",
              "    <g>\n",
              "        <path d=\"M19 3H5c-1.1 0-2 .9-2 2v14c0 1.1.9 2 2 2h14c1.1 0 2-.9 2-2V5c0-1.1-.9-2-2-2zM9 17H7v-7h2v7zm4 0h-2V7h2v10zm4 0h-2v-4h2v4z\"/>\n",
              "    </g>\n",
              "</svg>\n",
              "      </button>\n",
              "\n",
              "<style>\n",
              "  .colab-df-quickchart {\n",
              "      --bg-color: #E8F0FE;\n",
              "      --fill-color: #1967D2;\n",
              "      --hover-bg-color: #E2EBFA;\n",
              "      --hover-fill-color: #174EA6;\n",
              "      --disabled-fill-color: #AAA;\n",
              "      --disabled-bg-color: #DDD;\n",
              "  }\n",
              "\n",
              "  [theme=dark] .colab-df-quickchart {\n",
              "      --bg-color: #3B4455;\n",
              "      --fill-color: #D2E3FC;\n",
              "      --hover-bg-color: #434B5C;\n",
              "      --hover-fill-color: #FFFFFF;\n",
              "      --disabled-bg-color: #3B4455;\n",
              "      --disabled-fill-color: #666;\n",
              "  }\n",
              "\n",
              "  .colab-df-quickchart {\n",
              "    background-color: var(--bg-color);\n",
              "    border: none;\n",
              "    border-radius: 50%;\n",
              "    cursor: pointer;\n",
              "    display: none;\n",
              "    fill: var(--fill-color);\n",
              "    height: 32px;\n",
              "    padding: 0;\n",
              "    width: 32px;\n",
              "  }\n",
              "\n",
              "  .colab-df-quickchart:hover {\n",
              "    background-color: var(--hover-bg-color);\n",
              "    box-shadow: 0 1px 2px rgba(60, 64, 67, 0.3), 0 1px 3px 1px rgba(60, 64, 67, 0.15);\n",
              "    fill: var(--button-hover-fill-color);\n",
              "  }\n",
              "\n",
              "  .colab-df-quickchart-complete:disabled,\n",
              "  .colab-df-quickchart-complete:disabled:hover {\n",
              "    background-color: var(--disabled-bg-color);\n",
              "    fill: var(--disabled-fill-color);\n",
              "    box-shadow: none;\n",
              "  }\n",
              "\n",
              "  .colab-df-spinner {\n",
              "    border: 2px solid var(--fill-color);\n",
              "    border-color: transparent;\n",
              "    border-bottom-color: var(--fill-color);\n",
              "    animation:\n",
              "      spin 1s steps(1) infinite;\n",
              "  }\n",
              "\n",
              "  @keyframes spin {\n",
              "    0% {\n",
              "      border-color: transparent;\n",
              "      border-bottom-color: var(--fill-color);\n",
              "      border-left-color: var(--fill-color);\n",
              "    }\n",
              "    20% {\n",
              "      border-color: transparent;\n",
              "      border-left-color: var(--fill-color);\n",
              "      border-top-color: var(--fill-color);\n",
              "    }\n",
              "    30% {\n",
              "      border-color: transparent;\n",
              "      border-left-color: var(--fill-color);\n",
              "      border-top-color: var(--fill-color);\n",
              "      border-right-color: var(--fill-color);\n",
              "    }\n",
              "    40% {\n",
              "      border-color: transparent;\n",
              "      border-right-color: var(--fill-color);\n",
              "      border-top-color: var(--fill-color);\n",
              "    }\n",
              "    60% {\n",
              "      border-color: transparent;\n",
              "      border-right-color: var(--fill-color);\n",
              "    }\n",
              "    80% {\n",
              "      border-color: transparent;\n",
              "      border-right-color: var(--fill-color);\n",
              "      border-bottom-color: var(--fill-color);\n",
              "    }\n",
              "    90% {\n",
              "      border-color: transparent;\n",
              "      border-bottom-color: var(--fill-color);\n",
              "    }\n",
              "  }\n",
              "</style>\n",
              "\n",
              "      <script>\n",
              "        async function quickchart(key) {\n",
              "          const quickchartButtonEl =\n",
              "            document.querySelector('#' + key + ' button');\n",
              "          quickchartButtonEl.disabled = true;  // To prevent multiple clicks.\n",
              "          quickchartButtonEl.classList.add('colab-df-spinner');\n",
              "          try {\n",
              "            const charts = await google.colab.kernel.invokeFunction(\n",
              "                'suggestCharts', [key], {});\n",
              "          } catch (error) {\n",
              "            console.error('Error during call to suggestCharts:', error);\n",
              "          }\n",
              "          quickchartButtonEl.classList.remove('colab-df-spinner');\n",
              "          quickchartButtonEl.classList.add('colab-df-quickchart-complete');\n",
              "        }\n",
              "        (() => {\n",
              "          let quickchartButtonEl =\n",
              "            document.querySelector('#df-32a3f811-0094-4fbe-af0e-d97a9739c21b button');\n",
              "          quickchartButtonEl.style.display =\n",
              "            google.colab.kernel.accessAllowed ? 'block' : 'none';\n",
              "        })();\n",
              "      </script>\n",
              "    </div>\n",
              "\n",
              "    </div>\n",
              "  </div>\n"
            ],
            "application/vnd.google.colaboratory.intrinsic+json": {
              "type": "dataframe",
              "variable_name": "results",
              "summary": "{\n  \"name\": \"results\",\n  \"rows\": 3142,\n  \"fields\": [\n    {\n      \"column\": \"m\",\n      \"properties\": {\n        \"dtype\": \"number\",\n        \"std\": 3066492728,\n        \"min\": 323323,\n        \"max\": 6685349671,\n        \"num_unique_values\": 4,\n        \"samples\": [\n          7436429,\n          6685349671,\n          323323\n        ],\n        \"semantic_type\": \"\",\n        \"description\": \"\"\n      }\n    },\n    {\n      \"column\": \"n\",\n      \"properties\": {\n        \"dtype\": \"number\",\n        \"std\": 639019,\n        \"min\": 70747,\n        \"max\": 2193563,\n        \"num_unique_values\": 3029,\n        \"samples\": [\n          287531,\n          271421,\n          736543\n        ],\n        \"semantic_type\": \"\",\n        \"description\": \"\"\n      }\n    },\n    {\n      \"column\": \"worked\",\n      \"properties\": {\n        \"dtype\": \"boolean\",\n        \"num_unique_values\": 2,\n        \"samples\": [\n          false,\n          true\n        ],\n        \"semantic_type\": \"\",\n        \"description\": \"\"\n      }\n    }\n  ]\n}"
            }
          },
          "metadata": {},
          "execution_count": 26
        }
      ]
    },
    {
      "cell_type": "code",
      "source": [
        "results.groupby(\"m\").worked.mean()"
      ],
      "metadata": {
        "colab": {
          "base_uri": "https://localhost:8080/",
          "height": 241
        },
        "id": "1K6nF4m7IMyM",
        "outputId": "5c843948-10c2-44b6-e3fe-dbcf7d46e3d3"
      },
      "execution_count": 27,
      "outputs": [
        {
          "output_type": "execute_result",
          "data": {
            "text/plain": [
              "m\n",
              "323323        0.841379\n",
              "7436429       0.998999\n",
              "215656441     1.000000\n",
              "6685349671    1.000000\n",
              "Name: worked, dtype: float64"
            ],
            "text/html": [
              "<div>\n",
              "<style scoped>\n",
              "    .dataframe tbody tr th:only-of-type {\n",
              "        vertical-align: middle;\n",
              "    }\n",
              "\n",
              "    .dataframe tbody tr th {\n",
              "        vertical-align: top;\n",
              "    }\n",
              "\n",
              "    .dataframe thead th {\n",
              "        text-align: right;\n",
              "    }\n",
              "</style>\n",
              "<table border=\"1\" class=\"dataframe\">\n",
              "  <thead>\n",
              "    <tr style=\"text-align: right;\">\n",
              "      <th></th>\n",
              "      <th>worked</th>\n",
              "    </tr>\n",
              "    <tr>\n",
              "      <th>m</th>\n",
              "      <th></th>\n",
              "    </tr>\n",
              "  </thead>\n",
              "  <tbody>\n",
              "    <tr>\n",
              "      <th>323323</th>\n",
              "      <td>0.841379</td>\n",
              "    </tr>\n",
              "    <tr>\n",
              "      <th>7436429</th>\n",
              "      <td>0.998999</td>\n",
              "    </tr>\n",
              "    <tr>\n",
              "      <th>215656441</th>\n",
              "      <td>1.000000</td>\n",
              "    </tr>\n",
              "    <tr>\n",
              "      <th>6685349671</th>\n",
              "      <td>1.000000</td>\n",
              "    </tr>\n",
              "  </tbody>\n",
              "</table>\n",
              "</div><br><label><b>dtype:</b> float64</label>"
            ]
          },
          "metadata": {},
          "execution_count": 27
        }
      ]
    },
    {
      "cell_type": "code",
      "source": [
        "import matplotlib.pyplot as plt\n",
        "\n",
        "plt.figure(figsize=(10, 6))\n",
        "plt.scatter(results[results['worked'] == True]['m'], results[results['worked'] == True]['n'], alpha=0.3, label='Worked')\n",
        "plt.scatter(results[results['worked'] == False]['m'], results[results['worked'] == False]['n'], color='red', label='Failed')\n",
        "plt.xscale('log')\n",
        "plt.yscale('log')\n",
        "plt.xlabel('m (log scale)')\n",
        "plt.ylabel('n (log scale)')\n",
        "plt.title('Factorization Success based on m and n')\n",
        "plt.legend()\n",
        "plt.grid(True)\n",
        "plt.show()"
      ],
      "metadata": {
        "colab": {
          "base_uri": "https://localhost:8080/",
          "height": 569
        },
        "id": "3nnHPGdHJgGZ",
        "outputId": "45981e60-57c0-444c-9964-a56cf7a05661"
      },
      "execution_count": 28,
      "outputs": [
        {
          "output_type": "display_data",
          "data": {
            "text/plain": [
              "<Figure size 1000x600 with 1 Axes>"
            ],
            "image/png": "[encoded data removed]"
          },
          "metadata": {}
        }
      ]
    },
    {
      "cell_type": "code",
      "metadata": {
        "colab": {
          "base_uri": "https://localhost:8080/",
          "height": 1000
        },
        "id": "6c74c841",
        "outputId": "cb0654e0-d873-45b6-9f40-84a054b48271"
      },
      "source": [
        "import numpy as np\n",
        "import matplotlib.pyplot as plt\n",
        "\n",
        "for m_value in results['m'].unique():\n",
        "    plt.figure(figsize=(10, 6))\n",
        "    subset = results[results['m'] == m_value]\n",
        "\n",
        "    # Plot histogram for successful factorizations\n",
        "    worked_n = subset[subset['worked'] == True]['n']\n",
        "    plt.hist(worked_n, bins=50, alpha=0.7, label='Worked', color='blue', log=True)\n",
        "\n",
        "    # Plot histogram for failed factorizations\n",
        "    failed_n = subset[subset['worked'] == False]['n']\n",
        "    if not failed_n.empty:\n",
        "        plt.hist(failed_n, bins=50, alpha=0.7, label='Failed', color='red', log=True)\n",
        "\n",
        "    plt.xscale('log')\n",
        "    plt.xlabel('n (log scale)')\n",
        "    plt.ylabel('Frequency (log scale)')\n",
        "    plt.title(f'Histogram of n for m = {m_value}')\n",
        "    plt.legend()\n",
        "    plt.grid(True)\n",
        "    plt.show()"
      ],
      "execution_count": 29,
      "outputs": [
        {
          "output_type": "display_data",
          "data": {
            "text/plain": [
              "<Figure size 1000x600 with 1 Axes>"
            ],
            "image/png": "[encoded data removed]"
          },
          "metadata": {}
        },
        {
          "output_type": "display_data",
          "data": {
            "text/plain": [
              "<Figure size 1000x600 with 1 Axes>"
            ],
            "image/png": "[encoded data removed]"
          },
          "metadata": {}
        },
        {
          "output_type": "display_data",
          "data": {
            "text/plain": [
              "<Figure size 1000x600 with 1 Axes>"
            ],
            "image/png": "[encoded data removed]"
          },
          "metadata": {}
        },
        {
          "output_type": "display_data",
          "data": {
            "text/plain": [
              "<Figure size 1000x600 with 1 Axes>"
            ],
            "image/png": "[encoded data removed]"
          },
          "metadata": {}
        }
      ]
    },
    {
      "cell_type": "markdown",
      "source": [
        "At a glance, it looks like this works more often when $m$ is larger..."
      ],
      "metadata": {
        "id": "BCbY1u3hMGct"
      }
    },
    {
      "cell_type": "markdown",
      "source": [
        "## Trying larger numbers\n",
        "\n",
        "What if we try factoring $n$ which is near $m$?"
      ],
      "metadata": {
        "id": "aEFh0yhGPwe5"
      }
    },
    {
      "cell_type": "code",
      "source": [
        "def prime_in_interval(lo, hi):\n",
        "  \"\"\"Gets a prime in the interval [lo, hi).\"\"\"\n",
        "  while True:\n",
        "    x = sympy.randprime(lo, hi)\n",
        "    if x >= lo and x < hi:\n",
        "      return x\n",
        "  return None\n",
        "\n",
        "def prime_near(m, fraction_less=0.1):\n",
        "    return prime_in_interval(int((1-fraction_less)*m), m)\n",
        "\n",
        "prime_near(1e8)"
      ],
      "metadata": {
        "id": "V8YJfgiaP9Rf",
        "outputId": "7bfec240-16a7-4f12-ca84-7db70da24916",
        "colab": {
          "base_uri": "https://localhost:8080/"
        }
      },
      "execution_count": 30,
      "outputs": [
        {
          "output_type": "execute_result",
          "data": {
            "text/plain": [
              "94434673"
            ]
          },
          "metadata": {},
          "execution_count": 30
        }
      ]
    },
    {
      "cell_type": "code",
      "source": [
        "def check_factoring(small_primes, num_to_check = 1000):\n",
        "    \"\"\"Checks whether this works, for largish numbers.\n",
        "\n",
        "    small_primes: the primes to use\n",
        "    max_to_check: the maximum number of values of n to check\n",
        "\n",
        "    Returns: a list of dicts, with keys \"m\", \"n\", and \"worked\".\n",
        "    \"\"\"\n",
        "    m = math.prod(small_primes)\n",
        "    max_small_prime = max(small_primes)\n",
        "    # using a list of dicts, for easy conversion to a dataframe\n",
        "    results = []\n",
        "    for num_checked in range(num_to_check):\n",
        "        a = prime_near(math.sqrt(m))\n",
        "        b = prime_near(math.sqrt(m))\n",
        "        n = a * b\n",
        "        if n <= max_small_prime or n >= m:\n",
        "            continue\n",
        "\n",
        "        # Attempt to factor n with y=1\n",
        "        try:\n",
        "            # print(f\"Calling factor with n={n}, small_primes={small_primes}, max_y=1\")\n",
        "            result = factor(n, small_primes, max_y=1)\n",
        "            if result is not None:\n",
        "                results.append({\"m\": m, \"n\": n, \"worked\": True})\n",
        "            else:\n",
        "                results.append({\"m\": m, \"n\": n, \"worked\": False})\n",
        "        except ValueError as e:\n",
        "            print(f\"Error factoring n={n} with m={m}: {e}\")\n",
        "\n",
        "    return results\n",
        "\n",
        "# Find the index of the first prime that is 7 or larger\n",
        "start_index_small_primes = next((i for i, prime in enumerate(all_primes) if prime >= 7), 0)\n"
      ],
      "metadata": {
        "id": "tYJm_y4-QDPI"
      },
      "execution_count": 31,
      "outputs": []
    },
    {
      "cell_type": "code",
      "source": [
        "primes = all_primes[start_index_small_primes : start_index_small_primes + 10]\n",
        "results = check_factoring(primes, num_to_check=100)\n",
        "results = pd.DataFrame(results)\n",
        "results.head()"
      ],
      "metadata": {
        "id": "HJK9_gD4T-DF",
        "outputId": "1568f35a-affc-4dc1-b032-1203d6e316a1",
        "colab": {
          "base_uri": "https://localhost:8080/",
          "height": 206
        }
      },
      "execution_count": 32,
      "outputs": [
        {
          "output_type": "execute_result",
          "data": {
            "text/plain": [
              "                m              n  worked\n",
              "0  10141675450907  8840614959019   False\n",
              "1  10141675450907  9339238323949   False\n",
              "2  10141675450907  9052574165801   False\n",
              "3  10141675450907  9383160170381   False\n",
              "4  10141675450907  9444374892451   False"
            ],
            "text/html": [
              "\n",
              "  <div id=\"df-bc7c9586-3007-4c78-b738-438752e4c9dd\" class=\"colab-df-container\">\n",
              "    <div>\n",
              "<style scoped>\n",
              "    .dataframe tbody tr th:only-of-type {\n",
              "        vertical-align: middle;\n",
              "    }\n",
              "\n",
              "    .dataframe tbody tr th {\n",
              "        vertical-align: top;\n",
              "    }\n",
              "\n",
              "    .dataframe thead th {\n",
              "        text-align: right;\n",
              "    }\n",
              "</style>\n",
              "<table border=\"1\" class=\"dataframe\">\n",
              "  <thead>\n",
              "    <tr style=\"text-align: right;\">\n",
              "      <th></th>\n",
              "      <th>m</th>\n",
              "      <th>n</th>\n",
              "      <th>worked</th>\n",
              "    </tr>\n",
              "  </thead>\n",
              "  <tbody>\n",
              "    <tr>\n",
              "      <th>0</th>\n",
              "      <td>10141675450907</td>\n",
              "      <td>8840614959019</td>\n",
              "      <td>False</td>\n",
              "    </tr>\n",
              "    <tr>\n",
              "      <th>1</th>\n",
              "      <td>10141675450907</td>\n",
              "      <td>9339238323949</td>\n",
              "      <td>False</td>\n",
              "    </tr>\n",
              "    <tr>\n",
              "      <th>2</th>\n",
              "      <td>10141675450907</td>\n",
              "      <td>9052574165801</td>\n",
              "      <td>False</td>\n",
              "    </tr>\n",
              "    <tr>\n",
              "      <th>3</th>\n",
              "      <td>10141675450907</td>\n",
              "      <td>9383160170381</td>\n",
              "      <td>False</td>\n",
              "    </tr>\n",
              "    <tr>\n",
              "      <th>4</th>\n",
              "      <td>10141675450907</td>\n",
              "      <td>9444374892451</td>\n",
              "      <td>False</td>\n",
              "    </tr>\n",
              "  </tbody>\n",
              "</table>\n",
              "</div>\n",
              "    <div class=\"colab-df-buttons\">\n",
              "\n",
              "  <div class=\"colab-df-container\">\n",
              "    <button class=\"colab-df-convert\" onclick=\"convertToInteractive('df-bc7c9586-3007-4c78-b738-438752e4c9dd')\"\n",
              "            title=\"Convert this dataframe to an interactive table.\"\n",
              "            style=\"display:none;\">\n",
              "\n",
              "  <svg xmlns=\"http://www.w3.org/2000/svg\" height=\"24px\" viewBox=\"0 -960 960 960\">\n",
              "    <path d=\"M120-120v-720h720v720H120Zm60-500h600v-160H180v160Zm220 220h160v-160H400v160Zm0 220h160v-160H400v160ZM180-400h160v-160H180v160Zm440 0h160v-160H620v160ZM180-180h160v-160H180v160Zm440 0h160v-160H620v160Z\"/>\n",
              "  </svg>\n",
              "    </button>\n",
              "\n",
              "  <style>\n",
              "    .colab-df-container {\n",
              "      display:flex;\n",
              "      gap: 12px;\n",
              "    }\n",
              "\n",
              "    .colab-df-convert {\n",
              "      background-color: #E8F0FE;\n",
              "      border: none;\n",
              "      border-radius: 50%;\n",
              "      cursor: pointer;\n",
              "      display: none;\n",
              "      fill: #1967D2;\n",
              "      height: 32px;\n",
              "      padding: 0 0 0 0;\n",
              "      width: 32px;\n",
              "    }\n",
              "\n",
              "    .colab-df-convert:hover {\n",
              "      background-color: #E2EBFA;\n",
              "      box-shadow: 0px 1px 2px rgba(60, 64, 67, 0.3), 0px 1px 3px 1px rgba(60, 64, 67, 0.15);\n",
              "      fill: #174EA6;\n",
              "    }\n",
              "\n",
              "    .colab-df-buttons div {\n",
              "      margin-bottom: 4px;\n",
              "    }\n",
              "\n",
              "    [theme=dark] .colab-df-convert {\n",
              "      background-color: #3B4455;\n",
              "      fill: #D2E3FC;\n",
              "    }\n",
              "\n",
              "    [theme=dark] .colab-df-convert:hover {\n",
              "      background-color: #434B5C;\n",
              "      box-shadow: 0px 1px 3px 1px rgba(0, 0, 0, 0.15);\n",
              "      filter: drop-shadow(0px 1px 2px rgba(0, 0, 0, 0.3));\n",
              "      fill: #FFFFFF;\n",
              "    }\n",
              "  </style>\n",
              "\n",
              "    <script>\n",
              "      const buttonEl =\n",
              "        document.querySelector('#df-bc7c9586-3007-4c78-b738-438752e4c9dd button.colab-df-convert');\n",
              "      buttonEl.style.display =\n",
              "        google.colab.kernel.accessAllowed ? 'block' : 'none';\n",
              "\n",
              "      async function convertToInteractive(key) {\n",
              "        const element = document.querySelector('#df-bc7c9586-3007-4c78-b738-438752e4c9dd');\n",
              "        const dataTable =\n",
              "          await google.colab.kernel.invokeFunction('convertToInteractive',\n",
              "                                                    [key], {});\n",
              "        if (!dataTable) return;\n",
              "\n",
              "        const docLinkHtml = 'Like what you see? Visit the ' +\n",
              "          '<a target=\"_blank\" href=https://colab.research.google.com/notebooks/data_table.ipynb>data table notebook</a>'\n",
              "          + ' to learn more about interactive tables.';\n",
              "        element.innerHTML = '';\n",
              "        dataTable['output_type'] = 'display_data';\n",
              "        await google.colab.output.renderOutput(dataTable, element);\n",
              "        const docLink = document.createElement('div');\n",
              "        docLink.innerHTML = docLinkHtml;\n",
              "        element.appendChild(docLink);\n",
              "      }\n",
              "    </script>\n",
              "  </div>\n",
              "\n",
              "\n",
              "    <div id=\"df-4a364fe5-ac7c-4f5b-a01f-7e6ce6840013\">\n",
              "      <button class=\"colab-df-quickchart\" onclick=\"quickchart('df-4a364fe5-ac7c-4f5b-a01f-7e6ce6840013')\"\n",
              "                title=\"Suggest charts\"\n",
              "                style=\"display:none;\">\n",
              "\n",
              "<svg xmlns=\"http://www.w3.org/2000/svg\" height=\"24px\"viewBox=\"0 0 24 24\"\n",
              "     width=\"24px\">\n",
              "    <g>\n",
              "        <path d=\"M19 3H5c-1.1 0-2 .9-2 2v14c0 1.1.9 2 2 2h14c1.1 0 2-.9 2-2V5c0-1.1-.9-2-2-2zM9 17H7v-7h2v7zm4 0h-2V7h2v10zm4 0h-2v-4h2v4z\"/>\n",
              "    </g>\n",
              "</svg>\n",
              "      </button>\n",
              "\n",
              "<style>\n",
              "  .colab-df-quickchart {\n",
              "      --bg-color: #E8F0FE;\n",
              "      --fill-color: #1967D2;\n",
              "      --hover-bg-color: #E2EBFA;\n",
              "      --hover-fill-color: #174EA6;\n",
              "      --disabled-fill-color: #AAA;\n",
              "      --disabled-bg-color: #DDD;\n",
              "  }\n",
              "\n",
              "  [theme=dark] .colab-df-quickchart {\n",
              "      --bg-color: #3B4455;\n",
              "      --fill-color: #D2E3FC;\n",
              "      --hover-bg-color: #434B5C;\n",
              "      --hover-fill-color: #FFFFFF;\n",
              "      --disabled-bg-color: #3B4455;\n",
              "      --disabled-fill-color: #666;\n",
              "  }\n",
              "\n",
              "  .colab-df-quickchart {\n",
              "    background-color: var(--bg-color);\n",
              "    border: none;\n",
              "    border-radius: 50%;\n",
              "    cursor: pointer;\n",
              "    display: none;\n",
              "    fill: var(--fill-color);\n",
              "    height: 32px;\n",
              "    padding: 0;\n",
              "    width: 32px;\n",
              "  }\n",
              "\n",
              "  .colab-df-quickchart:hover {\n",
              "    background-color: var(--hover-bg-color);\n",
              "    box-shadow: 0 1px 2px rgba(60, 64, 67, 0.3), 0 1px 3px 1px rgba(60, 64, 67, 0.15);\n",
              "    fill: var(--button-hover-fill-color);\n",
              "  }\n",
              "\n",
              "  .colab-df-quickchart-complete:disabled,\n",
              "  .colab-df-quickchart-complete:disabled:hover {\n",
              "    background-color: var(--disabled-bg-color);\n",
              "    fill: var(--disabled-fill-color);\n",
              "    box-shadow: none;\n",
              "  }\n",
              "\n",
              "  .colab-df-spinner {\n",
              "    border: 2px solid var(--fill-color);\n",
              "    border-color: transparent;\n",
              "    border-bottom-color: var(--fill-color);\n",
              "    animation:\n",
              "      spin 1s steps(1) infinite;\n",
              "  }\n",
              "\n",
              "  @keyframes spin {\n",
              "    0% {\n",
              "      border-color: transparent;\n",
              "      border-bottom-color: var(--fill-color);\n",
              "      border-left-color: var(--fill-color);\n",
              "    }\n",
              "    20% {\n",
              "      border-color: transparent;\n",
              "      border-left-color: var(--fill-color);\n",
              "      border-top-color: var(--fill-color);\n",
              "    }\n",
              "    30% {\n",
              "      border-color: transparent;\n",
              "      border-left-color: var(--fill-color);\n",
              "      border-top-color: var(--fill-color);\n",
              "      border-right-color: var(--fill-color);\n",
              "    }\n",
              "    40% {\n",
              "      border-color: transparent;\n",
              "      border-right-color: var(--fill-color);\n",
              "      border-top-color: var(--fill-color);\n",
              "    }\n",
              "    60% {\n",
              "      border-color: transparent;\n",
              "      border-right-color: var(--fill-color);\n",
              "    }\n",
              "    80% {\n",
              "      border-color: transparent;\n",
              "      border-right-color: var(--fill-color);\n",
              "      border-bottom-color: var(--fill-color);\n",
              "    }\n",
              "    90% {\n",
              "      border-color: transparent;\n",
              "      border-bottom-color: var(--fill-color);\n",
              "    }\n",
              "  }\n",
              "</style>\n",
              "\n",
              "      <script>\n",
              "        async function quickchart(key) {\n",
              "          const quickchartButtonEl =\n",
              "            document.querySelector('#' + key + ' button');\n",
              "          quickchartButtonEl.disabled = true;  // To prevent multiple clicks.\n",
              "          quickchartButtonEl.classList.add('colab-df-spinner');\n",
              "          try {\n",
              "            const charts = await google.colab.kernel.invokeFunction(\n",
              "                'suggestCharts', [key], {});\n",
              "          } catch (error) {\n",
              "            console.error('Error during call to suggestCharts:', error);\n",
              "          }\n",
              "          quickchartButtonEl.classList.remove('colab-df-spinner');\n",
              "          quickchartButtonEl.classList.add('colab-df-quickchart-complete');\n",
              "        }\n",
              "        (() => {\n",
              "          let quickchartButtonEl =\n",
              "            document.querySelector('#df-4a364fe5-ac7c-4f5b-a01f-7e6ce6840013 button');\n",
              "          quickchartButtonEl.style.display =\n",
              "            google.colab.kernel.accessAllowed ? 'block' : 'none';\n",
              "        })();\n",
              "      </script>\n",
              "    </div>\n",
              "\n",
              "    </div>\n",
              "  </div>\n"
            ],
            "application/vnd.google.colaboratory.intrinsic+json": {
              "type": "dataframe",
              "variable_name": "results",
              "summary": "{\n  \"name\": \"results\",\n  \"rows\": 100,\n  \"fields\": [\n    {\n      \"column\": \"m\",\n      \"properties\": {\n        \"dtype\": \"number\",\n        \"std\": 0,\n        \"min\": 10141675450907,\n        \"max\": 10141675450907,\n        \"num_unique_values\": 1,\n        \"samples\": [\n          10141675450907\n        ],\n        \"semantic_type\": \"\",\n        \"description\": \"\"\n      }\n    },\n    {\n      \"column\": \"n\",\n      \"properties\": {\n        \"dtype\": \"number\",\n        \"std\": 394375541478,\n        \"min\": 8246593098817,\n        \"max\": 10052974123013,\n        \"num_unique_values\": 100,\n        \"samples\": [\n          9725896533229\n        ],\n        \"semantic_type\": \"\",\n        \"description\": \"\"\n      }\n    },\n    {\n      \"column\": \"worked\",\n      \"properties\": {\n        \"dtype\": \"boolean\",\n        \"num_unique_values\": 2,\n        \"samples\": [\n          true\n        ],\n        \"semantic_type\": \"\",\n        \"description\": \"\"\n      }\n    }\n  ]\n}"
            }
          },
          "metadata": {},
          "execution_count": 32
        }
      ]
    },
    {
      "cell_type": "code",
      "source": [
        "results.worked.mean()"
      ],
      "metadata": {
        "id": "8o9ID5IqUraM",
        "outputId": "9daa9e34-7071-42bd-9aed-c4cf3248f492",
        "colab": {
          "base_uri": "https://localhost:8080/"
        }
      },
      "execution_count": 33,
      "outputs": [
        {
          "output_type": "execute_result",
          "data": {
            "text/plain": [
              "np.float64(0.21)"
            ]
          },
          "metadata": {},
          "execution_count": 33
        }
      ]
    },
    {
      "cell_type": "markdown",
      "source": [
        "So, this isn't working all the time, and required trying $2^{20} \\approx 1^6$ numbers. However, this may be *slightly* faster than trial division."
      ],
      "metadata": {
        "id": "RDsMzFCKVPLi"
      }
    },
    {
      "cell_type": "markdown",
      "source": [
        "## Choice of primes\n",
        "\n",
        "Does this work when the small primes are larger (e.g. not starting at 7)?"
      ],
      "metadata": {
        "id": "65Zen8b3IHBe"
      }
    },
    {
      "cell_type": "code",
      "source": [
        "primes = all_primes[start_index_small_primes+30 : start_index_small_primes + 35]\n",
        "results = check_factoring(primes, num_to_check=100)\n",
        "results = pd.DataFrame(results)\n",
        "results.head()"
      ],
      "metadata": {
        "id": "j2U022lBIbyq",
        "outputId": "4903e0e0-45e7-47a3-adaf-9bdb4b8b7c7e",
        "colab": {
          "base_uri": "https://localhost:8080/",
          "height": 206
        }
      },
      "execution_count": 39,
      "outputs": [
        {
          "output_type": "execute_result",
          "data": {
            "text/plain": [
              "             m            n  worked\n",
              "0  80032295351  68312165507   False\n",
              "1  80032295351  74191866451   False\n",
              "2  80032295351  78028250873   False\n",
              "3  80032295351  73619377841   False\n",
              "4  80032295351  73416574207   False"
            ],
            "text/html": [
              "\n",
              "  <div id=\"df-50d45f41-ec54-4df8-8982-040d8d68346f\" class=\"colab-df-container\">\n",
              "    <div>\n",
              "<style scoped>\n",
              "    .dataframe tbody tr th:only-of-type {\n",
              "        vertical-align: middle;\n",
              "    }\n",
              "\n",
              "    .dataframe tbody tr th {\n",
              "        vertical-align: top;\n",
              "    }\n",
              "\n",
              "    .dataframe thead th {\n",
              "        text-align: right;\n",
              "    }\n",
              "</style>\n",
              "<table border=\"1\" class=\"dataframe\">\n",
              "  <thead>\n",
              "    <tr style=\"text-align: right;\">\n",
              "      <th></th>\n",
              "      <th>m</th>\n",
              "      <th>n</th>\n",
              "      <th>worked</th>\n",
              "    </tr>\n",
              "  </thead>\n",
              "  <tbody>\n",
              "    <tr>\n",
              "      <th>0</th>\n",
              "      <td>80032295351</td>\n",
              "      <td>68312165507</td>\n",
              "      <td>False</td>\n",
              "    </tr>\n",
              "    <tr>\n",
              "      <th>1</th>\n",
              "      <td>80032295351</td>\n",
              "      <td>74191866451</td>\n",
              "      <td>False</td>\n",
              "    </tr>\n",
              "    <tr>\n",
              "      <th>2</th>\n",
              "      <td>80032295351</td>\n",
              "      <td>78028250873</td>\n",
              "      <td>False</td>\n",
              "    </tr>\n",
              "    <tr>\n",
              "      <th>3</th>\n",
              "      <td>80032295351</td>\n",
              "      <td>73619377841</td>\n",
              "      <td>False</td>\n",
              "    </tr>\n",
              "    <tr>\n",
              "      <th>4</th>\n",
              "      <td>80032295351</td>\n",
              "      <td>73416574207</td>\n",
              "      <td>False</td>\n",
              "    </tr>\n",
              "  </tbody>\n",
              "</table>\n",
              "</div>\n",
              "    <div class=\"colab-df-buttons\">\n",
              "\n",
              "  <div class=\"colab-df-container\">\n",
              "    <button class=\"colab-df-convert\" onclick=\"convertToInteractive('df-50d45f41-ec54-4df8-8982-040d8d68346f')\"\n",
              "            title=\"Convert this dataframe to an interactive table.\"\n",
              "            style=\"display:none;\">\n",
              "\n",
              "  <svg xmlns=\"http://www.w3.org/2000/svg\" height=\"24px\" viewBox=\"0 -960 960 960\">\n",
              "    <path d=\"M120-120v-720h720v720H120Zm60-500h600v-160H180v160Zm220 220h160v-160H400v160Zm0 220h160v-160H400v160ZM180-400h160v-160H180v160Zm440 0h160v-160H620v160ZM180-180h160v-160H180v160Zm440 0h160v-160H620v160Z\"/>\n",
              "  </svg>\n",
              "    </button>\n",
              "\n",
              "  <style>\n",
              "    .colab-df-container {\n",
              "      display:flex;\n",
              "      gap: 12px;\n",
              "    }\n",
              "\n",
              "    .colab-df-convert {\n",
              "      background-color: #E8F0FE;\n",
              "      border: none;\n",
              "      border-radius: 50%;\n",
              "      cursor: pointer;\n",
              "      display: none;\n",
              "      fill: #1967D2;\n",
              "      height: 32px;\n",
              "      padding: 0 0 0 0;\n",
              "      width: 32px;\n",
              "    }\n",
              "\n",
              "    .colab-df-convert:hover {\n",
              "      background-color: #E2EBFA;\n",
              "      box-shadow: 0px 1px 2px rgba(60, 64, 67, 0.3), 0px 1px 3px 1px rgba(60, 64, 67, 0.15);\n",
              "      fill: #174EA6;\n",
              "    }\n",
              "\n",
              "    .colab-df-buttons div {\n",
              "      margin-bottom: 4px;\n",
              "    }\n",
              "\n",
              "    [theme=dark] .colab-df-convert {\n",
              "      background-color: #3B4455;\n",
              "      fill: #D2E3FC;\n",
              "    }\n",
              "\n",
              "    [theme=dark] .colab-df-convert:hover {\n",
              "      background-color: #434B5C;\n",
              "      box-shadow: 0px 1px 3px 1px rgba(0, 0, 0, 0.15);\n",
              "      filter: drop-shadow(0px 1px 2px rgba(0, 0, 0, 0.3));\n",
              "      fill: #FFFFFF;\n",
              "    }\n",
              "  </style>\n",
              "\n",
              "    <script>\n",
              "      const buttonEl =\n",
              "        document.querySelector('#df-50d45f41-ec54-4df8-8982-040d8d68346f button.colab-df-convert');\n",
              "      buttonEl.style.display =\n",
              "        google.colab.kernel.accessAllowed ? 'block' : 'none';\n",
              "\n",
              "      async function convertToInteractive(key) {\n",
              "        const element = document.querySelector('#df-50d45f41-ec54-4df8-8982-040d8d68346f');\n",
              "        const dataTable =\n",
              "          await google.colab.kernel.invokeFunction('convertToInteractive',\n",
              "                                                    [key], {});\n",
              "        if (!dataTable) return;\n",
              "\n",
              "        const docLinkHtml = 'Like what you see? Visit the ' +\n",
              "          '<a target=\"_blank\" href=https://colab.research.google.com/notebooks/data_table.ipynb>data table notebook</a>'\n",
              "          + ' to learn more about interactive tables.';\n",
              "        element.innerHTML = '';\n",
              "        dataTable['output_type'] = 'display_data';\n",
              "        await google.colab.output.renderOutput(dataTable, element);\n",
              "        const docLink = document.createElement('div');\n",
              "        docLink.innerHTML = docLinkHtml;\n",
              "        element.appendChild(docLink);\n",
              "      }\n",
              "    </script>\n",
              "  </div>\n",
              "\n",
              "\n",
              "    <div id=\"df-474b8ef5-9ecb-4f0c-bc25-ea39789bd93a\">\n",
              "      <button class=\"colab-df-quickchart\" onclick=\"quickchart('df-474b8ef5-9ecb-4f0c-bc25-ea39789bd93a')\"\n",
              "                title=\"Suggest charts\"\n",
              "                style=\"display:none;\">\n",
              "\n",
              "<svg xmlns=\"http://www.w3.org/2000/svg\" height=\"24px\"viewBox=\"0 0 24 24\"\n",
              "     width=\"24px\">\n",
              "    <g>\n",
              "        <path d=\"M19 3H5c-1.1 0-2 .9-2 2v14c0 1.1.9 2 2 2h14c1.1 0 2-.9 2-2V5c0-1.1-.9-2-2-2zM9 17H7v-7h2v7zm4 0h-2V7h2v10zm4 0h-2v-4h2v4z\"/>\n",
              "    </g>\n",
              "</svg>\n",
              "      </button>\n",
              "\n",
              "<style>\n",
              "  .colab-df-quickchart {\n",
              "      --bg-color: #E8F0FE;\n",
              "      --fill-color: #1967D2;\n",
              "      --hover-bg-color: #E2EBFA;\n",
              "      --hover-fill-color: #174EA6;\n",
              "      --disabled-fill-color: #AAA;\n",
              "      --disabled-bg-color: #DDD;\n",
              "  }\n",
              "\n",
              "  [theme=dark] .colab-df-quickchart {\n",
              "      --bg-color: #3B4455;\n",
              "      --fill-color: #D2E3FC;\n",
              "      --hover-bg-color: #434B5C;\n",
              "      --hover-fill-color: #FFFFFF;\n",
              "      --disabled-bg-color: #3B4455;\n",
              "      --disabled-fill-color: #666;\n",
              "  }\n",
              "\n",
              "  .colab-df-quickchart {\n",
              "    background-color: var(--bg-color);\n",
              "    border: none;\n",
              "    border-radius: 50%;\n",
              "    cursor: pointer;\n",
              "    display: none;\n",
              "    fill: var(--fill-color);\n",
              "    height: 32px;\n",
              "    padding: 0;\n",
              "    width: 32px;\n",
              "  }\n",
              "\n",
              "  .colab-df-quickchart:hover {\n",
              "    background-color: var(--hover-bg-color);\n",
              "    box-shadow: 0 1px 2px rgba(60, 64, 67, 0.3), 0 1px 3px 1px rgba(60, 64, 67, 0.15);\n",
              "    fill: var(--button-hover-fill-color);\n",
              "  }\n",
              "\n",
              "  .colab-df-quickchart-complete:disabled,\n",
              "  .colab-df-quickchart-complete:disabled:hover {\n",
              "    background-color: var(--disabled-bg-color);\n",
              "    fill: var(--disabled-fill-color);\n",
              "    box-shadow: none;\n",
              "  }\n",
              "\n",
              "  .colab-df-spinner {\n",
              "    border: 2px solid var(--fill-color);\n",
              "    border-color: transparent;\n",
              "    border-bottom-color: var(--fill-color);\n",
              "    animation:\n",
              "      spin 1s steps(1) infinite;\n",
              "  }\n",
              "\n",
              "  @keyframes spin {\n",
              "    0% {\n",
              "      border-color: transparent;\n",
              "      border-bottom-color: var(--fill-color);\n",
              "      border-left-color: var(--fill-color);\n",
              "    }\n",
              "    20% {\n",
              "      border-color: transparent;\n",
              "      border-left-color: var(--fill-color);\n",
              "      border-top-color: var(--fill-color);\n",
              "    }\n",
              "    30% {\n",
              "      border-color: transparent;\n",
              "      border-left-color: var(--fill-color);\n",
              "      border-top-color: var(--fill-color);\n",
              "      border-right-color: var(--fill-color);\n",
              "    }\n",
              "    40% {\n",
              "      border-color: transparent;\n",
              "      border-right-color: var(--fill-color);\n",
              "      border-top-color: var(--fill-color);\n",
              "    }\n",
              "    60% {\n",
              "      border-color: transparent;\n",
              "      border-right-color: var(--fill-color);\n",
              "    }\n",
              "    80% {\n",
              "      border-color: transparent;\n",
              "      border-right-color: var(--fill-color);\n",
              "      border-bottom-color: var(--fill-color);\n",
              "    }\n",
              "    90% {\n",
              "      border-color: transparent;\n",
              "      border-bottom-color: var(--fill-color);\n",
              "    }\n",
              "  }\n",
              "</style>\n",
              "\n",
              "      <script>\n",
              "        async function quickchart(key) {\n",
              "          const quickchartButtonEl =\n",
              "            document.querySelector('#' + key + ' button');\n",
              "          quickchartButtonEl.disabled = true;  // To prevent multiple clicks.\n",
              "          quickchartButtonEl.classList.add('colab-df-spinner');\n",
              "          try {\n",
              "            const charts = await google.colab.kernel.invokeFunction(\n",
              "                'suggestCharts', [key], {});\n",
              "          } catch (error) {\n",
              "            console.error('Error during call to suggestCharts:', error);\n",
              "          }\n",
              "          quickchartButtonEl.classList.remove('colab-df-spinner');\n",
              "          quickchartButtonEl.classList.add('colab-df-quickchart-complete');\n",
              "        }\n",
              "        (() => {\n",
              "          let quickchartButtonEl =\n",
              "            document.querySelector('#df-474b8ef5-9ecb-4f0c-bc25-ea39789bd93a button');\n",
              "          quickchartButtonEl.style.display =\n",
              "            google.colab.kernel.accessAllowed ? 'block' : 'none';\n",
              "        })();\n",
              "      </script>\n",
              "    </div>\n",
              "\n",
              "    </div>\n",
              "  </div>\n"
            ],
            "application/vnd.google.colaboratory.intrinsic+json": {
              "type": "dataframe",
              "variable_name": "results",
              "summary": "{\n  \"name\": \"results\",\n  \"rows\": 100,\n  \"fields\": [\n    {\n      \"column\": \"m\",\n      \"properties\": {\n        \"dtype\": \"number\",\n        \"std\": 0,\n        \"min\": 80032295351,\n        \"max\": 80032295351,\n        \"num_unique_values\": 1,\n        \"samples\": [\n          80032295351\n        ],\n        \"semantic_type\": \"\",\n        \"description\": \"\"\n      }\n    },\n    {\n      \"column\": \"n\",\n      \"properties\": {\n        \"dtype\": \"number\",\n        \"std\": 3022285901,\n        \"min\": 65173789039,\n        \"max\": 78670492181,\n        \"num_unique_values\": 100,\n        \"samples\": [\n          71680713647\n        ],\n        \"semantic_type\": \"\",\n        \"description\": \"\"\n      }\n    },\n    {\n      \"column\": \"worked\",\n      \"properties\": {\n        \"dtype\": \"boolean\",\n        \"num_unique_values\": 1,\n        \"samples\": [\n          false\n        ],\n        \"semantic_type\": \"\",\n        \"description\": \"\"\n      }\n    }\n  ]\n}"
            }
          },
          "metadata": {},
          "execution_count": 39
        }
      ]
    },
    {
      "cell_type": "code",
      "source": [
        "results.worked.mean()"
      ],
      "metadata": {
        "id": "YvSnrUtENZM0",
        "outputId": "d61e11d3-fc01-4e01-dddf-10588bb9777e",
        "colab": {
          "base_uri": "https://localhost:8080/"
        }
      },
      "execution_count": 40,
      "outputs": [
        {
          "output_type": "execute_result",
          "data": {
            "text/plain": [
              "np.float64(0.0)"
            ]
          },
          "metadata": {},
          "execution_count": 40
        }
      ]
    },
    {
      "cell_type": "markdown",
      "source": [
        "It *definitely* didn't work with this set of primes; it looks like you need to include smaller primes."
      ],
      "metadata": {
        "id": "dHTE_oecNd8c"
      }
    }
  ]
}