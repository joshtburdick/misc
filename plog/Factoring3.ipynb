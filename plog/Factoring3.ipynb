{
  "nbformat": 4,
  "nbformat_minor": 0,
  "metadata": {
    "colab": {
      "provenance": [],
      "authorship_tag": "ABX9TyN81xUYbiQhnCm1re8QQsRG",
      "include_colab_link": true
    },
    "kernelspec": {
      "name": "python3",
      "display_name": "Python 3"
    },
    "language_info": {
      "name": "python"
    }
  },
  "cells": [
    {
      "cell_type": "markdown",
      "metadata": {
        "id": "view-in-github",
        "colab_type": "text"
      },
      "source": [
        "<a href=\"https://colab.research.google.com/github/joshtburdick/misc/blob/master/plog/Factoring3.ipynb\" target=\"_parent\"><img src=\"https://colab.research.google.com/assets/colab-badge.svg\" alt=\"Open In Colab\"/></a>"
      ]
    },
    {
      "cell_type": "markdown",
      "source": [
        "# Further attempt at factoring\n",
        "\n",
        "This is to test a simpler variant of the factoring method using loopy belief propagation. But without the loopy belief propagation.\n",
        "\n",
        "The main idea is, given $n$, to solve $n=(a+b)(a-b) \\mod m$, where $m = \\prod p_i$ for $P$ (smallish) primes. Then check $\\mathrm{GCD}(n, x)$ for $2^{2P}$ numbers $x$ which are derived from $a$ and $b$ using the Chinese Remainder Theorem.\n",
        "\n",
        "N.B.: This seems fairly impractical, as it requires computing GCD $2^{2P}$ times, for multiple choices of $a+b$ and $a-b$."
      ],
      "metadata": {
        "id": "X6cpF_rNWJml"
      }
    },
    {
      "cell_type": "code",
      "source": [
        "!pip install --quiet modulo"
      ],
      "metadata": {
        "id": "XCnOY3ERWUbg"
      },
      "execution_count": 1,
      "outputs": []
    },
    {
      "cell_type": "code",
      "execution_count": 2,
      "metadata": {
        "id": "h3KvAAJHWF2U"
      },
      "outputs": [],
      "source": [
        "import itertools\n",
        "import math\n",
        "\n",
        "import numpy as np\n",
        "\n",
        "from modulo import modulo"
      ]
    },
    {
      "cell_type": "markdown",
      "source": [
        "We'll need some Chinese Remainder Theorem utilities."
      ],
      "metadata": {
        "id": "LFLYG-gGv_QO"
      }
    },
    {
      "cell_type": "code",
      "source": [
        "def solve_mod_primes(x_mod, primes):\n",
        "    \"\"\"Given what x is (mod some primes), solve for x.\n",
        "\n",
        "    x_mod: an array of small integers, such that x % primes[i] == x_mod[i]\n",
        "    primes: an array of primes\n",
        "\n",
        "    Returns: x, in the range 1 <= x <= product(primes),\n",
        "        satisfying x % primes[i] == xmod[i].\n",
        "    \"\"\"\n",
        "    x = modulo(x_mod[0], primes[0])\n",
        "    for i in range(1, len(primes)):\n",
        "        x &= modulo(x_mod[i], primes[i])\n",
        "    return int(x)"
      ],
      "metadata": {
        "id": "NkCe5SwHqXel"
      },
      "execution_count": 3,
      "outputs": []
    },
    {
      "cell_type": "markdown",
      "source": [
        "Let $n$ be the number to be factored (WLOG assume $n$ is odd). We want to write $n=(a+b)(a-b)$.\n",
        "\n",
        "**Somewhat dubious** conjecture: WLOG we can assume $a+b=n$ and $a-b=1$."
      ],
      "metadata": {
        "id": "INzXujsIXDsg"
      }
    },
    {
      "cell_type": "code",
      "source": [
        "def factor(n, primes):\n",
        "    \"\"\"Factor n using the Chinese Remainder Theorem.\n",
        "\n",
        "    n: the number to factor\n",
        "    primes: an array of primes\n",
        "    Returns: a nontrivial factor of n, or None on failure\n",
        "    \"\"\"\n",
        "    a_mod_m = (n-1) // 2\n",
        "    b_mod_m = 1\n",
        "    a = [[a_mod_m % p, -a_mod_m % p] for p in primes]\n",
        "    b = [[b_mod_m % p, -b_mod_m % p] for p in primes]\n",
        "    print(f\"a = {a}\")\n",
        "    print(f\"b = {b}\")\n",
        "    # get all possible a +/- b (\"generalized\", for however\n",
        "    # many prime factors)\n",
        "    a_mod_m = [solve_mod_primes(a1, primes)\n",
        "        for a1 in itertools.product(*a)]\n",
        "    b_mod_m = [solve_mod_primes(b1, primes)\n",
        "        for b1 in itertools.product(*b)]\n",
        "    # check GCD of each of these\n",
        "    for (a1,b1) in itertools.product(a_mod_m, b_mod_m):\n",
        "        f = math.gcd(n, a1+b1)\n",
        "        if f != 1 and f != n:\n",
        "            # print(f\"f = {f}\")\n",
        "            return f\n",
        "    return None\n"
      ],
      "metadata": {
        "id": "XVRkHf7nWusK"
      },
      "execution_count": 4,
      "outputs": []
    },
    {
      "cell_type": "markdown",
      "source": [
        "Some tests:"
      ],
      "metadata": {
        "id": "AEErEqbJ6E8e"
      }
    },
    {
      "cell_type": "code",
      "source": [
        "primes = [11,13,17]"
      ],
      "metadata": {
        "id": "C5Lol_vg6En7"
      },
      "execution_count": 5,
      "outputs": []
    },
    {
      "cell_type": "code",
      "source": [
        "factor(3*5, primes)"
      ],
      "metadata": {
        "colab": {
          "base_uri": "https://localhost:8080/"
        },
        "id": "-ep3nXo26NjQ",
        "outputId": "76e20a19-0d38-4d17-e1b6-8aac9fe6c721"
      },
      "execution_count": 6,
      "outputs": [
        {
          "output_type": "stream",
          "name": "stdout",
          "text": [
            "a = [[7, 4], [7, 6], [7, 10]]\n",
            "b = [[1, 10], [1, 12], [1, 16]]\n"
          ]
        },
        {
          "output_type": "execute_result",
          "data": {
            "text/plain": [
              "3"
            ]
          },
          "metadata": {},
          "execution_count": 6
        }
      ]
    },
    {
      "cell_type": "code",
      "source": [
        "factor(5*7, primes)"
      ],
      "metadata": {
        "colab": {
          "base_uri": "https://localhost:8080/"
        },
        "id": "7dQ3P0nT6Qdz",
        "outputId": "7d47f794-bc47-4fa8-f32c-2f8d802426b5"
      },
      "execution_count": 7,
      "outputs": [
        {
          "output_type": "stream",
          "name": "stdout",
          "text": [
            "a = [[6, 5], [4, 9], [0, 0]]\n",
            "b = [[1, 10], [1, 12], [1, 16]]\n"
          ]
        },
        {
          "output_type": "execute_result",
          "data": {
            "text/plain": [
              "5"
            ]
          },
          "metadata": {},
          "execution_count": 7
        }
      ]
    },
    {
      "cell_type": "code",
      "source": [
        "primes = [11,13,17,19,23]"
      ],
      "metadata": {
        "id": "LTTFMN2r6ni2"
      },
      "execution_count": 8,
      "outputs": []
    },
    {
      "cell_type": "code",
      "source": [
        "factor(29*31, primes)"
      ],
      "metadata": {
        "colab": {
          "base_uri": "https://localhost:8080/"
        },
        "id": "3v5gjERg6t9W",
        "outputId": "237365eb-8e3f-4bbd-bbf4-6ed229c6466d"
      },
      "execution_count": 9,
      "outputs": [
        {
          "output_type": "stream",
          "name": "stdout",
          "text": [
            "a = [[9, 2], [7, 6], [7, 10], [12, 7], [12, 11]]\n",
            "b = [[1, 10], [1, 12], [1, 16], [1, 18], [1, 22]]\n"
          ]
        },
        {
          "output_type": "execute_result",
          "data": {
            "text/plain": [
              "29"
            ]
          },
          "metadata": {},
          "execution_count": 9
        }
      ]
    },
    {
      "cell_type": "code",
      "source": [
        "primes = [11,13,17,19,23,29,31]"
      ],
      "metadata": {
        "id": "JsFhZBZw6s_-"
      },
      "execution_count": 10,
      "outputs": []
    },
    {
      "cell_type": "code",
      "source": [
        "factor(37*41, primes)"
      ],
      "metadata": {
        "colab": {
          "base_uri": "https://localhost:8080/"
        },
        "id": "JKZjB2Sw66TP",
        "outputId": "297434cd-b058-4cc3-b83f-182ba95c1259"
      },
      "execution_count": 11,
      "outputs": [
        {
          "output_type": "stream",
          "name": "stdout",
          "text": [
            "a = [[10, 1], [4, 9], [10, 7], [17, 2], [22, 1], [4, 25], [14, 17]]\n",
            "b = [[1, 10], [1, 12], [1, 16], [1, 18], [1, 22], [1, 28], [1, 30]]\n"
          ]
        },
        {
          "output_type": "execute_result",
          "data": {
            "text/plain": [
              "37"
            ]
          },
          "metadata": {},
          "execution_count": 11
        }
      ]
    },
    {
      "cell_type": "code",
      "source": [
        "factor(41*43, primes)"
      ],
      "metadata": {
        "colab": {
          "base_uri": "https://localhost:8080/"
        },
        "id": "1eqr8E906-fW",
        "outputId": "a3e743ea-079f-40fc-b1d3-f7e54028b074"
      },
      "execution_count": 12,
      "outputs": [
        {
          "output_type": "stream",
          "name": "stdout",
          "text": [
            "a = [[1, 10], [10, 3], [14, 3], [7, 12], [7, 16], [11, 18], [13, 18]]\n",
            "b = [[1, 10], [1, 12], [1, 16], [1, 18], [1, 22], [1, 28], [1, 30]]\n"
          ]
        },
        {
          "output_type": "execute_result",
          "data": {
            "text/plain": [
              "41"
            ]
          },
          "metadata": {},
          "execution_count": 12
        }
      ]
    },
    {
      "cell_type": "code",
      "source": [
        "factor(3*47, primes)"
      ],
      "metadata": {
        "colab": {
          "base_uri": "https://localhost:8080/"
        },
        "id": "en8aOFDC7HXQ",
        "outputId": "5885f651-d019-4561-951e-9174292759f1"
      },
      "execution_count": 13,
      "outputs": [
        {
          "output_type": "stream",
          "name": "stdout",
          "text": [
            "a = [[4, 7], [5, 8], [2, 15], [13, 6], [1, 22], [12, 17], [8, 23]]\n",
            "b = [[1, 10], [1, 12], [1, 16], [1, 18], [1, 22], [1, 28], [1, 30]]\n"
          ]
        },
        {
          "output_type": "execute_result",
          "data": {
            "text/plain": [
              "3"
            ]
          },
          "metadata": {},
          "execution_count": 13
        }
      ]
    },
    {
      "cell_type": "code",
      "source": [
        "factor(47*59, primes)"
      ],
      "metadata": {
        "colab": {
          "base_uri": "https://localhost:8080/"
        },
        "id": "oi8YnDBo7UmB",
        "outputId": "89a45f91-c8b9-447f-dc9b-7f6ead5ea8b3"
      },
      "execution_count": 14,
      "outputs": [
        {
          "output_type": "stream",
          "name": "stdout",
          "text": [
            "a = [[0, 0], [8, 5], [9, 8], [18, 1], [6, 17], [23, 6], [22, 9]]\n",
            "b = [[1, 10], [1, 12], [1, 16], [1, 18], [1, 22], [1, 28], [1, 30]]\n"
          ]
        },
        {
          "output_type": "execute_result",
          "data": {
            "text/plain": [
              "59"
            ]
          },
          "metadata": {},
          "execution_count": 14
        }
      ]
    },
    {
      "cell_type": "code",
      "source": [
        "# just confirming that, even though 47*59 isn't divisible by 11,\n",
        "# a == 1386 is\n",
        "a = (47*59-1) // 2\n",
        "a, a % 11"
      ],
      "metadata": {
        "colab": {
          "base_uri": "https://localhost:8080/"
        },
        "id": "XfQ8s1aD7Tnt",
        "outputId": "93d8bdec-7135-4880-a948-430f99505e69"
      },
      "execution_count": 15,
      "outputs": [
        {
          "output_type": "execute_result",
          "data": {
            "text/plain": [
              "(1386, 0)"
            ]
          },
          "metadata": {},
          "execution_count": 15
        }
      ]
    },
    {
      "cell_type": "code",
      "source": [
        "factor(61*67, primes)"
      ],
      "metadata": {
        "colab": {
          "base_uri": "https://localhost:8080/"
        },
        "id": "A1tNwRZJ9TVI",
        "outputId": "c827365f-6e30-4c42-d127-74baac8e9e21"
      },
      "execution_count": 16,
      "outputs": [
        {
          "output_type": "stream",
          "name": "stdout",
          "text": [
            "a = [[8, 3], [2, 11], [3, 14], [10, 9], [19, 4], [13, 16], [28, 3]]\n",
            "b = [[1, 10], [1, 12], [1, 16], [1, 18], [1, 22], [1, 28], [1, 30]]\n"
          ]
        },
        {
          "output_type": "execute_result",
          "data": {
            "text/plain": [
              "67"
            ]
          },
          "metadata": {},
          "execution_count": 16
        }
      ]
    },
    {
      "cell_type": "markdown",
      "source": [
        "## Slightly more testing\n",
        "\n",
        "It seems to work for small numbers. What about slightly larger numbers?"
      ],
      "metadata": {
        "id": "Gm2az8J3BuBG"
      }
    },
    {
      "cell_type": "code",
      "source": [
        "def is_prime(n):\n",
        "    if n < 2:\n",
        "        return False\n",
        "    for i in range(2, int(math.sqrt(n)) + 1):\n",
        "        if n % i == 0:\n",
        "            return False\n",
        "    return True\n",
        "\n",
        "def get_primes(n_primes):\n",
        "    primes = []\n",
        "    num = 2\n",
        "    while len(primes) < n_primes:\n",
        "        if is_prime(num):\n",
        "            primes.append(num)\n",
        "        num += 1\n",
        "    return primes\n",
        "\n",
        "primes = get_primes(1000)\n",
        "display(primes[:10]) # display the first 10 primes"
      ],
      "metadata": {
        "colab": {
          "base_uri": "https://localhost:8080/",
          "height": 34
        },
        "id": "O2DCj62HB1sP",
        "outputId": "4fdab851-f666-445e-e1fa-d0f62b1542d1"
      },
      "execution_count": 17,
      "outputs": [
        {
          "output_type": "display_data",
          "data": {
            "text/plain": [
              "[2, 3, 5, 7, 11, 13, 17, 19, 23, 29]"
            ]
          },
          "metadata": {}
        }
      ]
    },
    {
      "cell_type": "code",
      "metadata": {
        "colab": {
          "base_uri": "https://localhost:8080/"
        },
        "id": "802027a0",
        "outputId": "040fe3bf-d9c9-41bd-8095-2cb2b0345ee1"
      },
      "source": [
        "# use some small primes (starting with 7) for m\n",
        "small_primes = primes[3:12]\n",
        "print(small_primes)\n",
        "larger_primes = primes[300:310]\n",
        "m = math.prod(small_primes)\n",
        "print(f\"m = {m}\")\n",
        "\n",
        "for (a, b) in itertools.combinations(larger_primes, 2):\n",
        "    n = a*b\n",
        "    if n > m:\n",
        "        continue\n",
        "    print(f\"n = {n} = {a} * {b}\", flush=True)\n",
        "    f = factor(n, small_primes)\n",
        "    if f is not None:\n",
        "        print(f\"f = {f}\\n\", flush=True)\n",
        "    else:\n",
        "        print(f\"failed to factor {n} = {a}*{b}\", flush=True)\n",
        "        break"
      ],
      "execution_count": 18,
      "outputs": [
        {
          "output_type": "stream",
          "name": "stdout",
          "text": [
            "[7, 11, 13, 17, 19, 23, 29, 31, 37]\n",
            "m = 247357937827\n",
            "n = 3980021 = 1993 * 1997\n",
            "a = [[1, 6], [0, 0], [9, 4], [7, 10], [7, 12], [4, 19], [1, 28], [27, 4], [2, 35]]\n",
            "b = [[1, 6], [1, 10], [1, 12], [1, 16], [1, 18], [1, 22], [1, 28], [1, 30], [1, 36]]\n",
            "f = 1997\n",
            "\n",
            "n = 3984007 = 1993 * 1999\n",
            "a = [[6, 1], [2, 9], [0, 0], [11, 6], [5, 14], [19, 4], [22, 7], [5, 26], [34, 3]]\n",
            "b = [[1, 6], [1, 10], [1, 12], [1, 16], [1, 18], [1, 22], [1, 28], [1, 30], [1, 36]]\n",
            "f = 1993\n",
            "\n",
            "n = 3991979 = 1993 * 2003\n",
            "a = [[2, 5], [6, 5], [8, 5], [2, 15], [1, 18], [3, 20], [6, 23], [23, 8], [24, 13]]\n",
            "b = [[1, 6], [1, 10], [1, 12], [1, 16], [1, 18], [1, 22], [1, 28], [1, 30], [1, 36]]\n",
            "f = 2003\n",
            "\n",
            "n = 4007923 = 1993 * 2011\n",
            "a = [[1, 6], [3, 8], [11, 2], [1, 16], [12, 7], [17, 6], [3, 26], [28, 3], [4, 33]]\n",
            "b = [[1, 6], [1, 10], [1, 12], [1, 16], [1, 18], [1, 22], [1, 28], [1, 30], [1, 36]]\n",
            "f = 2011\n",
            "\n",
            "n = 4019881 = 1993 * 2017\n",
            "a = [[2, 5], [9, 2], [10, 3], [13, 4], [6, 13], [16, 7], [8, 21], [24, 7], [26, 11]]\n",
            "b = [[1, 6], [1, 10], [1, 12], [1, 16], [1, 18], [1, 22], [1, 28], [1, 30], [1, 36]]\n",
            "f = 1993\n",
            "\n",
            "n = 4039811 = 1993 * 2027\n",
            "a = [[6, 1], [8, 3], [4, 9], [16, 1], [15, 4], [22, 1], [26, 3], [7, 24], [1, 36]]\n",
            "b = [[1, 6], [1, 10], [1, 12], [1, 16], [1, 18], [1, 22], [1, 28], [1, 30], [1, 36]]\n",
            "f = 1993\n",
            "\n",
            "n = 4043797 = 1993 * 2029\n",
            "a = [[4, 3], [10, 1], [8, 5], [3, 14], [13, 6], [14, 9], [18, 11], [16, 15], [33, 4]]\n",
            "b = [[1, 6], [1, 10], [1, 12], [1, 16], [1, 18], [1, 22], [1, 28], [1, 30], [1, 36]]\n",
            "f = 2029\n",
            "\n",
            "n = 4063727 = 1993 * 2039\n",
            "a = [[1, 6], [9, 2], [2, 11], [6, 11], [3, 16], [20, 3], [7, 22], [30, 1], [8, 29]]\n",
            "b = [[1, 6], [1, 10], [1, 12], [1, 16], [1, 18], [1, 22], [1, 28], [1, 30], [1, 36]]\n",
            "f = 2039\n",
            "\n",
            "n = 4091629 = 1993 * 2053\n",
            "a = [[1, 6], [1, 10], [4, 9], [0, 0], [8, 11], [10, 13], [9, 20], [0, 0], [10, 27]]\n",
            "b = [[1, 6], [1, 10], [1, 12], [1, 16], [1, 18], [1, 22], [1, 28], [1, 30], [1, 36]]\n",
            "f = 1993\n",
            "\n",
            "n = 3992003 = 1997 * 1999\n",
            "a = [[0, 0], [7, 4], [7, 6], [14, 3], [13, 6], [15, 8], [18, 11], [4, 27], [36, 1]]\n",
            "b = [[1, 6], [1, 10], [1, 12], [1, 16], [1, 18], [1, 22], [1, 28], [1, 30], [1, 36]]\n",
            "f = 1997\n",
            "\n",
            "n = 3999991 = 1997 * 2003\n",
            "a = [[4, 3], [8, 3], [10, 3], [13, 4], [17, 2], [7, 16], [10, 19], [30, 1], [34, 3]]\n",
            "b = [[1, 6], [1, 10], [1, 12], [1, 16], [1, 18], [1, 22], [1, 28], [1, 30], [1, 36]]\n",
            "f = 2003\n",
            "\n",
            "n = 4015967 = 1997 * 2011\n",
            "a = [[5, 2], [10, 1], [3, 10], [11, 6], [6, 13], [14, 9], [23, 6], [20, 11], [30, 7]]\n",
            "b = [[1, 6], [1, 10], [1, 12], [1, 16], [1, 18], [1, 22], [1, 28], [1, 30], [1, 36]]\n",
            "f = 2011\n",
            "\n",
            "n = 4027949 = 1997 * 2017\n",
            "a = [[4, 3], [6, 5], [1, 12], [1, 16], [12, 7], [2, 21], [11, 18], [28, 3], [27, 10]]\n",
            "b = [[1, 6], [1, 10], [1, 12], [1, 16], [1, 18], [1, 22], [1, 28], [1, 30], [1, 36]]\n",
            "f = 2017\n",
            "\n",
            "n = 4047919 = 1997 * 2027\n",
            "a = [[0, 0], [3, 8], [2, 11], [7, 10], [3, 16], [5, 18], [20, 9], [0, 0], [22, 15]]\n",
            "b = [[1, 6], [1, 10], [1, 12], [1, 16], [1, 18], [1, 22], [1, 28], [1, 30], [1, 36]]\n",
            "f = 2027\n",
            "\n",
            "n = 4051913 = 1997 * 2029\n",
            "a = [[2, 5], [9, 2], [10, 3], [15, 2], [5, 14], [1, 22], [16, 13], [13, 18], [21, 16]]\n",
            "b = [[1, 6], [1, 10], [1, 12], [1, 16], [1, 18], [1, 22], [1, 28], [1, 30], [1, 36]]\n",
            "f = 1997\n",
            "\n",
            "n = 4071883 = 1997 * 2039\n",
            "a = [[5, 2], [6, 5], [11, 2], [4, 13], [15, 4], [4, 19], [25, 4], [16, 15], [16, 21]]\n",
            "b = [[1, 6], [1, 10], [1, 12], [1, 16], [1, 18], [1, 22], [1, 28], [1, 30], [1, 36]]\n",
            "f = 1997\n",
            "\n",
            "n = 4099841 = 1997 * 2053\n",
            "a = [[5, 2], [4, 7], [2, 11], [9, 8], [10, 9], [22, 1], [26, 3], [14, 17], [9, 28]]\n",
            "b = [[1, 6], [1, 10], [1, 12], [1, 16], [1, 18], [1, 22], [1, 28], [1, 30], [1, 36]]\n",
            "f = 2053\n",
            "\n",
            "n = 4003997 = 1999 * 2003\n",
            "a = [[5, 2], [9, 2], [11, 2], [10, 7], [6, 13], [9, 14], [12, 17], [18, 13], [2, 35]]\n",
            "b = [[1, 6], [1, 10], [1, 12], [1, 16], [1, 18], [1, 22], [1, 28], [1, 30], [1, 36]]\n",
            "f = 1999\n",
            "\n",
            "n = 4019989 = 1999 * 2011\n",
            "a = [[0, 0], [8, 3], [12, 1], [16, 1], [3, 16], [1, 22], [4, 25], [16, 15], [6, 31]]\n",
            "b = [[1, 6], [1, 10], [1, 12], [1, 16], [1, 18], [1, 22], [1, 28], [1, 30], [1, 36]]\n",
            "f = 1999\n",
            "\n",
            "n = 4031983 = 1999 * 2017\n",
            "a = [[5, 2], [10, 1], [3, 10], [12, 5], [15, 4], [18, 5], [27, 2], [30, 1], [9, 28]]\n",
            "b = [[1, 6], [1, 10], [1, 12], [1, 16], [1, 18], [1, 22], [1, 28], [1, 30], [1, 36]]\n",
            "f = 2017\n",
            "\n",
            "n = 4051973 = 1999 * 2027\n",
            "a = [[4, 3], [6, 5], [1, 12], [11, 6], [16, 3], [8, 15], [17, 12], [12, 19], [14, 23]]\n",
            "b = [[1, 6], [1, 10], [1, 12], [1, 16], [1, 18], [1, 22], [1, 28], [1, 30], [1, 36]]\n",
            "f = 2027\n",
            "\n",
            "n = 4055971 = 1999 * 2029\n",
            "a = [[1, 6], [3, 8], [11, 2], [4, 13], [1, 18], [6, 17], [15, 14], [27, 4], [15, 22]]\n",
            "b = [[1, 6], [1, 10], [1, 12], [1, 16], [1, 18], [1, 22], [1, 28], [1, 30], [1, 36]]\n",
            "f = 2029\n",
            "\n",
            "n = 4075961 = 1999 * 2039\n",
            "a = [[0, 0], [10, 1], [9, 4], [3, 14], [2, 17], [19, 4], [5, 24], [9, 22], [20, 17]]\n",
            "b = [[1, 6], [1, 10], [1, 12], [1, 16], [1, 18], [1, 22], [1, 28], [1, 30], [1, 36]]\n",
            "f = 2039\n",
            "\n",
            "n = 4103947 = 1999 * 2053\n",
            "a = [[0, 0], [0, 0], [1, 12], [5, 12], [11, 8], [5, 18], [20, 9], [21, 10], [27, 10]]\n",
            "b = [[1, 6], [1, 10], [1, 12], [1, 16], [1, 18], [1, 22], [1, 28], [1, 30], [1, 36]]\n",
            "f = 2053\n",
            "\n",
            "n = 4028033 = 2003 * 2011\n",
            "a = [[4, 3], [4, 7], [4, 9], [9, 8], [16, 3], [21, 2], [24, 5], [8, 23], [32, 5]]\n",
            "b = [[1, 6], [1, 10], [1, 12], [1, 16], [1, 18], [1, 22], [1, 28], [1, 30], [1, 36]]\n",
            "f = 2011\n",
            "\n",
            "n = 4040051 = 2003 * 2017\n",
            "a = [[0, 0], [7, 4], [7, 6], [0, 0], [2, 17], [4, 19], [1, 28], [3, 28], [10, 27]]\n",
            "b = [[1, 6], [1, 10], [1, 12], [1, 16], [1, 18], [1, 22], [1, 28], [1, 30], [1, 36]]\n",
            "f = 2017\n",
            "\n",
            "n = 4060081 = 2003 * 2027\n",
            "a = [[5, 2], [1, 10], [12, 1], [2, 15], [4, 15], [14, 9], [11, 18], [5, 26], [35, 2]]\n",
            "b = [[1, 6], [1, 10], [1, 12], [1, 16], [1, 18], [1, 22], [1, 28], [1, 30], [1, 36]]\n",
            "f = 2003\n",
            "\n",
            "n = 4064087 = 2003 * 2029\n",
            "a = [[6, 1], [2, 9], [0, 0], [16, 1], [12, 7], [16, 7], [13, 16], [24, 7], [3, 34]]\n",
            "b = [[1, 6], [1, 10], [1, 12], [1, 16], [1, 18], [1, 22], [1, 28], [1, 30], [1, 36]]\n",
            "f = 2003\n",
            "\n",
            "n = 4084117 = 2003 * 2039\n",
            "a = [[4, 3], [7, 4], [5, 8], [1, 16], [14, 5], [3, 20], [23, 6], [26, 5], [28, 9]]\n",
            "b = [[1, 6], [1, 10], [1, 12], [1, 16], [1, 18], [1, 22], [1, 28], [1, 30], [1, 36]]\n",
            "f = 2039\n",
            "\n",
            "n = 4112159 = 2003 * 2053\n",
            "a = [[4, 3], [3, 8], [12, 1], [14, 3], [13, 6], [17, 6], [8, 21], [4, 27], [26, 11]]\n",
            "b = [[1, 6], [1, 10], [1, 12], [1, 16], [1, 18], [1, 22], [1, 28], [1, 30], [1, 36]]\n",
            "f = 2003\n",
            "\n",
            "n = 4056187 = 2011 * 2017\n",
            "a = [[4, 3], [1, 10], [2, 11], [10, 7], [14, 5], [22, 1], [7, 22], [11, 20], [12, 25]]\n",
            "b = [[1, 6], [1, 10], [1, 12], [1, 16], [1, 18], [1, 22], [1, 28], [1, 30], [1, 36]]\n",
            "f = 2011\n",
            "\n",
            "n = 4076297 = 2011 * 2027\n",
            "a = [[0, 0], [2, 9], [8, 5], [1, 16], [18, 1], [3, 20], [28, 1], [22, 9], [3, 34]]\n",
            "b = [[1, 6], [1, 10], [1, 12], [1, 16], [1, 18], [1, 22], [1, 28], [1, 30], [1, 36]]\n",
            "f = 2027\n",
            "\n",
            "n = 4080319 = 2011 * 2029\n",
            "a = [[2, 5], [0, 0], [4, 9], [6, 11], [15, 4], [13, 10], [9, 20], [18, 13], [16, 21]]\n",
            "b = [[1, 6], [1, 10], [1, 12], [1, 16], [1, 18], [1, 22], [1, 28], [1, 30], [1, 36]]\n",
            "f = 2029\n",
            "\n",
            "n = 4100429 = 2011 * 2039\n",
            "a = [[5, 2], [1, 10], [10, 3], [14, 3], [0, 0], [17, 6], [1, 28], [29, 2], [7, 30]]\n",
            "b = [[1, 6], [1, 10], [1, 12], [1, 16], [1, 18], [1, 22], [1, 28], [1, 30], [1, 36]]\n",
            "f = 2039\n",
            "\n",
            "n = 4128583 = 2011 * 2053\n",
            "a = [[5, 2], [9, 2], [8, 5], [15, 2], [17, 2], [18, 5], [13, 16], [1, 30], [24, 13]]\n",
            "b = [[1, 6], [1, 10], [1, 12], [1, 16], [1, 18], [1, 22], [1, 28], [1, 30], [1, 36]]\n",
            "f = 2053\n",
            "\n",
            "n = 4088459 = 2017 * 2027\n",
            "a = [[5, 2], [0, 0], [5, 8], [13, 4], [0, 0], [12, 11], [19, 10], [27, 4], [16, 21]]\n",
            "b = [[1, 6], [1, 10], [1, 12], [1, 16], [1, 18], [1, 22], [1, 28], [1, 30], [1, 36]]\n",
            "f = 2017\n",
            "\n",
            "n = 4092493 = 2017 * 2029\n",
            "a = [[6, 1], [4, 7], [7, 6], [7, 10], [3, 16], [5, 18], [6, 23], [29, 2], [35, 2]]\n",
            "b = [[1, 6], [1, 10], [1, 12], [1, 16], [1, 18], [1, 22], [1, 28], [1, 30], [1, 36]]\n",
            "f = 2017\n",
            "\n",
            "n = 4112663 = 2017 * 2039\n",
            "a = [[4, 3], [2, 9], [4, 9], [11, 6], [18, 1], [16, 7], [28, 1], [8, 23], [19, 18]]\n",
            "b = [[1, 6], [1, 10], [1, 12], [1, 16], [1, 18], [1, 22], [1, 28], [1, 30], [1, 36]]\n",
            "f = 2039\n",
            "\n",
            "n = 4140901 = 2017 * 2053\n",
            "a = [[4, 3], [8, 3], [5, 8], [3, 14], [1, 18], [13, 10], [24, 5], [22, 9], [4, 33]]\n",
            "b = [[1, 6], [1, 10], [1, 12], [1, 16], [1, 18], [1, 22], [1, 28], [1, 30], [1, 36]]\n",
            "f = 2017\n",
            "\n",
            "n = 4112783 = 2027 * 2029\n",
            "a = [[1, 6], [7, 4], [12, 1], [3, 14], [2, 17], [7, 16], [1, 28], [6, 25], [5, 32]]\n",
            "b = [[1, 6], [1, 10], [1, 12], [1, 16], [1, 18], [1, 22], [1, 28], [1, 30], [1, 36]]\n",
            "f = 2027\n",
            "\n",
            "n = 4133053 = 2027 * 2039\n",
            "a = [[0, 0], [0, 0], [7, 6], [6, 11], [10, 9], [22, 1], [15, 14], [4, 27], [2, 35]]\n",
            "b = [[1, 6], [1, 10], [1, 12], [1, 16], [1, 18], [1, 22], [1, 28], [1, 30], [1, 36]]\n",
            "f = 2039\n",
            "\n",
            "n = 4161431 = 2027 * 2053\n",
            "a = [[0, 0], [10, 1], [0, 0], [0, 0], [6, 13], [20, 3], [23, 6], [26, 5], [20, 17]]\n",
            "b = [[1, 6], [1, 10], [1, 12], [1, 16], [1, 18], [1, 22], [1, 28], [1, 30], [1, 36]]\n",
            "f = 2027\n",
            "\n",
            "n = 4137131 = 2029 * 2039\n",
            "a = [[2, 5], [4, 7], [5, 8], [5, 12], [16, 3], [14, 9], [24, 5], [28, 3], [6, 31]]\n",
            "b = [[1, 6], [1, 10], [1, 12], [1, 16], [1, 18], [1, 22], [1, 28], [1, 30], [1, 36]]\n",
            "f = 2029\n",
            "\n",
            "n = 4165537 = 2029 * 2053\n",
            "a = [[2, 5], [6, 5], [12, 1], [13, 4], [7, 12], [3, 20], [17, 12], [2, 29], [1, 36]]\n",
            "b = [[1, 6], [1, 10], [1, 12], [1, 16], [1, 18], [1, 22], [1, 28], [1, 30], [1, 36]]\n",
            "f = 2029\n",
            "\n",
            "n = 4186067 = 2039 * 2053\n",
            "a = [[5, 2], [8, 3], [7, 6], [10, 7], [12, 7], [10, 13], [16, 13], [6, 25], [17, 20]]\n",
            "b = [[1, 6], [1, 10], [1, 12], [1, 16], [1, 18], [1, 22], [1, 28], [1, 30], [1, 36]]\n",
            "f = 2039\n",
            "\n"
          ]
        }
      ]
    },
    {
      "cell_type": "markdown",
      "source": [
        "However, if we don't use \"enough\" prime factors, using $a-b=1$ sometimes doesn't work:"
      ],
      "metadata": {
        "id": "_rAYQD2Pad1t"
      }
    },
    {
      "cell_type": "code",
      "metadata": {
        "colab": {
          "base_uri": "https://localhost:8080/"
        },
        "outputId": "f725f5ee-c027-400e-85e2-8b1db2961501",
        "id": "0_t6XWz1au7o"
      },
      "source": [
        "# use some small primes (starting with 7) for m\n",
        "small_primes = primes[3:9]\n",
        "print(small_primes)\n",
        "larger_primes = primes[302:305]\n",
        "m = math.prod(small_primes)\n",
        "print(f\"m = {m}\")\n",
        "\n",
        "for (a, b) in itertools.combinations(larger_primes, 2):\n",
        "    n = a*b\n",
        "    if n > m:\n",
        "        continue\n",
        "    print(f\"n = {n} = {a} * {b}\", flush=True)\n",
        "    f = factor(n, small_primes)\n",
        "    if f is not None:\n",
        "        print(f\"f = {f}\\n\", flush=True)\n",
        "    else:\n",
        "        print(f\"failed to factor {n} = {a}*{b}\", flush=True)\n",
        "        break"
      ],
      "execution_count": 19,
      "outputs": [
        {
          "output_type": "stream",
          "name": "stdout",
          "text": [
            "[7, 11, 13, 17, 19, 23]\n",
            "m = 7436429\n",
            "n = 4003997 = 1999 * 2003\n",
            "a = [[5, 2], [9, 2], [11, 2], [10, 7], [6, 13], [9, 14]]\n",
            "b = [[1, 6], [1, 10], [1, 12], [1, 16], [1, 18], [1, 22]]\n",
            "f = 1999\n",
            "\n",
            "n = 4019989 = 1999 * 2011\n",
            "a = [[0, 0], [8, 3], [12, 1], [16, 1], [3, 16], [1, 22]]\n",
            "b = [[1, 6], [1, 10], [1, 12], [1, 16], [1, 18], [1, 22]]\n",
            "failed to factor 4019989 = 1999*2011\n"
          ]
        }
      ]
    },
    {
      "cell_type": "markdown",
      "source": [
        "We could guarantee that this would always work, by trying many random values of $a+b$ and $a-b$ -- eventually, we'd just find those which are factors of $n$! This obviously might take a while..."
      ],
      "metadata": {
        "id": "5SqDKWJcgXyB"
      }
    },
    {
      "cell_type": "markdown",
      "source": [
        "# Questions\n",
        "\n",
        "- With $a$ and $b$ chosen with $a-b=1$, how often will at least one of the \"generalized $a+b$\" numbers have a nontrivial GCD with $n$? (It works for some small examples, but not larger examples.)\n",
        "\n",
        "- What value of $m = \\prod p_i$ works best? Presumably there are some trade-offs here.\n",
        "\n",
        "- Given that the number of \"generalized $a+b$\" numbers grows like $2^{|P|}$, is this practical? (Presumably not.)\n",
        "\n",
        "- What is this most similar to? (Gemini suggests the quadratic sieve, which seems plausible.)\n"
      ],
      "metadata": {
        "id": "XzRXqVBqkiY0"
      }
    }
  ]
}