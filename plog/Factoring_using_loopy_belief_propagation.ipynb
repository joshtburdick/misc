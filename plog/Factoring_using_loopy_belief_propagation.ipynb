{
  "nbformat": 4,
  "nbformat_minor": 0,
  "metadata": {
    "colab": {
      "provenance": [],
      "authorship_tag": "ABX9TyPAgoYZowxGXUsCsbryK6oj",
      "include_colab_link": true
    },
    "kernelspec": {
      "name": "python3",
      "display_name": "Python 3"
    },
    "language_info": {
      "name": "python"
    }
  },
  "cells": [
    {
      "cell_type": "markdown",
      "metadata": {
        "id": "view-in-github",
        "colab_type": "text"
      },
      "source": [
        "<a href=\"https://colab.research.google.com/github/joshtburdick/misc/blob/master/plog/Factoring_using_loopy_belief_propagation.ipynb\" target=\"_parent\"><img src=\"https://colab.research.google.com/assets/colab-badge.svg\" alt=\"Open In Colab\"/></a>"
      ]
    },
    {
      "cell_type": "markdown",
      "source": [
        "# Factoring using loopy belief propagation\n",
        "\n",
        "Or, \"Factoring using factor graphs\" `:-)`\n",
        "\n",
        "Here, we use Fermat's difference-of-squares method.\n",
        "Let $N$ be the number to factor.\n",
        "\n",
        "First, we'll find solutions to $N = a^2 - b^2 \\mod m$, where $m > N$ is the product of smaller primes $p_i$. (Since this is$\\mod m$, and we're squaring $a$ and $b$, this doesn't directly give a factor.)\n",
        "\n",
        "Having found $a^2$ and $b^2$, we then search through possible values of $a$ and $b$, looking for one such that GCD($a+b$, $N$) is not 1 or N. That GCD (somewhat as in the quadratic sieve) should then divide $N$.\n"
      ],
      "metadata": {
        "id": "RrPRq8mQwIFO"
      }
    },
    {
      "cell_type": "markdown",
      "source": [
        "We'll use\n",
        "- [PGMax](https://github.com/google-deepmind/PGMax) library for loopy belief propagation\n",
        "- the [modulo](https://github.com/lapets/modulo) library, for calculations related to the Chinese Remainder Theorem\n"
      ],
      "metadata": {
        "id": "9JeE6MIl2gls"
      }
    },
    {
      "cell_type": "code",
      "source": [
        "!pip install --quiet pgmax modulo"
      ],
      "metadata": {
        "id": "5GMj_vQx6BxF",
        "outputId": "66d46dc0-4e83-4ed3-9ba5-cf42158bd4cb",
        "colab": {
          "base_uri": "https://localhost:8080/"
        }
      },
      "execution_count": 1,
      "outputs": [
        {
          "output_type": "stream",
          "name": "stdout",
          "text": [
            "\u001b[?25l   \u001b[90m━━━━━━━━━━━━━━━━━━━━━━━━━━━━━━━━━━━━━━━━\u001b[0m \u001b[32m0.0/77.5 kB\u001b[0m \u001b[31m?\u001b[0m eta \u001b[36m-:--:--\u001b[0m\r\u001b[2K   \u001b[90m━━━━━━━━━━━━━━━━━━━━━━━━━━━━━━━━━━━━━━━━\u001b[0m \u001b[32m77.5/77.5 kB\u001b[0m \u001b[31m5.6 MB/s\u001b[0m eta \u001b[36m0:00:00\u001b[0m\n",
            "\u001b[?25h\u001b[?25l   \u001b[90m━━━━━━━━━━━━━━━━━━━━━━━━━━━━━━━━━━━━━━━━\u001b[0m \u001b[32m0.0/221.0 kB\u001b[0m \u001b[31m?\u001b[0m eta \u001b[36m-:--:--\u001b[0m\r\u001b[2K   \u001b[90m━━━━━━━━━━━━━━━━━━━━━━━━━━━━━━━━━━━━━━━━\u001b[0m \u001b[32m221.0/221.0 kB\u001b[0m \u001b[31m15.4 MB/s\u001b[0m eta \u001b[36m0:00:00\u001b[0m\n",
            "\u001b[2K   \u001b[90m━━━━━━━━━━━━━━━━━━━━━━━━━━━━━━━━━━━━━━━━\u001b[0m \u001b[32m434.0/434.0 kB\u001b[0m \u001b[31m27.9 MB/s\u001b[0m eta \u001b[36m0:00:00\u001b[0m\n",
            "\u001b[2K   \u001b[90m━━━━━━━━━━━━━━━━━━━━━━━━━━━━━━━━━━━━━━━━\u001b[0m \u001b[32m4.6/4.6 MB\u001b[0m \u001b[31m76.3 MB/s\u001b[0m eta \u001b[36m0:00:00\u001b[0m\n",
            "\u001b[2K   \u001b[90m━━━━━━━━━━━━━━━━━━━━━━━━━━━━━━━━━━━━━━━━\u001b[0m \u001b[32m7.7/7.7 MB\u001b[0m \u001b[31m75.5 MB/s\u001b[0m eta \u001b[36m0:00:00\u001b[0m\n",
            "\u001b[2K   \u001b[90m━━━━━━━━━━━━━━━━━━━━━━━━━━━━━━━━━━━━━━━━\u001b[0m \u001b[32m251.8/251.8 kB\u001b[0m \u001b[31m17.9 MB/s\u001b[0m eta \u001b[36m0:00:00\u001b[0m\n",
            "\u001b[2K   \u001b[90m━━━━━━━━━━━━━━━━━━━━━━━━━━━━━━━━━━━━━━━━\u001b[0m \u001b[32m99.2/99.2 kB\u001b[0m \u001b[31m7.5 MB/s\u001b[0m eta \u001b[36m0:00:00\u001b[0m\n",
            "\u001b[2K   \u001b[90m━━━━━━━━━━━━━━━━━━━━━━━━━━━━━━━━━━━━━━━━\u001b[0m \u001b[32m121.1/121.1 kB\u001b[0m \u001b[31m9.4 MB/s\u001b[0m eta \u001b[36m0:00:00\u001b[0m\n",
            "\u001b[2K   \u001b[90m━━━━━━━━━━━━━━━━━━━━━━━━━━━━━━━━━━━━━━━━\u001b[0m \u001b[32m6.0/6.0 MB\u001b[0m \u001b[31m76.4 MB/s\u001b[0m eta \u001b[36m0:00:00\u001b[0m\n",
            "\u001b[2K   \u001b[90m━━━━━━━━━━━━━━━━━━━━━━━━━━━━━━━━━━━━━━━━\u001b[0m \u001b[32m12.3/12.3 MB\u001b[0m \u001b[31m68.2 MB/s\u001b[0m eta \u001b[36m0:00:00\u001b[0m\n",
            "\u001b[2K   \u001b[90m━━━━━━━━━━━━━━━━━━━━━━━━━━━━━━━━━━━━━━━━\u001b[0m \u001b[32m469.0/469.0 kB\u001b[0m \u001b[31m28.4 MB/s\u001b[0m eta \u001b[36m0:00:00\u001b[0m\n",
            "\u001b[2K   \u001b[90m━━━━━━━━━━━━━━━━━━━━━━━━━━━━━━━━━━━━━━━━\u001b[0m \u001b[32m76.7/76.7 kB\u001b[0m \u001b[31m4.9 MB/s\u001b[0m eta \u001b[36m0:00:00\u001b[0m\n",
            "\u001b[2K   \u001b[90m━━━━━━━━━━━━━━━━━━━━━━━━━━━━━━━━━━━━━━━━\u001b[0m \u001b[32m59.7/59.7 kB\u001b[0m \u001b[31m4.5 MB/s\u001b[0m eta \u001b[36m0:00:00\u001b[0m\n",
            "\u001b[2K   \u001b[90m━━━━━━━━━━━━━━━━━━━━━━━━━━━━━━━━━━━━━━━━\u001b[0m \u001b[32m1.4/1.4 MB\u001b[0m \u001b[31m69.1 MB/s\u001b[0m eta \u001b[36m0:00:00\u001b[0m\n",
            "\u001b[2K   \u001b[90m━━━━━━━━━━━━━━━━━━━━━━━━━━━━━━━━━━━━━━━━\u001b[0m \u001b[32m1.6/1.6 MB\u001b[0m \u001b[31m66.7 MB/s\u001b[0m eta \u001b[36m0:00:00\u001b[0m\n",
            "\u001b[?25h"
          ]
        }
      ]
    },
    {
      "cell_type": "code",
      "execution_count": 2,
      "metadata": {
        "id": "G7uUjymlwCET"
      },
      "outputs": [],
      "source": [
        "import itertools\n",
        "import pdb\n",
        "import math\n",
        "\n",
        "import numpy as np\n",
        "import jax\n",
        "import jax.numpy as jnp\n",
        "import matplotlib.pyplot as plt\n",
        "import pgmax\n",
        "from pgmax import fgraph, fgroup, infer, vgroup\n",
        "\n",
        "from modulo import modulo"
      ]
    },
    {
      "cell_type": "markdown",
      "source": [
        "## Solving for the \"difference of squares\"\n",
        "\n",
        "We'll need a standard numbering of the quadratic residues mod a prime\n",
        "$p$."
      ],
      "metadata": {
        "id": "YfeOKBoEKFU7"
      }
    },
    {
      "cell_type": "code",
      "source": [
        "def number_quadratic_residues(p):\n",
        "    \"\"\"\n",
        "    Given a prime p, number the quadratic residues mod p.\n",
        "\n",
        "    Args:\n",
        "        p: The prime number.\n",
        "\n",
        "    Returns:\n",
        "        A dictionary mapping the quadratic residues (non-zero) to their 0-based index.\n",
        "    \"\"\"\n",
        "    quadratic_residues = set()\n",
        "    for i in range(1, p):\n",
        "        quadratic_residues.add((i * i) % p)\n",
        "\n",
        "    # Sort the quadratic residues and create a mapping to 0-based indices\n",
        "    sorted_residues = sorted(list(quadratic_residues))\n",
        "    residue_to_index = {residue: i for i, residue in enumerate(sorted_residues)}\n",
        "\n",
        "    return residue_to_index"
      ],
      "metadata": {
        "id": "v3c-ipjqKTGg"
      },
      "execution_count": 3,
      "outputs": []
    },
    {
      "cell_type": "code",
      "source": [
        "# Quick check of this.\n",
        "number_quadratic_residues(11)"
      ],
      "metadata": {
        "colab": {
          "base_uri": "https://localhost:8080/"
        },
        "id": "oSx_8sz5S05S",
        "outputId": "0bd6cc73-8806-4ad4-e6ae-8ebfe1d696ec"
      },
      "execution_count": 4,
      "outputs": [
        {
          "output_type": "execute_result",
          "data": {
            "text/plain": [
              "{1: 0, 3: 1, 4: 2, 5: 3, 9: 4}"
            ]
          },
          "metadata": {},
          "execution_count": 4
        }
      ]
    },
    {
      "cell_type": "code",
      "source": [
        "# Since they're sorted, this is a convenient way to get the i'th one.\n",
        "list(number_quadratic_residues(11).values())"
      ],
      "metadata": {
        "colab": {
          "base_uri": "https://localhost:8080/"
        },
        "id": "hfOHfwmlTDFB",
        "outputId": "f354a930-e791-4271-d2c9-9ef2deead006"
      },
      "execution_count": 5,
      "outputs": [
        {
          "output_type": "execute_result",
          "data": {
            "text/plain": [
              "[0, 1, 2, 3, 4]"
            ]
          },
          "metadata": {},
          "execution_count": 5
        }
      ]
    },
    {
      "cell_type": "markdown",
      "source": [
        "The modulus $m$ is the product of many (smallish) primes.\n",
        "For each pair of primes $p_i$ and $p_j$, we'll need to find the possible values of $a$ and $b$, $\\mod p_i p_j$."
      ],
      "metadata": {
        "id": "t5iFpa3XbuEM"
      }
    },
    {
      "cell_type": "code",
      "source": [
        "def quadratic_residue_table(N, p1, p2, qr_numbering):\n",
        "    \"\"\"\n",
        "    Finds pairs (sa, sb) of quadratic residues modulo p1*p2 such that N = sa - sb (mod p1*p2).\n",
        "\n",
        "    Args:\n",
        "        N: The integer to factor.\n",
        "        p1: The first prime.\n",
        "        p2: The second prime.\n",
        "        qr_numbering: A dictionary mapping primes to dictionaries,\n",
        "           each of which maps quadratic residues to their 0-based index\n",
        "           for that prime.\n",
        "\n",
        "    Returns:\n",
        "        A list of unique 4-tuples of the *indices* (in `qr_numbering`)\n",
        "        of `(sa % p1, sa % p2, sb % p1, sb % p2)` satisfying the\n",
        "        conditions.\n",
        "    \"\"\"\n",
        "    qr_1 = qr_numbering[p1]\n",
        "    qr_2 = qr_numbering[p2]\n",
        "    m = p1 * p2\n",
        "    solutions = set()\n",
        "    for a in range(m):\n",
        "        sa = (a * a) % m\n",
        "        for b in range(m):\n",
        "            sb = (b * b) % m\n",
        "            if (sa - sb) % m == N % m:\n",
        "                try:\n",
        "                    solutions.add(\n",
        "                        (qr_1[ sa % p1 ], qr_2[ sa % p2 ],\n",
        "                         qr_1[ sb % p1 ], qr_2[ sb % p2 ]))\n",
        "                except KeyError:\n",
        "                    # A KeyError here presumably means that sa or sb\n",
        "                    # wasn't relatively prime to p1 or p2.\n",
        "                    pass\n",
        "    return list(solutions)"
      ],
      "metadata": {
        "id": "Rywz0i8C6ARE"
      },
      "execution_count": 6,
      "outputs": []
    },
    {
      "cell_type": "code",
      "source": [
        "quadratic_residue_table(3*5, 11, 17,\n",
        "  {p: number_quadratic_residues(p) for p in [11,17]})"
      ],
      "metadata": {
        "colab": {
          "base_uri": "https://localhost:8080/"
        },
        "id": "tBXZKUclAPDh",
        "outputId": "e8a0111a-fdbf-40d9-de0b-50515d3f9241"
      },
      "execution_count": 7,
      "outputs": [
        {
          "output_type": "execute_result",
          "data": {
            "text/plain": [
              "[(4, 5, 3, 6),\n",
              " (3, 1, 0, 2),\n",
              " (3, 5, 0, 6),\n",
              " (3, 7, 0, 0),\n",
              " (4, 7, 3, 0),\n",
              " (4, 1, 3, 2)]"
            ]
          },
          "metadata": {},
          "execution_count": 7
        }
      ]
    },
    {
      "cell_type": "markdown",
      "source": [
        "In a previous version of this, I was having trouble defining variables with different numbers of possible values using PGMax. Thus, here we just assume the small primes are about the same size, and use the maximum. (The factors will be sparse, anyway.)"
      ],
      "metadata": {
        "id": "BD1-4GhQ5UBq"
      }
    },
    {
      "cell_type": "code",
      "source": [
        "### this is all deprecated, as it wasn't working.\n",
        "# Trying to build the factors.\n",
        "# First, create the variables.\n",
        "primes = [7,11,13]\n",
        "var_names = [f\"a_{p}\" for p in primes] + [f\"b_{p}\" for p in primes]\n",
        "variable_group = vgroup.VarDict(\n",
        "    num_states = np.array(primes + primes),\n",
        "    variable_names = var_names\n",
        ")\n",
        "print(np.array(primes+primes))\n",
        "print(var_names)\n",
        "# Initialize the factor graph.\n",
        "fg = fgraph.FactorGraph(variable_groups=variable_group)\n",
        "\n",
        "# Try to add one of the factors.\n",
        "print(variable_group[\"a_7\"])\n",
        "print(\"printed\")\n",
        "\n",
        "factor_group = pgmax.fgroup.EnumFactorGroup(\n",
        "  variables_for_factors=[variable_group[s]\n",
        "    for s in [\"a_7\", \"a_11\", \"b_7\", \"b_11\"]],\n",
        "  factor_configs=np.eye(4),\n",
        ")\n",
        "\n",
        "fg.add_factors(factor_group)\n",
        "fg"
      ],
      "metadata": {
        "colab": {
          "base_uri": "https://localhost:8080/"
        },
        "id": "F5z9i2BAX1q0",
        "outputId": "b5b2e2c5-b89d-4ad9-84a9-33a1ea9eee59"
      },
      "execution_count": 8,
      "outputs": [
        {
          "output_type": "stream",
          "name": "stdout",
          "text": [
            "[ 7 11 13  7 11 13]\n",
            "['a_7', 'a_11', 'a_13', 'b_7', 'b_11', 'b_13']\n",
            "(np.int64(957625600000000000), np.int64(7))\n",
            "printed\n"
          ]
        },
        {
          "output_type": "execute_result",
          "data": {
            "text/plain": [
              "FactorGraph(variable_groups=[VarDict(num_states=array([ 7, 11, 13,  7, 11, 13]), _hash=957625600000000000, variable_names=['a_7', 'a_11', 'a_13', 'b_7', 'b_11', 'b_13'])])"
            ]
          },
          "metadata": {},
          "execution_count": 8
        }
      ]
    },
    {
      "cell_type": "code",
      "source": [
        "qr = {p: number_quadratic_residues(p) for p in primes}\n",
        "[p for p in qr]"
      ],
      "metadata": {
        "colab": {
          "base_uri": "https://localhost:8080/"
        },
        "id": "OY_o_XmeVkvl",
        "outputId": "ffe5af0e-7c4d-4685-95c5-b092985f878d"
      },
      "execution_count": 9,
      "outputs": [
        {
          "output_type": "execute_result",
          "data": {
            "text/plain": [
              "[7, 11, 13]"
            ]
          },
          "metadata": {},
          "execution_count": 9
        }
      ]
    },
    {
      "cell_type": "code",
      "source": [
        "def build_factor_graph(N, primes):\n",
        "    \"\"\"\n",
        "    Builds a factor graph for finding pairs of quadratic residues (sa, sb)\n",
        "    modulo prod(primes) such that N = sa - sb (mod pi*pj),\n",
        "    for all possible combinations of primes (pi, pj).\n",
        "\n",
        "    Args:\n",
        "        N: The integer to factor.\n",
        "        primes: A list of small primes.\n",
        "\n",
        "    Returns a tuple (qr_numbering, variables, fg):\n",
        "        qr_numbering: A dictionary mapping primes to dictionaries,\n",
        "           each of which maps quadratic residues to their 0-based index\n",
        "           for that prime.\n",
        "        variables: A variable group\n",
        "        fg: A PGMax factor graph.\n",
        "    \"\"\"\n",
        "    # Standardize list of primes. (FIXME check that they're prime?)\n",
        "    primes = sorted(list(set(primes)))\n",
        "    print(f\"in build_factor_graph: primes = {primes}\")\n",
        "    # Standard numbering of quadratic residues.\n",
        "    qr_numbering = {p: number_quadratic_residues(p) for p in primes}\n",
        "    # Create variables for with one row for a and b, and\n",
        "    # one column for each prime.\n",
        "    num_residues = max([len(qr_numbering[p]) for p in primes])\n",
        "    variables = vgroup.NDVarArray(\n",
        "        num_states=num_residues, shape=(2, len(primes)))\n",
        "    # Initialize the factor graph.\n",
        "    fg = fgraph.FactorGraph(variable_groups=variables)\n",
        "    # Add a factor for each pair of primes.\n",
        "    for (i, j) in itertools.combinations(range(len(primes)), 2):\n",
        "        p_i = primes[i]\n",
        "        p_j = primes[j]\n",
        "        matching_qr = quadratic_residue_table(\n",
        "            N, p_i, p_j, qr_numbering)\n",
        "        # print((p_i, p_j))\n",
        "        # print(np.array(matching_qr))\n",
        "        vars_for_factor = [(0,i), (0,j), (1,i), (1,j)]\n",
        "        factor = pgmax.factor.EnumFactor(\n",
        "            variables=[variables[s] for s in vars_for_factor],\n",
        "            factor_configs=np.array(matching_qr),\n",
        "            log_potentials=np.zeros(len(matching_qr))\n",
        "        )\n",
        "        fg.add_factors(factor)\n",
        "    return qr_numbering, variables, fg"
      ],
      "metadata": {
        "id": "WSLRprXIAw76"
      },
      "execution_count": 10,
      "outputs": []
    },
    {
      "cell_type": "markdown",
      "source": [
        "## Searching for $a$ and $b$ with a common factor\n",
        "\n",
        "So far, we've solved for $a^2$ and $b^2$; but squaring has lost the information about what $a$ and $b$ are.\n",
        "\n",
        "In the original [Quadratic sieve](https://en.wikipedia.org/wiki/Quadratic_sieve) method, we find $a$ and $b$, then find the greatest common divisor of $N$ with $a+b$ and $a-b$.\n",
        "In this case, we know what $a^2$ is ($\\mod p_i$), so we need to consider $\\pm a \\mod p_i$. We need to consider these for all $p_i$ (and similarly for $b$).\n",
        "\n",
        "Empirically, amongst all of these, there's often been a nontrivial GCD with $N$. (FIXME prove this?) So, it's a cost which is exponential in the number of primes $p_i$; but it is at least deterministic.\n",
        "\n",
        "??? is it enough to just check whether for some $A$ and $B$, $A+B$ divides $N$?"
      ],
      "metadata": {
        "id": "oCN1KzQmWOWY"
      }
    },
    {
      "cell_type": "code",
      "source": [
        "def solve_mod_primes(x_mod, primes):\n",
        "    \"\"\"Given what x is (mod some primes), solve for x.\n",
        "\n",
        "    x_mod: an array of small integers, such that x % primes[i] == x_mod[i]\n",
        "    primes: an array of primes\n",
        "\n",
        "    Returns: x, in the range 1 <= x <= product(primes),\n",
        "        satisfying x % primes[i] == xmod[i].\n",
        "    \"\"\"\n",
        "    x = modulo(x_mod[0], primes[0])\n",
        "    for i in range(1, len(primes)):\n",
        "        x &= modulo(x_mod[i], primes[i])\n",
        "    return int(x)\n"
      ],
      "metadata": {
        "id": "VqAZEkz5XeWj"
      },
      "execution_count": 11,
      "outputs": []
    },
    {
      "cell_type": "code",
      "source": [
        "# a quick check of this\n",
        "print(primes)\n",
        "x = solve_mod_primes(primes, [2,3,4]) % np.prod(primes)\n",
        "print(x)\n",
        "print(x % primes)"
      ],
      "metadata": {
        "colab": {
          "base_uri": "https://localhost:8080/"
        },
        "id": "wrBQKUa2aMBV",
        "outputId": "7b9a6626-0640-4a76-c481-baec08ee7a39"
      },
      "execution_count": 12,
      "outputs": [
        {
          "output_type": "stream",
          "name": "stdout",
          "text": [
            "[7, 11, 13]\n",
            "5\n",
            "[5 5 5]\n"
          ]
        }
      ]
    },
    {
      "cell_type": "code",
      "source": [
        "# some itertools practice\n",
        "a = [[1,-1], [4,-4], [5,-5]]\n",
        "list(itertools.product(*a))"
      ],
      "metadata": {
        "colab": {
          "base_uri": "https://localhost:8080/"
        },
        "id": "xjJvlEQRLboz",
        "outputId": "b5d6a2bd-7843-4208-892f-cea60d081621"
      },
      "execution_count": 13,
      "outputs": [
        {
          "output_type": "execute_result",
          "data": {
            "text/plain": [
              "[(1, 4, 5),\n",
              " (1, 4, -5),\n",
              " (1, -4, 5),\n",
              " (1, -4, -5),\n",
              " (-1, 4, 5),\n",
              " (-1, 4, -5),\n",
              " (-1, -4, 5),\n",
              " (-1, -4, -5)]"
            ]
          },
          "metadata": {},
          "execution_count": 13
        }
      ]
    },
    {
      "cell_type": "code",
      "source": [
        "def search_for_common_factors(qr_numbering, N, ab):\n",
        "    \"\"\"Searches for a factor of N, based on the values of a^2 and b^2.\n",
        "\n",
        "    This finds all A = +/- a mod p_i (and similarly for B),\n",
        "    mod all the p_i, computes GCD(N, A+B), and checks whether it's\n",
        "    nontrivial (that is, not 1 or N.)\n",
        "\n",
        "    qr_numbering: the numbering of quadratic residues\n",
        "    N: the number to factor\n",
        "    ab: an array of shape (2, len(primes)), containing the\n",
        "      indices of a^2 and b^2\n",
        "    \"\"\"\n",
        "    primes = list(qr_numbering.keys())\n",
        "    print(f\"in search_for_common_factors: primes={primes}\")\n",
        "    print(f\"ab = {ab}\")\n",
        "    def square_root_mod(ix2, p):\n",
        "        \"\"\"Given the index of x^2, computes +/-x (mod p).\n",
        "\n",
        "        Here, \"ix2\" refers to the index of x2 in the\n",
        "        numbering of quadratic residues.\"\"\"\n",
        "        x2 = list(qr_numbering[p].keys())[ix2]\n",
        "        x = [i for i in range(1, p) if (i * i) % p == x2]\n",
        "        print(f\"p={p}, ix2={ix2}, x2={x2}, x={x}\")\n",
        "        return x\n",
        "    # Get +/- a and b\n",
        "    # pdb.set_trace()\n",
        "    a = [square_root_mod(i, p) for (i,p) in zip(ab[0], primes)]\n",
        "    b = [square_root_mod(i, p) for (i,p) in zip(ab[1], primes)]\n",
        "    print(a)\n",
        "    print(b)\n",
        "    # get all possible a +/- b (\"generalized\", for however\n",
        "    # many prime factors)\n",
        "    a_mod_m = [solve_mod_primes(a1, primes)\n",
        "        for a1 in itertools.product(*a)]\n",
        "    b_mod_m = [solve_mod_primes(b1, primes)\n",
        "        for b1 in itertools.product(*b)]\n",
        "    # check GCD of each of these\n",
        "    f = None\n",
        "    for (a1,b1) in itertools.product(a_mod_m, b_mod_m):\n",
        "        f = math.gcd(N, a1+b1)\n",
        "        if f != 1 and f != N:\n",
        "            print(f\"f = {f}\")\n",
        "            break\n",
        "    return {\"f\": f,\n",
        "            \"a\": a,\n",
        "            \"b\": b}"
      ],
      "metadata": {
        "id": "o4bm1B8ZWMyQ"
      },
      "execution_count": 14,
      "outputs": []
    },
    {
      "cell_type": "markdown",
      "metadata": {
        "id": "caceeee6"
      },
      "source": [
        "# Task\n",
        "Create a Python function that takes an integer `N` and a list of small primes `primes` as input. The function should build a factor graph using the PGMax library to solve the congruence $N \\equiv a^2 - b^2 \\pmod{m}$, where $m$ is the product of the primes in the input list. The function should then use inference on the factor graph to find values for $a$ and $b$ modulo $m$, and finally use these values to find factors of $N$ by computing $\\text{GCD}(a+b, N)$. The function should return the found factors of $N$."
      ]
    },
    {
      "cell_type": "markdown",
      "metadata": {
        "id": "1c08f75f"
      },
      "source": [
        "## Define the main function\n",
        "\n",
        "### Subtask:\n",
        "Create a function that accepts the number to factor `N` and a list of small primes `primes`.\n"
      ]
    },
    {
      "cell_type": "markdown",
      "metadata": {
        "id": "ddaa7e3b"
      },
      "source": [
        "**Reasoning**:\n",
        "Define the `factor_with_pgmax` function with the specified arguments and docstring.\n",
        "\n"
      ]
    },
    {
      "cell_type": "code",
      "metadata": {
        "id": "5ea3afc7"
      },
      "source": [
        "def factor_with_pgmax(N, primes, num_iters=100, seed=0):\n",
        "    \"\"\"\n",
        "    Factors an integer N using the PGMax library by solving the congruence\n",
        "    N = a^2 - b^2 (mod m), where m is the product of the given primes.\n",
        "\n",
        "    Args:\n",
        "        N: The integer to factor.\n",
        "        primes: A list of small primes whose product forms the modulus m.\n",
        "        num_iters: The number of iterations to run the inference algorithm.\n",
        "        seed: The seed for the random number generator.\n",
        "\n",
        "    Returns:\n",
        "        A list of factors of N found using GCD(a+b, N), or an empty list if no\n",
        "        factors are found.\n",
        "    \"\"\"\n",
        "    m = np.prod(primes)\n",
        "    qr_numbering, variables, fg = build_factor_graph(N, primes)\n",
        "    bp = infer.build_inferer(fg.bp_state, backend=\"bp\")\n",
        "\n",
        "    # Initialize PRNG key\n",
        "    key = jax.random.PRNGKey(seed)\n",
        "    # This is basically in the Ising example.\n",
        "    num_states = fg.variable_groups[0].num_states[0,0]\n",
        "    evidence_updates={variables: jax.random.gumbel(\n",
        "        key,\n",
        "        shape=list(fg.variable_groups[0].shape) + [num_states]\n",
        "    )}\n",
        "    # Run MAP inference\n",
        "    inferer_arrays = bp.init(evidence_updates=evidence_updates)\n",
        "    # inferer_arrays = bp.init()\n",
        "    inferer_arrays, msgs_deltas = bp.run_with_diffs(inferer_arrays, num_iters=3000, temperature=0)\n",
        "    # Compute the beliefs\n",
        "    beliefs = bp.get_beliefs(inferer_arrays)\n",
        "    print(\"computed beliefs\")\n",
        "    # Get the MAP states\n",
        "    map_states = infer.decode_map_states(beliefs)\n",
        "    print(\"decoded map states\")\n",
        "    # Compute the energy of the decoding\n",
        "    # FIXME I think this is throwing a FutureWarning; I'm not sure why.\n",
        "    decoding_energy = (\n",
        "        infer.compute_energy(fg.bp_state, inferer_arrays, map_states)[0]\n",
        "    )\n",
        "    # return map_states[variables], decoding_energy\n",
        "    ab = np.array(map_states[variables])\n",
        "    print(f\"map_states[variables] = {ab}\")\n",
        "    print(f\"type(ab) = {type(ab)}\")\n",
        "    # search for a factor, based on this\n",
        "    return search_for_common_factors(qr_numbering, N, ab)\n"
      ],
      "execution_count": 15,
      "outputs": []
    },
    {
      "cell_type": "code",
      "source": [
        "# quick test of this\n",
        "factor_with_pgmax(19*23, [7,11,13,17])"
      ],
      "metadata": {
        "id": "vt4gmEJ46nvj",
        "colab": {
          "base_uri": "https://localhost:8080/"
        },
        "outputId": "c06a4b5b-31dd-4187-b0ce-acbd651c767f"
      },
      "execution_count": 16,
      "outputs": [
        {
          "output_type": "stream",
          "name": "stdout",
          "text": [
            "in build_factor_graph: primes = [7, 11, 13, 17]\n",
            "computed beliefs\n",
            "decoded map states\n"
          ]
        },
        {
          "output_type": "stream",
          "name": "stderr",
          "text": [
            "/usr/local/lib/python3.12/dist-packages/jax/_src/ops/scatter.py:93: FutureWarning: scatter inputs have incompatible types: cannot safely cast value from dtype=float32 to dtype=bool with jax_numpy_dtype_promotion='standard'. In future JAX releases this will result in an error.\n",
            "  warnings.warn(\n"
          ]
        },
        {
          "output_type": "stream",
          "name": "stdout",
          "text": [
            "map_states[variables] = [[2 0 5 2]\n",
            " [0 2 2 4]]\n",
            "type(ab) = <class 'numpy.ndarray'>\n",
            "in search_for_common_factors: primes=[7, 11, 13, 17]\n",
            "ab = [[2 0 5 2]\n",
            " [0 2 2 4]]\n",
            "p=7, ix2=2, x2=4, x=[2, 5]\n",
            "p=11, ix2=0, x2=1, x=[1, 10]\n",
            "p=13, ix2=5, x2=12, x=[5, 8]\n",
            "p=17, ix2=2, x2=4, x=[2, 15]\n",
            "p=7, ix2=0, x2=1, x=[1, 6]\n",
            "p=11, ix2=2, x2=4, x=[2, 9]\n",
            "p=13, ix2=2, x2=4, x=[2, 11]\n",
            "p=17, ix2=4, x2=9, x=[3, 14]\n",
            "[[2, 5], [1, 10], [5, 8], [2, 15]]\n",
            "[[1, 6], [2, 9], [2, 11], [3, 14]]\n",
            "f = 23\n"
          ]
        },
        {
          "output_type": "execute_result",
          "data": {
            "text/plain": [
              "{'f': 23,\n",
              " 'a': [[2, 5], [1, 10], [5, 8], [2, 15]],\n",
              " 'b': [[1, 6], [2, 9], [2, 11], [3, 14]]}"
            ]
          },
          "metadata": {},
          "execution_count": 16
        }
      ]
    },
    {
      "cell_type": "markdown",
      "source": [
        "## Summary\n",
        "This found a factor of 19*23, at least when I ran it.\n",
        "\n",
        "There isn't any good reason to think that the first-phase SAT problem is any easier than, say, using a SAT solver on factoring encoded using a multiplication circuit. Nonetheless, it might be interesting to see how LBP does on it (empirically)."
      ],
      "metadata": {
        "id": "z9JlEU3VAlzQ"
      }
    }
  ]
}