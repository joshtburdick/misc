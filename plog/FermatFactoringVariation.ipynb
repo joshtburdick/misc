{
  "nbformat": 4,
  "nbformat_minor": 0,
  "metadata": {
    "colab": {
      "provenance": [],
      "authorship_tag": "ABX9TyMycVNUPkxVPPLJWOUBXBmb",
      "include_colab_link": true
    },
    "kernelspec": {
      "name": "python3",
      "display_name": "Python 3"
    },
    "language_info": {
      "name": "python"
    }
  },
  "cells": [
    {
      "cell_type": "markdown",
      "metadata": {
        "id": "view-in-github",
        "colab_type": "text"
      },
      "source": [
        "<a href=\"https://colab.research.google.com/github/joshtburdick/misc/blob/master/plog/FermatFactoringVariation.ipynb\" target=\"_parent\"><img src=\"https://colab.research.google.com/assets/colab-badge.svg\" alt=\"Open In Colab\"/></a>"
      ]
    },
    {
      "cell_type": "markdown",
      "source": [
        "# A variation on Fermat's factoring method\n",
        "\n",
        "This is a variation on [Fermat's factoring method](https://en.wikipedia.org/wiki/Fermat%27s_factorization_method),\n",
        "which tries to write a number $N$ as a difference of squares $N = a^2 - b^2$.\n",
        "\n",
        "However, here, rather than requiring this to be exact, we only require to be true modulo a product of small primes $m = \\prod p_i$.\n",
        "It's not obvious that trying to solve these separately makes for an easier problem.\n",
        "\n",
        "Here, we *only* ask ask the question:\n",
        "\n",
        "For a given set of small primes $p_i$, suppose we wish to factor $N$ (which is less than $m = \\prod p_i$). Suppose we find $a$ and $b$ such that, for all $i$,\n",
        "\n",
        "$a^2 - b^2 \\equiv N   ({\\rm mod} p_i)$\n",
        "\n",
        "How often is it the case that any of $a+b$, $a-b$, or $b-a$ shares a\n",
        "common factor (other than 1) with $N$?\n",
        "\n",
        "(As a quick check, pasting that into \"Generate\"; here's what I get.)\n",
        "\n",
        "\n"
      ],
      "metadata": {
        "id": "Jnlr0fBbl2fp"
      }
    },
    {
      "cell_type": "code",
      "execution_count": 1,
      "metadata": {
        "id": "jCnmeZ0NlyuS"
      },
      "outputs": [],
      "source": [
        "# prompt: This is a variation on Fermat's factoring method. It tries to write a number  𝑁  as a difference of squares  𝑁=𝑎2−𝑏2 .\n",
        "# However, here, rather than requiring this to be exact, we only require to be true modulo a product of small primes  𝑚=∏𝑝𝑖 . It's not obvious that trying to solve these separately makes for an easier problem.\n",
        "# Here, we only ask ask the question:\n",
        "# For a given set of small primes  𝑝𝑖 , suppose we wish to factor  𝑁  (which is less than  𝑚=∏𝑝𝑖 ). Suppose we find  𝑎  and  𝑏  such that, for all  𝑖 ,\n",
        "# 𝑎2−𝑏2≅𝑁(mod𝑝𝑖)\n",
        "# How often is it the case that any of  𝑎+𝑏 ,  𝑎−𝑏 , or  𝑏−𝑎  shares a common factor (other than 1) with  𝑁 ?\n",
        "\n",
        "def has_common_factor(N, a, b):\n",
        "  \"\"\"Checks if a+b, a-b, or b-a share a common factor with N.\n",
        "\n",
        "  Args:\n",
        "    N: The number to factor.\n",
        "    a: One of the integers in the difference of squares.\n",
        "    b: The other integer in the difference of squares.\n",
        "\n",
        "  Returns:\n",
        "    True if there is a common factor, False otherwise.\n",
        "  \"\"\"\n",
        "  import math\n",
        "\n",
        "  if math.gcd(abs(a + b), N) > 1:\n",
        "    return True\n",
        "  if math.gcd(abs(a - b), N) > 1:\n",
        "    return True\n",
        "  if math.gcd(abs(b - a), N) > 1:\n",
        "    return True\n",
        "  return False"
      ]
    },
    {
      "cell_type": "code",
      "source": [
        "import math\n",
        "import random\n",
        "\n",
        "import itertools\n",
        "import matplotlib\n",
        "from matplotlib import pyplot as plt\n",
        "import numpy as np\n",
        "import pandas"
      ],
      "metadata": {
        "id": "xFRDSzMMFdpp"
      },
      "execution_count": 2,
      "outputs": []
    },
    {
      "cell_type": "code",
      "source": [
        "# prompt: Get the first few hundred prime numbers. Feel free to use whatever Python libraries simplify this.\n",
        "\n",
        "!pip install sympy\n",
        "\n",
        "from sympy import primerange\n",
        "\n",
        "primes_list = list(primerange(2, 1230)) # Get primes up to roughly the first 2000, as the 200th prime is 1223.\n",
        "primes_list\n",
        "\n",
        "# how many primes is this?\n",
        "print(len(primes_list))\n",
        "# ...close enough\n",
        "primes_list"
      ],
      "metadata": {
        "colab": {
          "base_uri": "https://localhost:8080/"
        },
        "id": "gonECbG2AWDr",
        "outputId": "500af3ae-5ddb-4917-ec96-6a18f6cbf7cb"
      },
      "execution_count": 3,
      "outputs": [
        {
          "output_type": "stream",
          "name": "stdout",
          "text": [
            "Requirement already satisfied: sympy in /usr/local/lib/python3.11/dist-packages (1.13.1)\n",
            "Requirement already satisfied: mpmath<1.4,>=1.1.0 in /usr/local/lib/python3.11/dist-packages (from sympy) (1.3.0)\n",
            "201\n"
          ]
        },
        {
          "output_type": "execute_result",
          "data": {
            "text/plain": [
              "[2,\n",
              " 3,\n",
              " 5,\n",
              " 7,\n",
              " 11,\n",
              " 13,\n",
              " 17,\n",
              " 19,\n",
              " 23,\n",
              " 29,\n",
              " 31,\n",
              " 37,\n",
              " 41,\n",
              " 43,\n",
              " 47,\n",
              " 53,\n",
              " 59,\n",
              " 61,\n",
              " 67,\n",
              " 71,\n",
              " 73,\n",
              " 79,\n",
              " 83,\n",
              " 89,\n",
              " 97,\n",
              " 101,\n",
              " 103,\n",
              " 107,\n",
              " 109,\n",
              " 113,\n",
              " 127,\n",
              " 131,\n",
              " 137,\n",
              " 139,\n",
              " 149,\n",
              " 151,\n",
              " 157,\n",
              " 163,\n",
              " 167,\n",
              " 173,\n",
              " 179,\n",
              " 181,\n",
              " 191,\n",
              " 193,\n",
              " 197,\n",
              " 199,\n",
              " 211,\n",
              " 223,\n",
              " 227,\n",
              " 229,\n",
              " 233,\n",
              " 239,\n",
              " 241,\n",
              " 251,\n",
              " 257,\n",
              " 263,\n",
              " 269,\n",
              " 271,\n",
              " 277,\n",
              " 281,\n",
              " 283,\n",
              " 293,\n",
              " 307,\n",
              " 311,\n",
              " 313,\n",
              " 317,\n",
              " 331,\n",
              " 337,\n",
              " 347,\n",
              " 349,\n",
              " 353,\n",
              " 359,\n",
              " 367,\n",
              " 373,\n",
              " 379,\n",
              " 383,\n",
              " 389,\n",
              " 397,\n",
              " 401,\n",
              " 409,\n",
              " 419,\n",
              " 421,\n",
              " 431,\n",
              " 433,\n",
              " 439,\n",
              " 443,\n",
              " 449,\n",
              " 457,\n",
              " 461,\n",
              " 463,\n",
              " 467,\n",
              " 479,\n",
              " 487,\n",
              " 491,\n",
              " 499,\n",
              " 503,\n",
              " 509,\n",
              " 521,\n",
              " 523,\n",
              " 541,\n",
              " 547,\n",
              " 557,\n",
              " 563,\n",
              " 569,\n",
              " 571,\n",
              " 577,\n",
              " 587,\n",
              " 593,\n",
              " 599,\n",
              " 601,\n",
              " 607,\n",
              " 613,\n",
              " 617,\n",
              " 619,\n",
              " 631,\n",
              " 641,\n",
              " 643,\n",
              " 647,\n",
              " 653,\n",
              " 659,\n",
              " 661,\n",
              " 673,\n",
              " 677,\n",
              " 683,\n",
              " 691,\n",
              " 701,\n",
              " 709,\n",
              " 719,\n",
              " 727,\n",
              " 733,\n",
              " 739,\n",
              " 743,\n",
              " 751,\n",
              " 757,\n",
              " 761,\n",
              " 769,\n",
              " 773,\n",
              " 787,\n",
              " 797,\n",
              " 809,\n",
              " 811,\n",
              " 821,\n",
              " 823,\n",
              " 827,\n",
              " 829,\n",
              " 839,\n",
              " 853,\n",
              " 857,\n",
              " 859,\n",
              " 863,\n",
              " 877,\n",
              " 881,\n",
              " 883,\n",
              " 887,\n",
              " 907,\n",
              " 911,\n",
              " 919,\n",
              " 929,\n",
              " 937,\n",
              " 941,\n",
              " 947,\n",
              " 953,\n",
              " 967,\n",
              " 971,\n",
              " 977,\n",
              " 983,\n",
              " 991,\n",
              " 997,\n",
              " 1009,\n",
              " 1013,\n",
              " 1019,\n",
              " 1021,\n",
              " 1031,\n",
              " 1033,\n",
              " 1039,\n",
              " 1049,\n",
              " 1051,\n",
              " 1061,\n",
              " 1063,\n",
              " 1069,\n",
              " 1087,\n",
              " 1091,\n",
              " 1093,\n",
              " 1097,\n",
              " 1103,\n",
              " 1109,\n",
              " 1117,\n",
              " 1123,\n",
              " 1129,\n",
              " 1151,\n",
              " 1153,\n",
              " 1163,\n",
              " 1171,\n",
              " 1181,\n",
              " 1187,\n",
              " 1193,\n",
              " 1201,\n",
              " 1213,\n",
              " 1217,\n",
              " 1223,\n",
              " 1229]"
            ]
          },
          "metadata": {},
          "execution_count": 3
        }
      ]
    },
    {
      "cell_type": "markdown",
      "source": [
        "## Revised attempt at this\n",
        "We try to compute the possible values of `a` and `b` faster, using a table.\n",
        "\n",
        "First, for a given set of primes, we make a table of the\n",
        "difference of squares, and the various differences between `a` and `b`."
      ],
      "metadata": {
        "id": "WzlF57ezLlrF"
      }
    },
    {
      "cell_type": "code",
      "source": [
        "def diff_of_squares_table(primes):\n",
        "  \"\"\"Constructs tables of difference of squares.\n",
        "  Args:\n",
        "    primes: A list of prime numbers.\n",
        "  Returns:\n",
        "    An array with columns:\n",
        "      0: a^2 - b^2\n",
        "      1: a + b\n",
        "      2: a - b\n",
        "      3: b - a\n",
        "      4: -a - b\n",
        "  \"\"\"\n",
        "  m = math.prod(primes)\n",
        "  # First, compute a and b, as square tables containing just 0..(m-1),\n",
        "  # either on rows or columns. (We then just flatten them to vectors.)\n",
        "  i = np.arange(m)\n",
        "  a = i.reshape([m,-1])\n",
        "  b = i.reshape([-1,m])\n",
        "  return np.stack([\n",
        "      a**2 - b**2,\n",
        "      a+b, a-b, b-a, -a-b\n",
        "  ], axis=0).reshape([5,-1]).T % m\n",
        "\n",
        "x = diff_of_squares_table([3,5])\n",
        "x[:,0]"
      ],
      "metadata": {
        "colab": {
          "base_uri": "https://localhost:8080/"
        },
        "id": "HeKFRdkjIOrf",
        "outputId": "b13aae38-e68c-404a-a39f-c445115029a0"
      },
      "execution_count": 4,
      "outputs": [
        {
          "output_type": "execute_result",
          "data": {
            "text/plain": [
              "array([ 0, 14, 11,  6, 14,  5,  9, 11, 11,  9,  5, 14,  6, 11, 14,  1,  0,\n",
              "       12,  7,  0,  6, 10, 12, 12, 10,  6,  0,  7, 12,  0,  4,  3,  0, 10,\n",
              "        3,  9, 13,  0,  0, 13,  9,  3, 10,  0,  3,  9,  8,  5,  0,  8, 14,\n",
              "        3,  5,  5,  3, 14,  8,  0,  5,  8,  1,  0, 12,  7,  0,  6, 10, 12,\n",
              "       12, 10,  6,  0,  7, 12,  0, 10,  9,  6,  1,  9,  0,  4,  6,  6,  4,\n",
              "        0,  9,  1,  6,  9,  6,  5,  2, 12,  5, 11,  0,  2,  2,  0, 11,  5,\n",
              "       12,  2,  5,  4,  3,  0, 10,  3,  9, 13,  0,  0, 13,  9,  3, 10,  0,\n",
              "        3,  4,  3,  0, 10,  3,  9, 13,  0,  0, 13,  9,  3, 10,  0,  3,  6,\n",
              "        5,  2, 12,  5, 11,  0,  2,  2,  0, 11,  5, 12,  2,  5, 10,  9,  6,\n",
              "        1,  9,  0,  4,  6,  6,  4,  0,  9,  1,  6,  9,  1,  0, 12,  7,  0,\n",
              "        6, 10, 12, 12, 10,  6,  0,  7, 12,  0,  9,  8,  5,  0,  8, 14,  3,\n",
              "        5,  5,  3, 14,  8,  0,  5,  8,  4,  3,  0, 10,  3,  9, 13,  0,  0,\n",
              "       13,  9,  3, 10,  0,  3,  1,  0, 12,  7,  0,  6, 10, 12, 12, 10,  6,\n",
              "        0,  7, 12,  0])"
            ]
          },
          "metadata": {},
          "execution_count": 4
        }
      ]
    },
    {
      "cell_type": "code",
      "source": [
        "primes = [3,5,7,11]\n",
        "s = diff_of_squares_table(primes)\n",
        "print(s.shape)\n",
        "s"
      ],
      "metadata": {
        "colab": {
          "base_uri": "https://localhost:8080/"
        },
        "id": "YMZNfDThLkdO",
        "outputId": "6d3ac0e6-910b-40cd-e931-1f1759f6c228"
      },
      "execution_count": 5,
      "outputs": [
        {
          "output_type": "stream",
          "name": "stdout",
          "text": [
            "(1334025, 5)\n"
          ]
        },
        {
          "output_type": "execute_result",
          "data": {
            "text/plain": [
              "array([[   0,    0,    0,    0,    0],\n",
              "       [1154,    1, 1154,    1, 1154],\n",
              "       [1151,    2, 1153,    2, 1153],\n",
              "       ...,\n",
              "       [1147, 1151,    2, 1153,    4],\n",
              "       [1152, 1152,    1, 1154,    3],\n",
              "       [   0, 1153,    0,    0,    2]])"
            ]
          },
          "metadata": {},
          "execution_count": 5
        }
      ]
    },
    {
      "cell_type": "code",
      "source": [
        "print(13*17)\n",
        "r = s[ s[:,0]==13*17 , : ]\n",
        "print(r.shape)\n",
        "print(r)"
      ],
      "metadata": {
        "colab": {
          "base_uri": "https://localhost:8080/"
        },
        "id": "GuHtF96nP-5R",
        "outputId": "3a3a6c19-ee02-4e2b-958a-db53f89ea36c"
      },
      "execution_count": 6,
      "outputs": [
        {
          "output_type": "stream",
          "name": "stdout",
          "text": [
            "221\n",
            "(480, 5)\n",
            "[[221 289 884 271 866]\n",
            " [221 499 674 481 656]\n",
            " [221 674 499 656 481]\n",
            " ...\n",
            " [221 481 656 499 674]\n",
            " [221 656 481 674 499]\n",
            " [221 866 271 884 289]]\n"
          ]
        }
      ]
    },
    {
      "cell_type": "code",
      "source": [
        "# prompt: given a numpy array a and an integer n, compute the GCD of everything in it with n\n",
        "\n",
        "import numpy as np\n",
        "def array_gcd(a, n):\n",
        "  \"\"\"Computes the GCD of each element in a NumPy array with an integer n.\n",
        "\n",
        "  Args:\n",
        "    a: A NumPy array of integers.\n",
        "    n: An integer.\n",
        "\n",
        "  Returns:\n",
        "    A NumPy array of the same shape as a, where each element is the GCD of the\n",
        "    corresponding element in a and n.\n",
        "  \"\"\"\n",
        "  return np.gcd(a, n)\n",
        "\n",
        "# Example usage:\n",
        "# a = np.array([12, 18, 24])\n",
        "# n = 6\n",
        "# result = array_gcd(a, n)\n",
        "# print(result) # Output: [6 6 6]"
      ],
      "metadata": {
        "id": "xMTfc1QxSFfh"
      },
      "execution_count": 7,
      "outputs": []
    },
    {
      "cell_type": "markdown",
      "source": [
        "(This works, but since we know the actual factors, we can do this more simply.)"
      ],
      "metadata": {
        "id": "L9jvukU4S0A2"
      }
    },
    {
      "cell_type": "code",
      "source": [
        "x = (r % 13 > 0) ^ (r % 17 > 0)\n",
        "sum(x)"
      ],
      "metadata": {
        "colab": {
          "base_uri": "https://localhost:8080/"
        },
        "id": "d9qORrnMTLvq",
        "outputId": "5a360d10-96d5-4d8b-b9d5-4b0ff7f6796e"
      },
      "execution_count": 8,
      "outputs": [
        {
          "output_type": "execute_result",
          "data": {
            "text/plain": [
              "array([ 0, 59, 59, 59, 59])"
            ]
          },
          "metadata": {},
          "execution_count": 8
        }
      ]
    },
    {
      "cell_type": "markdown",
      "source": [
        "The first column makes sense. I'm not sure why the others are the same..."
      ],
      "metadata": {
        "id": "ronMaIe3Ap5T"
      }
    },
    {
      "cell_type": "code",
      "source": [
        "x1 = np.sum(x[:,1:5], axis=1)\n",
        "print(x1.shape)\n",
        "np.unique(x1, return_counts=True)"
      ],
      "metadata": {
        "colab": {
          "base_uri": "https://localhost:8080/"
        },
        "id": "yF3o4q20_KUn",
        "outputId": "5508cba2-49f8-4bf4-8fd3-b354ecf5ccba"
      },
      "execution_count": 9,
      "outputs": [
        {
          "output_type": "stream",
          "name": "stdout",
          "text": [
            "(480,)\n"
          ]
        },
        {
          "output_type": "execute_result",
          "data": {
            "text/plain": [
              "(array([0, 1, 2]), array([284, 156,  40]))"
            ]
          },
          "metadata": {},
          "execution_count": 9
        }
      ]
    },
    {
      "cell_type": "code",
      "source": [
        "2*4*6*10"
      ],
      "metadata": {
        "colab": {
          "base_uri": "https://localhost:8080/"
        },
        "id": "s0LSPMCj_x1w",
        "outputId": "54dd4275-923d-4e05-f363-115dfb3e4853"
      },
      "execution_count": 10,
      "outputs": [
        {
          "output_type": "execute_result",
          "data": {
            "text/plain": [
              "480"
            ]
          },
          "metadata": {},
          "execution_count": 10
        }
      ]
    },
    {
      "cell_type": "code",
      "source": [
        "13*17"
      ],
      "metadata": {
        "colab": {
          "base_uri": "https://localhost:8080/"
        },
        "id": "Xi3p-kNrA1fE",
        "outputId": "fb49cb51-5833-4cd0-dbff-24da0456ee8e"
      },
      "execution_count": 11,
      "outputs": [
        {
          "output_type": "execute_result",
          "data": {
            "text/plain": [
              "221"
            ]
          },
          "metadata": {},
          "execution_count": 11
        }
      ]
    },
    {
      "cell_type": "code",
      "source": [
        "# prompt: Given a list of primes whose product is m, get the numbers in 1..m which are members of the multiplicative group.\n",
        "\n",
        "def multiplicative_group_members(primes):\n",
        "  \"\"\"Gets the numbers in 1..m which are members of the multiplicative group.\n",
        "\n",
        "  Args:\n",
        "    primes: A list of prime numbers.\n",
        "\n",
        "  Returns:\n",
        "    A list of numbers in 1..m that are members of the multiplicative group,\n",
        "    where m is the product of the primes.\n",
        "  \"\"\"\n",
        "  m = math.prod(primes)\n",
        "  members = []\n",
        "  for num in range(1, m + 1):\n",
        "    is_member = True\n",
        "    for p in primes:\n",
        "      if math.gcd(num, p) != 1:\n",
        "        is_member = False\n",
        "        break\n",
        "    if is_member:\n",
        "      members.append(num)\n",
        "  return members\n",
        "\n",
        "# Example usage:\n",
        "# m_members = multiplicative_group_members(primes)\n",
        "# print(m_members)"
      ],
      "metadata": {
        "id": "1MiA45OqFJpT"
      },
      "execution_count": 12,
      "outputs": []
    },
    {
      "cell_type": "markdown",
      "source": [
        "## Which primes to use?\n",
        "\n",
        "Presumably, we'll want to use some small primes. However, some of them don't seem like useful choices:\n",
        "- 2: presumably we'll be trying to factor an odd number as a product of two primes, so this doesn't help\n",
        "- 3: this seems to only say \"the number is +1 or -1 (mod 3)\", which is true in any case\n",
        "- 5: the quadratic residues 1, 4, 9, 16 are +1, -1, -1, +1 (mod 5), respectively (so 1, and -1 = 4 mod 5). The only two possible differences between these are 2 and 3 -- so if $N \\equiv 1 \\mathrm{or} 4 (\\mathrm{mod} 5), then we can't factor it.\n",
        "\n",
        "It seems like the issue with 5 should go away for larger $p$. After all, mod p, there are p/2 quadratic residues, and we can take the difference between any of the (p/2 choose 2) pairs of them. Here, we check this for a few $p$:"
      ],
      "metadata": {
        "id": "wkeSu6pN2A8_"
      }
    },
    {
      "cell_type": "code",
      "source": [
        "# prompt: write a function which, given a prime p, computes a set which is the multiplicative group (mod p), then the quadratic residues (mod p). It then returns True iff for every x in the multiplicative group, x is congruent to a^2 - b^2 (mod p), for some a and b.\n",
        "\n",
        "def are_all_multiplicative_elements_diff_of_squares(p):\n",
        "    \"\"\"\n",
        "    Given a prime p, computes the multiplicative group (mod p), the quadratic\n",
        "    residues (mod p), and checks if every element in the multiplicative group\n",
        "    is congruent to a^2 - b^2 (mod p) for some a and b.\n",
        "\n",
        "    Args:\n",
        "        p: A prime number.\n",
        "\n",
        "    Returns:\n",
        "        True if for every x in the multiplicative group, x is congruent to\n",
        "        a^2 - b^2 (mod p), for some a and b. False otherwise.\n",
        "    \"\"\"\n",
        "    # jtb: skipping this test, as this assumes p is prime, and\n",
        "    # the function is_not_prime() doesn't exist.\n",
        "    # Also, presumably it should be \"if is_not_prime(p)\".\n",
        "    # if not is_not_prime(p):  # is_not_prime returns True for non-primes\n",
        "    #     return False # p should be a prime\n",
        "\n",
        "    # Compute the multiplicative group (mod p)\n",
        "    multiplicative_group = set()\n",
        "    for i in range(1, p):\n",
        "        multiplicative_group.add(i)\n",
        "\n",
        "    # Compute the quadratic residues (mod p)\n",
        "    quadratic_residues = set()\n",
        "    for a in multiplicative_group:\n",
        "        quadratic_residues.add((a * a) % p)\n",
        "\n",
        "    # Check if every element in the multiplicative group is a difference of two quadratic residues\n",
        "    for x in multiplicative_group:\n",
        "        found_diff = False\n",
        "        for a_sq in quadratic_residues:\n",
        "            for b_sq in quadratic_residues:\n",
        "                if (a_sq - b_sq) % p == x:\n",
        "                    found_diff = True\n",
        "                    break\n",
        "            if found_diff:\n",
        "                break\n",
        "        if not found_diff:\n",
        "            return False\n",
        "\n",
        "    return True"
      ],
      "metadata": {
        "id": "FC8myNLB2AmV"
      },
      "execution_count": 13,
      "outputs": []
    },
    {
      "cell_type": "code",
      "source": [
        "# testing that\n",
        "primes_which_work = [p for p in primes_list\n",
        "                     if p < 100\n",
        "                     and are_all_multiplicative_elements_diff_of_squares(p)]\n",
        "primes_which_work"
      ],
      "metadata": {
        "id": "RYMABpnD4E16",
        "outputId": "8875793d-7ecf-4b55-c739-fbcbefbbab5f",
        "colab": {
          "base_uri": "https://localhost:8080/"
        }
      },
      "execution_count": 14,
      "outputs": [
        {
          "output_type": "execute_result",
          "data": {
            "text/plain": [
              "[7,\n",
              " 11,\n",
              " 13,\n",
              " 17,\n",
              " 19,\n",
              " 23,\n",
              " 29,\n",
              " 31,\n",
              " 37,\n",
              " 41,\n",
              " 43,\n",
              " 47,\n",
              " 53,\n",
              " 59,\n",
              " 61,\n",
              " 67,\n",
              " 71,\n",
              " 73,\n",
              " 79,\n",
              " 83,\n",
              " 89,\n",
              " 97]"
            ]
          },
          "metadata": {},
          "execution_count": 14
        }
      ]
    },
    {
      "cell_type": "markdown",
      "source": [
        "So, it looks like many primes work, if not all of them. (It would be nice to prove this one way or the other.)\n"
      ],
      "metadata": {
        "id": "GxfA_3z83-gr"
      }
    },
    {
      "cell_type": "markdown",
      "source": [
        "## 2nd(ish) try: using more variations on $a+b$ and $a-b$\n",
        "\n",
        "Previously, we basically tried adding together every possibility of $\\pm a + \\pm b$. However, it seems sort of like, if we consider $a \\equiv a_i \\mathrm{mod} p_i$, then note that $(+a_i)^2 \\equiv (-a_i)^2 \\mathrm{mod} p_i$. So we should be able to \"flip\" any \"component\" $a_i$ or $b_i$, and still have a solution to $N = a^2 - b^2$.\n",
        "\n",
        "Also note that $-a \\equiv -a_i \\mathrm{mod} p_i$, and so is like \"flipping\" all of the components. (In other words, this should also include all of $a+b$, $a-b$, and $b-a$.)\n",
        "\n",
        "The question is, how many of these (if any) numbers have a nontrivial shared factor with $N$? To answer this, we modify the previous table a bit:\n"
      ],
      "metadata": {
        "id": "Oi2mQNMDq3wb"
      }
    },
    {
      "cell_type": "code",
      "source": [
        "def mod_table(primes):\n",
        "  \"\"\"Constructs a table of what the numbers are modulo the primes.\n",
        "  Args:\n",
        "    primes: A list of prime numbers.\n",
        "  Returns:\n",
        "    An array with, for row i, the value of i mod each of the primes.\n",
        "  \"\"\"\n",
        "  m = math.prod(primes)\n",
        "  i = np.arange(m)\n",
        "  return i.reshape([m,-1]) % primes\n",
        "\n",
        "mod_table([5,7]).T"
      ],
      "metadata": {
        "id": "WVP54h25zzDD",
        "outputId": "bcaeac8b-c686-4d48-840b-733857cab68c",
        "colab": {
          "base_uri": "https://localhost:8080/"
        }
      },
      "execution_count": 15,
      "outputs": [
        {
          "output_type": "execute_result",
          "data": {
            "text/plain": [
              "array([[0, 1, 2, 3, 4, 0, 1, 2, 3, 4, 0, 1, 2, 3, 4, 0, 1, 2, 3, 4, 0, 1,\n",
              "        2, 3, 4, 0, 1, 2, 3, 4, 0, 1, 2, 3, 4],\n",
              "       [0, 1, 2, 3, 4, 5, 6, 0, 1, 2, 3, 4, 5, 6, 0, 1, 2, 3, 4, 5, 6, 0,\n",
              "        1, 2, 3, 4, 5, 6, 0, 1, 2, 3, 4, 5, 6]])"
            ]
          },
          "metadata": {},
          "execution_count": 15
        }
      ]
    },
    {
      "cell_type": "markdown",
      "source": [
        "We could use the extended Euclid's method to do this, but instead just construct a table."
      ],
      "metadata": {
        "id": "ab4rs_5Cvx7B"
      }
    },
    {
      "cell_type": "code",
      "source": [
        "import math\n",
        "import numpy as np\n",
        "def mod_table(primes):\n",
        "  \"\"\"Given an array of primes, constructs an array containing the number\n",
        "    in [0, primes) congruent to the indices (mod the primes).\n",
        "  Args:\n",
        "    primes: An array of prime numbers.\n",
        "  Returns:\n",
        "    An array with a dimension for each of the primes.\n",
        "  \"\"\"\n",
        "  a = np.zeros(primes, dtype=np.int64)\n",
        "  for i in range(math.prod(primes)):\n",
        "    a[tuple(i%primes)] = i\n",
        "  return a\n",
        "\n",
        "mod_table(np.array([3,5,7]))"
      ],
      "metadata": {
        "id": "0ARmmRQM2Dpa",
        "outputId": "c29ad339-9e5e-49fc-dc41-868d786c320d",
        "colab": {
          "base_uri": "https://localhost:8080/"
        }
      },
      "execution_count": 16,
      "outputs": [
        {
          "output_type": "execute_result",
          "data": {
            "text/plain": [
              "array([[[  0,  15,  30,  45,  60,  75,  90],\n",
              "        [ 21,  36,  51,  66,  81,  96,   6],\n",
              "        [ 42,  57,  72,  87, 102,  12,  27],\n",
              "        [ 63,  78,  93,   3,  18,  33,  48],\n",
              "        [ 84,  99,   9,  24,  39,  54,  69]],\n",
              "\n",
              "       [[ 70,  85, 100,  10,  25,  40,  55],\n",
              "        [ 91,   1,  16,  31,  46,  61,  76],\n",
              "        [  7,  22,  37,  52,  67,  82,  97],\n",
              "        [ 28,  43,  58,  73,  88, 103,  13],\n",
              "        [ 49,  64,  79,  94,   4,  19,  34]],\n",
              "\n",
              "       [[ 35,  50,  65,  80,  95,   5,  20],\n",
              "        [ 56,  71,  86, 101,  11,  26,  41],\n",
              "        [ 77,  92,   2,  17,  32,  47,  62],\n",
              "        [ 98,   8,  23,  38,  53,  68,  83],\n",
              "        [ 14,  29,  44,  59,  74,  89, 104]]])"
            ]
          },
          "metadata": {},
          "execution_count": 16
        }
      ]
    },
    {
      "cell_type": "code",
      "source": [
        "# prompt: Write a function which returns the bit representations of all of the n-bit numbers (in order), as a square numpy array of booleans.\n",
        "\n",
        "import numpy as np\n",
        "def get_bit_representations(n):\n",
        "  \"\"\"Returns the bit representations of all n-bit numbers.\n",
        "\n",
        "  Args:\n",
        "    n: The number of bits.\n",
        "\n",
        "  Returns:\n",
        "    A square NumPy array of booleans, where each row represents an n-bit number.\n",
        "  \"\"\"\n",
        "  num_numbers = 2**n\n",
        "  bit_representations = np.zeros((num_numbers, n), dtype=bool)\n",
        "  for i in range(num_numbers):\n",
        "    for j in range(n):\n",
        "      bit_representations[i, n - 1 - j] = (i >> j) & 1\n",
        "  return bit_representations\n",
        "\n",
        "get_bit_representations(3)\n"
      ],
      "metadata": {
        "id": "FCReCAOpzcDn",
        "outputId": "49d20937-a426-4c32-fdef-c6b9045cc8ee",
        "colab": {
          "base_uri": "https://localhost:8080/"
        }
      },
      "execution_count": 17,
      "outputs": [
        {
          "output_type": "execute_result",
          "data": {
            "text/plain": [
              "array([[False, False, False],\n",
              "       [False, False,  True],\n",
              "       [False,  True, False],\n",
              "       [False,  True,  True],\n",
              "       [ True, False, False],\n",
              "       [ True, False,  True],\n",
              "       [ True,  True, False],\n",
              "       [ True,  True,  True]])"
            ]
          },
          "metadata": {},
          "execution_count": 17
        }
      ]
    },
    {
      "cell_type": "code",
      "source": [
        "def plus_or_minus_mod(primes):\n",
        "  \"\"\"Given a number, computes some numbers.\n",
        "\n",
        "  This is numbers which are \"negated mod some subset of the primes\".\n",
        "  \"\"\"\n",
        "  m = mod_table(primes)\n",
        "  signs = 2 * get_bit_representations(primes.shape[0]) - 1\n",
        "  def f(x):\n",
        "    # compute x, mod all the primes\n",
        "    a = x % primes\n",
        "    # find all combinations of flipping the signs\n",
        "    a_flipped = a * signs % primes\n",
        "    # find corresponding numbers, mod all the primes\n",
        "    y = m[ tuple(a_flipped.T) ]\n",
        "    return y\n",
        "  return f\n",
        "\n",
        "primes = np.array([3,5,7])\n",
        "pm = plus_or_minus_mod(primes)\n",
        "pm(11)"
      ],
      "metadata": {
        "id": "DcZjKmJHwsqs",
        "outputId": "c3b302f3-e84f-432a-f71e-829b1b844403",
        "colab": {
          "base_uri": "https://localhost:8080/"
        }
      },
      "execution_count": 18,
      "outputs": [
        {
          "output_type": "execute_result",
          "data": {
            "text/plain": [
              "array([ 94,   4,  31,  46,  59,  74, 101,  11])"
            ]
          },
          "metadata": {},
          "execution_count": 18
        }
      ]
    },
    {
      "cell_type": "markdown",
      "source": [
        "We now see how often, for a given solution to $a^2-b^2 \\equiv n (\\mathrm{mod} m)$, these numbers share a common factor with $n$.\n",
        "\n"
      ],
      "metadata": {
        "id": "kJA3UZn1KRMh"
      }
    },
    {
      "cell_type": "code",
      "source": [
        "# practice\n",
        "g = multiplicative_group_members(np.array([3,5]))\n",
        "for x in itertools.product(g, g):\n",
        "  print(x)\n",
        "True ^ True"
      ],
      "metadata": {
        "id": "q66-GkMTpUaS",
        "outputId": "13b30c30-733e-4be0-faad-23d5e17e3bf9",
        "colab": {
          "base_uri": "https://localhost:8080/"
        }
      },
      "execution_count": 19,
      "outputs": [
        {
          "output_type": "stream",
          "name": "stdout",
          "text": [
            "(1, 1)\n",
            "(1, 2)\n",
            "(1, 4)\n",
            "(1, 7)\n",
            "(1, 8)\n",
            "(1, 11)\n",
            "(1, 13)\n",
            "(1, 14)\n",
            "(2, 1)\n",
            "(2, 2)\n",
            "(2, 4)\n",
            "(2, 7)\n",
            "(2, 8)\n",
            "(2, 11)\n",
            "(2, 13)\n",
            "(2, 14)\n",
            "(4, 1)\n",
            "(4, 2)\n",
            "(4, 4)\n",
            "(4, 7)\n",
            "(4, 8)\n",
            "(4, 11)\n",
            "(4, 13)\n",
            "(4, 14)\n",
            "(7, 1)\n",
            "(7, 2)\n",
            "(7, 4)\n",
            "(7, 7)\n",
            "(7, 8)\n",
            "(7, 11)\n",
            "(7, 13)\n",
            "(7, 14)\n",
            "(8, 1)\n",
            "(8, 2)\n",
            "(8, 4)\n",
            "(8, 7)\n",
            "(8, 8)\n",
            "(8, 11)\n",
            "(8, 13)\n",
            "(8, 14)\n",
            "(11, 1)\n",
            "(11, 2)\n",
            "(11, 4)\n",
            "(11, 7)\n",
            "(11, 8)\n",
            "(11, 11)\n",
            "(11, 13)\n",
            "(11, 14)\n",
            "(13, 1)\n",
            "(13, 2)\n",
            "(13, 4)\n",
            "(13, 7)\n",
            "(13, 8)\n",
            "(13, 11)\n",
            "(13, 13)\n",
            "(13, 14)\n",
            "(14, 1)\n",
            "(14, 2)\n",
            "(14, 4)\n",
            "(14, 7)\n",
            "(14, 8)\n",
            "(14, 11)\n",
            "(14, 13)\n",
            "(14, 14)\n"
          ]
        },
        {
          "output_type": "execute_result",
          "data": {
            "text/plain": [
              "False"
            ]
          },
          "metadata": {},
          "execution_count": 19
        }
      ]
    },
    {
      "cell_type": "code",
      "source": [
        "def num_with_shared_factor(primes, x1, x2):\n",
        "  \"\"\"\n",
        "\n",
        "    primes: the prime factors in question\n",
        "    x1, x2: the factors of n\n",
        "\n",
        "    Returns a dict with:\n",
        "      keys: pairs (a,b)\n",
        "      values: number of the above numbers sharing a nontrivial factor\n",
        "        with n\n",
        "  \"\"\"\n",
        "  m = math.prod(primes)\n",
        "  n = x1 * x2\n",
        "  pm = plus_or_minus_mod(primes)\n",
        "  def num_with_common_factor(pair):\n",
        "    (a, b) = pair\n",
        "    diffs = [a+b % m\n",
        "      for (a,b) in itertools.product(pm(a), pm(b))]\n",
        "    # a nontrivial common factor needs be divisible by\n",
        "    # one of x1 or x2, but not both\n",
        "    diffs_with_common_factor = [\n",
        "        x for x in diffs if (x%x1==0) ^ (x%x2==0)]\n",
        "    return len(diffs_with_common_factor)\n",
        "  g = multiplicative_group_members(primes)\n",
        "  square_pairs = [(a, b) for (a, b) in itertools.product(g, g)\n",
        "    if (a**2 - b**2) % m == n]\n",
        "  num_factors = { pair: num_with_common_factor(pair)\n",
        "    for pair in square_pairs }\n",
        "  return num_factors\n",
        "\n",
        "primes = np.array([7,11,13,17])\n",
        "\n",
        "print(f\"product of factors = {math.prod(primes)}\")\n",
        "for factors in [(19, 23), (19, 29), (31, 37), (31, 41), (101, 107), (101, 109), (101, 113)]:\n",
        "  print(f\"trying with {factors[0]} * {factors[1]} = {math.prod(factors)}\")\n",
        "  shared_factor_counts = num_with_shared_factor(primes, factors[0], factors[1])\n",
        "  print(len(shared_factor_counts))\n",
        "  print(sum([x > 0 for x in shared_factor_counts.values()]))\n"
      ],
      "metadata": {
        "id": "mTUbbxBRLAqw",
        "outputId": "19d79623-a647-49c1-c700-8fecaedc9ef4",
        "colab": {
          "base_uri": "https://localhost:8080/"
        }
      },
      "execution_count": 20,
      "outputs": [
        {
          "output_type": "stream",
          "name": "stdout",
          "text": [
            "product of factors = 17017\n",
            "trying with 19 * 23 = 437\n",
            "6144\n",
            "6144\n",
            "trying with 19 * 29 = 551\n",
            "6144\n",
            "6144\n",
            "trying with 31 * 37 = 1147\n",
            "3072\n",
            "3072\n",
            "trying with 31 * 41 = 1271\n",
            "3072\n",
            "3072\n",
            "trying with 101 * 107 = 10807\n",
            "4096\n",
            "4096\n",
            "trying with 101 * 109 = 11009\n",
            "6144\n",
            "6144\n",
            "trying with 101 * 113 = 11413\n",
            "4096\n",
            "4096\n"
          ]
        }
      ]
    },
    {
      "cell_type": "markdown",
      "source": [
        "(The above function is slooooow.)\n",
        "\n",
        "So this sometimes seems to work (if there is a solution to the congruence). Also, there are at least *some* solutions to the congruence (e.g., if $N = xy$, then if we solve $x=a+b$ and $y=a-b$, that would be a solution.)\n",
        "\n",
        "It's not clear how often it would work, though...\n"
      ],
      "metadata": {
        "id": "NAYfvyBit0Zo"
      }
    },
    {
      "cell_type": "markdown",
      "source": [
        "\n",
        "## Original attempt\n",
        "\n",
        "(Below is my first attempt at this, which uses sampling, and is probably slower.)\n",
        "\n",
        "First, for a given set of primes, we find the members of the multiplicative group.\n",
        "\n"
      ],
      "metadata": {
        "id": "K6y7xh7tDOLU"
      }
    },
    {
      "cell_type": "markdown",
      "source": [
        "(This works. However, it might be faster to either check if any `p` in `primes` divides `num`, or check `math.gcd(num, m)!=1`. Admittedly, I'm not sure which of these would be faster.)"
      ],
      "metadata": {
        "id": "O_ueL0FUL0At"
      }
    },
    {
      "cell_type": "code",
      "source": [
        "len(multiplicative_group_members(primes))"
      ],
      "metadata": {
        "colab": {
          "base_uri": "https://localhost:8080/"
        },
        "id": "5gVhJTPn_Coj",
        "outputId": "de9ef46b-f740-4f49-f399-1993a7e9a89d"
      },
      "execution_count": 21,
      "outputs": [
        {
          "output_type": "execute_result",
          "data": {
            "text/plain": [
              "11520"
            ]
          },
          "metadata": {},
          "execution_count": 21
        }
      ]
    },
    {
      "cell_type": "code",
      "source": [
        "# prompt: Write a function which is given a list `p` of primes, and first computes their product, `m`, and the elements of 1..m which form a multiplicative group.\n",
        "# It should then sample numbers N, which are a product of exactly two primes, and use sampling to find pairs `a` and `b` such that a^2-b^2 = N (mod m).\n",
        "# For each of these, it should then check whether N and _any_ of a+b, a-b, or b-a share a common factor.\n",
        "# It should expect \"number of samples\" as an argument. It should return a list of, for each sample:\n",
        "# - N\n",
        "# - a, b\n",
        "\n",
        "def solve_and_check_common_factors(p, num_samples):\n",
        "    \"\"\"\n",
        "    Samples numbers N (product of two primes) and finds pairs (a, b)\n",
        "    such that a^2 - b^2 = N (mod m), then checks for common factors.\n",
        "\n",
        "    Args:\n",
        "        p: A list of prime numbers.\n",
        "        num_samples: The number of samples to take.\n",
        "\n",
        "    Returns:\n",
        "        A list of tuples, where each tuple contains (N, (a, b)).\n",
        "    \"\"\"\n",
        "    m = math.prod(p)\n",
        "    m_members = multiplicative_group_members(p)\n",
        "\n",
        "    results = []\n",
        "\n",
        "    # Create a list of possible two-prime products within a reasonable range\n",
        "    possible_Ns = []\n",
        "    primes1 = [p for p in primes if p!=2 and p<math.sqrt(m+1)]\n",
        "    for i in range(len(primes)):\n",
        "        for j in range(i, len(primes)):\n",
        "            n = primes[i] * primes[j]\n",
        "            if n < m: # Ensure N is less than m for modulo operations\n",
        "                possible_Ns.append(n)\n",
        "\n",
        "    for _ in range(num_samples):\n",
        "        # Randomly sample an N which is a product of two primes\n",
        "        N = random.choice(possible_Ns)\n",
        "        if N >= m:\n",
        "          continue\n",
        "        num_congruent = 0\n",
        "        num_with_common_factor = 0\n",
        "        for _ in range(100000): # Try random pairs of a and b\n",
        "            a = random.choice(m_members)\n",
        "            b = random.choice(m_members)\n",
        "            # Check if a^2 - b^2 = N (mod m)\n",
        "            if (a**2 - b**2) % m == N % m:\n",
        "              num_congruent += 1\n",
        "              if has_common_factor(N, a, b):\n",
        "                num_with_common_factor += 1\n",
        "        results.append({\"m\": m, \"N\": N,\n",
        "                        \"num_congruent\": num_congruent,\n",
        "                        \"num_with_common_factor\": num_with_common_factor,\n",
        "                        \"p_common_factor\": num_with_common_factor / num_congruent})\n",
        "\n",
        "\n",
        "    return results\n",
        "\n",
        "# Example usage:\n",
        "p = [79,83] # [59,71] # [37,59]\n",
        "sample_results = solve_and_check_common_factors(p, 100)\n",
        "for x in sample_results:\n",
        "  print(x)"
      ],
      "metadata": {
        "colab": {
          "base_uri": "https://localhost:8080/"
        },
        "id": "O4s9rf1uSrR2",
        "outputId": "d7b33444-ef85-487a-db39-aecba11ae7e7"
      },
      "execution_count": 22,
      "outputs": [
        {
          "output_type": "stream",
          "name": "stdout",
          "text": [
            "{'m': 6557, 'N': np.int64(49), 'num_congruent': 14, 'num_with_common_factor': 5, 'p_common_factor': 0.35714285714285715}\n",
            "{'m': 6557, 'N': np.int64(119), 'num_congruent': 17, 'num_with_common_factor': 2, 'p_common_factor': 0.11764705882352941}\n",
            "{'m': 6557, 'N': np.int64(187), 'num_congruent': 12, 'num_with_common_factor': 3, 'p_common_factor': 0.25}\n",
            "{'m': 6557, 'N': np.int64(169), 'num_congruent': 16, 'num_with_common_factor': 1, 'p_common_factor': 0.0625}\n",
            "{'m': 6557, 'N': np.int64(91), 'num_congruent': 14, 'num_with_common_factor': 5, 'p_common_factor': 0.35714285714285715}\n",
            "{'m': 6557, 'N': np.int64(119), 'num_congruent': 13, 'num_with_common_factor': 6, 'p_common_factor': 0.46153846153846156}\n",
            "{'m': 6557, 'N': np.int64(91), 'num_congruent': 15, 'num_with_common_factor': 3, 'p_common_factor': 0.2}\n",
            "{'m': 6557, 'N': np.int64(169), 'num_congruent': 19, 'num_with_common_factor': 2, 'p_common_factor': 0.10526315789473684}\n",
            "{'m': 6557, 'N': np.int64(221), 'num_congruent': 14, 'num_with_common_factor': 4, 'p_common_factor': 0.2857142857142857}\n",
            "{'m': 6557, 'N': np.int64(169), 'num_congruent': 18, 'num_with_common_factor': 3, 'p_common_factor': 0.16666666666666666}\n",
            "{'m': 6557, 'N': np.int64(221), 'num_congruent': 18, 'num_with_common_factor': 4, 'p_common_factor': 0.2222222222222222}\n",
            "{'m': 6557, 'N': np.int64(169), 'num_congruent': 12, 'num_with_common_factor': 2, 'p_common_factor': 0.16666666666666666}\n",
            "{'m': 6557, 'N': np.int64(143), 'num_congruent': 14, 'num_with_common_factor': 2, 'p_common_factor': 0.14285714285714285}\n",
            "{'m': 6557, 'N': np.int64(221), 'num_congruent': 12, 'num_with_common_factor': 3, 'p_common_factor': 0.25}\n",
            "{'m': 6557, 'N': np.int64(49), 'num_congruent': 15, 'num_with_common_factor': 8, 'p_common_factor': 0.5333333333333333}\n",
            "{'m': 6557, 'N': np.int64(91), 'num_congruent': 10, 'num_with_common_factor': 4, 'p_common_factor': 0.4}\n",
            "{'m': 6557, 'N': np.int64(187), 'num_congruent': 20, 'num_with_common_factor': 5, 'p_common_factor': 0.25}\n",
            "{'m': 6557, 'N': np.int64(187), 'num_congruent': 15, 'num_with_common_factor': 4, 'p_common_factor': 0.26666666666666666}\n",
            "{'m': 6557, 'N': np.int64(119), 'num_congruent': 12, 'num_with_common_factor': 3, 'p_common_factor': 0.25}\n",
            "{'m': 6557, 'N': np.int64(49), 'num_congruent': 9, 'num_with_common_factor': 4, 'p_common_factor': 0.4444444444444444}\n",
            "{'m': 6557, 'N': np.int64(187), 'num_congruent': 14, 'num_with_common_factor': 6, 'p_common_factor': 0.42857142857142855}\n",
            "{'m': 6557, 'N': np.int64(77), 'num_congruent': 13, 'num_with_common_factor': 4, 'p_common_factor': 0.3076923076923077}\n",
            "{'m': 6557, 'N': np.int64(91), 'num_congruent': 14, 'num_with_common_factor': 6, 'p_common_factor': 0.42857142857142855}\n",
            "{'m': 6557, 'N': np.int64(119), 'num_congruent': 14, 'num_with_common_factor': 6, 'p_common_factor': 0.42857142857142855}\n",
            "{'m': 6557, 'N': np.int64(221), 'num_congruent': 17, 'num_with_common_factor': 1, 'p_common_factor': 0.058823529411764705}\n",
            "{'m': 6557, 'N': np.int64(121), 'num_congruent': 12, 'num_with_common_factor': 5, 'p_common_factor': 0.4166666666666667}\n",
            "{'m': 6557, 'N': np.int64(121), 'num_congruent': 18, 'num_with_common_factor': 3, 'p_common_factor': 0.16666666666666666}\n",
            "{'m': 6557, 'N': np.int64(187), 'num_congruent': 14, 'num_with_common_factor': 4, 'p_common_factor': 0.2857142857142857}\n",
            "{'m': 6557, 'N': np.int64(49), 'num_congruent': 21, 'num_with_common_factor': 7, 'p_common_factor': 0.3333333333333333}\n",
            "{'m': 6557, 'N': np.int64(49), 'num_congruent': 12, 'num_with_common_factor': 2, 'p_common_factor': 0.16666666666666666}\n",
            "{'m': 6557, 'N': np.int64(119), 'num_congruent': 17, 'num_with_common_factor': 4, 'p_common_factor': 0.23529411764705882}\n",
            "{'m': 6557, 'N': np.int64(187), 'num_congruent': 20, 'num_with_common_factor': 4, 'p_common_factor': 0.2}\n",
            "{'m': 6557, 'N': np.int64(169), 'num_congruent': 20, 'num_with_common_factor': 0, 'p_common_factor': 0.0}\n",
            "{'m': 6557, 'N': np.int64(221), 'num_congruent': 18, 'num_with_common_factor': 6, 'p_common_factor': 0.3333333333333333}\n",
            "{'m': 6557, 'N': np.int64(91), 'num_congruent': 15, 'num_with_common_factor': 8, 'p_common_factor': 0.5333333333333333}\n",
            "{'m': 6557, 'N': np.int64(221), 'num_congruent': 17, 'num_with_common_factor': 4, 'p_common_factor': 0.23529411764705882}\n",
            "{'m': 6557, 'N': np.int64(77), 'num_congruent': 18, 'num_with_common_factor': 10, 'p_common_factor': 0.5555555555555556}\n",
            "{'m': 6557, 'N': np.int64(143), 'num_congruent': 9, 'num_with_common_factor': 2, 'p_common_factor': 0.2222222222222222}\n",
            "{'m': 6557, 'N': np.int64(119), 'num_congruent': 14, 'num_with_common_factor': 3, 'p_common_factor': 0.21428571428571427}\n",
            "{'m': 6557, 'N': np.int64(143), 'num_congruent': 18, 'num_with_common_factor': 4, 'p_common_factor': 0.2222222222222222}\n",
            "{'m': 6557, 'N': np.int64(119), 'num_congruent': 9, 'num_with_common_factor': 5, 'p_common_factor': 0.5555555555555556}\n",
            "{'m': 6557, 'N': np.int64(143), 'num_congruent': 16, 'num_with_common_factor': 5, 'p_common_factor': 0.3125}\n",
            "{'m': 6557, 'N': np.int64(289), 'num_congruent': 20, 'num_with_common_factor': 2, 'p_common_factor': 0.1}\n",
            "{'m': 6557, 'N': np.int64(169), 'num_congruent': 12, 'num_with_common_factor': 1, 'p_common_factor': 0.08333333333333333}\n",
            "{'m': 6557, 'N': np.int64(289), 'num_congruent': 14, 'num_with_common_factor': 2, 'p_common_factor': 0.14285714285714285}\n",
            "{'m': 6557, 'N': np.int64(77), 'num_congruent': 14, 'num_with_common_factor': 5, 'p_common_factor': 0.35714285714285715}\n",
            "{'m': 6557, 'N': np.int64(143), 'num_congruent': 18, 'num_with_common_factor': 2, 'p_common_factor': 0.1111111111111111}\n",
            "{'m': 6557, 'N': np.int64(119), 'num_congruent': 9, 'num_with_common_factor': 1, 'p_common_factor': 0.1111111111111111}\n",
            "{'m': 6557, 'N': np.int64(77), 'num_congruent': 20, 'num_with_common_factor': 6, 'p_common_factor': 0.3}\n",
            "{'m': 6557, 'N': np.int64(91), 'num_congruent': 5, 'num_with_common_factor': 3, 'p_common_factor': 0.6}\n",
            "{'m': 6557, 'N': np.int64(119), 'num_congruent': 21, 'num_with_common_factor': 12, 'p_common_factor': 0.5714285714285714}\n",
            "{'m': 6557, 'N': np.int64(221), 'num_congruent': 15, 'num_with_common_factor': 2, 'p_common_factor': 0.13333333333333333}\n",
            "{'m': 6557, 'N': np.int64(221), 'num_congruent': 17, 'num_with_common_factor': 4, 'p_common_factor': 0.23529411764705882}\n",
            "{'m': 6557, 'N': np.int64(169), 'num_congruent': 19, 'num_with_common_factor': 1, 'p_common_factor': 0.05263157894736842}\n",
            "{'m': 6557, 'N': np.int64(121), 'num_congruent': 13, 'num_with_common_factor': 0, 'p_common_factor': 0.0}\n",
            "{'m': 6557, 'N': np.int64(121), 'num_congruent': 9, 'num_with_common_factor': 2, 'p_common_factor': 0.2222222222222222}\n",
            "{'m': 6557, 'N': np.int64(143), 'num_congruent': 16, 'num_with_common_factor': 3, 'p_common_factor': 0.1875}\n",
            "{'m': 6557, 'N': np.int64(187), 'num_congruent': 13, 'num_with_common_factor': 2, 'p_common_factor': 0.15384615384615385}\n",
            "{'m': 6557, 'N': np.int64(119), 'num_congruent': 15, 'num_with_common_factor': 4, 'p_common_factor': 0.26666666666666666}\n",
            "{'m': 6557, 'N': np.int64(187), 'num_congruent': 17, 'num_with_common_factor': 6, 'p_common_factor': 0.35294117647058826}\n",
            "{'m': 6557, 'N': np.int64(77), 'num_congruent': 11, 'num_with_common_factor': 2, 'p_common_factor': 0.18181818181818182}\n",
            "{'m': 6557, 'N': np.int64(187), 'num_congruent': 13, 'num_with_common_factor': 3, 'p_common_factor': 0.23076923076923078}\n",
            "{'m': 6557, 'N': np.int64(77), 'num_congruent': 13, 'num_with_common_factor': 5, 'p_common_factor': 0.38461538461538464}\n",
            "{'m': 6557, 'N': np.int64(143), 'num_congruent': 20, 'num_with_common_factor': 6, 'p_common_factor': 0.3}\n",
            "{'m': 6557, 'N': np.int64(221), 'num_congruent': 11, 'num_with_common_factor': 4, 'p_common_factor': 0.36363636363636365}\n",
            "{'m': 6557, 'N': np.int64(289), 'num_congruent': 14, 'num_with_common_factor': 3, 'p_common_factor': 0.21428571428571427}\n",
            "{'m': 6557, 'N': np.int64(121), 'num_congruent': 11, 'num_with_common_factor': 2, 'p_common_factor': 0.18181818181818182}\n",
            "{'m': 6557, 'N': np.int64(77), 'num_congruent': 5, 'num_with_common_factor': 3, 'p_common_factor': 0.6}\n",
            "{'m': 6557, 'N': np.int64(77), 'num_congruent': 18, 'num_with_common_factor': 6, 'p_common_factor': 0.3333333333333333}\n",
            "{'m': 6557, 'N': np.int64(91), 'num_congruent': 12, 'num_with_common_factor': 4, 'p_common_factor': 0.3333333333333333}\n",
            "{'m': 6557, 'N': np.int64(289), 'num_congruent': 11, 'num_with_common_factor': 2, 'p_common_factor': 0.18181818181818182}\n",
            "{'m': 6557, 'N': np.int64(121), 'num_congruent': 11, 'num_with_common_factor': 3, 'p_common_factor': 0.2727272727272727}\n",
            "{'m': 6557, 'N': np.int64(77), 'num_congruent': 15, 'num_with_common_factor': 5, 'p_common_factor': 0.3333333333333333}\n",
            "{'m': 6557, 'N': np.int64(221), 'num_congruent': 12, 'num_with_common_factor': 0, 'p_common_factor': 0.0}\n",
            "{'m': 6557, 'N': np.int64(77), 'num_congruent': 13, 'num_with_common_factor': 5, 'p_common_factor': 0.38461538461538464}\n",
            "{'m': 6557, 'N': np.int64(49), 'num_congruent': 17, 'num_with_common_factor': 5, 'p_common_factor': 0.29411764705882354}\n",
            "{'m': 6557, 'N': np.int64(221), 'num_congruent': 20, 'num_with_common_factor': 2, 'p_common_factor': 0.1}\n",
            "{'m': 6557, 'N': np.int64(49), 'num_congruent': 10, 'num_with_common_factor': 3, 'p_common_factor': 0.3}\n",
            "{'m': 6557, 'N': np.int64(143), 'num_congruent': 9, 'num_with_common_factor': 3, 'p_common_factor': 0.3333333333333333}\n",
            "{'m': 6557, 'N': np.int64(221), 'num_congruent': 13, 'num_with_common_factor': 2, 'p_common_factor': 0.15384615384615385}\n",
            "{'m': 6557, 'N': np.int64(119), 'num_congruent': 22, 'num_with_common_factor': 5, 'p_common_factor': 0.22727272727272727}\n",
            "{'m': 6557, 'N': np.int64(49), 'num_congruent': 15, 'num_with_common_factor': 2, 'p_common_factor': 0.13333333333333333}\n",
            "{'m': 6557, 'N': np.int64(187), 'num_congruent': 14, 'num_with_common_factor': 2, 'p_common_factor': 0.14285714285714285}\n",
            "{'m': 6557, 'N': np.int64(49), 'num_congruent': 10, 'num_with_common_factor': 2, 'p_common_factor': 0.2}\n",
            "{'m': 6557, 'N': np.int64(91), 'num_congruent': 13, 'num_with_common_factor': 4, 'p_common_factor': 0.3076923076923077}\n",
            "{'m': 6557, 'N': np.int64(91), 'num_congruent': 11, 'num_with_common_factor': 3, 'p_common_factor': 0.2727272727272727}\n",
            "{'m': 6557, 'N': np.int64(77), 'num_congruent': 20, 'num_with_common_factor': 10, 'p_common_factor': 0.5}\n",
            "{'m': 6557, 'N': np.int64(289), 'num_congruent': 17, 'num_with_common_factor': 0, 'p_common_factor': 0.0}\n",
            "{'m': 6557, 'N': np.int64(169), 'num_congruent': 21, 'num_with_common_factor': 1, 'p_common_factor': 0.047619047619047616}\n",
            "{'m': 6557, 'N': np.int64(121), 'num_congruent': 20, 'num_with_common_factor': 3, 'p_common_factor': 0.15}\n",
            "{'m': 6557, 'N': np.int64(91), 'num_congruent': 15, 'num_with_common_factor': 6, 'p_common_factor': 0.4}\n",
            "{'m': 6557, 'N': np.int64(143), 'num_congruent': 9, 'num_with_common_factor': 1, 'p_common_factor': 0.1111111111111111}\n",
            "{'m': 6557, 'N': np.int64(77), 'num_congruent': 21, 'num_with_common_factor': 6, 'p_common_factor': 0.2857142857142857}\n",
            "{'m': 6557, 'N': np.int64(187), 'num_congruent': 12, 'num_with_common_factor': 5, 'p_common_factor': 0.4166666666666667}\n",
            "{'m': 6557, 'N': np.int64(169), 'num_congruent': 17, 'num_with_common_factor': 1, 'p_common_factor': 0.058823529411764705}\n",
            "{'m': 6557, 'N': np.int64(221), 'num_congruent': 22, 'num_with_common_factor': 2, 'p_common_factor': 0.09090909090909091}\n",
            "{'m': 6557, 'N': np.int64(187), 'num_congruent': 17, 'num_with_common_factor': 6, 'p_common_factor': 0.35294117647058826}\n",
            "{'m': 6557, 'N': np.int64(77), 'num_congruent': 15, 'num_with_common_factor': 7, 'p_common_factor': 0.4666666666666667}\n",
            "{'m': 6557, 'N': np.int64(91), 'num_congruent': 14, 'num_with_common_factor': 1, 'p_common_factor': 0.07142857142857142}\n",
            "{'m': 6557, 'N': np.int64(119), 'num_congruent': 16, 'num_with_common_factor': 5, 'p_common_factor': 0.3125}\n"
          ]
        }
      ]
    },
    {
      "cell_type": "markdown",
      "source": [
        "We now plot how often a common factor is found."
      ],
      "metadata": {
        "id": "_BQLjTzkjcZq"
      }
    },
    {
      "cell_type": "code",
      "source": [
        "sample_results = pandas.DataFrame(sample_results)\n",
        "sample_results.plot.scatter(x='N', y='p_common_factor', alpha=0.5)"
      ],
      "metadata": {
        "id": "jgFaIxrhjjVR",
        "outputId": "2fe1c2c1-d761-4ce5-90ba-02f827f351d1",
        "colab": {
          "base_uri": "https://localhost:8080/",
          "height": 466
        }
      },
      "execution_count": 23,
      "outputs": [
        {
          "output_type": "execute_result",
          "data": {
            "text/plain": [
              "<Axes: xlabel='N', ylabel='p_common_factor'>"
            ]
          },
          "metadata": {},
          "execution_count": 23
        },
        {
          "output_type": "display_data",
          "data": {
            "text/plain": [
              "<Figure size 640x480 with 1 Axes>"
            ],
            "image/png": "[encoded data removed]"
          },
          "metadata": {}
        }
      ]
    },
    {
      "cell_type": "markdown",
      "source": [
        "It looks like, if $a$ and $b$ are found which satisfy the congruence, there's some chance that $a+b$, $a-b$, or $b-a$ will share a factor with $N$.\n",
        "\n",
        "However, it's presumably not easy to find such $a$ and $b$."
      ],
      "metadata": {
        "id": "z90qDZJKk9Bs"
      }
    }
  ]
}