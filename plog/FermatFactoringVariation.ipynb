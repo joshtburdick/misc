{
  "nbformat": 4,
  "nbformat_minor": 0,
  "metadata": {
    "colab": {
      "provenance": [],
      "authorship_tag": "ABX9TyNEuyuc6HH7xuOxdjIpk0xY",
      "include_colab_link": true
    },
    "kernelspec": {
      "name": "python3",
      "display_name": "Python 3"
    },
    "language_info": {
      "name": "python"
    }
  },
  "cells": [
    {
      "cell_type": "markdown",
      "metadata": {
        "id": "view-in-github",
        "colab_type": "text"
      },
      "source": [
        "<a href=\"https://colab.research.google.com/github/joshtburdick/misc/blob/master/plog/FermatFactoringVariation.ipynb\" target=\"_parent\"><img src=\"https://colab.research.google.com/assets/colab-badge.svg\" alt=\"Open In Colab\"/></a>"
      ]
    },
    {
      "cell_type": "markdown",
      "source": [
        "# A variation on Fermat's factoring method\n",
        "\n",
        "This is a variation on [Fermat's factoring method](https://en.wikipedia.org/wiki/Fermat%27s_factorization_method),\n",
        "which tries to write a number $N$ as a difference of squares $N = a^2 - b^2$.\n",
        "\n",
        "However, here, rather than requiring this to be exact, we only require to be true modulo a product of small primes $m = \\prod p_i$.\n",
        "It's not obvious that trying to solve these separately makes for an easier problem.\n",
        "\n",
        "Here, we *only* ask ask the question:\n",
        "\n",
        "For a given set of small primes $p_i$, suppose we wish to factor $N$ (which is less than $m = \\prod p_i$). Suppose we find $a$ and $b$ such that, for all $i$,\n",
        "\n",
        "$a^2 - b^2 \\equiv N   ({\\rm mod} p_i)$\n",
        "\n",
        "How often is it the case that any of $a+b$, $a-b$, or $b-a$ shares a\n",
        "common factor (other than 1) with $N$?\n",
        "\n",
        "(As a quick check, pasting that into \"Generate\"; here's what I get.)\n",
        "\n",
        "\n"
      ],
      "metadata": {
        "id": "Jnlr0fBbl2fp"
      }
    },
    {
      "cell_type": "code",
      "execution_count": 1,
      "metadata": {
        "id": "jCnmeZ0NlyuS"
      },
      "outputs": [],
      "source": [
        "# prompt: This is a variation on Fermat's factoring method. It tries to write a number  𝑁  as a difference of squares  𝑁=𝑎2−𝑏2 .\n",
        "# However, here, rather than requiring this to be exact, we only require to be true modulo a product of small primes  𝑚=∏𝑝𝑖 . It's not obvious that trying to solve these separately makes for an easier problem.\n",
        "# Here, we only ask ask the question:\n",
        "# For a given set of small primes  𝑝𝑖 , suppose we wish to factor  𝑁  (which is less than  𝑚=∏𝑝𝑖 ). Suppose we find  𝑎  and  𝑏  such that, for all  𝑖 ,\n",
        "# 𝑎2−𝑏2≅𝑁(mod𝑝𝑖)\n",
        "# How often is it the case that any of  𝑎+𝑏 ,  𝑎−𝑏 , or  𝑏−𝑎  shares a common factor (other than 1) with  𝑁 ?\n",
        "\n",
        "def has_common_factor(N, a, b):\n",
        "  \"\"\"Checks if a+b, a-b, or b-a share a common factor with N.\n",
        "\n",
        "  Args:\n",
        "    N: The number to factor.\n",
        "    a: One of the integers in the difference of squares.\n",
        "    b: The other integer in the difference of squares.\n",
        "\n",
        "  Returns:\n",
        "    True if there is a common factor, False otherwise.\n",
        "  \"\"\"\n",
        "  import math\n",
        "\n",
        "  if 1<math.gcd(abs(a + b), N)<N:\n",
        "    return True\n",
        "  if 1<math.gcd(abs(a - b), N)<N:\n",
        "    return True\n",
        "  if 1<math.gcd(abs(b - a), N)<N:\n",
        "    return True\n",
        "  return False"
      ]
    },
    {
      "cell_type": "code",
      "source": [
        "import math\n",
        "import matplotlib\n",
        "from matplotlib import pyplot as plt\n",
        "import numpy as np\n",
        "import pandas\n",
        "import random"
      ],
      "metadata": {
        "id": "xFRDSzMMFdpp"
      },
      "execution_count": 2,
      "outputs": []
    },
    {
      "cell_type": "code",
      "source": [
        "# prompt: Get the first few hundred prime numbers. Feel free to use whatever Python libraries simplify this.\n",
        "\n",
        "!pip install sympy\n",
        "\n",
        "from sympy import primerange\n",
        "\n",
        "primes = list(primerange(2, 1230)) # Get primes up to roughly the first 2000, as the 200th prime is 1223.\n",
        "primes\n",
        "\n",
        "# how many primes is this?\n",
        "len(primes)\n",
        "# ...close enough"
      ],
      "metadata": {
        "colab": {
          "base_uri": "https://localhost:8080/"
        },
        "id": "gonECbG2AWDr",
        "outputId": "4ce6575d-caad-43c9-ebf3-b0f124471719"
      },
      "execution_count": 3,
      "outputs": [
        {
          "output_type": "stream",
          "name": "stdout",
          "text": [
            "Requirement already satisfied: sympy in /usr/local/lib/python3.11/dist-packages (1.13.1)\n",
            "Requirement already satisfied: mpmath<1.4,>=1.1.0 in /usr/local/lib/python3.11/dist-packages (from sympy) (1.3.0)\n"
          ]
        },
        {
          "output_type": "execute_result",
          "data": {
            "text/plain": [
              "201"
            ]
          },
          "metadata": {},
          "execution_count": 3
        }
      ]
    },
    {
      "cell_type": "markdown",
      "source": [
        "First, for a given set of primes, we find the members of the multiplicative group.\n",
        "\n"
      ],
      "metadata": {
        "id": "K6y7xh7tDOLU"
      }
    },
    {
      "cell_type": "code",
      "source": [
        "# prompt: Given a list of primes whose product is m, get the numbers in 1..m which are members of the multiplicative group.\n",
        "\n",
        "def multiplicative_group_members(primes):\n",
        "  \"\"\"Gets the numbers in 1..m which are members of the multiplicative group.\n",
        "\n",
        "  Args:\n",
        "    primes: A list of prime numbers.\n",
        "\n",
        "  Returns:\n",
        "    A list of numbers in 1..m that are members of the multiplicative group,\n",
        "    where m is the product of the primes.\n",
        "  \"\"\"\n",
        "  m = math.prod(primes)\n",
        "  members = []\n",
        "  for num in range(1, m + 1):\n",
        "    is_member = True\n",
        "    for p in primes:\n",
        "      if math.gcd(num, p) != 1:\n",
        "        is_member = False\n",
        "        break\n",
        "    if is_member:\n",
        "      members.append(num)\n",
        "  return members\n",
        "\n",
        "# Example usage:\n",
        "# m_members = multiplicative_group_members(primes)\n",
        "# print(m_members)"
      ],
      "metadata": {
        "id": "1MiA45OqFJpT"
      },
      "execution_count": 4,
      "outputs": []
    },
    {
      "cell_type": "markdown",
      "source": [
        "(This works. However, it might be faster to either check if any `p` in `primes` divides `num`, or check `math.gcd(num, m)!=1`. Admittedly, I'm not sure which of these would be faster.)"
      ],
      "metadata": {
        "id": "O_ueL0FUL0At"
      }
    },
    {
      "cell_type": "code",
      "source": [
        "# prompt: Write a function which is given a list `p` of primes, and first computes their product, `m`, and the elements of 1..m which form a multiplicative group.\n",
        "# It should then sample numbers N, which are a product of exactly two primes, and use sampling to find pairs `a` and `b` such that a^2-b^2 = N (mod m).\n",
        "# For each of these, it should then check whether N and _any_ of a+b, a-b, or b-a share a common factor.\n",
        "# It should expect \"number of samples\" as an argument. It should return a list of, for each sample:\n",
        "# - N\n",
        "# - a, b\n",
        "\n",
        "def solve_and_check_common_factors(p, num_samples):\n",
        "    \"\"\"\n",
        "    Samples numbers N (product of two primes) and finds pairs (a, b)\n",
        "    such that a^2 - b^2 = N (mod m), then checks for common factors.\n",
        "\n",
        "    Args:\n",
        "        p: A list of prime numbers.\n",
        "        num_samples: The number of samples to take.\n",
        "\n",
        "    Returns:\n",
        "        A list of tuples, where each tuple contains (N, (a, b)).\n",
        "    \"\"\"\n",
        "    m = math.prod(p)\n",
        "    m_members = multiplicative_group_members(p)\n",
        "\n",
        "    results = []\n",
        "\n",
        "    # Create a list of possible two-prime products within a reasonable range\n",
        "    possible_Ns = []\n",
        "    primes1 = [p for p in primes if p!=2 and p<math.sqrt(m+1)]\n",
        "    for i in range(len(primes)):\n",
        "        for j in range(i, len(primes)):\n",
        "            n = primes[i] * primes[j]\n",
        "            if n < m: # Ensure N is less than m for modulo operations\n",
        "                possible_Ns.append(n)\n",
        "\n",
        "    for _ in range(num_samples):\n",
        "        # Randomly sample an N which is a product of two primes\n",
        "        N = random.choice(possible_Ns)\n",
        "        if N >= m:\n",
        "          continue\n",
        "        num_congruent = 0\n",
        "        num_with_common_factor = 0\n",
        "        for _ in range(100000): # Try random pairs of a and b\n",
        "            a = random.choice(m_members)\n",
        "            b = random.choice(m_members)\n",
        "            # Check if a^2 - b^2 = N (mod m)\n",
        "            if (a**2 - b**2) % m == N % m:\n",
        "              num_congruent += 1\n",
        "              if has_common_factor(N, a, b):\n",
        "                num_with_common_factor += 1\n",
        "        results.append({\"m\": m, \"N\": N,\n",
        "                        \"num_congruent\": num_congruent,\n",
        "                        \"num_with_common_factor\": num_with_common_factor,\n",
        "                        \"p_common_factor\": num_with_common_factor / num_congruent})\n",
        "\n",
        "\n",
        "    return results\n",
        "\n",
        "# Example usage:\n",
        "p = [37,59]\n",
        "sample_results = solve_and_check_common_factors(p, 100)\n",
        "for x in sample_results:\n",
        "  print(x)"
      ],
      "metadata": {
        "colab": {
          "base_uri": "https://localhost:8080/"
        },
        "id": "O4s9rf1uSrR2",
        "outputId": "3e256eb7-8570-402d-815c-8732681ea8fa"
      },
      "execution_count": 5,
      "outputs": [
        {
          "output_type": "stream",
          "name": "stdout",
          "text": [
            "{'m': 2183, 'N': 247, 'num_congruent': 46, 'num_with_common_factor': 9, 'p_common_factor': 0.1956521739130435}\n",
            "{'m': 2183, 'N': 166, 'num_congruent': 50, 'num_with_common_factor': 26, 'p_common_factor': 0.52}\n",
            "{'m': 2183, 'N': 319, 'num_congruent': 49, 'num_with_common_factor': 13, 'p_common_factor': 0.2653061224489796}\n",
            "{'m': 2183, 'N': 1286, 'num_congruent': 52, 'num_with_common_factor': 26, 'p_common_factor': 0.5}\n",
            "{'m': 2183, 'N': 91, 'num_congruent': 44, 'num_with_common_factor': 17, 'p_common_factor': 0.38636363636363635}\n",
            "{'m': 2183, 'N': 249, 'num_congruent': 38, 'num_with_common_factor': 19, 'p_common_factor': 0.5}\n",
            "{'m': 2183, 'N': 849, 'num_congruent': 39, 'num_with_common_factor': 19, 'p_common_factor': 0.48717948717948717}\n",
            "{'m': 2183, 'N': 1589, 'num_congruent': 42, 'num_with_common_factor': 9, 'p_common_factor': 0.21428571428571427}\n",
            "{'m': 2183, 'N': 1318, 'num_congruent': 55, 'num_with_common_factor': 28, 'p_common_factor': 0.509090909090909}\n",
            "{'m': 2183, 'N': 38, 'num_congruent': 50, 'num_with_common_factor': 26, 'p_common_factor': 0.52}\n",
            "{'m': 2183, 'N': 958, 'num_congruent': 44, 'num_with_common_factor': 28, 'p_common_factor': 0.6363636363636364}\n",
            "{'m': 2183, 'N': 1337, 'num_congruent': 42, 'num_with_common_factor': 6, 'p_common_factor': 0.14285714285714285}\n",
            "{'m': 2183, 'N': 766, 'num_congruent': 49, 'num_with_common_factor': 22, 'p_common_factor': 0.4489795918367347}\n",
            "{'m': 2183, 'N': 215, 'num_congruent': 44, 'num_with_common_factor': 22, 'p_common_factor': 0.5}\n",
            "{'m': 2183, 'N': 1994, 'num_congruent': 50, 'num_with_common_factor': 25, 'p_common_factor': 0.5}\n",
            "{'m': 2183, 'N': 1841, 'num_congruent': 49, 'num_with_common_factor': 12, 'p_common_factor': 0.24489795918367346}\n",
            "{'m': 2183, 'N': 1165, 'num_congruent': 53, 'num_with_common_factor': 18, 'p_common_factor': 0.33962264150943394}\n",
            "{'m': 2183, 'N': 334, 'num_congruent': 41, 'num_with_common_factor': 17, 'p_common_factor': 0.4146341463414634}\n",
            "{'m': 2183, 'N': 1849, 'num_congruent': 40, 'num_with_common_factor': 2, 'p_common_factor': 0.05}\n",
            "{'m': 2183, 'N': 1073, 'num_congruent': 103, 'num_with_common_factor': 102, 'p_common_factor': 0.9902912621359223}\n",
            "{'m': 2183, 'N': 1803, 'num_congruent': 40, 'num_with_common_factor': 16, 'p_common_factor': 0.4}\n",
            "{'m': 2183, 'N': 1285, 'num_congruent': 51, 'num_with_common_factor': 17, 'p_common_factor': 0.3333333333333333}\n",
            "{'m': 2183, 'N': 799, 'num_congruent': 44, 'num_with_common_factor': 9, 'p_common_factor': 0.20454545454545456}\n",
            "{'m': 2183, 'N': 2138, 'num_congruent': 47, 'num_with_common_factor': 22, 'p_common_factor': 0.46808510638297873}\n",
            "{'m': 2183, 'N': 1059, 'num_congruent': 48, 'num_with_common_factor': 24, 'p_common_factor': 0.5}\n",
            "{'m': 2183, 'N': 1082, 'num_congruent': 35, 'num_with_common_factor': 20, 'p_common_factor': 0.5714285714285714}\n",
            "{'m': 2183, 'N': 1865, 'num_congruent': 44, 'num_with_common_factor': 23, 'p_common_factor': 0.5227272727272727}\n",
            "{'m': 2183, 'N': 1639, 'num_congruent': 36, 'num_with_common_factor': 7, 'p_common_factor': 0.19444444444444445}\n",
            "{'m': 2183, 'N': 707, 'num_congruent': 29, 'num_with_common_factor': 10, 'p_common_factor': 0.3448275862068966}\n",
            "{'m': 2183, 'N': 1882, 'num_congruent': 45, 'num_with_common_factor': 22, 'p_common_factor': 0.4888888888888889}\n",
            "{'m': 2183, 'N': 371, 'num_congruent': 34, 'num_with_common_factor': 12, 'p_common_factor': 0.35294117647058826}\n",
            "{'m': 2183, 'N': 545, 'num_congruent': 32, 'num_with_common_factor': 15, 'p_common_factor': 0.46875}\n",
            "{'m': 2183, 'N': 1115, 'num_congruent': 49, 'num_with_common_factor': 13, 'p_common_factor': 0.2653061224489796}\n",
            "{'m': 2183, 'N': 815, 'num_congruent': 45, 'num_with_common_factor': 13, 'p_common_factor': 0.28888888888888886}\n",
            "{'m': 2183, 'N': 38, 'num_congruent': 38, 'num_with_common_factor': 27, 'p_common_factor': 0.7105263157894737}\n",
            "{'m': 2183, 'N': 1654, 'num_congruent': 51, 'num_with_common_factor': 29, 'p_common_factor': 0.5686274509803921}\n",
            "{'m': 2183, 'N': 1198, 'num_congruent': 47, 'num_with_common_factor': 30, 'p_common_factor': 0.6382978723404256}\n",
            "{'m': 2183, 'N': 302, 'num_congruent': 39, 'num_with_common_factor': 19, 'p_common_factor': 0.48717948717948717}\n",
            "{'m': 2183, 'N': 763, 'num_congruent': 48, 'num_with_common_factor': 12, 'p_common_factor': 0.25}\n",
            "{'m': 2183, 'N': 807, 'num_congruent': 49, 'num_with_common_factor': 28, 'p_common_factor': 0.5714285714285714}\n",
            "{'m': 2183, 'N': 1401, 'num_congruent': 51, 'num_with_common_factor': 26, 'p_common_factor': 0.5098039215686274}\n",
            "{'m': 2183, 'N': 1389, 'num_congruent': 52, 'num_with_common_factor': 30, 'p_common_factor': 0.5769230769230769}\n",
            "{'m': 2183, 'N': 4, 'num_congruent': 43, 'num_with_common_factor': 15, 'p_common_factor': 0.3488372093023256}\n",
            "{'m': 2183, 'N': 1537, 'num_congruent': 59, 'num_with_common_factor': 6, 'p_common_factor': 0.1016949152542373}\n",
            "{'m': 2183, 'N': 1286, 'num_congruent': 42, 'num_with_common_factor': 18, 'p_common_factor': 0.42857142857142855}\n",
            "{'m': 2183, 'N': 1037, 'num_congruent': 41, 'num_with_common_factor': 6, 'p_common_factor': 0.14634146341463414}\n",
            "{'m': 2183, 'N': 803, 'num_congruent': 50, 'num_with_common_factor': 13, 'p_common_factor': 0.26}\n",
            "{'m': 2183, 'N': 226, 'num_congruent': 38, 'num_with_common_factor': 16, 'p_common_factor': 0.42105263157894735}\n",
            "{'m': 2183, 'N': 1906, 'num_congruent': 53, 'num_with_common_factor': 22, 'p_common_factor': 0.41509433962264153}\n",
            "{'m': 2183, 'N': 451, 'num_congruent': 42, 'num_with_common_factor': 8, 'p_common_factor': 0.19047619047619047}\n",
            "{'m': 2183, 'N': 214, 'num_congruent': 37, 'num_with_common_factor': 20, 'p_common_factor': 0.5405405405405406}\n",
            "{'m': 2183, 'N': 2159, 'num_congruent': 53, 'num_with_common_factor': 8, 'p_common_factor': 0.1509433962264151}\n",
            "{'m': 2183, 'N': 469, 'num_congruent': 34, 'num_with_common_factor': 8, 'p_common_factor': 0.23529411764705882}\n",
            "{'m': 2183, 'N': 1267, 'num_congruent': 52, 'num_with_common_factor': 13, 'p_common_factor': 0.25}\n",
            "{'m': 2183, 'N': 511, 'num_congruent': 42, 'num_with_common_factor': 10, 'p_common_factor': 0.23809523809523808}\n",
            "{'m': 2183, 'N': 1329, 'num_congruent': 48, 'num_with_common_factor': 26, 'p_common_factor': 0.5416666666666666}\n",
            "{'m': 2183, 'N': 1273, 'num_congruent': 51, 'num_with_common_factor': 6, 'p_common_factor': 0.11764705882352941}\n",
            "{'m': 2183, 'N': 1154, 'num_congruent': 34, 'num_with_common_factor': 16, 'p_common_factor': 0.47058823529411764}\n",
            "{'m': 2183, 'N': 698, 'num_congruent': 33, 'num_with_common_factor': 15, 'p_common_factor': 0.45454545454545453}\n",
            "{'m': 2183, 'N': 2051, 'num_congruent': 43, 'num_with_common_factor': 12, 'p_common_factor': 0.27906976744186046}\n",
            "{'m': 2183, 'N': 1841, 'num_congruent': 38, 'num_with_common_factor': 17, 'p_common_factor': 0.4473684210526316}\n",
            "{'m': 2183, 'N': 2105, 'num_congruent': 42, 'num_with_common_factor': 14, 'p_common_factor': 0.3333333333333333}\n",
            "{'m': 2183, 'N': 1507, 'num_congruent': 44, 'num_with_common_factor': 6, 'p_common_factor': 0.13636363636363635}\n",
            "{'m': 2183, 'N': 447, 'num_congruent': 43, 'num_with_common_factor': 24, 'p_common_factor': 0.5581395348837209}\n",
            "{'m': 2183, 'N': 1167, 'num_congruent': 45, 'num_with_common_factor': 25, 'p_common_factor': 0.5555555555555556}\n",
            "{'m': 2183, 'N': 142, 'num_congruent': 46, 'num_with_common_factor': 22, 'p_common_factor': 0.4782608695652174}\n",
            "{'m': 2183, 'N': 933, 'num_congruent': 50, 'num_with_common_factor': 33, 'p_common_factor': 0.66}\n",
            "{'m': 2183, 'N': 478, 'num_congruent': 50, 'num_with_common_factor': 23, 'p_common_factor': 0.46}\n",
            "{'m': 2183, 'N': 2182, 'num_congruent': 40, 'num_with_common_factor': 20, 'p_common_factor': 0.5}\n",
            "{'m': 2183, 'N': 634, 'num_congruent': 39, 'num_with_common_factor': 18, 'p_common_factor': 0.46153846153846156}\n",
            "{'m': 2183, 'N': 1841, 'num_congruent': 56, 'num_with_common_factor': 20, 'p_common_factor': 0.35714285714285715}\n",
            "{'m': 2183, 'N': 2026, 'num_congruent': 32, 'num_with_common_factor': 18, 'p_common_factor': 0.5625}\n",
            "{'m': 2183, 'N': 1711, 'num_congruent': 66, 'num_with_common_factor': 63, 'p_common_factor': 0.9545454545454546}\n",
            "{'m': 2183, 'N': 1347, 'num_congruent': 49, 'num_with_common_factor': 33, 'p_common_factor': 0.673469387755102}\n",
            "{'m': 2183, 'N': 1405, 'num_congruent': 41, 'num_with_common_factor': 12, 'p_common_factor': 0.2926829268292683}\n",
            "{'m': 2183, 'N': 2177, 'num_congruent': 48, 'num_with_common_factor': 15, 'p_common_factor': 0.3125}\n",
            "{'m': 2183, 'N': 1418, 'num_congruent': 41, 'num_with_common_factor': 20, 'p_common_factor': 0.4878048780487805}\n",
            "{'m': 2183, 'N': 917, 'num_congruent': 35, 'num_with_common_factor': 10, 'p_common_factor': 0.2857142857142857}\n",
            "{'m': 2183, 'N': 1011, 'num_congruent': 45, 'num_with_common_factor': 22, 'p_common_factor': 0.4888888888888889}\n",
            "{'m': 2183, 'N': 1191, 'num_congruent': 28, 'num_with_common_factor': 19, 'p_common_factor': 0.6785714285714286}\n",
            "{'m': 2183, 'N': 1111, 'num_congruent': 52, 'num_with_common_factor': 13, 'p_common_factor': 0.25}\n",
            "{'m': 2183, 'N': 381, 'num_congruent': 53, 'num_with_common_factor': 25, 'p_common_factor': 0.4716981132075472}\n",
            "{'m': 2183, 'N': 1337, 'num_congruent': 53, 'num_with_common_factor': 10, 'p_common_factor': 0.18867924528301888}\n",
            "{'m': 2183, 'N': 262, 'num_congruent': 35, 'num_with_common_factor': 16, 'p_common_factor': 0.45714285714285713}\n",
            "{'m': 2183, 'N': 737, 'num_congruent': 43, 'num_with_common_factor': 7, 'p_common_factor': 0.16279069767441862}\n",
            "{'m': 2183, 'N': 46, 'num_congruent': 37, 'num_with_common_factor': 19, 'p_common_factor': 0.5135135135135135}\n",
            "{'m': 2183, 'N': 1507, 'num_congruent': 25, 'num_with_common_factor': 5, 'p_common_factor': 0.2}\n",
            "{'m': 2183, 'N': 1205, 'num_congruent': 41, 'num_with_common_factor': 13, 'p_common_factor': 0.3170731707317073}\n",
            "{'m': 2183, 'N': 979, 'num_congruent': 51, 'num_with_common_factor': 11, 'p_common_factor': 0.21568627450980393}\n",
            "{'m': 2183, 'N': 526, 'num_congruent': 41, 'num_with_common_factor': 16, 'p_common_factor': 0.3902439024390244}\n",
            "{'m': 2183, 'N': 1313, 'num_congruent': 56, 'num_with_common_factor': 7, 'p_common_factor': 0.125}\n",
            "{'m': 2183, 'N': 1577, 'num_congruent': 48, 'num_with_common_factor': 5, 'p_common_factor': 0.10416666666666667}\n",
            "{'m': 2183, 'N': 1874, 'num_congruent': 47, 'num_with_common_factor': 18, 'p_common_factor': 0.3829787234042553}\n",
            "{'m': 2183, 'N': 519, 'num_congruent': 39, 'num_with_common_factor': 24, 'p_common_factor': 0.6153846153846154}\n",
            "{'m': 2183, 'N': 1101, 'num_congruent': 32, 'num_with_common_factor': 13, 'p_common_factor': 0.40625}\n",
            "{'m': 2183, 'N': 614, 'num_congruent': 46, 'num_with_common_factor': 19, 'p_common_factor': 0.41304347826086957}\n",
            "{'m': 2183, 'N': 1157, 'num_congruent': 47, 'num_with_common_factor': 11, 'p_common_factor': 0.23404255319148937}\n",
            "{'m': 2183, 'N': 1141, 'num_congruent': 55, 'num_with_common_factor': 16, 'p_common_factor': 0.2909090909090909}\n",
            "{'m': 2183, 'N': 65, 'num_congruent': 34, 'num_with_common_factor': 17, 'p_common_factor': 0.5}\n",
            "{'m': 2183, 'N': 427, 'num_congruent': 56, 'num_with_common_factor': 13, 'p_common_factor': 0.23214285714285715}\n"
          ]
        }
      ]
    },
    {
      "cell_type": "markdown",
      "source": [
        "We now plot how often a common factor is found."
      ],
      "metadata": {
        "id": "_BQLjTzkjcZq"
      }
    },
    {
      "cell_type": "code",
      "source": [
        "sample_results = pandas.DataFrame(sample_results)\n",
        "sample_results.plot.scatter(x='N', y='p_common_factor', alpha=0.5)"
      ],
      "metadata": {
        "colab": {
          "base_uri": "https://localhost:8080/",
          "height": 466
        },
        "id": "jgFaIxrhjjVR",
        "outputId": "8bb4fb9a-8719-4be1-bc15-27b05133f8ba"
      },
      "execution_count": 6,
      "outputs": [
        {
          "output_type": "execute_result",
          "data": {
            "text/plain": [
              "<Axes: xlabel='N', ylabel='p_common_factor'>"
            ]
          },
          "metadata": {},
          "execution_count": 6
        },
        {
          "output_type": "display_data",
          "data": {
            "text/plain": [
              "<Figure size 640x480 with 1 Axes>"
            ],
            "image/png": "[encoded data removed]"
          },
          "metadata": {}
        }
      ]
    },
    {
      "cell_type": "markdown",
      "source": [
        "It looks like, if $a$ and $b$ are found which satisfy the congruence, it is fairly likely that $a+b$, $a-b$, or $b-a$ will share a factor\n",
        "with $N$.\n",
        "\n",
        "However, it's presumably not easy to find such $a$ and $b$."
      ],
      "metadata": {
        "id": "z90qDZJKk9Bs"
      }
    }
  ]
}