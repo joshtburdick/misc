{
  "nbformat": 4,
  "nbformat_minor": 0,
  "metadata": {
    "colab": {
      "provenance": [],
      "authorship_tag": "ABX9TyPFSxMV43UwNWYOgO9ae3Eb",
      "include_colab_link": true
    },
    "kernelspec": {
      "name": "python3",
      "display_name": "Python 3"
    },
    "language_info": {
      "name": "python"
    }
  },
  "cells": [
    {
      "cell_type": "markdown",
      "metadata": {
        "id": "view-in-github",
        "colab_type": "text"
      },
      "source": [
        "<a href=\"https://colab.research.google.com/github/joshtburdick/misc/blob/master/plog/FermatFactoringVariation.ipynb\" target=\"_parent\"><img src=\"https://colab.research.google.com/assets/colab-badge.svg\" alt=\"Open In Colab\"/></a>"
      ]
    },
    {
      "cell_type": "markdown",
      "source": [
        "# A variation on Fermat's factoring method\n",
        "\n",
        "This is a variation on [Fermat's factoring method](https://en.wikipedia.org/wiki/Fermat%27s_factorization_method),\n",
        "which tries to write a number $N$ as a difference of squares $N = a^2 - b^2$.\n",
        "\n",
        "However, here, rather than requiring this to be exact, we only require to be true modulo a product of small primes $m = \\prod p_i$.\n",
        "It's not obvious that trying to solve these separately makes for an easier problem.\n",
        "\n",
        "Here, we *only* ask ask the question:\n",
        "\n",
        "For a given set of small primes $p_i$, suppose we wish to factor $N$ (which is less than $m = \\prod p_i$). Suppose we find $a$ and $b$ such that, for all $i$,\n",
        "\n",
        "$a^2 - b^2 \\equiv N   ({\\rm mod} p_i)$\n",
        "\n",
        "How often is it the case that any of $a+b$, $a-b$, or $b-a$ shares a\n",
        "common factor (other than 1) with $N$?\n",
        "\n",
        "(As a quick check, pasting that into \"Generate\"; here's what I get.)\n",
        "\n",
        "\n"
      ],
      "metadata": {
        "id": "Jnlr0fBbl2fp"
      }
    },
    {
      "cell_type": "code",
      "execution_count": 27,
      "metadata": {
        "id": "jCnmeZ0NlyuS"
      },
      "outputs": [],
      "source": [
        "# prompt: This is a variation on Fermat's factoring method. It tries to write a number  𝑁  as a difference of squares  𝑁=𝑎2−𝑏2 .\n",
        "# However, here, rather than requiring this to be exact, we only require to be true modulo a product of small primes  𝑚=∏𝑝𝑖 . It's not obvious that trying to solve these separately makes for an easier problem.\n",
        "# Here, we only ask ask the question:\n",
        "# For a given set of small primes  𝑝𝑖 , suppose we wish to factor  𝑁  (which is less than  𝑚=∏𝑝𝑖 ). Suppose we find  𝑎  and  𝑏  such that, for all  𝑖 ,\n",
        "# 𝑎2−𝑏2≅𝑁(mod𝑝𝑖)\n",
        "# How often is it the case that any of  𝑎+𝑏 ,  𝑎−𝑏 , or  𝑏−𝑎  shares a common factor (other than 1) with  𝑁 ?\n",
        "\n",
        "def has_common_factor(N, a, b):\n",
        "  \"\"\"Checks if a+b, a-b, or b-a share a common factor with N.\n",
        "\n",
        "  Args:\n",
        "    N: The number to factor.\n",
        "    a: One of the integers in the difference of squares.\n",
        "    b: The other integer in the difference of squares.\n",
        "\n",
        "  Returns:\n",
        "    True if there is a common factor, False otherwise.\n",
        "  \"\"\"\n",
        "  import math\n",
        "\n",
        "  if math.gcd(abs(a + b), N) > 1:\n",
        "    return True\n",
        "  if math.gcd(abs(a - b), N) > 1:\n",
        "    return True\n",
        "  if math.gcd(abs(b - a), N) > 1:\n",
        "    return True\n",
        "  return False"
      ]
    },
    {
      "cell_type": "code",
      "source": [
        "import math\n",
        "import matplotlib\n",
        "from matplotlib import pyplot as plt\n",
        "import numpy as np\n",
        "import pandas\n",
        "import random"
      ],
      "metadata": {
        "id": "xFRDSzMMFdpp"
      },
      "execution_count": 28,
      "outputs": []
    },
    {
      "cell_type": "code",
      "source": [
        "# prompt: Get the first few hundred prime numbers. Feel free to use whatever Python libraries simplify this.\n",
        "\n",
        "!pip install sympy\n",
        "\n",
        "from sympy import primerange\n",
        "\n",
        "primes = list(primerange(2, 1230)) # Get primes up to roughly the first 2000, as the 200th prime is 1223.\n",
        "primes\n",
        "\n",
        "# how many primes is this?\n",
        "len(primes)\n",
        "# ...close enough"
      ],
      "metadata": {
        "colab": {
          "base_uri": "https://localhost:8080/"
        },
        "id": "gonECbG2AWDr",
        "outputId": "52c18991-bf60-4ed6-9570-45b5199e8f35"
      },
      "execution_count": 29,
      "outputs": [
        {
          "output_type": "stream",
          "name": "stdout",
          "text": [
            "Requirement already satisfied: sympy in /usr/local/lib/python3.11/dist-packages (1.13.1)\n",
            "Requirement already satisfied: mpmath<1.4,>=1.1.0 in /usr/local/lib/python3.11/dist-packages (from sympy) (1.3.0)\n"
          ]
        },
        {
          "output_type": "execute_result",
          "data": {
            "text/plain": [
              "201"
            ]
          },
          "metadata": {},
          "execution_count": 29
        }
      ]
    },
    {
      "cell_type": "markdown",
      "source": [
        "## Revised attempt at this\n",
        "We try to compute the possible values of `a` and `b` faster, using a table.\n",
        "\n",
        "First, for a given set of primes, we make a table of the\n",
        "difference of squares, and the various differences between `a` and `b`."
      ],
      "metadata": {
        "id": "WzlF57ezLlrF"
      }
    },
    {
      "cell_type": "code",
      "source": [
        "def diff_of_squares_table(primes):\n",
        "  \"\"\"Constructs tables of difference of squares.\n",
        "  Args:\n",
        "    primes: A list of prime numbers.\n",
        "  Returns:\n",
        "    An array with columns:\n",
        "      0: a^2 - b^2\n",
        "      1: a + b\n",
        "      2: a - b\n",
        "      3: b - a\n",
        "      4: -a - b\n",
        "  \"\"\"\n",
        "  m = math.prod(primes)\n",
        "  # First, compute a and b, as square tables containing just 0..(m-1),\n",
        "  # either on rows or columns. (We then just flatten them to vectors.)\n",
        "  i = np.arange(m)\n",
        "  a = i.reshape([m,-1])\n",
        "  b = i.reshape([-1,m])\n",
        "  return np.stack([\n",
        "      a**2 - b**2,\n",
        "      a+b, a-b, b-a, -a-b\n",
        "  ], axis=0).reshape([5,-1]).T % m\n",
        "\n",
        "x = diff_of_squares_table([3,5])\n",
        "x[:,0]"
      ],
      "metadata": {
        "colab": {
          "base_uri": "https://localhost:8080/"
        },
        "id": "HeKFRdkjIOrf",
        "outputId": "e13d10f4-1543-43b0-a7e0-a53120a914b5"
      },
      "execution_count": 30,
      "outputs": [
        {
          "output_type": "execute_result",
          "data": {
            "text/plain": [
              "array([ 0, 14, 11,  6, 14,  5,  9, 11, 11,  9,  5, 14,  6, 11, 14,  1,  0,\n",
              "       12,  7,  0,  6, 10, 12, 12, 10,  6,  0,  7, 12,  0,  4,  3,  0, 10,\n",
              "        3,  9, 13,  0,  0, 13,  9,  3, 10,  0,  3,  9,  8,  5,  0,  8, 14,\n",
              "        3,  5,  5,  3, 14,  8,  0,  5,  8,  1,  0, 12,  7,  0,  6, 10, 12,\n",
              "       12, 10,  6,  0,  7, 12,  0, 10,  9,  6,  1,  9,  0,  4,  6,  6,  4,\n",
              "        0,  9,  1,  6,  9,  6,  5,  2, 12,  5, 11,  0,  2,  2,  0, 11,  5,\n",
              "       12,  2,  5,  4,  3,  0, 10,  3,  9, 13,  0,  0, 13,  9,  3, 10,  0,\n",
              "        3,  4,  3,  0, 10,  3,  9, 13,  0,  0, 13,  9,  3, 10,  0,  3,  6,\n",
              "        5,  2, 12,  5, 11,  0,  2,  2,  0, 11,  5, 12,  2,  5, 10,  9,  6,\n",
              "        1,  9,  0,  4,  6,  6,  4,  0,  9,  1,  6,  9,  1,  0, 12,  7,  0,\n",
              "        6, 10, 12, 12, 10,  6,  0,  7, 12,  0,  9,  8,  5,  0,  8, 14,  3,\n",
              "        5,  5,  3, 14,  8,  0,  5,  8,  4,  3,  0, 10,  3,  9, 13,  0,  0,\n",
              "       13,  9,  3, 10,  0,  3,  1,  0, 12,  7,  0,  6, 10, 12, 12, 10,  6,\n",
              "        0,  7, 12,  0])"
            ]
          },
          "metadata": {},
          "execution_count": 30
        }
      ]
    },
    {
      "cell_type": "code",
      "source": [
        "primes = [3,5,7,11]\n",
        "s = diff_of_squares_table(primes)\n",
        "print(s.shape)\n",
        "s"
      ],
      "metadata": {
        "colab": {
          "base_uri": "https://localhost:8080/"
        },
        "id": "YMZNfDThLkdO",
        "outputId": "c6814602-103d-482a-9d8f-fb4d92e45292"
      },
      "execution_count": 31,
      "outputs": [
        {
          "output_type": "stream",
          "name": "stdout",
          "text": [
            "(1334025, 5)\n"
          ]
        },
        {
          "output_type": "execute_result",
          "data": {
            "text/plain": [
              "array([[   0,    0,    0,    0,    0],\n",
              "       [1154,    1, 1154,    1, 1154],\n",
              "       [1151,    2, 1153,    2, 1153],\n",
              "       ...,\n",
              "       [1147, 1151,    2, 1153,    4],\n",
              "       [1152, 1152,    1, 1154,    3],\n",
              "       [   0, 1153,    0,    0,    2]])"
            ]
          },
          "metadata": {},
          "execution_count": 31
        }
      ]
    },
    {
      "cell_type": "code",
      "source": [
        "print(13*17)\n",
        "r = s[ s[:,0]==13*17 , : ]\n",
        "print(r.shape)\n",
        "print(r)"
      ],
      "metadata": {
        "colab": {
          "base_uri": "https://localhost:8080/"
        },
        "id": "GuHtF96nP-5R",
        "outputId": "80bc7424-26a2-417d-f56a-1ef21d1f2262"
      },
      "execution_count": 32,
      "outputs": [
        {
          "output_type": "stream",
          "name": "stdout",
          "text": [
            "221\n",
            "(480, 5)\n",
            "[[221 289 884 271 866]\n",
            " [221 499 674 481 656]\n",
            " [221 674 499 656 481]\n",
            " ...\n",
            " [221 481 656 499 674]\n",
            " [221 656 481 674 499]\n",
            " [221 866 271 884 289]]\n"
          ]
        }
      ]
    },
    {
      "cell_type": "code",
      "source": [
        "# prompt: given a numpy array a and an integer n, compute the GCD of everything in it with n\n",
        "\n",
        "import numpy as np\n",
        "def array_gcd(a, n):\n",
        "  \"\"\"Computes the GCD of each element in a NumPy array with an integer n.\n",
        "\n",
        "  Args:\n",
        "    a: A NumPy array of integers.\n",
        "    n: An integer.\n",
        "\n",
        "  Returns:\n",
        "    A NumPy array of the same shape as a, where each element is the GCD of the\n",
        "    corresponding element in a and n.\n",
        "  \"\"\"\n",
        "  return np.gcd(a, n)\n",
        "\n",
        "# Example usage:\n",
        "# a = np.array([12, 18, 24])\n",
        "# n = 6\n",
        "# result = array_gcd(a, n)\n",
        "# print(result) # Output: [6 6 6]"
      ],
      "metadata": {
        "id": "xMTfc1QxSFfh"
      },
      "execution_count": 33,
      "outputs": []
    },
    {
      "cell_type": "markdown",
      "source": [
        "(This works, but since we know the actual factors, we can do this more simply.)"
      ],
      "metadata": {
        "id": "L9jvukU4S0A2"
      }
    },
    {
      "cell_type": "code",
      "source": [
        "x = (r % 13 > 0) ^ (r % 17 > 0)\n",
        "sum(x)"
      ],
      "metadata": {
        "colab": {
          "base_uri": "https://localhost:8080/"
        },
        "id": "d9qORrnMTLvq",
        "outputId": "61772617-1388-4027-99ec-b465c9393536"
      },
      "execution_count": 34,
      "outputs": [
        {
          "output_type": "execute_result",
          "data": {
            "text/plain": [
              "array([ 0, 59, 59, 59, 59])"
            ]
          },
          "metadata": {},
          "execution_count": 34
        }
      ]
    },
    {
      "cell_type": "markdown",
      "source": [
        "The first column makes sense. I'm not sure why the others are the same..."
      ],
      "metadata": {
        "id": "ronMaIe3Ap5T"
      }
    },
    {
      "cell_type": "code",
      "source": [
        "x1 = np.sum(x[:,1:5], axis=1)\n",
        "print(x1.shape)\n",
        "np.unique(x1, return_counts=True)"
      ],
      "metadata": {
        "colab": {
          "base_uri": "https://localhost:8080/"
        },
        "id": "yF3o4q20_KUn",
        "outputId": "d2fb3564-c7ce-4f14-c7b7-ffcc9435a902"
      },
      "execution_count": 35,
      "outputs": [
        {
          "output_type": "stream",
          "name": "stdout",
          "text": [
            "(480,)\n"
          ]
        },
        {
          "output_type": "execute_result",
          "data": {
            "text/plain": [
              "(array([0, 1, 2]), array([284, 156,  40]))"
            ]
          },
          "metadata": {},
          "execution_count": 35
        }
      ]
    },
    {
      "cell_type": "code",
      "source": [
        "2*4*6*10"
      ],
      "metadata": {
        "colab": {
          "base_uri": "https://localhost:8080/"
        },
        "id": "s0LSPMCj_x1w",
        "outputId": "886764f9-88b5-4453-83dd-f1ee2e59ee26"
      },
      "execution_count": 36,
      "outputs": [
        {
          "output_type": "execute_result",
          "data": {
            "text/plain": [
              "480"
            ]
          },
          "metadata": {},
          "execution_count": 36
        }
      ]
    },
    {
      "cell_type": "code",
      "source": [
        "13*17"
      ],
      "metadata": {
        "colab": {
          "base_uri": "https://localhost:8080/"
        },
        "id": "Xi3p-kNrA1fE",
        "outputId": "b56948e0-ac70-4a19-95c8-5e72fba86410"
      },
      "execution_count": 37,
      "outputs": [
        {
          "output_type": "execute_result",
          "data": {
            "text/plain": [
              "221"
            ]
          },
          "metadata": {},
          "execution_count": 37
        }
      ]
    },
    {
      "cell_type": "markdown",
      "source": [
        "## 2nd(ish) try: using more variations on $a+b$ and $a-b$\n",
        "\n",
        "Previously, we basically tried adding together every possibility of $\\pm a + \\pm b$. However, it seems sort of like, if we consider $a \\equiv a_i \\mathrm{mod} p_i$, then note that $(+a_i)^2 \\equiv (-a_i)^2 \\mathrm{mod} p_i$. So we should be able to \"flip\" any \"component\" $a_i$ or $b_i$, and still have a solution to $N = a^2 - b^2$. (Also note that $-a \\equiv -a_i \\mathrm{mod} p_i$, and so is like \"flipping\" all of the components.)\n",
        "\n",
        "The question is, how many of these (if any) numbers have a nontrivial shared factor with $N$? To answer this, we modify the previous table a bit:\n"
      ],
      "metadata": {
        "id": "Oi2mQNMDq3wb"
      }
    },
    {
      "cell_type": "code",
      "source": [
        "def mod_table(primes):\n",
        "  \"\"\"Constructs a table of what the numbers are modulo the primes.\n",
        "  Args:\n",
        "    primes: A list of prime numbers.\n",
        "  Returns:\n",
        "    An array with, for row i, the value of i mod each of the primes.\n",
        "  \"\"\"\n",
        "  m = math.prod(primes)\n",
        "  i = np.arange(m)\n",
        "  return i.reshape([m,-1]) % primes\n",
        "\n",
        "mod_table([5,7]).T"
      ],
      "metadata": {
        "id": "WVP54h25zzDD",
        "outputId": "6002f653-c5b8-4725-d0e7-902ad634cfcc",
        "colab": {
          "base_uri": "https://localhost:8080/"
        }
      },
      "execution_count": 38,
      "outputs": [
        {
          "output_type": "execute_result",
          "data": {
            "text/plain": [
              "array([[0, 1, 2, 3, 4, 0, 1, 2, 3, 4, 0, 1, 2, 3, 4, 0, 1, 2, 3, 4, 0, 1,\n",
              "        2, 3, 4, 0, 1, 2, 3, 4, 0, 1, 2, 3, 4],\n",
              "       [0, 1, 2, 3, 4, 5, 6, 0, 1, 2, 3, 4, 5, 6, 0, 1, 2, 3, 4, 5, 6, 0,\n",
              "        1, 2, 3, 4, 5, 6, 0, 1, 2, 3, 4, 5, 6]])"
            ]
          },
          "metadata": {},
          "execution_count": 38
        }
      ]
    },
    {
      "cell_type": "code",
      "source": [],
      "metadata": {
        "id": "0ARmmRQM2Dpa"
      },
      "execution_count": 38,
      "outputs": []
    },
    {
      "cell_type": "code",
      "source": [
        "def diff_of_squares_table(primes):\n",
        "  \"\"\"Constructs tables of difference of squares.\n",
        "  Args:\n",
        "    primes: A list of prime numbers.\n",
        "  Returns:\n",
        "    a table with three columns:\n",
        "      0: a^2 - b^2\n",
        "      1: a\n",
        "      2: b\n",
        "  \"\"\"\n",
        "  m = math.prod(primes)\n",
        "  # First, compute a and b, as square tables containing just 0..(m-1),\n",
        "  # either on rows or columns. (We later flatten them to vectors.)\n",
        "  i = np.arange(m)\n",
        "  z = np.zeros((m,m))\n",
        "  a = i.reshape([m,-1])\n",
        "  b = i.reshape([-1,m])\n",
        "  return np.stack([\n",
        "      a**2 - b**2, z+a, z+b\n",
        "  ], axis=0).reshape([3,-1]).T % m\n",
        "\n",
        "diff_of_squares_table([5,7])"
      ],
      "metadata": {
        "id": "CILwAD8ku2Jq",
        "outputId": "943e9d4d-72d2-40c1-9dba-ccc7fbfa9cd1",
        "colab": {
          "base_uri": "https://localhost:8080/"
        }
      },
      "execution_count": 39,
      "outputs": [
        {
          "output_type": "execute_result",
          "data": {
            "text/plain": [
              "array([[ 0.,  0.,  0.],\n",
              "       [34.,  0.,  1.],\n",
              "       [31.,  0.,  2.],\n",
              "       ...,\n",
              "       [27., 34., 32.],\n",
              "       [32., 34., 33.],\n",
              "       [ 0., 34., 34.]])"
            ]
          },
          "metadata": {},
          "execution_count": 39
        }
      ]
    },
    {
      "cell_type": "markdown",
      "source": [
        "\n",
        "## Original attempt\n",
        "\n",
        "(Below is my first attempt at this, which uses sampling, and is probably slower.)\n",
        "\n",
        "First, for a given set of primes, we find the members of the multiplicative group.\n",
        "\n"
      ],
      "metadata": {
        "id": "K6y7xh7tDOLU"
      }
    },
    {
      "cell_type": "code",
      "source": [
        "# prompt: Given a list of primes whose product is m, get the numbers in 1..m which are members of the multiplicative group.\n",
        "\n",
        "def multiplicative_group_members(primes):\n",
        "  \"\"\"Gets the numbers in 1..m which are members of the multiplicative group.\n",
        "\n",
        "  Args:\n",
        "    primes: A list of prime numbers.\n",
        "\n",
        "  Returns:\n",
        "    A list of numbers in 1..m that are members of the multiplicative group,\n",
        "    where m is the product of the primes.\n",
        "  \"\"\"\n",
        "  m = math.prod(primes)\n",
        "  members = []\n",
        "  for num in range(1, m + 1):\n",
        "    is_member = True\n",
        "    for p in primes:\n",
        "      if math.gcd(num, p) != 1:\n",
        "        is_member = False\n",
        "        break\n",
        "    if is_member:\n",
        "      members.append(num)\n",
        "  return members\n",
        "\n",
        "# Example usage:\n",
        "# m_members = multiplicative_group_members(primes)\n",
        "# print(m_members)"
      ],
      "metadata": {
        "id": "1MiA45OqFJpT"
      },
      "execution_count": 40,
      "outputs": []
    },
    {
      "cell_type": "markdown",
      "source": [
        "(This works. However, it might be faster to either check if any `p` in `primes` divides `num`, or check `math.gcd(num, m)!=1`. Admittedly, I'm not sure which of these would be faster.)"
      ],
      "metadata": {
        "id": "O_ueL0FUL0At"
      }
    },
    {
      "cell_type": "code",
      "source": [
        "len(multiplicative_group_members(primes))"
      ],
      "metadata": {
        "colab": {
          "base_uri": "https://localhost:8080/"
        },
        "id": "5gVhJTPn_Coj",
        "outputId": "45c2cae4-5f12-4e34-bc23-4d929ef214b6"
      },
      "execution_count": 41,
      "outputs": [
        {
          "output_type": "execute_result",
          "data": {
            "text/plain": [
              "480"
            ]
          },
          "metadata": {},
          "execution_count": 41
        }
      ]
    },
    {
      "cell_type": "code",
      "source": [
        "# prompt: Write a function which is given a list `p` of primes, and first computes their product, `m`, and the elements of 1..m which form a multiplicative group.\n",
        "# It should then sample numbers N, which are a product of exactly two primes, and use sampling to find pairs `a` and `b` such that a^2-b^2 = N (mod m).\n",
        "# For each of these, it should then check whether N and _any_ of a+b, a-b, or b-a share a common factor.\n",
        "# It should expect \"number of samples\" as an argument. It should return a list of, for each sample:\n",
        "# - N\n",
        "# - a, b\n",
        "\n",
        "def solve_and_check_common_factors(p, num_samples):\n",
        "    \"\"\"\n",
        "    Samples numbers N (product of two primes) and finds pairs (a, b)\n",
        "    such that a^2 - b^2 = N (mod m), then checks for common factors.\n",
        "\n",
        "    Args:\n",
        "        p: A list of prime numbers.\n",
        "        num_samples: The number of samples to take.\n",
        "\n",
        "    Returns:\n",
        "        A list of tuples, where each tuple contains (N, (a, b)).\n",
        "    \"\"\"\n",
        "    m = math.prod(p)\n",
        "    m_members = multiplicative_group_members(p)\n",
        "\n",
        "    results = []\n",
        "\n",
        "    # Create a list of possible two-prime products within a reasonable range\n",
        "    possible_Ns = []\n",
        "    primes1 = [p for p in primes if p!=2 and p<math.sqrt(m+1)]\n",
        "    for i in range(len(primes)):\n",
        "        for j in range(i, len(primes)):\n",
        "            n = primes[i] * primes[j]\n",
        "            if n < m: # Ensure N is less than m for modulo operations\n",
        "                possible_Ns.append(n)\n",
        "\n",
        "    for _ in range(num_samples):\n",
        "        # Randomly sample an N which is a product of two primes\n",
        "        N = random.choice(possible_Ns)\n",
        "        if N >= m:\n",
        "          continue\n",
        "        num_congruent = 0\n",
        "        num_with_common_factor = 0\n",
        "        for _ in range(100000): # Try random pairs of a and b\n",
        "            a = random.choice(m_members)\n",
        "            b = random.choice(m_members)\n",
        "            # Check if a^2 - b^2 = N (mod m)\n",
        "            if (a**2 - b**2) % m == N % m:\n",
        "              num_congruent += 1\n",
        "              if has_common_factor(N, a, b):\n",
        "                num_with_common_factor += 1\n",
        "        results.append({\"m\": m, \"N\": N,\n",
        "                        \"num_congruent\": num_congruent,\n",
        "                        \"num_with_common_factor\": num_with_common_factor,\n",
        "                        \"p_common_factor\": num_with_common_factor / num_congruent})\n",
        "\n",
        "\n",
        "    return results\n",
        "\n",
        "# Example usage:\n",
        "p = [79,83] # [59,71] # [37,59]\n",
        "sample_results = solve_and_check_common_factors(p, 100)\n",
        "for x in sample_results:\n",
        "  print(x)"
      ],
      "metadata": {
        "colab": {
          "base_uri": "https://localhost:8080/"
        },
        "id": "O4s9rf1uSrR2",
        "outputId": "1c8eaf0d-02db-44d5-ab1b-2a1e6d73789b"
      },
      "execution_count": 46,
      "outputs": [
        {
          "output_type": "stream",
          "name": "stdout",
          "text": [
            "{'m': 6557, 'N': 25, 'num_congruent': 17, 'num_with_common_factor': 10, 'p_common_factor': 0.5882352941176471}\n",
            "{'m': 6557, 'N': 77, 'num_congruent': 13, 'num_with_common_factor': 6, 'p_common_factor': 0.46153846153846156}\n",
            "{'m': 6557, 'N': 55, 'num_congruent': 16, 'num_with_common_factor': 9, 'p_common_factor': 0.5625}\n",
            "{'m': 6557, 'N': 33, 'num_congruent': 11, 'num_with_common_factor': 7, 'p_common_factor': 0.6363636363636364}\n",
            "{'m': 6557, 'N': 15, 'num_congruent': 8, 'num_with_common_factor': 8, 'p_common_factor': 1.0}\n",
            "{'m': 6557, 'N': 49, 'num_congruent': 8, 'num_with_common_factor': 2, 'p_common_factor': 0.25}\n",
            "{'m': 6557, 'N': 21, 'num_congruent': 12, 'num_with_common_factor': 11, 'p_common_factor': 0.9166666666666666}\n",
            "{'m': 6557, 'N': 121, 'num_congruent': 14, 'num_with_common_factor': 3, 'p_common_factor': 0.21428571428571427}\n",
            "{'m': 6557, 'N': 25, 'num_congruent': 15, 'num_with_common_factor': 4, 'p_common_factor': 0.26666666666666666}\n",
            "{'m': 6557, 'N': 21, 'num_congruent': 14, 'num_with_common_factor': 9, 'p_common_factor': 0.6428571428571429}\n",
            "{'m': 6557, 'N': 25, 'num_congruent': 11, 'num_with_common_factor': 2, 'p_common_factor': 0.18181818181818182}\n",
            "{'m': 6557, 'N': 77, 'num_congruent': 9, 'num_with_common_factor': 5, 'p_common_factor': 0.5555555555555556}\n",
            "{'m': 6557, 'N': 121, 'num_congruent': 13, 'num_with_common_factor': 3, 'p_common_factor': 0.23076923076923078}\n",
            "{'m': 6557, 'N': 25, 'num_congruent': 17, 'num_with_common_factor': 9, 'p_common_factor': 0.5294117647058824}\n",
            "{'m': 6557, 'N': 121, 'num_congruent': 20, 'num_with_common_factor': 3, 'p_common_factor': 0.15}\n",
            "{'m': 6557, 'N': 77, 'num_congruent': 23, 'num_with_common_factor': 12, 'p_common_factor': 0.5217391304347826}\n",
            "{'m': 6557, 'N': 35, 'num_congruent': 14, 'num_with_common_factor': 10, 'p_common_factor': 0.7142857142857143}\n",
            "{'m': 6557, 'N': 35, 'num_congruent': 12, 'num_with_common_factor': 6, 'p_common_factor': 0.5}\n",
            "{'m': 6557, 'N': 49, 'num_congruent': 14, 'num_with_common_factor': 3, 'p_common_factor': 0.21428571428571427}\n",
            "{'m': 6557, 'N': 49, 'num_congruent': 17, 'num_with_common_factor': 4, 'p_common_factor': 0.23529411764705882}\n",
            "{'m': 6557, 'N': 9, 'num_congruent': 7, 'num_with_common_factor': 6, 'p_common_factor': 0.8571428571428571}\n",
            "{'m': 6557, 'N': 49, 'num_congruent': 12, 'num_with_common_factor': 1, 'p_common_factor': 0.08333333333333333}\n",
            "{'m': 6557, 'N': 15, 'num_congruent': 16, 'num_with_common_factor': 14, 'p_common_factor': 0.875}\n",
            "{'m': 6557, 'N': 121, 'num_congruent': 14, 'num_with_common_factor': 1, 'p_common_factor': 0.07142857142857142}\n",
            "{'m': 6557, 'N': 55, 'num_congruent': 14, 'num_with_common_factor': 8, 'p_common_factor': 0.5714285714285714}\n",
            "{'m': 6557, 'N': 121, 'num_congruent': 11, 'num_with_common_factor': 3, 'p_common_factor': 0.2727272727272727}\n",
            "{'m': 6557, 'N': 9, 'num_congruent': 14, 'num_with_common_factor': 10, 'p_common_factor': 0.7142857142857143}\n",
            "{'m': 6557, 'N': 33, 'num_congruent': 12, 'num_with_common_factor': 6, 'p_common_factor': 0.5}\n",
            "{'m': 6557, 'N': 49, 'num_congruent': 10, 'num_with_common_factor': 4, 'p_common_factor': 0.4}\n",
            "{'m': 6557, 'N': 21, 'num_congruent': 12, 'num_with_common_factor': 10, 'p_common_factor': 0.8333333333333334}\n",
            "{'m': 6557, 'N': 35, 'num_congruent': 17, 'num_with_common_factor': 4, 'p_common_factor': 0.23529411764705882}\n",
            "{'m': 6557, 'N': 35, 'num_congruent': 10, 'num_with_common_factor': 6, 'p_common_factor': 0.6}\n",
            "{'m': 6557, 'N': 121, 'num_congruent': 17, 'num_with_common_factor': 2, 'p_common_factor': 0.11764705882352941}\n",
            "{'m': 6557, 'N': 21, 'num_congruent': 20, 'num_with_common_factor': 14, 'p_common_factor': 0.7}\n",
            "{'m': 6557, 'N': 35, 'num_congruent': 17, 'num_with_common_factor': 11, 'p_common_factor': 0.6470588235294118}\n",
            "{'m': 6557, 'N': 15, 'num_congruent': 18, 'num_with_common_factor': 13, 'p_common_factor': 0.7222222222222222}\n",
            "{'m': 6557, 'N': 25, 'num_congruent': 11, 'num_with_common_factor': 2, 'p_common_factor': 0.18181818181818182}\n",
            "{'m': 6557, 'N': 49, 'num_congruent': 20, 'num_with_common_factor': 6, 'p_common_factor': 0.3}\n",
            "{'m': 6557, 'N': 49, 'num_congruent': 15, 'num_with_common_factor': 5, 'p_common_factor': 0.3333333333333333}\n",
            "{'m': 6557, 'N': 15, 'num_congruent': 20, 'num_with_common_factor': 17, 'p_common_factor': 0.85}\n",
            "{'m': 6557, 'N': 49, 'num_congruent': 21, 'num_with_common_factor': 7, 'p_common_factor': 0.3333333333333333}\n",
            "{'m': 6557, 'N': 35, 'num_congruent': 12, 'num_with_common_factor': 7, 'p_common_factor': 0.5833333333333334}\n",
            "{'m': 6557, 'N': 21, 'num_congruent': 10, 'num_with_common_factor': 6, 'p_common_factor': 0.6}\n",
            "{'m': 6557, 'N': 35, 'num_congruent': 16, 'num_with_common_factor': 10, 'p_common_factor': 0.625}\n",
            "{'m': 6557, 'N': 77, 'num_congruent': 20, 'num_with_common_factor': 7, 'p_common_factor': 0.35}\n",
            "{'m': 6557, 'N': 9, 'num_congruent': 19, 'num_with_common_factor': 13, 'p_common_factor': 0.6842105263157895}\n",
            "{'m': 6557, 'N': 21, 'num_congruent': 15, 'num_with_common_factor': 8, 'p_common_factor': 0.5333333333333333}\n",
            "{'m': 6557, 'N': 15, 'num_congruent': 11, 'num_with_common_factor': 8, 'p_common_factor': 0.7272727272727273}\n",
            "{'m': 6557, 'N': 21, 'num_congruent': 14, 'num_with_common_factor': 10, 'p_common_factor': 0.7142857142857143}\n",
            "{'m': 6557, 'N': 15, 'num_congruent': 19, 'num_with_common_factor': 17, 'p_common_factor': 0.8947368421052632}\n",
            "{'m': 6557, 'N': 15, 'num_congruent': 14, 'num_with_common_factor': 10, 'p_common_factor': 0.7142857142857143}\n",
            "{'m': 6557, 'N': 49, 'num_congruent': 16, 'num_with_common_factor': 4, 'p_common_factor': 0.25}\n",
            "{'m': 6557, 'N': 49, 'num_congruent': 16, 'num_with_common_factor': 4, 'p_common_factor': 0.25}\n",
            "{'m': 6557, 'N': 33, 'num_congruent': 8, 'num_with_common_factor': 4, 'p_common_factor': 0.5}\n",
            "{'m': 6557, 'N': 55, 'num_congruent': 17, 'num_with_common_factor': 4, 'p_common_factor': 0.23529411764705882}\n",
            "{'m': 6557, 'N': 21, 'num_congruent': 20, 'num_with_common_factor': 10, 'p_common_factor': 0.5}\n",
            "{'m': 6557, 'N': 49, 'num_congruent': 7, 'num_with_common_factor': 2, 'p_common_factor': 0.2857142857142857}\n",
            "{'m': 6557, 'N': 21, 'num_congruent': 23, 'num_with_common_factor': 16, 'p_common_factor': 0.6956521739130435}\n",
            "{'m': 6557, 'N': 121, 'num_congruent': 17, 'num_with_common_factor': 2, 'p_common_factor': 0.11764705882352941}\n",
            "{'m': 6557, 'N': 25, 'num_congruent': 13, 'num_with_common_factor': 5, 'p_common_factor': 0.38461538461538464}\n",
            "{'m': 6557, 'N': 55, 'num_congruent': 22, 'num_with_common_factor': 10, 'p_common_factor': 0.45454545454545453}\n",
            "{'m': 6557, 'N': 55, 'num_congruent': 16, 'num_with_common_factor': 10, 'p_common_factor': 0.625}\n",
            "{'m': 6557, 'N': 15, 'num_congruent': 13, 'num_with_common_factor': 8, 'p_common_factor': 0.6153846153846154}\n",
            "{'m': 6557, 'N': 15, 'num_congruent': 13, 'num_with_common_factor': 9, 'p_common_factor': 0.6923076923076923}\n",
            "{'m': 6557, 'N': 9, 'num_congruent': 20, 'num_with_common_factor': 12, 'p_common_factor': 0.6}\n",
            "{'m': 6557, 'N': 121, 'num_congruent': 19, 'num_with_common_factor': 4, 'p_common_factor': 0.21052631578947367}\n",
            "{'m': 6557, 'N': 25, 'num_congruent': 13, 'num_with_common_factor': 3, 'p_common_factor': 0.23076923076923078}\n",
            "{'m': 6557, 'N': 121, 'num_congruent': 18, 'num_with_common_factor': 3, 'p_common_factor': 0.16666666666666666}\n",
            "{'m': 6557, 'N': 35, 'num_congruent': 11, 'num_with_common_factor': 6, 'p_common_factor': 0.5454545454545454}\n",
            "{'m': 6557, 'N': 49, 'num_congruent': 12, 'num_with_common_factor': 3, 'p_common_factor': 0.25}\n",
            "{'m': 6557, 'N': 35, 'num_congruent': 13, 'num_with_common_factor': 8, 'p_common_factor': 0.6153846153846154}\n",
            "{'m': 6557, 'N': 9, 'num_congruent': 23, 'num_with_common_factor': 15, 'p_common_factor': 0.6521739130434783}\n",
            "{'m': 6557, 'N': 33, 'num_congruent': 19, 'num_with_common_factor': 9, 'p_common_factor': 0.47368421052631576}\n",
            "{'m': 6557, 'N': 25, 'num_congruent': 11, 'num_with_common_factor': 5, 'p_common_factor': 0.45454545454545453}\n",
            "{'m': 6557, 'N': 9, 'num_congruent': 19, 'num_with_common_factor': 14, 'p_common_factor': 0.7368421052631579}\n",
            "{'m': 6557, 'N': 21, 'num_congruent': 10, 'num_with_common_factor': 7, 'p_common_factor': 0.7}\n",
            "{'m': 6557, 'N': 21, 'num_congruent': 8, 'num_with_common_factor': 6, 'p_common_factor': 0.75}\n",
            "{'m': 6557, 'N': 55, 'num_congruent': 18, 'num_with_common_factor': 7, 'p_common_factor': 0.3888888888888889}\n",
            "{'m': 6557, 'N': 25, 'num_congruent': 13, 'num_with_common_factor': 8, 'p_common_factor': 0.6153846153846154}\n",
            "{'m': 6557, 'N': 25, 'num_congruent': 12, 'num_with_common_factor': 5, 'p_common_factor': 0.4166666666666667}\n",
            "{'m': 6557, 'N': 77, 'num_congruent': 18, 'num_with_common_factor': 9, 'p_common_factor': 0.5}\n",
            "{'m': 6557, 'N': 25, 'num_congruent': 14, 'num_with_common_factor': 6, 'p_common_factor': 0.42857142857142855}\n",
            "{'m': 6557, 'N': 49, 'num_congruent': 17, 'num_with_common_factor': 5, 'p_common_factor': 0.29411764705882354}\n",
            "{'m': 6557, 'N': 15, 'num_congruent': 12, 'num_with_common_factor': 9, 'p_common_factor': 0.75}\n",
            "{'m': 6557, 'N': 55, 'num_congruent': 12, 'num_with_common_factor': 6, 'p_common_factor': 0.5}\n",
            "{'m': 6557, 'N': 33, 'num_congruent': 14, 'num_with_common_factor': 7, 'p_common_factor': 0.5}\n",
            "{'m': 6557, 'N': 15, 'num_congruent': 15, 'num_with_common_factor': 8, 'p_common_factor': 0.5333333333333333}\n",
            "{'m': 6557, 'N': 55, 'num_congruent': 16, 'num_with_common_factor': 7, 'p_common_factor': 0.4375}\n",
            "{'m': 6557, 'N': 9, 'num_congruent': 15, 'num_with_common_factor': 10, 'p_common_factor': 0.6666666666666666}\n",
            "{'m': 6557, 'N': 77, 'num_congruent': 13, 'num_with_common_factor': 3, 'p_common_factor': 0.23076923076923078}\n",
            "{'m': 6557, 'N': 15, 'num_congruent': 16, 'num_with_common_factor': 11, 'p_common_factor': 0.6875}\n",
            "{'m': 6557, 'N': 55, 'num_congruent': 8, 'num_with_common_factor': 2, 'p_common_factor': 0.25}\n",
            "{'m': 6557, 'N': 25, 'num_congruent': 20, 'num_with_common_factor': 7, 'p_common_factor': 0.35}\n",
            "{'m': 6557, 'N': 35, 'num_congruent': 18, 'num_with_common_factor': 14, 'p_common_factor': 0.7777777777777778}\n",
            "{'m': 6557, 'N': 33, 'num_congruent': 11, 'num_with_common_factor': 8, 'p_common_factor': 0.7272727272727273}\n",
            "{'m': 6557, 'N': 21, 'num_congruent': 15, 'num_with_common_factor': 10, 'p_common_factor': 0.6666666666666666}\n",
            "{'m': 6557, 'N': 35, 'num_congruent': 6, 'num_with_common_factor': 2, 'p_common_factor': 0.3333333333333333}\n",
            "{'m': 6557, 'N': 15, 'num_congruent': 16, 'num_with_common_factor': 13, 'p_common_factor': 0.8125}\n",
            "{'m': 6557, 'N': 77, 'num_congruent': 10, 'num_with_common_factor': 6, 'p_common_factor': 0.6}\n",
            "{'m': 6557, 'N': 49, 'num_congruent': 13, 'num_with_common_factor': 2, 'p_common_factor': 0.15384615384615385}\n"
          ]
        }
      ]
    },
    {
      "cell_type": "markdown",
      "source": [
        "We now plot how often a common factor is found."
      ],
      "metadata": {
        "id": "_BQLjTzkjcZq"
      }
    },
    {
      "cell_type": "code",
      "source": [
        "sample_results = pandas.DataFrame(sample_results)\n",
        "sample_results.plot.scatter(x='N', y='p_common_factor', alpha=0.5)"
      ],
      "metadata": {
        "id": "jgFaIxrhjjVR",
        "outputId": "ec718eee-92b9-434a-b34a-d7fdc5b470ca",
        "colab": {
          "base_uri": "https://localhost:8080/",
          "height": 466
        }
      },
      "execution_count": 43,
      "outputs": [
        {
          "output_type": "execute_result",
          "data": {
            "text/plain": [
              "<Axes: xlabel='N', ylabel='p_common_factor'>"
            ]
          },
          "metadata": {},
          "execution_count": 43
        },
        {
          "output_type": "display_data",
          "data": {
            "text/plain": [
              "<Figure size 640x480 with 1 Axes>"
            ],
            "image/png": "[encoded data removed]"
          },
          "metadata": {}
        }
      ]
    },
    {
      "cell_type": "markdown",
      "source": [
        "It looks like, if $a$ and $b$ are found which satisfy the congruence, there's some chance that $a+b$, $a-b$, or $b-a$ will share a factor with $N$.\n",
        "\n",
        "However, it's presumably not easy to find such $a$ and $b$."
      ],
      "metadata": {
        "id": "z90qDZJKk9Bs"
      }
    }
  ]
}