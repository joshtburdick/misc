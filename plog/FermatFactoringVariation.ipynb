{
  "nbformat": 4,
  "nbformat_minor": 0,
  "metadata": {
    "colab": {
      "provenance": [],
      "authorship_tag": "ABX9TyMPhGeILQ0uUT7yU8RafXJJ",
      "include_colab_link": true
    },
    "kernelspec": {
      "name": "python3",
      "display_name": "Python 3"
    },
    "language_info": {
      "name": "python"
    }
  },
  "cells": [
    {
      "cell_type": "markdown",
      "metadata": {
        "id": "view-in-github",
        "colab_type": "text"
      },
      "source": [
        "<a href=\"https://colab.research.google.com/github/joshtburdick/misc/blob/master/plog/FermatFactoringVariation.ipynb\" target=\"_parent\"><img src=\"https://colab.research.google.com/assets/colab-badge.svg\" alt=\"Open In Colab\"/></a>"
      ]
    },
    {
      "cell_type": "markdown",
      "source": [
        "# A variation on Fermat's factoring method\n",
        "\n",
        "This is a variation on [Fermat's factoring method](https://en.wikipedia.org/wiki/Fermat%27s_factorization_method),\n",
        "which tries to write a number $N$ as a difference of squares $N = a^2 - b^2$.\n",
        "\n",
        "However, here, rather than requiring this to be exact, we only require to be true modulo a product of small primes $m = \\prod p_i$.\n",
        "It's not obvious that trying to solve these separately makes for an easier problem.\n",
        "\n",
        "Here, we *only* ask ask the question:\n",
        "\n",
        "For a given set of small primes $p_i$, suppose we wish to factor $N$ (which is less than $m = \\prod p_i$). Suppose we find $a$ and $b$ such that, for all $i$,\n",
        "\n",
        "$a^2 - b^2 \\equiv N   ({\\rm mod} p_i)$\n",
        "\n",
        "How often is it the case that any of $a+b$, $a-b$, or $b-a$ shares a\n",
        "common factor (other than 1) with $N$?\n",
        "\n",
        "(As a quick check, pasting that into \"Generate\"; here's what I get.)\n",
        "\n",
        "\n"
      ],
      "metadata": {
        "id": "Jnlr0fBbl2fp"
      }
    },
    {
      "cell_type": "code",
      "execution_count": 57,
      "metadata": {
        "id": "jCnmeZ0NlyuS"
      },
      "outputs": [],
      "source": [
        "# prompt: This is a variation on Fermat's factoring method. It tries to write a number  𝑁  as a difference of squares  𝑁=𝑎2−𝑏2 .\n",
        "# However, here, rather than requiring this to be exact, we only require to be true modulo a product of small primes  𝑚=∏𝑝𝑖 . It's not obvious that trying to solve these separately makes for an easier problem.\n",
        "# Here, we only ask ask the question:\n",
        "# For a given set of small primes  𝑝𝑖 , suppose we wish to factor  𝑁  (which is less than  𝑚=∏𝑝𝑖 ). Suppose we find  𝑎  and  𝑏  such that, for all  𝑖 ,\n",
        "# 𝑎2−𝑏2≅𝑁(mod𝑝𝑖)\n",
        "# How often is it the case that any of  𝑎+𝑏 ,  𝑎−𝑏 , or  𝑏−𝑎  shares a common factor (other than 1) with  𝑁 ?\n",
        "\n",
        "def has_common_factor(N, a, b):\n",
        "  \"\"\"Checks if a+b, a-b, or b-a share a common factor with N.\n",
        "\n",
        "  Args:\n",
        "    N: The number to factor.\n",
        "    a: One of the integers in the difference of squares.\n",
        "    b: The other integer in the difference of squares.\n",
        "\n",
        "  Returns:\n",
        "    True if there is a common factor, False otherwise.\n",
        "  \"\"\"\n",
        "  import math\n",
        "\n",
        "  if math.gcd(abs(a + b), N) > 1:\n",
        "    return True\n",
        "  if math.gcd(abs(a - b), N) > 1:\n",
        "    return True\n",
        "  if math.gcd(abs(b - a), N) > 1:\n",
        "    return True\n",
        "  return False"
      ]
    },
    {
      "cell_type": "code",
      "source": [
        "import math\n",
        "import matplotlib\n",
        "from matplotlib import pyplot as plt\n",
        "import numpy as np\n",
        "import pandas\n",
        "import random"
      ],
      "metadata": {
        "id": "xFRDSzMMFdpp"
      },
      "execution_count": 58,
      "outputs": []
    },
    {
      "cell_type": "code",
      "source": [
        "# prompt: Get the first few hundred prime numbers. Feel free to use whatever Python libraries simplify this.\n",
        "\n",
        "!pip install sympy\n",
        "\n",
        "from sympy import primerange\n",
        "\n",
        "primes = list(primerange(2, 1230)) # Get primes up to roughly the first 2000, as the 200th prime is 1223.\n",
        "primes\n",
        "\n",
        "# how many primes is this?\n",
        "len(primes)\n",
        "# ...close enough"
      ],
      "metadata": {
        "colab": {
          "base_uri": "https://localhost:8080/"
        },
        "id": "gonECbG2AWDr",
        "outputId": "5021bc05-4adc-445f-c1c6-cc3272b3e3a5"
      },
      "execution_count": 59,
      "outputs": [
        {
          "output_type": "stream",
          "name": "stdout",
          "text": [
            "Requirement already satisfied: sympy in /usr/local/lib/python3.11/dist-packages (1.13.1)\n",
            "Requirement already satisfied: mpmath<1.4,>=1.1.0 in /usr/local/lib/python3.11/dist-packages (from sympy) (1.3.0)\n"
          ]
        },
        {
          "output_type": "execute_result",
          "data": {
            "text/plain": [
              "201"
            ]
          },
          "metadata": {},
          "execution_count": 59
        }
      ]
    },
    {
      "cell_type": "markdown",
      "source": [
        "First, for a given set of primes, we find the members of the multiplicative group.\n",
        "\n"
      ],
      "metadata": {
        "id": "K6y7xh7tDOLU"
      }
    },
    {
      "cell_type": "code",
      "source": [
        "# prompt: Given a list of primes whose product is m, get the numbers in 1..m which are members of the multiplicative group.\n",
        "\n",
        "def multiplicative_group_members(primes):\n",
        "  \"\"\"Gets the numbers in 1..m which are members of the multiplicative group.\n",
        "\n",
        "  Args:\n",
        "    primes: A list of prime numbers.\n",
        "\n",
        "  Returns:\n",
        "    A list of numbers in 1..m that are members of the multiplicative group,\n",
        "    where m is the product of the primes.\n",
        "  \"\"\"\n",
        "  m = math.prod(primes)\n",
        "  members = []\n",
        "  for num in range(1, m + 1):\n",
        "    is_member = True\n",
        "    for p in primes:\n",
        "      if math.gcd(num, p) != 1:\n",
        "        is_member = False\n",
        "        break\n",
        "    if is_member:\n",
        "      members.append(num)\n",
        "  return members\n",
        "\n",
        "# Example usage:\n",
        "# m_members = multiplicative_group_members(primes)\n",
        "# print(m_members)"
      ],
      "metadata": {
        "id": "1MiA45OqFJpT"
      },
      "execution_count": 60,
      "outputs": []
    },
    {
      "cell_type": "markdown",
      "source": [
        "(This works. However, it might be faster to either check if any `p` in `primes` divides `num`, or check `math.gcd(num, m)!=1`. Admittedly, I'm not sure which of these would be faster.)"
      ],
      "metadata": {
        "id": "O_ueL0FUL0At"
      }
    },
    {
      "cell_type": "code",
      "source": [
        "# prompt: Write a function which is given a list `p` of primes, and first computes their product, `m`, and the elements of 1..m which form a multiplicative group.\n",
        "# It should then sample numbers N, which are a product of exactly two primes, and use sampling to find pairs `a` and `b` such that a^2-b^2 = N (mod m).\n",
        "# For each of these, it should then check whether N and _any_ of a+b, a-b, or b-a share a common factor.\n",
        "# It should expect \"number of samples\" as an argument. It should return a list of, for each sample:\n",
        "# - N\n",
        "# - a, b\n",
        "\n",
        "def solve_and_check_common_factors(p, num_samples):\n",
        "    \"\"\"\n",
        "    Samples numbers N (product of two primes) and finds pairs (a, b)\n",
        "    such that a^2 - b^2 = N (mod m), then checks for common factors.\n",
        "\n",
        "    Args:\n",
        "        p: A list of prime numbers.\n",
        "        num_samples: The number of samples to take.\n",
        "\n",
        "    Returns:\n",
        "        A list of tuples, where each tuple contains (N, (a, b)).\n",
        "    \"\"\"\n",
        "    m = math.prod(p)\n",
        "    m_members = multiplicative_group_members(p)\n",
        "\n",
        "    results = []\n",
        "\n",
        "    # Create a list of possible two-prime products within a reasonable range\n",
        "    possible_Ns = []\n",
        "    primes1 = [p for p in primes if p!=2 and p<math.sqrt(m+1)]\n",
        "    for i in range(len(primes)):\n",
        "        for j in range(i, len(primes)):\n",
        "            n = primes[i] * primes[j]\n",
        "            if n < m: # Ensure N is less than m for modulo operations\n",
        "                possible_Ns.append(n)\n",
        "\n",
        "    for _ in range(num_samples):\n",
        "        # Randomly sample an N which is a product of two primes\n",
        "        N = random.choice(possible_Ns)\n",
        "        if N >= m:\n",
        "          continue\n",
        "        num_congruent = 0\n",
        "        num_with_common_factor = 0\n",
        "        for _ in range(100000): # Try random pairs of a and b\n",
        "            a = random.choice(m_members)\n",
        "            b = random.choice(m_members)\n",
        "            # Check if a^2 - b^2 = N (mod m)\n",
        "            if (a**2 - b**2) % m == N % m:\n",
        "              num_congruent += 1\n",
        "              if has_common_factor(N, a, b):\n",
        "                num_with_common_factor += 1\n",
        "        results.append({\"m\": m, \"N\": N,\n",
        "                        \"num_congruent\": num_congruent,\n",
        "                        \"num_with_common_factor\": num_with_common_factor,\n",
        "                        \"p_common_factor\": num_with_common_factor / num_congruent})\n",
        "\n",
        "\n",
        "    return results\n",
        "\n",
        "# Example usage:\n",
        "p = [37,59]\n",
        "sample_results = solve_and_check_common_factors(p, 100)\n",
        "for x in sample_results:\n",
        "  print(x)"
      ],
      "metadata": {
        "colab": {
          "base_uri": "https://localhost:8080/"
        },
        "id": "O4s9rf1uSrR2",
        "outputId": "eead1612-71ff-409d-e216-c3f34ebe2771"
      },
      "execution_count": 73,
      "outputs": [
        {
          "output_type": "stream",
          "name": "stdout",
          "text": [
            "{'m': 2183, 'N': 573, 'num_congruent': 54, 'num_with_common_factor': 29, 'p_common_factor': 0.5370370370370371}\n",
            "{'m': 2183, 'N': 1046, 'num_congruent': 44, 'num_with_common_factor': 19, 'p_common_factor': 0.4318181818181818}\n",
            "{'m': 2183, 'N': 1454, 'num_congruent': 39, 'num_with_common_factor': 24, 'p_common_factor': 0.6153846153846154}\n",
            "{'m': 2183, 'N': 481, 'num_congruent': 94, 'num_with_common_factor': 94, 'p_common_factor': 1.0}\n",
            "{'m': 2183, 'N': 1486, 'num_congruent': 38, 'num_with_common_factor': 24, 'p_common_factor': 0.631578947368421}\n",
            "{'m': 2183, 'N': 1769, 'num_congruent': 41, 'num_with_common_factor': 3, 'p_common_factor': 0.07317073170731707}\n",
            "{'m': 2183, 'N': 141, 'num_congruent': 38, 'num_with_common_factor': 20, 'p_common_factor': 0.5263157894736842}\n",
            "{'m': 2183, 'N': 202, 'num_congruent': 51, 'num_with_common_factor': 25, 'p_common_factor': 0.49019607843137253}\n",
            "{'m': 2183, 'N': 415, 'num_congruent': 53, 'num_with_common_factor': 25, 'p_common_factor': 0.4716981132075472}\n",
            "{'m': 2183, 'N': 718, 'num_congruent': 47, 'num_with_common_factor': 23, 'p_common_factor': 0.48936170212765956}\n",
            "{'m': 2183, 'N': 497, 'num_congruent': 41, 'num_with_common_factor': 17, 'p_common_factor': 0.4146341463414634}\n",
            "{'m': 2183, 'N': 2103, 'num_congruent': 47, 'num_with_common_factor': 24, 'p_common_factor': 0.5106382978723404}\n",
            "{'m': 2183, 'N': 1717, 'num_congruent': 56, 'num_with_common_factor': 3, 'p_common_factor': 0.05357142857142857}\n",
            "{'m': 2183, 'N': 2182, 'num_congruent': 46, 'num_with_common_factor': 21, 'p_common_factor': 0.45652173913043476}\n",
            "{'m': 2183, 'N': 818, 'num_congruent': 47, 'num_with_common_factor': 21, 'p_common_factor': 0.44680851063829785}\n",
            "{'m': 2183, 'N': 2062, 'num_congruent': 41, 'num_with_common_factor': 21, 'p_common_factor': 0.5121951219512195}\n",
            "{'m': 2183, 'N': 1037, 'num_congruent': 35, 'num_with_common_factor': 3, 'p_common_factor': 0.08571428571428572}\n",
            "{'m': 2183, 'N': 1522, 'num_congruent': 44, 'num_with_common_factor': 27, 'p_common_factor': 0.6136363636363636}\n",
            "{'m': 2183, 'N': 771, 'num_congruent': 44, 'num_with_common_factor': 25, 'p_common_factor': 0.5681818181818182}\n",
            "{'m': 2183, 'N': 694, 'num_congruent': 37, 'num_with_common_factor': 17, 'p_common_factor': 0.4594594594594595}\n",
            "{'m': 2183, 'N': 1147, 'num_congruent': 84, 'num_with_common_factor': 84, 'p_common_factor': 1.0}\n",
            "{'m': 2183, 'N': 851, 'num_congruent': 109, 'num_with_common_factor': 109, 'p_common_factor': 1.0}\n",
            "{'m': 2183, 'N': 2038, 'num_congruent': 49, 'num_with_common_factor': 23, 'p_common_factor': 0.46938775510204084}\n",
            "{'m': 2183, 'N': 119, 'num_congruent': 50, 'num_with_common_factor': 20, 'p_common_factor': 0.4}\n",
            "{'m': 2183, 'N': 1211, 'num_congruent': 41, 'num_with_common_factor': 16, 'p_common_factor': 0.3902439024390244}\n",
            "{'m': 2183, 'N': 713, 'num_congruent': 44, 'num_with_common_factor': 6, 'p_common_factor': 0.13636363636363635}\n",
            "{'m': 2183, 'N': 973, 'num_congruent': 35, 'num_with_common_factor': 11, 'p_common_factor': 0.3142857142857143}\n",
            "{'m': 2183, 'N': 1457, 'num_congruent': 48, 'num_with_common_factor': 4, 'p_common_factor': 0.08333333333333333}\n",
            "{'m': 2183, 'N': 1261, 'num_congruent': 43, 'num_with_common_factor': 5, 'p_common_factor': 0.11627906976744186}\n",
            "{'m': 2183, 'N': 889, 'num_congruent': 35, 'num_with_common_factor': 12, 'p_common_factor': 0.34285714285714286}\n",
            "{'m': 2183, 'N': 1563, 'num_congruent': 35, 'num_with_common_factor': 19, 'p_common_factor': 0.5428571428571428}\n",
            "{'m': 2183, 'N': 1385, 'num_congruent': 42, 'num_with_common_factor': 11, 'p_common_factor': 0.2619047619047619}\n",
            "{'m': 2183, 'N': 2103, 'num_congruent': 56, 'num_with_common_factor': 34, 'p_common_factor': 0.6071428571428571}\n",
            "{'m': 2183, 'N': 155, 'num_congruent': 53, 'num_with_common_factor': 19, 'p_common_factor': 0.3584905660377358}\n",
            "{'m': 2183, 'N': 2127, 'num_congruent': 50, 'num_with_common_factor': 28, 'p_common_factor': 0.56}\n",
            "{'m': 2183, 'N': 1633, 'num_congruent': 50, 'num_with_common_factor': 6, 'p_common_factor': 0.12}\n",
            "{'m': 2183, 'N': 1894, 'num_congruent': 41, 'num_with_common_factor': 20, 'p_common_factor': 0.4878048780487805}\n",
            "{'m': 2183, 'N': 2126, 'num_congruent': 47, 'num_with_common_factor': 22, 'p_common_factor': 0.46808510638297873}\n",
            "{'m': 2183, 'N': 1959, 'num_congruent': 49, 'num_with_common_factor': 28, 'p_common_factor': 0.5714285714285714}\n",
            "{'m': 2183, 'N': 141, 'num_congruent': 38, 'num_with_common_factor': 20, 'p_common_factor': 0.5263157894736842}\n",
            "{'m': 2183, 'N': 1457, 'num_congruent': 60, 'num_with_common_factor': 9, 'p_common_factor': 0.15}\n",
            "{'m': 2183, 'N': 1077, 'num_congruent': 37, 'num_with_common_factor': 21, 'p_common_factor': 0.5675675675675675}\n",
            "{'m': 2183, 'N': 1322, 'num_congruent': 41, 'num_with_common_factor': 20, 'p_common_factor': 0.4878048780487805}\n",
            "{'m': 2183, 'N': 1154, 'num_congruent': 33, 'num_with_common_factor': 16, 'p_common_factor': 0.48484848484848486}\n",
            "{'m': 2183, 'N': 122, 'num_congruent': 38, 'num_with_common_factor': 22, 'p_common_factor': 0.5789473684210527}\n",
            "{'m': 2183, 'N': 2149, 'num_congruent': 38, 'num_with_common_factor': 10, 'p_common_factor': 0.2631578947368421}\n",
            "{'m': 2183, 'N': 1589, 'num_congruent': 46, 'num_with_common_factor': 18, 'p_common_factor': 0.391304347826087}\n",
            "{'m': 2183, 'N': 1313, 'num_congruent': 38, 'num_with_common_factor': 7, 'p_common_factor': 0.18421052631578946}\n",
            "{'m': 2183, 'N': 1211, 'num_congruent': 40, 'num_with_common_factor': 7, 'p_common_factor': 0.175}\n",
            "{'m': 2183, 'N': 1977, 'num_congruent': 35, 'num_with_common_factor': 17, 'p_common_factor': 0.4857142857142857}\n",
            "{'m': 2183, 'N': 699, 'num_congruent': 40, 'num_with_common_factor': 25, 'p_common_factor': 0.625}\n",
            "{'m': 2183, 'N': 1839, 'num_congruent': 44, 'num_with_common_factor': 22, 'p_common_factor': 0.5}\n",
            "{'m': 2183, 'N': 1047, 'num_congruent': 29, 'num_with_common_factor': 11, 'p_common_factor': 0.3793103448275862}\n",
            "{'m': 2183, 'N': 413, 'num_congruent': 78, 'num_with_common_factor': 78, 'p_common_factor': 1.0}\n",
            "{'m': 2183, 'N': 959, 'num_congruent': 39, 'num_with_common_factor': 11, 'p_common_factor': 0.28205128205128205}\n",
            "{'m': 2183, 'N': 1577, 'num_congruent': 37, 'num_with_common_factor': 5, 'p_common_factor': 0.13513513513513514}\n",
            "{'m': 2183, 'N': 493, 'num_congruent': 49, 'num_with_common_factor': 10, 'p_common_factor': 0.20408163265306123}\n",
            "{'m': 2183, 'N': 689, 'num_congruent': 50, 'num_with_common_factor': 10, 'p_common_factor': 0.2}\n",
            "{'m': 2183, 'N': 923, 'num_congruent': 43, 'num_with_common_factor': 7, 'p_common_factor': 0.16279069767441862}\n",
            "{'m': 2183, 'N': 1673, 'num_congruent': 35, 'num_with_common_factor': 8, 'p_common_factor': 0.22857142857142856}\n",
            "{'m': 2183, 'N': 917, 'num_congruent': 38, 'num_with_common_factor': 10, 'p_common_factor': 0.2631578947368421}\n",
            "{'m': 2183, 'N': 1793, 'num_congruent': 51, 'num_with_common_factor': 7, 'p_common_factor': 0.13725490196078433}\n",
            "{'m': 2183, 'N': 1509, 'num_congruent': 35, 'num_with_common_factor': 21, 'p_common_factor': 0.6}\n",
            "{'m': 2183, 'N': 1727, 'num_congruent': 37, 'num_with_common_factor': 6, 'p_common_factor': 0.16216216216216217}\n",
            "{'m': 2183, 'N': 517, 'num_congruent': 32, 'num_with_common_factor': 14, 'p_common_factor': 0.4375}\n",
            "{'m': 2183, 'N': 982, 'num_congruent': 54, 'num_with_common_factor': 31, 'p_common_factor': 0.5740740740740741}\n",
            "{'m': 2183, 'N': 1942, 'num_congruent': 50, 'num_with_common_factor': 26, 'p_common_factor': 0.52}\n",
            "{'m': 2183, 'N': 667, 'num_congruent': 47, 'num_with_common_factor': 8, 'p_common_factor': 0.1702127659574468}\n",
            "{'m': 2183, 'N': 1658, 'num_congruent': 35, 'num_with_common_factor': 17, 'p_common_factor': 0.4857142857142857}\n",
            "{'m': 2183, 'N': 327, 'num_congruent': 43, 'num_with_common_factor': 21, 'p_common_factor': 0.4883720930232558}\n",
            "{'m': 2183, 'N': 667, 'num_congruent': 44, 'num_with_common_factor': 6, 'p_common_factor': 0.13636363636363635}\n",
            "{'m': 2183, 'N': 119, 'num_congruent': 55, 'num_with_common_factor': 17, 'p_common_factor': 0.3090909090909091}\n",
            "{'m': 2183, 'N': 377, 'num_congruent': 52, 'num_with_common_factor': 11, 'p_common_factor': 0.21153846153846154}\n",
            "{'m': 2183, 'N': 753, 'num_congruent': 60, 'num_with_common_factor': 30, 'p_common_factor': 0.5}\n",
            "{'m': 2183, 'N': 1649, 'num_congruent': 43, 'num_with_common_factor': 3, 'p_common_factor': 0.06976744186046512}\n",
            "{'m': 2183, 'N': 998, 'num_congruent': 49, 'num_with_common_factor': 20, 'p_common_factor': 0.40816326530612246}\n",
            "{'m': 2183, 'N': 77, 'num_congruent': 31, 'num_with_common_factor': 9, 'p_common_factor': 0.2903225806451613}\n",
            "{'m': 2183, 'N': 635, 'num_congruent': 48, 'num_with_common_factor': 23, 'p_common_factor': 0.4791666666666667}\n",
            "{'m': 2183, 'N': 1079, 'num_congruent': 47, 'num_with_common_factor': 10, 'p_common_factor': 0.2127659574468085}\n",
            "{'m': 2183, 'N': 818, 'num_congruent': 43, 'num_with_common_factor': 24, 'p_common_factor': 0.5581395348837209}\n",
            "{'m': 2183, 'N': 995, 'num_congruent': 37, 'num_with_common_factor': 13, 'p_common_factor': 0.35135135135135137}\n",
            "{'m': 2183, 'N': 1969, 'num_congruent': 36, 'num_with_common_factor': 8, 'p_common_factor': 0.2222222222222222}\n",
            "{'m': 2183, 'N': 85, 'num_congruent': 49, 'num_with_common_factor': 23, 'p_common_factor': 0.46938775510204084}\n",
            "{'m': 2183, 'N': 1263, 'num_congruent': 51, 'num_with_common_factor': 29, 'p_common_factor': 0.5686274509803921}\n",
            "{'m': 2183, 'N': 194, 'num_congruent': 40, 'num_with_common_factor': 20, 'p_common_factor': 0.5}\n",
            "{'m': 2183, 'N': 86, 'num_congruent': 27, 'num_with_common_factor': 7, 'p_common_factor': 0.25925925925925924}\n",
            "{'m': 2183, 'N': 358, 'num_congruent': 42, 'num_with_common_factor': 17, 'p_common_factor': 0.40476190476190477}\n",
            "{'m': 2183, 'N': 323, 'num_congruent': 51, 'num_with_common_factor': 8, 'p_common_factor': 0.1568627450980392}\n",
            "{'m': 2183, 'N': 362, 'num_congruent': 34, 'num_with_common_factor': 19, 'p_common_factor': 0.5588235294117647}\n",
            "{'m': 2183, 'N': 226, 'num_congruent': 36, 'num_with_common_factor': 15, 'p_common_factor': 0.4166666666666667}\n",
            "{'m': 2183, 'N': 703, 'num_congruent': 87, 'num_with_common_factor': 87, 'p_common_factor': 1.0}\n",
            "{'m': 2183, 'N': 159, 'num_congruent': 40, 'num_with_common_factor': 20, 'p_common_factor': 0.5}\n",
            "{'m': 2183, 'N': 1649, 'num_congruent': 54, 'num_with_common_factor': 9, 'p_common_factor': 0.16666666666666666}\n",
            "{'m': 2183, 'N': 1346, 'num_congruent': 44, 'num_with_common_factor': 21, 'p_common_factor': 0.4772727272727273}\n",
            "{'m': 2183, 'N': 2103, 'num_congruent': 48, 'num_with_common_factor': 21, 'p_common_factor': 0.4375}\n",
            "{'m': 2183, 'N': 1982, 'num_congruent': 32, 'num_with_common_factor': 14, 'p_common_factor': 0.4375}\n",
            "{'m': 2183, 'N': 2051, 'num_congruent': 28, 'num_with_common_factor': 8, 'p_common_factor': 0.2857142857142857}\n",
            "{'m': 2183, 'N': 1574, 'num_congruent': 65, 'num_with_common_factor': 33, 'p_common_factor': 0.5076923076923077}\n",
            "{'m': 2183, 'N': 2041, 'num_congruent': 37, 'num_with_common_factor': 8, 'p_common_factor': 0.21621621621621623}\n",
            "{'m': 2183, 'N': 1774, 'num_congruent': 52, 'num_with_common_factor': 31, 'p_common_factor': 0.5961538461538461}\n"
          ]
        }
      ]
    },
    {
      "cell_type": "markdown",
      "source": [
        "We now plot how often a common factor is found."
      ],
      "metadata": {
        "id": "_BQLjTzkjcZq"
      }
    },
    {
      "cell_type": "code",
      "source": [
        "sample_results = pandas.DataFrame(sample_results)\n",
        "sample_results.plot.scatter(x='N', y='p_common_factor', alpha=0.5)"
      ],
      "metadata": {
        "colab": {
          "base_uri": "https://localhost:8080/",
          "height": 466
        },
        "id": "jgFaIxrhjjVR",
        "outputId": "54079a3c-5ed2-47d2-82ca-b49a939e0a24"
      },
      "execution_count": 74,
      "outputs": [
        {
          "output_type": "execute_result",
          "data": {
            "text/plain": [
              "<Axes: xlabel='N', ylabel='p_common_factor'>"
            ]
          },
          "metadata": {},
          "execution_count": 74
        },
        {
          "output_type": "display_data",
          "data": {
            "text/plain": [
              "<Figure size 640x480 with 1 Axes>"
            ],
            "image/png": "[encoded data removed]"
          },
          "metadata": {}
        }
      ]
    },
    {
      "cell_type": "markdown",
      "source": [],
      "metadata": {
        "id": "z90qDZJKk9Bs"
      }
    }
  ]
}