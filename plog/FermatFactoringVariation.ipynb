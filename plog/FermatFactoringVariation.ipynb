{
  "nbformat": 4,
  "nbformat_minor": 0,
  "metadata": {
    "colab": {
      "provenance": [],
      "authorship_tag": "ABX9TyMVIMpz9s0igEFy7XyM5LE/",
      "include_colab_link": true
    },
    "kernelspec": {
      "name": "python3",
      "display_name": "Python 3"
    },
    "language_info": {
      "name": "python"
    }
  },
  "cells": [
    {
      "cell_type": "markdown",
      "metadata": {
        "id": "view-in-github",
        "colab_type": "text"
      },
      "source": [
        "<a href=\"https://colab.research.google.com/github/joshtburdick/misc/blob/master/plog/FermatFactoringVariation.ipynb\" target=\"_parent\"><img src=\"https://colab.research.google.com/assets/colab-badge.svg\" alt=\"Open In Colab\"/></a>"
      ]
    },
    {
      "cell_type": "markdown",
      "source": [
        "# A variation on Fermat's factoring method\n",
        "\n",
        "This is a variation on [Fermat's factoring method](https://en.wikipedia.org/wiki/Fermat%27s_factorization_method),\n",
        "which tries to write a number $N$ as a difference of squares $N = a^2 - b^2$.\n",
        "\n",
        "However, here, rather than requiring this to be exact, we only require to be true modulo a product of small primes $m = \\prod p_i$.\n",
        "It's not obvious that trying to solve these separately makes for an easier problem.\n",
        "\n",
        "Here, we *only* ask ask the question:\n",
        "\n",
        "For a given set of small primes $p_i$, suppose we wish to factor $N$ (which is less than $m = \\prod p_i$). Suppose we find $a$ and $b$ such that, for all $i$,\n",
        "\n",
        "$a^2 - b^2 \\equiv N   ({\\rm mod} p_i)$\n",
        "\n",
        "How often is it the case that any of $a+b$, $a-b$, or $b-a$ shares a\n",
        "common factor (other than 1) with $N$?\n",
        "\n",
        "(As a quick check, pasting that into \"Generate\"; here's what I get.)\n",
        "\n",
        "\n"
      ],
      "metadata": {
        "id": "Jnlr0fBbl2fp"
      }
    },
    {
      "cell_type": "code",
      "execution_count": 48,
      "metadata": {
        "id": "jCnmeZ0NlyuS"
      },
      "outputs": [],
      "source": [
        "# prompt: This is a variation on Fermat's factoring method. It tries to write a number  𝑁  as a difference of squares  𝑁=𝑎2−𝑏2 .\n",
        "# However, here, rather than requiring this to be exact, we only require to be true modulo a product of small primes  𝑚=∏𝑝𝑖 . It's not obvious that trying to solve these separately makes for an easier problem.\n",
        "# Here, we only ask ask the question:\n",
        "# For a given set of small primes  𝑝𝑖 , suppose we wish to factor  𝑁  (which is less than  𝑚=∏𝑝𝑖 ). Suppose we find  𝑎  and  𝑏  such that, for all  𝑖 ,\n",
        "# 𝑎2−𝑏2≅𝑁(mod𝑝𝑖)\n",
        "# How often is it the case that any of  𝑎+𝑏 ,  𝑎−𝑏 , or  𝑏−𝑎  shares a common factor (other than 1) with  𝑁 ?\n",
        "\n",
        "def has_common_factor(N, a, b):\n",
        "  \"\"\"Checks if a+b, a-b, or b-a share a common factor with N.\n",
        "\n",
        "  Args:\n",
        "    N: The number to factor.\n",
        "    a: One of the integers in the difference of squares.\n",
        "    b: The other integer in the difference of squares.\n",
        "\n",
        "  Returns:\n",
        "    True if there is a common factor, False otherwise.\n",
        "  \"\"\"\n",
        "  import math\n",
        "\n",
        "  if math.gcd(abs(a + b), N) > 1:\n",
        "    return True\n",
        "  if math.gcd(abs(a - b), N) > 1:\n",
        "    return True\n",
        "  if math.gcd(abs(b - a), N) > 1:\n",
        "    return True\n",
        "  return False"
      ]
    },
    {
      "cell_type": "code",
      "source": [
        "import math\n",
        "import random\n",
        "\n",
        "import itertools\n",
        "import matplotlib\n",
        "from matplotlib import pyplot as plt\n",
        "import numpy as np\n",
        "import pandas"
      ],
      "metadata": {
        "id": "xFRDSzMMFdpp"
      },
      "execution_count": 49,
      "outputs": []
    },
    {
      "cell_type": "code",
      "source": [
        "# prompt: Get the first few hundred prime numbers. Feel free to use whatever Python libraries simplify this.\n",
        "\n",
        "!pip install sympy\n",
        "\n",
        "from sympy import primerange\n",
        "\n",
        "primes = list(primerange(2, 1230)) # Get primes up to roughly the first 2000, as the 200th prime is 1223.\n",
        "primes\n",
        "\n",
        "# how many primes is this?\n",
        "len(primes)\n",
        "# ...close enough"
      ],
      "metadata": {
        "colab": {
          "base_uri": "https://localhost:8080/"
        },
        "id": "gonECbG2AWDr",
        "outputId": "44e9515e-8bc3-4a23-ab81-94009d038956"
      },
      "execution_count": 50,
      "outputs": [
        {
          "output_type": "stream",
          "name": "stdout",
          "text": [
            "Requirement already satisfied: sympy in /usr/local/lib/python3.11/dist-packages (1.13.1)\n",
            "Requirement already satisfied: mpmath<1.4,>=1.1.0 in /usr/local/lib/python3.11/dist-packages (from sympy) (1.3.0)\n"
          ]
        },
        {
          "output_type": "execute_result",
          "data": {
            "text/plain": [
              "201"
            ]
          },
          "metadata": {},
          "execution_count": 50
        }
      ]
    },
    {
      "cell_type": "markdown",
      "source": [
        "## Revised attempt at this\n",
        "We try to compute the possible values of `a` and `b` faster, using a table.\n",
        "\n",
        "First, for a given set of primes, we make a table of the\n",
        "difference of squares, and the various differences between `a` and `b`."
      ],
      "metadata": {
        "id": "WzlF57ezLlrF"
      }
    },
    {
      "cell_type": "code",
      "source": [
        "def diff_of_squares_table(primes):\n",
        "  \"\"\"Constructs tables of difference of squares.\n",
        "  Args:\n",
        "    primes: A list of prime numbers.\n",
        "  Returns:\n",
        "    An array with columns:\n",
        "      0: a^2 - b^2\n",
        "      1: a + b\n",
        "      2: a - b\n",
        "      3: b - a\n",
        "      4: -a - b\n",
        "  \"\"\"\n",
        "  m = math.prod(primes)\n",
        "  # First, compute a and b, as square tables containing just 0..(m-1),\n",
        "  # either on rows or columns. (We then just flatten them to vectors.)\n",
        "  i = np.arange(m)\n",
        "  a = i.reshape([m,-1])\n",
        "  b = i.reshape([-1,m])\n",
        "  return np.stack([\n",
        "      a**2 - b**2,\n",
        "      a+b, a-b, b-a, -a-b\n",
        "  ], axis=0).reshape([5,-1]).T % m\n",
        "\n",
        "x = diff_of_squares_table([3,5])\n",
        "x[:,0]"
      ],
      "metadata": {
        "colab": {
          "base_uri": "https://localhost:8080/"
        },
        "id": "HeKFRdkjIOrf",
        "outputId": "8597bf4f-beb9-45fb-a6b9-376c466829c2"
      },
      "execution_count": 51,
      "outputs": [
        {
          "output_type": "execute_result",
          "data": {
            "text/plain": [
              "array([ 0, 14, 11,  6, 14,  5,  9, 11, 11,  9,  5, 14,  6, 11, 14,  1,  0,\n",
              "       12,  7,  0,  6, 10, 12, 12, 10,  6,  0,  7, 12,  0,  4,  3,  0, 10,\n",
              "        3,  9, 13,  0,  0, 13,  9,  3, 10,  0,  3,  9,  8,  5,  0,  8, 14,\n",
              "        3,  5,  5,  3, 14,  8,  0,  5,  8,  1,  0, 12,  7,  0,  6, 10, 12,\n",
              "       12, 10,  6,  0,  7, 12,  0, 10,  9,  6,  1,  9,  0,  4,  6,  6,  4,\n",
              "        0,  9,  1,  6,  9,  6,  5,  2, 12,  5, 11,  0,  2,  2,  0, 11,  5,\n",
              "       12,  2,  5,  4,  3,  0, 10,  3,  9, 13,  0,  0, 13,  9,  3, 10,  0,\n",
              "        3,  4,  3,  0, 10,  3,  9, 13,  0,  0, 13,  9,  3, 10,  0,  3,  6,\n",
              "        5,  2, 12,  5, 11,  0,  2,  2,  0, 11,  5, 12,  2,  5, 10,  9,  6,\n",
              "        1,  9,  0,  4,  6,  6,  4,  0,  9,  1,  6,  9,  1,  0, 12,  7,  0,\n",
              "        6, 10, 12, 12, 10,  6,  0,  7, 12,  0,  9,  8,  5,  0,  8, 14,  3,\n",
              "        5,  5,  3, 14,  8,  0,  5,  8,  4,  3,  0, 10,  3,  9, 13,  0,  0,\n",
              "       13,  9,  3, 10,  0,  3,  1,  0, 12,  7,  0,  6, 10, 12, 12, 10,  6,\n",
              "        0,  7, 12,  0])"
            ]
          },
          "metadata": {},
          "execution_count": 51
        }
      ]
    },
    {
      "cell_type": "code",
      "source": [
        "primes = [3,5,7,11]\n",
        "s = diff_of_squares_table(primes)\n",
        "print(s.shape)\n",
        "s"
      ],
      "metadata": {
        "colab": {
          "base_uri": "https://localhost:8080/"
        },
        "id": "YMZNfDThLkdO",
        "outputId": "72c53efc-18d1-45b7-97b1-e0857b145e76"
      },
      "execution_count": 52,
      "outputs": [
        {
          "output_type": "stream",
          "name": "stdout",
          "text": [
            "(1334025, 5)\n"
          ]
        },
        {
          "output_type": "execute_result",
          "data": {
            "text/plain": [
              "array([[   0,    0,    0,    0,    0],\n",
              "       [1154,    1, 1154,    1, 1154],\n",
              "       [1151,    2, 1153,    2, 1153],\n",
              "       ...,\n",
              "       [1147, 1151,    2, 1153,    4],\n",
              "       [1152, 1152,    1, 1154,    3],\n",
              "       [   0, 1153,    0,    0,    2]])"
            ]
          },
          "metadata": {},
          "execution_count": 52
        }
      ]
    },
    {
      "cell_type": "code",
      "source": [
        "print(13*17)\n",
        "r = s[ s[:,0]==13*17 , : ]\n",
        "print(r.shape)\n",
        "print(r)"
      ],
      "metadata": {
        "colab": {
          "base_uri": "https://localhost:8080/"
        },
        "id": "GuHtF96nP-5R",
        "outputId": "a639f1a3-4647-4817-f581-df1e02a9609c"
      },
      "execution_count": 53,
      "outputs": [
        {
          "output_type": "stream",
          "name": "stdout",
          "text": [
            "221\n",
            "(480, 5)\n",
            "[[221 289 884 271 866]\n",
            " [221 499 674 481 656]\n",
            " [221 674 499 656 481]\n",
            " ...\n",
            " [221 481 656 499 674]\n",
            " [221 656 481 674 499]\n",
            " [221 866 271 884 289]]\n"
          ]
        }
      ]
    },
    {
      "cell_type": "code",
      "source": [
        "# prompt: given a numpy array a and an integer n, compute the GCD of everything in it with n\n",
        "\n",
        "import numpy as np\n",
        "def array_gcd(a, n):\n",
        "  \"\"\"Computes the GCD of each element in a NumPy array with an integer n.\n",
        "\n",
        "  Args:\n",
        "    a: A NumPy array of integers.\n",
        "    n: An integer.\n",
        "\n",
        "  Returns:\n",
        "    A NumPy array of the same shape as a, where each element is the GCD of the\n",
        "    corresponding element in a and n.\n",
        "  \"\"\"\n",
        "  return np.gcd(a, n)\n",
        "\n",
        "# Example usage:\n",
        "# a = np.array([12, 18, 24])\n",
        "# n = 6\n",
        "# result = array_gcd(a, n)\n",
        "# print(result) # Output: [6 6 6]"
      ],
      "metadata": {
        "id": "xMTfc1QxSFfh"
      },
      "execution_count": 54,
      "outputs": []
    },
    {
      "cell_type": "markdown",
      "source": [
        "(This works, but since we know the actual factors, we can do this more simply.)"
      ],
      "metadata": {
        "id": "L9jvukU4S0A2"
      }
    },
    {
      "cell_type": "code",
      "source": [
        "x = (r % 13 > 0) ^ (r % 17 > 0)\n",
        "sum(x)"
      ],
      "metadata": {
        "colab": {
          "base_uri": "https://localhost:8080/"
        },
        "id": "d9qORrnMTLvq",
        "outputId": "adaf9d81-b61f-41f2-c079-eb38eb340d3d"
      },
      "execution_count": 55,
      "outputs": [
        {
          "output_type": "execute_result",
          "data": {
            "text/plain": [
              "array([ 0, 59, 59, 59, 59])"
            ]
          },
          "metadata": {},
          "execution_count": 55
        }
      ]
    },
    {
      "cell_type": "markdown",
      "source": [
        "The first column makes sense. I'm not sure why the others are the same..."
      ],
      "metadata": {
        "id": "ronMaIe3Ap5T"
      }
    },
    {
      "cell_type": "code",
      "source": [
        "x1 = np.sum(x[:,1:5], axis=1)\n",
        "print(x1.shape)\n",
        "np.unique(x1, return_counts=True)"
      ],
      "metadata": {
        "colab": {
          "base_uri": "https://localhost:8080/"
        },
        "id": "yF3o4q20_KUn",
        "outputId": "ad697d1d-6a97-410d-8e03-4ee53b67a8a6"
      },
      "execution_count": 56,
      "outputs": [
        {
          "output_type": "stream",
          "name": "stdout",
          "text": [
            "(480,)\n"
          ]
        },
        {
          "output_type": "execute_result",
          "data": {
            "text/plain": [
              "(array([0, 1, 2]), array([284, 156,  40]))"
            ]
          },
          "metadata": {},
          "execution_count": 56
        }
      ]
    },
    {
      "cell_type": "code",
      "source": [
        "2*4*6*10"
      ],
      "metadata": {
        "colab": {
          "base_uri": "https://localhost:8080/"
        },
        "id": "s0LSPMCj_x1w",
        "outputId": "2196e477-99b6-4a5e-a10f-17f4586e30b8"
      },
      "execution_count": 57,
      "outputs": [
        {
          "output_type": "execute_result",
          "data": {
            "text/plain": [
              "480"
            ]
          },
          "metadata": {},
          "execution_count": 57
        }
      ]
    },
    {
      "cell_type": "code",
      "source": [
        "13*17"
      ],
      "metadata": {
        "colab": {
          "base_uri": "https://localhost:8080/"
        },
        "id": "Xi3p-kNrA1fE",
        "outputId": "aaa3fe01-4f67-4159-b5e8-300504c4c8fa"
      },
      "execution_count": 58,
      "outputs": [
        {
          "output_type": "execute_result",
          "data": {
            "text/plain": [
              "221"
            ]
          },
          "metadata": {},
          "execution_count": 58
        }
      ]
    },
    {
      "cell_type": "code",
      "source": [
        "# prompt: Given a list of primes whose product is m, get the numbers in 1..m which are members of the multiplicative group.\n",
        "\n",
        "def multiplicative_group_members(primes):\n",
        "  \"\"\"Gets the numbers in 1..m which are members of the multiplicative group.\n",
        "\n",
        "  Args:\n",
        "    primes: A list of prime numbers.\n",
        "\n",
        "  Returns:\n",
        "    A list of numbers in 1..m that are members of the multiplicative group,\n",
        "    where m is the product of the primes.\n",
        "  \"\"\"\n",
        "  m = math.prod(primes)\n",
        "  members = []\n",
        "  for num in range(1, m + 1):\n",
        "    is_member = True\n",
        "    for p in primes:\n",
        "      if math.gcd(num, p) != 1:\n",
        "        is_member = False\n",
        "        break\n",
        "    if is_member:\n",
        "      members.append(num)\n",
        "  return members\n",
        "\n",
        "# Example usage:\n",
        "# m_members = multiplicative_group_members(primes)\n",
        "# print(m_members)"
      ],
      "metadata": {
        "id": "1MiA45OqFJpT"
      },
      "execution_count": 59,
      "outputs": []
    },
    {
      "cell_type": "markdown",
      "source": [
        "## 2nd(ish) try: using more variations on $a+b$ and $a-b$\n",
        "\n",
        "Previously, we basically tried adding together every possibility of $\\pm a + \\pm b$. However, it seems sort of like, if we consider $a \\equiv a_i \\mathrm{mod} p_i$, then note that $(+a_i)^2 \\equiv (-a_i)^2 \\mathrm{mod} p_i$. So we should be able to \"flip\" any \"component\" $a_i$ or $b_i$, and still have a solution to $N = a^2 - b^2$.\n",
        "\n",
        "Also note that $-a \\equiv -a_i \\mathrm{mod} p_i$, and so is like \"flipping\" all of the components. (In other words, this should also include all of $a+b$, $a-b$, and $b-a$.)\n",
        "\n",
        "The question is, how many of these (if any) numbers have a nontrivial shared factor with $N$? To answer this, we modify the previous table a bit:\n"
      ],
      "metadata": {
        "id": "Oi2mQNMDq3wb"
      }
    },
    {
      "cell_type": "code",
      "source": [
        "def mod_table(primes):\n",
        "  \"\"\"Constructs a table of what the numbers are modulo the primes.\n",
        "  Args:\n",
        "    primes: A list of prime numbers.\n",
        "  Returns:\n",
        "    An array with, for row i, the value of i mod each of the primes.\n",
        "  \"\"\"\n",
        "  m = math.prod(primes)\n",
        "  i = np.arange(m)\n",
        "  return i.reshape([m,-1]) % primes\n",
        "\n",
        "mod_table([5,7]).T"
      ],
      "metadata": {
        "id": "WVP54h25zzDD",
        "outputId": "5b6b1ec9-67d0-4fb7-80a6-47108aebdd81",
        "colab": {
          "base_uri": "https://localhost:8080/"
        }
      },
      "execution_count": 60,
      "outputs": [
        {
          "output_type": "execute_result",
          "data": {
            "text/plain": [
              "array([[0, 1, 2, 3, 4, 0, 1, 2, 3, 4, 0, 1, 2, 3, 4, 0, 1, 2, 3, 4, 0, 1,\n",
              "        2, 3, 4, 0, 1, 2, 3, 4, 0, 1, 2, 3, 4],\n",
              "       [0, 1, 2, 3, 4, 5, 6, 0, 1, 2, 3, 4, 5, 6, 0, 1, 2, 3, 4, 5, 6, 0,\n",
              "        1, 2, 3, 4, 5, 6, 0, 1, 2, 3, 4, 5, 6]])"
            ]
          },
          "metadata": {},
          "execution_count": 60
        }
      ]
    },
    {
      "cell_type": "markdown",
      "source": [
        "We could use the extended Euclid's method to do this, but instead just construct a table."
      ],
      "metadata": {
        "id": "ab4rs_5Cvx7B"
      }
    },
    {
      "cell_type": "code",
      "source": [
        "import math\n",
        "import numpy as np\n",
        "def mod_table(primes):\n",
        "  \"\"\"Given an array of primes, constructs an array containing the number\n",
        "    in [0, primes) congruent to the indices (mod the primes).\n",
        "  Args:\n",
        "    primes: An array of prime numbers.\n",
        "  Returns:\n",
        "    An array with a dimension for each of the primes.\n",
        "  \"\"\"\n",
        "  a = np.zeros(primes, dtype=np.int64)\n",
        "  for i in range(math.prod(primes)):\n",
        "    a[tuple(i%primes)] = i\n",
        "  return a\n",
        "\n",
        "mod_table(np.array([3,5,7]))"
      ],
      "metadata": {
        "id": "0ARmmRQM2Dpa",
        "outputId": "4e4a0925-95ad-4043-e1e9-9e0346e12f89",
        "colab": {
          "base_uri": "https://localhost:8080/"
        }
      },
      "execution_count": 61,
      "outputs": [
        {
          "output_type": "execute_result",
          "data": {
            "text/plain": [
              "array([[[  0,  15,  30,  45,  60,  75,  90],\n",
              "        [ 21,  36,  51,  66,  81,  96,   6],\n",
              "        [ 42,  57,  72,  87, 102,  12,  27],\n",
              "        [ 63,  78,  93,   3,  18,  33,  48],\n",
              "        [ 84,  99,   9,  24,  39,  54,  69]],\n",
              "\n",
              "       [[ 70,  85, 100,  10,  25,  40,  55],\n",
              "        [ 91,   1,  16,  31,  46,  61,  76],\n",
              "        [  7,  22,  37,  52,  67,  82,  97],\n",
              "        [ 28,  43,  58,  73,  88, 103,  13],\n",
              "        [ 49,  64,  79,  94,   4,  19,  34]],\n",
              "\n",
              "       [[ 35,  50,  65,  80,  95,   5,  20],\n",
              "        [ 56,  71,  86, 101,  11,  26,  41],\n",
              "        [ 77,  92,   2,  17,  32,  47,  62],\n",
              "        [ 98,   8,  23,  38,  53,  68,  83],\n",
              "        [ 14,  29,  44,  59,  74,  89, 104]]])"
            ]
          },
          "metadata": {},
          "execution_count": 61
        }
      ]
    },
    {
      "cell_type": "code",
      "source": [
        "# prompt: Write a function which returns the bit representations of all of the n-bit numbers (in order), as a square numpy array of booleans.\n",
        "\n",
        "import numpy as np\n",
        "def get_bit_representations(n):\n",
        "  \"\"\"Returns the bit representations of all n-bit numbers.\n",
        "\n",
        "  Args:\n",
        "    n: The number of bits.\n",
        "\n",
        "  Returns:\n",
        "    A square NumPy array of booleans, where each row represents an n-bit number.\n",
        "  \"\"\"\n",
        "  num_numbers = 2**n\n",
        "  bit_representations = np.zeros((num_numbers, n), dtype=bool)\n",
        "  for i in range(num_numbers):\n",
        "    for j in range(n):\n",
        "      bit_representations[i, n - 1 - j] = (i >> j) & 1\n",
        "  return bit_representations\n",
        "\n",
        "get_bit_representations(3)\n"
      ],
      "metadata": {
        "id": "FCReCAOpzcDn",
        "outputId": "fd8c97c2-ad6c-4392-97d5-1572a3403bfc",
        "colab": {
          "base_uri": "https://localhost:8080/"
        }
      },
      "execution_count": 62,
      "outputs": [
        {
          "output_type": "execute_result",
          "data": {
            "text/plain": [
              "array([[False, False, False],\n",
              "       [False, False,  True],\n",
              "       [False,  True, False],\n",
              "       [False,  True,  True],\n",
              "       [ True, False, False],\n",
              "       [ True, False,  True],\n",
              "       [ True,  True, False],\n",
              "       [ True,  True,  True]])"
            ]
          },
          "metadata": {},
          "execution_count": 62
        }
      ]
    },
    {
      "cell_type": "code",
      "source": [
        "def plus_or_minus_mod(primes):\n",
        "  \"\"\"Given a number, computes some numbers.\n",
        "\n",
        "  This is numbers which are \"negated mod some subset of the primes\".\n",
        "  \"\"\"\n",
        "  m = mod_table(primes)\n",
        "  signs = 2 * get_bit_representations(primes.shape[0]) - 1\n",
        "  def f(x):\n",
        "    # compute x, mod all the primes\n",
        "    a = x % primes\n",
        "    # find all combinations of flipping the signs\n",
        "    a_flipped = a * signs % primes\n",
        "    # find corresponding numbers, mod all the primes\n",
        "    y = m[ tuple(a_flipped.T) ]\n",
        "    return y\n",
        "  return f\n",
        "\n",
        "primes = np.array([3,5,7])\n",
        "pm = plus_or_minus_mod(primes)\n",
        "pm(11)"
      ],
      "metadata": {
        "id": "DcZjKmJHwsqs",
        "outputId": "57a8a4aa-cc36-48a5-d207-fd2888c7c542",
        "colab": {
          "base_uri": "https://localhost:8080/"
        }
      },
      "execution_count": 63,
      "outputs": [
        {
          "output_type": "execute_result",
          "data": {
            "text/plain": [
              "array([ 94,   4,  31,  46,  59,  74, 101,  11])"
            ]
          },
          "metadata": {},
          "execution_count": 63
        }
      ]
    },
    {
      "cell_type": "markdown",
      "source": [
        "We now see how often, for a given solution to $a^2-b^2 \\equiv n (\\mathrm{mod} m)$, these numbers share a common factor with $n$.\n",
        "\n"
      ],
      "metadata": {
        "id": "kJA3UZn1KRMh"
      }
    },
    {
      "cell_type": "code",
      "source": [
        "# practice\n",
        "g = multiplicative_group_members(np.array([3,5]))\n",
        "for x in itertools.product(g, g):\n",
        "  print(x)\n",
        "True ^ True"
      ],
      "metadata": {
        "id": "q66-GkMTpUaS",
        "outputId": "879beb83-8f97-41a7-e033-2c3362352630",
        "colab": {
          "base_uri": "https://localhost:8080/"
        }
      },
      "execution_count": 64,
      "outputs": [
        {
          "output_type": "stream",
          "name": "stdout",
          "text": [
            "(1, 1)\n",
            "(1, 2)\n",
            "(1, 4)\n",
            "(1, 7)\n",
            "(1, 8)\n",
            "(1, 11)\n",
            "(1, 13)\n",
            "(1, 14)\n",
            "(2, 1)\n",
            "(2, 2)\n",
            "(2, 4)\n",
            "(2, 7)\n",
            "(2, 8)\n",
            "(2, 11)\n",
            "(2, 13)\n",
            "(2, 14)\n",
            "(4, 1)\n",
            "(4, 2)\n",
            "(4, 4)\n",
            "(4, 7)\n",
            "(4, 8)\n",
            "(4, 11)\n",
            "(4, 13)\n",
            "(4, 14)\n",
            "(7, 1)\n",
            "(7, 2)\n",
            "(7, 4)\n",
            "(7, 7)\n",
            "(7, 8)\n",
            "(7, 11)\n",
            "(7, 13)\n",
            "(7, 14)\n",
            "(8, 1)\n",
            "(8, 2)\n",
            "(8, 4)\n",
            "(8, 7)\n",
            "(8, 8)\n",
            "(8, 11)\n",
            "(8, 13)\n",
            "(8, 14)\n",
            "(11, 1)\n",
            "(11, 2)\n",
            "(11, 4)\n",
            "(11, 7)\n",
            "(11, 8)\n",
            "(11, 11)\n",
            "(11, 13)\n",
            "(11, 14)\n",
            "(13, 1)\n",
            "(13, 2)\n",
            "(13, 4)\n",
            "(13, 7)\n",
            "(13, 8)\n",
            "(13, 11)\n",
            "(13, 13)\n",
            "(13, 14)\n",
            "(14, 1)\n",
            "(14, 2)\n",
            "(14, 4)\n",
            "(14, 7)\n",
            "(14, 8)\n",
            "(14, 11)\n",
            "(14, 13)\n",
            "(14, 14)\n"
          ]
        },
        {
          "output_type": "execute_result",
          "data": {
            "text/plain": [
              "False"
            ]
          },
          "metadata": {},
          "execution_count": 64
        }
      ]
    },
    {
      "cell_type": "code",
      "source": [
        "def num_with_shared_factor(primes, x1, x2):\n",
        "  \"\"\"\n",
        "\n",
        "    primes: the prime factors in question\n",
        "    x1, x2: the factors of n\n",
        "\n",
        "    Returns a dict with:\n",
        "      keys: pairs (a,b)\n",
        "      values: number of the above numbers sharing a nontrivial factor\n",
        "        with n\n",
        "  \"\"\"\n",
        "  m = math.prod(primes)\n",
        "  n = x1 * x2\n",
        "  pm = plus_or_minus_mod(primes)\n",
        "  def num_with_common_factor(pair):\n",
        "    (a, b) = pair\n",
        "    diffs = [a+b % m\n",
        "      for (a,b) in itertools.product(pm(a), pm(b))]\n",
        "    # a nontrivial common factor needs be divisible by\n",
        "    # one of x1 or x2, but not both\n",
        "    diffs_with_common_factor = [\n",
        "        x for x in diffs if (x%x1==0) ^ (x%x2==0)]\n",
        "    return len(diffs_with_common_factor)\n",
        "  g = multiplicative_group_members(primes)\n",
        "  square_pairs = [(a, b) for (a, b) in itertools.product(g, g)\n",
        "    if (a**2 - b**2) % m == n]\n",
        "  num_factors = { pair: num_with_common_factor(pair)\n",
        "    for pair in square_pairs }\n",
        "  return num_factors\n",
        "\n",
        "primes = np.array([5,7,11,13])\n",
        "shared_factor_counts = num_with_shared_factor(primes, 47, 51)\n",
        "print(len(shared_factor_counts))\n",
        "print(sum([x > 0 for x in shared_factor_counts.values()]))\n",
        "print(math.prod(primes))\n",
        "print(47*51)"
      ],
      "metadata": {
        "id": "mTUbbxBRLAqw",
        "outputId": "aa3b0a90-4936-4e16-86f6-4ef5278ec465",
        "colab": {
          "base_uri": "https://localhost:8080/"
        }
      },
      "execution_count": 65,
      "outputs": [
        {
          "output_type": "stream",
          "name": "stdout",
          "text": [
            "1536\n",
            "1536\n",
            "5005\n",
            "2397\n"
          ]
        }
      ]
    },
    {
      "cell_type": "markdown",
      "source": [
        "... roll to disbelieve."
      ],
      "metadata": {
        "id": "NAYfvyBit0Zo"
      }
    },
    {
      "cell_type": "code",
      "source": [
        "def diff_of_squares_table(primes):\n",
        "  \"\"\"Constructs tables of difference of squares.\n",
        "  Args:\n",
        "    primes: A list of prime numbers.\n",
        "  Returns:\n",
        "    a table with three columns:\n",
        "      0: a^2 - b^2\n",
        "      1: a\n",
        "      2: b\n",
        "  \"\"\"\n",
        "  m = math.prod(primes)\n",
        "  # First, compute a and b, as square tables containing just 0..(m-1),\n",
        "  # either on rows or columns. (We later flatten them to vectors.)\n",
        "  i = np.arange(m)\n",
        "  z = np.zeros((m,m))\n",
        "  a = i.reshape([m,-1])\n",
        "  b = i.reshape([-1,m])\n",
        "  return np.stack([\n",
        "      a**2 - b**2, z+a, z+b\n",
        "  ], axis=0).reshape([3,-1]).T % m\n",
        "\n",
        "diff_of_squares_table([5,7])"
      ],
      "metadata": {
        "id": "CILwAD8ku2Jq",
        "outputId": "a07e83f9-042c-4073-f30d-c9820d861b69",
        "colab": {
          "base_uri": "https://localhost:8080/"
        }
      },
      "execution_count": 66,
      "outputs": [
        {
          "output_type": "execute_result",
          "data": {
            "text/plain": [
              "array([[ 0.,  0.,  0.],\n",
              "       [34.,  0.,  1.],\n",
              "       [31.,  0.,  2.],\n",
              "       ...,\n",
              "       [27., 34., 32.],\n",
              "       [32., 34., 33.],\n",
              "       [ 0., 34., 34.]])"
            ]
          },
          "metadata": {},
          "execution_count": 66
        }
      ]
    },
    {
      "cell_type": "markdown",
      "source": [
        "\n",
        "## Original attempt\n",
        "\n",
        "(Below is my first attempt at this, which uses sampling, and is probably slower.)\n",
        "\n",
        "First, for a given set of primes, we find the members of the multiplicative group.\n",
        "\n"
      ],
      "metadata": {
        "id": "K6y7xh7tDOLU"
      }
    },
    {
      "cell_type": "markdown",
      "source": [
        "(This works. However, it might be faster to either check if any `p` in `primes` divides `num`, or check `math.gcd(num, m)!=1`. Admittedly, I'm not sure which of these would be faster.)"
      ],
      "metadata": {
        "id": "O_ueL0FUL0At"
      }
    },
    {
      "cell_type": "code",
      "source": [
        "len(multiplicative_group_members(primes))"
      ],
      "metadata": {
        "colab": {
          "base_uri": "https://localhost:8080/"
        },
        "id": "5gVhJTPn_Coj",
        "outputId": "18f3bff5-d76f-488b-96b6-bcc7187b037b"
      },
      "execution_count": 67,
      "outputs": [
        {
          "output_type": "execute_result",
          "data": {
            "text/plain": [
              "2880"
            ]
          },
          "metadata": {},
          "execution_count": 67
        }
      ]
    },
    {
      "cell_type": "code",
      "source": [
        "# prompt: Write a function which is given a list `p` of primes, and first computes their product, `m`, and the elements of 1..m which form a multiplicative group.\n",
        "# It should then sample numbers N, which are a product of exactly two primes, and use sampling to find pairs `a` and `b` such that a^2-b^2 = N (mod m).\n",
        "# For each of these, it should then check whether N and _any_ of a+b, a-b, or b-a share a common factor.\n",
        "# It should expect \"number of samples\" as an argument. It should return a list of, for each sample:\n",
        "# - N\n",
        "# - a, b\n",
        "\n",
        "def solve_and_check_common_factors(p, num_samples):\n",
        "    \"\"\"\n",
        "    Samples numbers N (product of two primes) and finds pairs (a, b)\n",
        "    such that a^2 - b^2 = N (mod m), then checks for common factors.\n",
        "\n",
        "    Args:\n",
        "        p: A list of prime numbers.\n",
        "        num_samples: The number of samples to take.\n",
        "\n",
        "    Returns:\n",
        "        A list of tuples, where each tuple contains (N, (a, b)).\n",
        "    \"\"\"\n",
        "    m = math.prod(p)\n",
        "    m_members = multiplicative_group_members(p)\n",
        "\n",
        "    results = []\n",
        "\n",
        "    # Create a list of possible two-prime products within a reasonable range\n",
        "    possible_Ns = []\n",
        "    primes1 = [p for p in primes if p!=2 and p<math.sqrt(m+1)]\n",
        "    for i in range(len(primes)):\n",
        "        for j in range(i, len(primes)):\n",
        "            n = primes[i] * primes[j]\n",
        "            if n < m: # Ensure N is less than m for modulo operations\n",
        "                possible_Ns.append(n)\n",
        "\n",
        "    for _ in range(num_samples):\n",
        "        # Randomly sample an N which is a product of two primes\n",
        "        N = random.choice(possible_Ns)\n",
        "        if N >= m:\n",
        "          continue\n",
        "        num_congruent = 0\n",
        "        num_with_common_factor = 0\n",
        "        for _ in range(100000): # Try random pairs of a and b\n",
        "            a = random.choice(m_members)\n",
        "            b = random.choice(m_members)\n",
        "            # Check if a^2 - b^2 = N (mod m)\n",
        "            if (a**2 - b**2) % m == N % m:\n",
        "              num_congruent += 1\n",
        "              if has_common_factor(N, a, b):\n",
        "                num_with_common_factor += 1\n",
        "        results.append({\"m\": m, \"N\": N,\n",
        "                        \"num_congruent\": num_congruent,\n",
        "                        \"num_with_common_factor\": num_with_common_factor,\n",
        "                        \"p_common_factor\": num_with_common_factor / num_congruent})\n",
        "\n",
        "\n",
        "    return results\n",
        "\n",
        "# Example usage:\n",
        "p = [79,83] # [59,71] # [37,59]\n",
        "sample_results = solve_and_check_common_factors(p, 100)\n",
        "for x in sample_results:\n",
        "  print(x)"
      ],
      "metadata": {
        "colab": {
          "base_uri": "https://localhost:8080/"
        },
        "id": "O4s9rf1uSrR2",
        "outputId": "8546d481-ed2d-4405-eb7c-f7776fe4b9c9"
      },
      "execution_count": 68,
      "outputs": [
        {
          "output_type": "stream",
          "name": "stdout",
          "text": [
            "{'m': 6557, 'N': np.int64(77), 'num_congruent': 17, 'num_with_common_factor': 3, 'p_common_factor': 0.17647058823529413}\n",
            "{'m': 6557, 'N': np.int64(25), 'num_congruent': 14, 'num_with_common_factor': 3, 'p_common_factor': 0.21428571428571427}\n",
            "{'m': 6557, 'N': np.int64(143), 'num_congruent': 21, 'num_with_common_factor': 8, 'p_common_factor': 0.38095238095238093}\n",
            "{'m': 6557, 'N': np.int64(35), 'num_congruent': 14, 'num_with_common_factor': 5, 'p_common_factor': 0.35714285714285715}\n",
            "{'m': 6557, 'N': np.int64(65), 'num_congruent': 12, 'num_with_common_factor': 6, 'p_common_factor': 0.5}\n",
            "{'m': 6557, 'N': np.int64(65), 'num_congruent': 12, 'num_with_common_factor': 6, 'p_common_factor': 0.5}\n",
            "{'m': 6557, 'N': np.int64(25), 'num_congruent': 16, 'num_with_common_factor': 6, 'p_common_factor': 0.375}\n",
            "{'m': 6557, 'N': np.int64(65), 'num_congruent': 17, 'num_with_common_factor': 8, 'p_common_factor': 0.47058823529411764}\n",
            "{'m': 6557, 'N': np.int64(77), 'num_congruent': 12, 'num_with_common_factor': 5, 'p_common_factor': 0.4166666666666667}\n",
            "{'m': 6557, 'N': np.int64(25), 'num_congruent': 15, 'num_with_common_factor': 4, 'p_common_factor': 0.26666666666666666}\n",
            "{'m': 6557, 'N': np.int64(77), 'num_congruent': 9, 'num_with_common_factor': 4, 'p_common_factor': 0.4444444444444444}\n",
            "{'m': 6557, 'N': np.int64(121), 'num_congruent': 17, 'num_with_common_factor': 7, 'p_common_factor': 0.4117647058823529}\n",
            "{'m': 6557, 'N': np.int64(77), 'num_congruent': 12, 'num_with_common_factor': 6, 'p_common_factor': 0.5}\n",
            "{'m': 6557, 'N': np.int64(35), 'num_congruent': 11, 'num_with_common_factor': 6, 'p_common_factor': 0.5454545454545454}\n",
            "{'m': 6557, 'N': np.int64(77), 'num_congruent': 12, 'num_with_common_factor': 5, 'p_common_factor': 0.4166666666666667}\n",
            "{'m': 6557, 'N': np.int64(77), 'num_congruent': 15, 'num_with_common_factor': 8, 'p_common_factor': 0.5333333333333333}\n",
            "{'m': 6557, 'N': np.int64(169), 'num_congruent': 13, 'num_with_common_factor': 2, 'p_common_factor': 0.15384615384615385}\n",
            "{'m': 6557, 'N': np.int64(35), 'num_congruent': 21, 'num_with_common_factor': 5, 'p_common_factor': 0.23809523809523808}\n",
            "{'m': 6557, 'N': np.int64(49), 'num_congruent': 14, 'num_with_common_factor': 6, 'p_common_factor': 0.42857142857142855}\n",
            "{'m': 6557, 'N': np.int64(35), 'num_congruent': 15, 'num_with_common_factor': 11, 'p_common_factor': 0.7333333333333333}\n",
            "{'m': 6557, 'N': np.int64(35), 'num_congruent': 17, 'num_with_common_factor': 12, 'p_common_factor': 0.7058823529411765}\n",
            "{'m': 6557, 'N': np.int64(25), 'num_congruent': 8, 'num_with_common_factor': 3, 'p_common_factor': 0.375}\n",
            "{'m': 6557, 'N': np.int64(91), 'num_congruent': 18, 'num_with_common_factor': 10, 'p_common_factor': 0.5555555555555556}\n",
            "{'m': 6557, 'N': np.int64(121), 'num_congruent': 16, 'num_with_common_factor': 1, 'p_common_factor': 0.0625}\n",
            "{'m': 6557, 'N': np.int64(143), 'num_congruent': 15, 'num_with_common_factor': 7, 'p_common_factor': 0.4666666666666667}\n",
            "{'m': 6557, 'N': np.int64(91), 'num_congruent': 14, 'num_with_common_factor': 5, 'p_common_factor': 0.35714285714285715}\n",
            "{'m': 6557, 'N': np.int64(25), 'num_congruent': 17, 'num_with_common_factor': 3, 'p_common_factor': 0.17647058823529413}\n",
            "{'m': 6557, 'N': np.int64(55), 'num_congruent': 14, 'num_with_common_factor': 10, 'p_common_factor': 0.7142857142857143}\n",
            "{'m': 6557, 'N': np.int64(35), 'num_congruent': 24, 'num_with_common_factor': 12, 'p_common_factor': 0.5}\n",
            "{'m': 6557, 'N': np.int64(91), 'num_congruent': 15, 'num_with_common_factor': 3, 'p_common_factor': 0.2}\n",
            "{'m': 6557, 'N': np.int64(35), 'num_congruent': 15, 'num_with_common_factor': 8, 'p_common_factor': 0.5333333333333333}\n",
            "{'m': 6557, 'N': np.int64(65), 'num_congruent': 17, 'num_with_common_factor': 8, 'p_common_factor': 0.47058823529411764}\n",
            "{'m': 6557, 'N': np.int64(169), 'num_congruent': 14, 'num_with_common_factor': 3, 'p_common_factor': 0.21428571428571427}\n",
            "{'m': 6557, 'N': np.int64(169), 'num_congruent': 11, 'num_with_common_factor': 2, 'p_common_factor': 0.18181818181818182}\n",
            "{'m': 6557, 'N': np.int64(91), 'num_congruent': 19, 'num_with_common_factor': 10, 'p_common_factor': 0.5263157894736842}\n",
            "{'m': 6557, 'N': np.int64(143), 'num_congruent': 15, 'num_with_common_factor': 4, 'p_common_factor': 0.26666666666666666}\n",
            "{'m': 6557, 'N': np.int64(121), 'num_congruent': 13, 'num_with_common_factor': 3, 'p_common_factor': 0.23076923076923078}\n",
            "{'m': 6557, 'N': np.int64(143), 'num_congruent': 14, 'num_with_common_factor': 3, 'p_common_factor': 0.21428571428571427}\n",
            "{'m': 6557, 'N': np.int64(25), 'num_congruent': 16, 'num_with_common_factor': 7, 'p_common_factor': 0.4375}\n",
            "{'m': 6557, 'N': np.int64(25), 'num_congruent': 14, 'num_with_common_factor': 6, 'p_common_factor': 0.42857142857142855}\n",
            "{'m': 6557, 'N': np.int64(121), 'num_congruent': 21, 'num_with_common_factor': 1, 'p_common_factor': 0.047619047619047616}\n",
            "{'m': 6557, 'N': np.int64(121), 'num_congruent': 11, 'num_with_common_factor': 2, 'p_common_factor': 0.18181818181818182}\n",
            "{'m': 6557, 'N': np.int64(55), 'num_congruent': 21, 'num_with_common_factor': 10, 'p_common_factor': 0.47619047619047616}\n",
            "{'m': 6557, 'N': np.int64(55), 'num_congruent': 16, 'num_with_common_factor': 8, 'p_common_factor': 0.5}\n",
            "{'m': 6557, 'N': np.int64(77), 'num_congruent': 9, 'num_with_common_factor': 3, 'p_common_factor': 0.3333333333333333}\n",
            "{'m': 6557, 'N': np.int64(35), 'num_congruent': 19, 'num_with_common_factor': 11, 'p_common_factor': 0.5789473684210527}\n",
            "{'m': 6557, 'N': np.int64(25), 'num_congruent': 11, 'num_with_common_factor': 2, 'p_common_factor': 0.18181818181818182}\n",
            "{'m': 6557, 'N': np.int64(49), 'num_congruent': 10, 'num_with_common_factor': 3, 'p_common_factor': 0.3}\n",
            "{'m': 6557, 'N': np.int64(55), 'num_congruent': 14, 'num_with_common_factor': 9, 'p_common_factor': 0.6428571428571429}\n",
            "{'m': 6557, 'N': np.int64(91), 'num_congruent': 13, 'num_with_common_factor': 2, 'p_common_factor': 0.15384615384615385}\n",
            "{'m': 6557, 'N': np.int64(77), 'num_congruent': 12, 'num_with_common_factor': 2, 'p_common_factor': 0.16666666666666666}\n",
            "{'m': 6557, 'N': np.int64(65), 'num_congruent': 7, 'num_with_common_factor': 3, 'p_common_factor': 0.42857142857142855}\n",
            "{'m': 6557, 'N': np.int64(35), 'num_congruent': 12, 'num_with_common_factor': 5, 'p_common_factor': 0.4166666666666667}\n",
            "{'m': 6557, 'N': np.int64(91), 'num_congruent': 16, 'num_with_common_factor': 3, 'p_common_factor': 0.1875}\n",
            "{'m': 6557, 'N': np.int64(91), 'num_congruent': 21, 'num_with_common_factor': 10, 'p_common_factor': 0.47619047619047616}\n",
            "{'m': 6557, 'N': np.int64(55), 'num_congruent': 11, 'num_with_common_factor': 6, 'p_common_factor': 0.5454545454545454}\n",
            "{'m': 6557, 'N': np.int64(143), 'num_congruent': 16, 'num_with_common_factor': 4, 'p_common_factor': 0.25}\n",
            "{'m': 6557, 'N': np.int64(169), 'num_congruent': 15, 'num_with_common_factor': 2, 'p_common_factor': 0.13333333333333333}\n",
            "{'m': 6557, 'N': np.int64(91), 'num_congruent': 13, 'num_with_common_factor': 3, 'p_common_factor': 0.23076923076923078}\n",
            "{'m': 6557, 'N': np.int64(91), 'num_congruent': 5, 'num_with_common_factor': 0, 'p_common_factor': 0.0}\n",
            "{'m': 6557, 'N': np.int64(169), 'num_congruent': 11, 'num_with_common_factor': 1, 'p_common_factor': 0.09090909090909091}\n",
            "{'m': 6557, 'N': np.int64(169), 'num_congruent': 17, 'num_with_common_factor': 4, 'p_common_factor': 0.23529411764705882}\n",
            "{'m': 6557, 'N': np.int64(55), 'num_congruent': 6, 'num_with_common_factor': 3, 'p_common_factor': 0.5}\n",
            "{'m': 6557, 'N': np.int64(49), 'num_congruent': 18, 'num_with_common_factor': 8, 'p_common_factor': 0.4444444444444444}\n",
            "{'m': 6557, 'N': np.int64(121), 'num_congruent': 18, 'num_with_common_factor': 4, 'p_common_factor': 0.2222222222222222}\n",
            "{'m': 6557, 'N': np.int64(55), 'num_congruent': 23, 'num_with_common_factor': 8, 'p_common_factor': 0.34782608695652173}\n",
            "{'m': 6557, 'N': np.int64(65), 'num_congruent': 16, 'num_with_common_factor': 7, 'p_common_factor': 0.4375}\n",
            "{'m': 6557, 'N': np.int64(49), 'num_congruent': 16, 'num_with_common_factor': 6, 'p_common_factor': 0.375}\n",
            "{'m': 6557, 'N': np.int64(35), 'num_congruent': 21, 'num_with_common_factor': 14, 'p_common_factor': 0.6666666666666666}\n",
            "{'m': 6557, 'N': np.int64(49), 'num_congruent': 18, 'num_with_common_factor': 6, 'p_common_factor': 0.3333333333333333}\n",
            "{'m': 6557, 'N': np.int64(35), 'num_congruent': 20, 'num_with_common_factor': 9, 'p_common_factor': 0.45}\n",
            "{'m': 6557, 'N': np.int64(55), 'num_congruent': 14, 'num_with_common_factor': 6, 'p_common_factor': 0.42857142857142855}\n",
            "{'m': 6557, 'N': np.int64(65), 'num_congruent': 20, 'num_with_common_factor': 8, 'p_common_factor': 0.4}\n",
            "{'m': 6557, 'N': np.int64(91), 'num_congruent': 7, 'num_with_common_factor': 1, 'p_common_factor': 0.14285714285714285}\n",
            "{'m': 6557, 'N': np.int64(25), 'num_congruent': 16, 'num_with_common_factor': 3, 'p_common_factor': 0.1875}\n",
            "{'m': 6557, 'N': np.int64(121), 'num_congruent': 14, 'num_with_common_factor': 4, 'p_common_factor': 0.2857142857142857}\n",
            "{'m': 6557, 'N': np.int64(55), 'num_congruent': 12, 'num_with_common_factor': 7, 'p_common_factor': 0.5833333333333334}\n",
            "{'m': 6557, 'N': np.int64(143), 'num_congruent': 8, 'num_with_common_factor': 1, 'p_common_factor': 0.125}\n",
            "{'m': 6557, 'N': np.int64(35), 'num_congruent': 14, 'num_with_common_factor': 5, 'p_common_factor': 0.35714285714285715}\n",
            "{'m': 6557, 'N': np.int64(65), 'num_congruent': 18, 'num_with_common_factor': 6, 'p_common_factor': 0.3333333333333333}\n",
            "{'m': 6557, 'N': np.int64(65), 'num_congruent': 21, 'num_with_common_factor': 8, 'p_common_factor': 0.38095238095238093}\n",
            "{'m': 6557, 'N': np.int64(169), 'num_congruent': 13, 'num_with_common_factor': 1, 'p_common_factor': 0.07692307692307693}\n",
            "{'m': 6557, 'N': np.int64(121), 'num_congruent': 19, 'num_with_common_factor': 5, 'p_common_factor': 0.2631578947368421}\n",
            "{'m': 6557, 'N': np.int64(65), 'num_congruent': 16, 'num_with_common_factor': 8, 'p_common_factor': 0.5}\n",
            "{'m': 6557, 'N': np.int64(55), 'num_congruent': 16, 'num_with_common_factor': 7, 'p_common_factor': 0.4375}\n",
            "{'m': 6557, 'N': np.int64(143), 'num_congruent': 11, 'num_with_common_factor': 2, 'p_common_factor': 0.18181818181818182}\n",
            "{'m': 6557, 'N': np.int64(91), 'num_congruent': 10, 'num_with_common_factor': 4, 'p_common_factor': 0.4}\n",
            "{'m': 6557, 'N': np.int64(143), 'num_congruent': 20, 'num_with_common_factor': 8, 'p_common_factor': 0.4}\n",
            "{'m': 6557, 'N': np.int64(55), 'num_congruent': 12, 'num_with_common_factor': 6, 'p_common_factor': 0.5}\n",
            "{'m': 6557, 'N': np.int64(121), 'num_congruent': 11, 'num_with_common_factor': 2, 'p_common_factor': 0.18181818181818182}\n",
            "{'m': 6557, 'N': np.int64(143), 'num_congruent': 13, 'num_with_common_factor': 2, 'p_common_factor': 0.15384615384615385}\n",
            "{'m': 6557, 'N': np.int64(77), 'num_congruent': 16, 'num_with_common_factor': 6, 'p_common_factor': 0.375}\n",
            "{'m': 6557, 'N': np.int64(35), 'num_congruent': 12, 'num_with_common_factor': 9, 'p_common_factor': 0.75}\n",
            "{'m': 6557, 'N': np.int64(25), 'num_congruent': 25, 'num_with_common_factor': 9, 'p_common_factor': 0.36}\n",
            "{'m': 6557, 'N': np.int64(77), 'num_congruent': 16, 'num_with_common_factor': 5, 'p_common_factor': 0.3125}\n",
            "{'m': 6557, 'N': np.int64(49), 'num_congruent': 18, 'num_with_common_factor': 5, 'p_common_factor': 0.2777777777777778}\n",
            "{'m': 6557, 'N': np.int64(143), 'num_congruent': 15, 'num_with_common_factor': 5, 'p_common_factor': 0.3333333333333333}\n",
            "{'m': 6557, 'N': np.int64(55), 'num_congruent': 17, 'num_with_common_factor': 8, 'p_common_factor': 0.47058823529411764}\n",
            "{'m': 6557, 'N': np.int64(35), 'num_congruent': 13, 'num_with_common_factor': 8, 'p_common_factor': 0.6153846153846154}\n",
            "{'m': 6557, 'N': np.int64(49), 'num_congruent': 11, 'num_with_common_factor': 2, 'p_common_factor': 0.18181818181818182}\n"
          ]
        }
      ]
    },
    {
      "cell_type": "markdown",
      "source": [
        "We now plot how often a common factor is found."
      ],
      "metadata": {
        "id": "_BQLjTzkjcZq"
      }
    },
    {
      "cell_type": "code",
      "source": [
        "sample_results = pandas.DataFrame(sample_results)\n",
        "sample_results.plot.scatter(x='N', y='p_common_factor', alpha=0.5)"
      ],
      "metadata": {
        "id": "jgFaIxrhjjVR",
        "outputId": "c1cd5598-b8be-424c-da57-251453aa0beb",
        "colab": {
          "base_uri": "https://localhost:8080/",
          "height": 466
        }
      },
      "execution_count": 69,
      "outputs": [
        {
          "output_type": "execute_result",
          "data": {
            "text/plain": [
              "<Axes: xlabel='N', ylabel='p_common_factor'>"
            ]
          },
          "metadata": {},
          "execution_count": 69
        },
        {
          "output_type": "display_data",
          "data": {
            "text/plain": [
              "<Figure size 640x480 with 1 Axes>"
            ],
            "image/png": "[encoded data removed]"
          },
          "metadata": {}
        }
      ]
    },
    {
      "cell_type": "markdown",
      "source": [
        "It looks like, if $a$ and $b$ are found which satisfy the congruence, there's some chance that $a+b$, $a-b$, or $b-a$ will share a factor with $N$.\n",
        "\n",
        "However, it's presumably not easy to find such $a$ and $b$."
      ],
      "metadata": {
        "id": "z90qDZJKk9Bs"
      }
    }
  ]
}