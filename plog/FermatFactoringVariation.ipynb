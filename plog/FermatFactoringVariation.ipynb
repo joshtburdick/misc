{
  "nbformat": 4,
  "nbformat_minor": 0,
  "metadata": {
    "colab": {
      "provenance": [],
      "authorship_tag": "ABX9TyMp4S3mElguPXsSNMEYZqtY",
      "include_colab_link": true
    },
    "kernelspec": {
      "name": "python3",
      "display_name": "Python 3"
    },
    "language_info": {
      "name": "python"
    }
  },
  "cells": [
    {
      "cell_type": "markdown",
      "metadata": {
        "id": "view-in-github",
        "colab_type": "text"
      },
      "source": [
        "<a href=\"https://colab.research.google.com/github/joshtburdick/misc/blob/master/plog/FermatFactoringVariation.ipynb\" target=\"_parent\"><img src=\"https://colab.research.google.com/assets/colab-badge.svg\" alt=\"Open In Colab\"/></a>"
      ]
    },
    {
      "cell_type": "markdown",
      "source": [
        "# A variation on Fermat's factoring method\n",
        "\n",
        "This is a variation on [Fermat's factoring method](https://en.wikipedia.org/wiki/Fermat%27s_factorization_method),\n",
        "which tries to write a number $N$ as a difference of squares $N = a^2 - b^2$.\n",
        "\n",
        "However, here, rather than requiring this to be exact, we only require to be true modulo a product of small primes $m = \\prod p_i$.\n",
        "It's not obvious that trying to solve these separately makes for an easier problem.\n",
        "\n",
        "Here, we *only* ask ask the question:\n",
        "\n",
        "For a given set of small primes $p_i$, suppose we wish to factor $N$ (which is less than $m = \\prod p_i$). Suppose we find $a$ and $b$ such that, for all $i$,\n",
        "\n",
        "$a^2 - b^2 \\equiv N   ({\\rm mod} p_i)$\n",
        "\n",
        "How often is it the case that any of $a+b$, $a-b$, or $b-a$ shares a\n",
        "common factor (other than 1) with $N$?\n",
        "\n",
        "(As a quick check, pasting that into \"Generate\"; here's what I get.)\n",
        "\n",
        "\n"
      ],
      "metadata": {
        "id": "Jnlr0fBbl2fp"
      }
    },
    {
      "cell_type": "code",
      "execution_count": 75,
      "metadata": {
        "id": "jCnmeZ0NlyuS"
      },
      "outputs": [],
      "source": [
        "# prompt: This is a variation on Fermat's factoring method. It tries to write a number  𝑁  as a difference of squares  𝑁=𝑎2−𝑏2 .\n",
        "# However, here, rather than requiring this to be exact, we only require to be true modulo a product of small primes  𝑚=∏𝑝𝑖 . It's not obvious that trying to solve these separately makes for an easier problem.\n",
        "# Here, we only ask ask the question:\n",
        "# For a given set of small primes  𝑝𝑖 , suppose we wish to factor  𝑁  (which is less than  𝑚=∏𝑝𝑖 ). Suppose we find  𝑎  and  𝑏  such that, for all  𝑖 ,\n",
        "# 𝑎2−𝑏2≅𝑁(mod𝑝𝑖)\n",
        "# How often is it the case that any of  𝑎+𝑏 ,  𝑎−𝑏 , or  𝑏−𝑎  shares a common factor (other than 1) with  𝑁 ?\n",
        "\n",
        "def has_common_factor(N, a, b):\n",
        "  \"\"\"Checks if a+b, a-b, or b-a share a common factor with N.\n",
        "\n",
        "  Args:\n",
        "    N: The number to factor.\n",
        "    a: One of the integers in the difference of squares.\n",
        "    b: The other integer in the difference of squares.\n",
        "\n",
        "  Returns:\n",
        "    True if there is a common factor, False otherwise.\n",
        "  \"\"\"\n",
        "  import math\n",
        "\n",
        "  if math.gcd(abs(a + b), N) > 1:\n",
        "    return True\n",
        "  if math.gcd(abs(a - b), N) > 1:\n",
        "    return True\n",
        "  if math.gcd(abs(b - a), N) > 1:\n",
        "    return True\n",
        "  return False"
      ]
    },
    {
      "cell_type": "code",
      "source": [
        "import math\n",
        "import matplotlib\n",
        "from matplotlib import pyplot as plt\n",
        "import numpy as np\n",
        "import pandas\n",
        "import random"
      ],
      "metadata": {
        "id": "xFRDSzMMFdpp"
      },
      "execution_count": 76,
      "outputs": []
    },
    {
      "cell_type": "code",
      "source": [
        "# prompt: Get the first few hundred prime numbers. Feel free to use whatever Python libraries simplify this.\n",
        "\n",
        "!pip install sympy\n",
        "\n",
        "from sympy import primerange\n",
        "\n",
        "primes = list(primerange(2, 1230)) # Get primes up to roughly the first 2000, as the 200th prime is 1223.\n",
        "primes\n",
        "\n",
        "# how many primes is this?\n",
        "len(primes)\n",
        "# ...close enough"
      ],
      "metadata": {
        "colab": {
          "base_uri": "https://localhost:8080/"
        },
        "id": "gonECbG2AWDr",
        "outputId": "5404f4e7-30dc-43b1-a2ea-78ed1fff8ed7"
      },
      "execution_count": 77,
      "outputs": [
        {
          "output_type": "stream",
          "name": "stdout",
          "text": [
            "Requirement already satisfied: sympy in /usr/local/lib/python3.11/dist-packages (1.13.1)\n",
            "Requirement already satisfied: mpmath<1.4,>=1.1.0 in /usr/local/lib/python3.11/dist-packages (from sympy) (1.3.0)\n"
          ]
        },
        {
          "output_type": "execute_result",
          "data": {
            "text/plain": [
              "201"
            ]
          },
          "metadata": {},
          "execution_count": 77
        }
      ]
    },
    {
      "cell_type": "markdown",
      "source": [
        "First, for a given set of primes, we find the members of the multiplicative group.\n",
        "\n"
      ],
      "metadata": {
        "id": "K6y7xh7tDOLU"
      }
    },
    {
      "cell_type": "code",
      "source": [
        "# prompt: Given a list of primes whose product is m, get the numbers in 1..m which are members of the multiplicative group.\n",
        "\n",
        "def multiplicative_group_members(primes):\n",
        "  \"\"\"Gets the numbers in 1..m which are members of the multiplicative group.\n",
        "\n",
        "  Args:\n",
        "    primes: A list of prime numbers.\n",
        "\n",
        "  Returns:\n",
        "    A list of numbers in 1..m that are members of the multiplicative group,\n",
        "    where m is the product of the primes.\n",
        "  \"\"\"\n",
        "  m = math.prod(primes)\n",
        "  members = []\n",
        "  for num in range(1, m + 1):\n",
        "    is_member = True\n",
        "    for p in primes:\n",
        "      if math.gcd(num, p) != 1:\n",
        "        is_member = False\n",
        "        break\n",
        "    if is_member:\n",
        "      members.append(num)\n",
        "  return members\n",
        "\n",
        "# Example usage:\n",
        "# m_members = multiplicative_group_members(primes)\n",
        "# print(m_members)"
      ],
      "metadata": {
        "id": "1MiA45OqFJpT"
      },
      "execution_count": 78,
      "outputs": []
    },
    {
      "cell_type": "markdown",
      "source": [
        "(This works. However, it might be faster to either check if any `p` in `primes` divides `num`, or check `math.gcd(num, m)!=1`. Admittedly, I'm not sure which of these would be faster.)"
      ],
      "metadata": {
        "id": "O_ueL0FUL0At"
      }
    },
    {
      "cell_type": "code",
      "source": [
        "# prompt: Write a function which is given a list `p` of primes, and first computes their product, `m`, and the elements of 1..m which form a multiplicative group.\n",
        "# It should then sample numbers N, which are a product of exactly two primes, and use sampling to find pairs `a` and `b` such that a^2-b^2 = N (mod m).\n",
        "# For each of these, it should then check whether N and _any_ of a+b, a-b, or b-a share a common factor.\n",
        "# It should expect \"number of samples\" as an argument. It should return a list of, for each sample:\n",
        "# - N\n",
        "# - a, b\n",
        "\n",
        "def solve_and_check_common_factors(p, num_samples):\n",
        "    \"\"\"\n",
        "    Samples numbers N (product of two primes) and finds pairs (a, b)\n",
        "    such that a^2 - b^2 = N (mod m), then checks for common factors.\n",
        "\n",
        "    Args:\n",
        "        p: A list of prime numbers.\n",
        "        num_samples: The number of samples to take.\n",
        "\n",
        "    Returns:\n",
        "        A list of tuples, where each tuple contains (N, (a, b)).\n",
        "    \"\"\"\n",
        "    m = math.prod(p)\n",
        "    m_members = multiplicative_group_members(p)\n",
        "\n",
        "    results = []\n",
        "\n",
        "    # Create a list of possible two-prime products within a reasonable range\n",
        "    possible_Ns = []\n",
        "    primes1 = [p for p in primes if p!=2 and p<math.sqrt(m+1)]\n",
        "    for i in range(len(primes)):\n",
        "        for j in range(i, len(primes)):\n",
        "            n = primes[i] * primes[j]\n",
        "            if n < m: # Ensure N is less than m for modulo operations\n",
        "                possible_Ns.append(n)\n",
        "\n",
        "    for _ in range(num_samples):\n",
        "        # Randomly sample an N which is a product of two primes\n",
        "        N = random.choice(possible_Ns)\n",
        "        if N >= m:\n",
        "          continue\n",
        "        num_congruent = 0\n",
        "        num_with_common_factor = 0\n",
        "        for _ in range(100000): # Try random pairs of a and b\n",
        "            a = random.choice(m_members)\n",
        "            b = random.choice(m_members)\n",
        "            # Check if a^2 - b^2 = N (mod m)\n",
        "            if (a**2 - b**2) % m == N % m:\n",
        "              num_congruent += 1\n",
        "              if has_common_factor(N, a, b):\n",
        "                num_with_common_factor += 1\n",
        "        results.append({\"m\": m, \"N\": N,\n",
        "                        \"num_congruent\": num_congruent,\n",
        "                        \"num_with_common_factor\": num_with_common_factor,\n",
        "                        \"p_common_factor\": num_with_common_factor / num_congruent})\n",
        "\n",
        "\n",
        "    return results\n",
        "\n",
        "# Example usage:\n",
        "p = [37,59]\n",
        "sample_results = solve_and_check_common_factors(p, 100)\n",
        "for x in sample_results:\n",
        "  print(x)"
      ],
      "metadata": {
        "colab": {
          "base_uri": "https://localhost:8080/"
        },
        "id": "O4s9rf1uSrR2",
        "outputId": "76906738-a095-40ce-e9e9-33349a30966f"
      },
      "execution_count": 79,
      "outputs": [
        {
          "output_type": "stream",
          "name": "stdout",
          "text": [
            "{'m': 2183, 'N': 1565, 'num_congruent': 42, 'num_with_common_factor': 23, 'p_common_factor': 0.5476190476190477}\n",
            "{'m': 2183, 'N': 87, 'num_congruent': 50, 'num_with_common_factor': 24, 'p_common_factor': 0.48}\n",
            "{'m': 2183, 'N': 745, 'num_congruent': 52, 'num_with_common_factor': 17, 'p_common_factor': 0.3269230769230769}\n",
            "{'m': 2183, 'N': 1577, 'num_congruent': 38, 'num_with_common_factor': 3, 'p_common_factor': 0.07894736842105263}\n",
            "{'m': 2183, 'N': 791, 'num_congruent': 54, 'num_with_common_factor': 9, 'p_common_factor': 0.16666666666666666}\n",
            "{'m': 2183, 'N': 346, 'num_congruent': 31, 'num_with_common_factor': 15, 'p_common_factor': 0.4838709677419355}\n",
            "{'m': 2183, 'N': 2062, 'num_congruent': 30, 'num_with_common_factor': 16, 'p_common_factor': 0.5333333333333333}\n",
            "{'m': 2183, 'N': 382, 'num_congruent': 36, 'num_with_common_factor': 20, 'p_common_factor': 0.5555555555555556}\n",
            "{'m': 2183, 'N': 803, 'num_congruent': 39, 'num_with_common_factor': 8, 'p_common_factor': 0.20512820512820512}\n",
            "{'m': 2183, 'N': 217, 'num_congruent': 42, 'num_with_common_factor': 8, 'p_common_factor': 0.19047619047619047}\n",
            "{'m': 2183, 'N': 2066, 'num_congruent': 44, 'num_with_common_factor': 17, 'p_common_factor': 0.38636363636363635}\n",
            "{'m': 2183, 'N': 667, 'num_congruent': 35, 'num_with_common_factor': 8, 'p_common_factor': 0.22857142857142856}\n",
            "{'m': 2183, 'N': 65, 'num_congruent': 43, 'num_with_common_factor': 20, 'p_common_factor': 0.46511627906976744}\n",
            "{'m': 2183, 'N': 1509, 'num_congruent': 45, 'num_with_common_factor': 26, 'p_common_factor': 0.5777777777777777}\n",
            "{'m': 2183, 'N': 943, 'num_congruent': 43, 'num_with_common_factor': 7, 'p_common_factor': 0.16279069767441862}\n",
            "{'m': 2183, 'N': 1819, 'num_congruent': 52, 'num_with_common_factor': 5, 'p_common_factor': 0.09615384615384616}\n",
            "{'m': 2183, 'N': 143, 'num_congruent': 44, 'num_with_common_factor': 19, 'p_common_factor': 0.4318181818181818}\n",
            "{'m': 2183, 'N': 1661, 'num_congruent': 37, 'num_with_common_factor': 7, 'p_common_factor': 0.1891891891891892}\n",
            "{'m': 2183, 'N': 614, 'num_congruent': 56, 'num_with_common_factor': 29, 'p_common_factor': 0.5178571428571429}\n",
            "{'m': 2183, 'N': 886, 'num_congruent': 48, 'num_with_common_factor': 23, 'p_common_factor': 0.4791666666666667}\n",
            "{'m': 2183, 'N': 959, 'num_congruent': 40, 'num_with_common_factor': 7, 'p_common_factor': 0.175}\n",
            "{'m': 2183, 'N': 581, 'num_congruent': 38, 'num_with_common_factor': 9, 'p_common_factor': 0.23684210526315788}\n",
            "{'m': 2183, 'N': 1079, 'num_congruent': 38, 'num_with_common_factor': 5, 'p_common_factor': 0.13157894736842105}\n",
            "{'m': 2183, 'N': 194, 'num_congruent': 35, 'num_with_common_factor': 16, 'p_common_factor': 0.45714285714285713}\n",
            "{'m': 2183, 'N': 862, 'num_congruent': 45, 'num_with_common_factor': 25, 'p_common_factor': 0.5555555555555556}\n",
            "{'m': 2183, 'N': 259, 'num_congruent': 110, 'num_with_common_factor': 110, 'p_common_factor': 1.0}\n",
            "{'m': 2183, 'N': 1727, 'num_congruent': 59, 'num_with_common_factor': 15, 'p_common_factor': 0.2542372881355932}\n",
            "{'m': 2183, 'N': 1977, 'num_congruent': 41, 'num_with_common_factor': 22, 'p_common_factor': 0.5365853658536586}\n",
            "{'m': 2183, 'N': 698, 'num_congruent': 46, 'num_with_common_factor': 22, 'p_common_factor': 0.4782608695652174}\n",
            "{'m': 2183, 'N': 1923, 'num_congruent': 40, 'num_with_common_factor': 23, 'p_common_factor': 0.575}\n",
            "{'m': 2183, 'N': 1915, 'num_congruent': 42, 'num_with_common_factor': 11, 'p_common_factor': 0.2619047619047619}\n",
            "{'m': 2183, 'N': 1954, 'num_congruent': 29, 'num_with_common_factor': 17, 'p_common_factor': 0.5862068965517241}\n",
            "{'m': 2183, 'N': 94, 'num_congruent': 58, 'num_with_common_factor': 30, 'p_common_factor': 0.5172413793103449}\n",
            "{'m': 2183, 'N': 1111, 'num_congruent': 41, 'num_with_common_factor': 2, 'p_common_factor': 0.04878048780487805}\n",
            "{'m': 2183, 'N': 698, 'num_congruent': 47, 'num_with_common_factor': 18, 'p_common_factor': 0.3829787234042553}\n",
            "{'m': 2183, 'N': 314, 'num_congruent': 33, 'num_with_common_factor': 14, 'p_common_factor': 0.42424242424242425}\n",
            "{'m': 2183, 'N': 497, 'num_congruent': 46, 'num_with_common_factor': 14, 'p_common_factor': 0.30434782608695654}\n",
            "{'m': 2183, 'N': 685, 'num_congruent': 49, 'num_with_common_factor': 25, 'p_common_factor': 0.5102040816326531}\n",
            "{'m': 2183, 'N': 203, 'num_congruent': 57, 'num_with_common_factor': 21, 'p_common_factor': 0.3684210526315789}\n",
            "{'m': 2183, 'N': 982, 'num_congruent': 59, 'num_with_common_factor': 35, 'p_common_factor': 0.5932203389830508}\n",
            "{'m': 2183, 'N': 309, 'num_congruent': 52, 'num_with_common_factor': 33, 'p_common_factor': 0.6346153846153846}\n",
            "{'m': 2183, 'N': 226, 'num_congruent': 44, 'num_with_common_factor': 22, 'p_common_factor': 0.5}\n",
            "{'m': 2183, 'N': 1126, 'num_congruent': 38, 'num_with_common_factor': 20, 'p_common_factor': 0.5263157894736842}\n",
            "{'m': 2183, 'N': 1691, 'num_congruent': 40, 'num_with_common_factor': 3, 'p_common_factor': 0.075}\n",
            "{'m': 2183, 'N': 1385, 'num_congruent': 47, 'num_with_common_factor': 16, 'p_common_factor': 0.3404255319148936}\n",
            "{'m': 2183, 'N': 1763, 'num_congruent': 44, 'num_with_common_factor': 1, 'p_common_factor': 0.022727272727272728}\n",
            "{'m': 2183, 'N': 1923, 'num_congruent': 33, 'num_with_common_factor': 17, 'p_common_factor': 0.5151515151515151}\n",
            "{'m': 2183, 'N': 417, 'num_congruent': 37, 'num_with_common_factor': 22, 'p_common_factor': 0.5945945945945946}\n",
            "{'m': 2183, 'N': 1189, 'num_congruent': 43, 'num_with_common_factor': 4, 'p_common_factor': 0.09302325581395349}\n",
            "{'m': 2183, 'N': 213, 'num_congruent': 35, 'num_with_common_factor': 23, 'p_common_factor': 0.6571428571428571}\n",
            "{'m': 2183, 'N': 447, 'num_congruent': 33, 'num_with_common_factor': 20, 'p_common_factor': 0.6060606060606061}\n",
            "{'m': 2183, 'N': 1369, 'num_congruent': 88, 'num_with_common_factor': 88, 'p_common_factor': 1.0}\n",
            "{'m': 2183, 'N': 2101, 'num_congruent': 53, 'num_with_common_factor': 9, 'p_common_factor': 0.16981132075471697}\n",
            "{'m': 2183, 'N': 1574, 'num_congruent': 45, 'num_with_common_factor': 19, 'p_common_factor': 0.4222222222222222}\n",
            "{'m': 2183, 'N': 1383, 'num_congruent': 40, 'num_with_common_factor': 27, 'p_common_factor': 0.675}\n",
            "{'m': 2183, 'N': 142, 'num_congruent': 47, 'num_with_common_factor': 24, 'p_common_factor': 0.5106382978723404}\n",
            "{'m': 2183, 'N': 309, 'num_congruent': 40, 'num_with_common_factor': 23, 'p_common_factor': 0.575}\n",
            "{'m': 2183, 'N': 146, 'num_congruent': 38, 'num_with_common_factor': 17, 'p_common_factor': 0.4473684210526316}\n",
            "{'m': 2183, 'N': 187, 'num_congruent': 45, 'num_with_common_factor': 15, 'p_common_factor': 0.3333333333333333}\n",
            "{'m': 2183, 'N': 905, 'num_congruent': 51, 'num_with_common_factor': 13, 'p_common_factor': 0.2549019607843137}\n",
            "{'m': 2183, 'N': 1037, 'num_congruent': 34, 'num_with_common_factor': 2, 'p_common_factor': 0.058823529411764705}\n",
            "{'m': 2183, 'N': 1067, 'num_congruent': 45, 'num_with_common_factor': 12, 'p_common_factor': 0.26666666666666666}\n",
            "{'m': 2183, 'N': 2103, 'num_congruent': 34, 'num_with_common_factor': 20, 'p_common_factor': 0.5882352941176471}\n",
            "{'m': 2183, 'N': 949, 'num_congruent': 42, 'num_with_common_factor': 9, 'p_common_factor': 0.21428571428571427}\n",
            "{'m': 2183, 'N': 1985, 'num_congruent': 55, 'num_with_common_factor': 15, 'p_common_factor': 0.2727272727272727}\n",
            "{'m': 2183, 'N': 713, 'num_congruent': 26, 'num_with_common_factor': 4, 'p_common_factor': 0.15384615384615385}\n",
            "{'m': 2183, 'N': 803, 'num_congruent': 33, 'num_with_common_factor': 6, 'p_common_factor': 0.18181818181818182}\n",
            "{'m': 2183, 'N': 247, 'num_congruent': 46, 'num_with_common_factor': 12, 'p_common_factor': 0.2608695652173913}\n",
            "{'m': 2183, 'N': 2045, 'num_congruent': 51, 'num_with_common_factor': 28, 'p_common_factor': 0.5490196078431373}\n",
            "{'m': 2183, 'N': 2182, 'num_congruent': 49, 'num_with_common_factor': 27, 'p_common_factor': 0.5510204081632653}\n",
            "{'m': 2183, 'N': 635, 'num_congruent': 46, 'num_with_common_factor': 13, 'p_common_factor': 0.2826086956521739}\n",
            "{'m': 2183, 'N': 1114, 'num_congruent': 41, 'num_with_common_factor': 21, 'p_common_factor': 0.5121951219512195}\n",
            "{'m': 2183, 'N': 2059, 'num_congruent': 55, 'num_with_common_factor': 3, 'p_common_factor': 0.05454545454545454}\n",
            "{'m': 2183, 'N': 1893, 'num_congruent': 49, 'num_with_common_factor': 24, 'p_common_factor': 0.4897959183673469}\n",
            "{'m': 2183, 'N': 1651, 'num_congruent': 47, 'num_with_common_factor': 9, 'p_common_factor': 0.19148936170212766}\n",
            "{'m': 2183, 'N': 1714, 'num_congruent': 38, 'num_with_common_factor': 22, 'p_common_factor': 0.5789473684210527}\n",
            "{'m': 2183, 'N': 562, 'num_congruent': 32, 'num_with_common_factor': 22, 'p_common_factor': 0.6875}\n",
            "{'m': 2183, 'N': 1731, 'num_congruent': 57, 'num_with_common_factor': 29, 'p_common_factor': 0.5087719298245614}\n",
            "{'m': 2183, 'N': 1507, 'num_congruent': 47, 'num_with_common_factor': 11, 'p_common_factor': 0.23404255319148937}\n",
            "{'m': 2183, 'N': 1313, 'num_congruent': 40, 'num_with_common_factor': 6, 'p_common_factor': 0.15}\n",
            "{'m': 2183, 'N': 862, 'num_congruent': 51, 'num_with_common_factor': 29, 'p_common_factor': 0.5686274509803921}\n",
            "{'m': 2183, 'N': 1199, 'num_congruent': 48, 'num_with_common_factor': 9, 'p_common_factor': 0.1875}\n",
            "{'m': 2183, 'N': 69, 'num_congruent': 62, 'num_with_common_factor': 37, 'p_common_factor': 0.5967741935483871}\n",
            "{'m': 2183, 'N': 1594, 'num_congruent': 43, 'num_with_common_factor': 20, 'p_common_factor': 0.46511627906976744}\n",
            "{'m': 2183, 'N': 679, 'num_congruent': 48, 'num_with_common_factor': 12, 'p_common_factor': 0.25}\n",
            "{'m': 2183, 'N': 695, 'num_congruent': 44, 'num_with_common_factor': 17, 'p_common_factor': 0.38636363636363635}\n",
            "{'m': 2183, 'N': 699, 'num_congruent': 46, 'num_with_common_factor': 29, 'p_common_factor': 0.6304347826086957}\n",
            "{'m': 2183, 'N': 1882, 'num_congruent': 39, 'num_with_common_factor': 18, 'p_common_factor': 0.46153846153846156}\n",
            "{'m': 2183, 'N': 2159, 'num_congruent': 54, 'num_with_common_factor': 7, 'p_common_factor': 0.12962962962962962}\n",
            "{'m': 2183, 'N': 1985, 'num_congruent': 44, 'num_with_common_factor': 12, 'p_common_factor': 0.2727272727272727}\n",
            "{'m': 2183, 'N': 1059, 'num_congruent': 45, 'num_with_common_factor': 24, 'p_common_factor': 0.5333333333333333}\n",
            "{'m': 2183, 'N': 2059, 'num_congruent': 50, 'num_with_common_factor': 4, 'p_common_factor': 0.08}\n",
            "{'m': 2183, 'N': 249, 'num_congruent': 41, 'num_with_common_factor': 18, 'p_common_factor': 0.43902439024390244}\n",
            "{'m': 2183, 'N': 355, 'num_congruent': 39, 'num_with_common_factor': 11, 'p_common_factor': 0.28205128205128205}\n",
            "{'m': 2183, 'N': 482, 'num_congruent': 45, 'num_with_common_factor': 24, 'p_common_factor': 0.5333333333333333}\n",
            "{'m': 2183, 'N': 2071, 'num_congruent': 52, 'num_with_common_factor': 5, 'p_common_factor': 0.09615384615384616}\n",
            "{'m': 2183, 'N': 314, 'num_congruent': 48, 'num_with_common_factor': 21, 'p_common_factor': 0.4375}\n",
            "{'m': 2183, 'N': 789, 'num_congruent': 36, 'num_with_common_factor': 16, 'p_common_factor': 0.4444444444444444}\n",
            "{'m': 2183, 'N': 2018, 'num_congruent': 45, 'num_with_common_factor': 24, 'p_common_factor': 0.5333333333333333}\n",
            "{'m': 2183, 'N': 591, 'num_congruent': 39, 'num_with_common_factor': 19, 'p_common_factor': 0.48717948717948717}\n"
          ]
        }
      ]
    },
    {
      "cell_type": "markdown",
      "source": [
        "We now plot how often a common factor is found."
      ],
      "metadata": {
        "id": "_BQLjTzkjcZq"
      }
    },
    {
      "cell_type": "code",
      "source": [
        "sample_results = pandas.DataFrame(sample_results)\n",
        "sample_results.plot.scatter(x='N', y='p_common_factor', alpha=0.5)"
      ],
      "metadata": {
        "colab": {
          "base_uri": "https://localhost:8080/",
          "height": 466
        },
        "id": "jgFaIxrhjjVR",
        "outputId": "444962b7-e129-4126-84ae-ae562acb236b"
      },
      "execution_count": 80,
      "outputs": [
        {
          "output_type": "execute_result",
          "data": {
            "text/plain": [
              "<Axes: xlabel='N', ylabel='p_common_factor'>"
            ]
          },
          "metadata": {},
          "execution_count": 80
        },
        {
          "output_type": "display_data",
          "data": {
            "text/plain": [
              "<Figure size 640x480 with 1 Axes>"
            ],
            "image/png": "[encoded data removed]"
          },
          "metadata": {}
        }
      ]
    },
    {
      "cell_type": "markdown",
      "source": [
        "It looks like, if $a$ and $b$ are found which satisfy the congruence, it is fairly likely that $a+b$, $a-b$, or $b-a$ will share a factor\n",
        "with $N$.\n",
        "\n",
        "However, it's presumably not easy to find such $a$ and $b$."
      ],
      "metadata": {
        "id": "z90qDZJKk9Bs"
      }
    }
  ]
}