{
  "nbformat": 4,
  "nbformat_minor": 0,
  "metadata": {
    "colab": {
      "provenance": [],
      "authorship_tag": "ABX9TyPlitSRCPQi+eWoUUsgaxip",
      "include_colab_link": true
    },
    "kernelspec": {
      "name": "python3",
      "display_name": "Python 3"
    },
    "language_info": {
      "name": "python"
    }
  },
  "cells": [
    {
      "cell_type": "markdown",
      "metadata": {
        "id": "view-in-github",
        "colab_type": "text"
      },
      "source": [
        "<a href=\"https://colab.research.google.com/github/joshtburdick/misc/blob/master/plog/FermatFactoringVariation.ipynb\" target=\"_parent\"><img src=\"https://colab.research.google.com/assets/colab-badge.svg\" alt=\"Open In Colab\"/></a>"
      ]
    },
    {
      "cell_type": "markdown",
      "source": [
        "# A variation on Fermat's factoring method\n",
        "\n",
        "This is a variation on [Fermat's factoring method](https://en.wikipedia.org/wiki/Fermat%27s_factorization_method),\n",
        "which tries to write a number $N$ as a difference of squares $N = a^2 - b^2$.\n",
        "\n",
        "However, here, rather than requiring this to be exact, we only require to be true modulo a product of small primes $m = \\prod p_i$.\n",
        "It's not obvious that trying to solve these separately makes for an easier problem.\n",
        "\n",
        "Here, we *only* ask ask the question:\n",
        "\n",
        "For a given set of small primes $p_i$, suppose we wish to factor $N$ (which is less than $m = \\prod p_i$). Suppose we find $a$ and $b$ such that, for all $i$,\n",
        "\n",
        "$a^2 - b^2 \\equiv N   ({\\rm mod} p_i)$\n",
        "\n",
        "How often is it the case that any of $a+b$, $a-b$, or $b-a$ shares a\n",
        "common factor (other than 1) with $N$?\n",
        "\n",
        "(As a quick check, pasting that into \"Generate\"; here's what I get.)\n",
        "\n",
        "\n"
      ],
      "metadata": {
        "id": "Jnlr0fBbl2fp"
      }
    },
    {
      "cell_type": "code",
      "execution_count": 7,
      "metadata": {
        "id": "jCnmeZ0NlyuS"
      },
      "outputs": [],
      "source": [
        "# prompt: This is a variation on Fermat's factoring method. It tries to write a number  𝑁  as a difference of squares  𝑁=𝑎2−𝑏2 .\n",
        "# However, here, rather than requiring this to be exact, we only require to be true modulo a product of small primes  𝑚=∏𝑝𝑖 . It's not obvious that trying to solve these separately makes for an easier problem.\n",
        "# Here, we only ask ask the question:\n",
        "# For a given set of small primes  𝑝𝑖 , suppose we wish to factor  𝑁  (which is less than  𝑚=∏𝑝𝑖 ). Suppose we find  𝑎  and  𝑏  such that, for all  𝑖 ,\n",
        "# 𝑎2−𝑏2≅𝑁(mod𝑝𝑖)\n",
        "# How often is it the case that any of  𝑎+𝑏 ,  𝑎−𝑏 , or  𝑏−𝑎  shares a common factor (other than 1) with  𝑁 ?\n",
        "\n",
        "def has_common_factor(N, a, b):\n",
        "  \"\"\"Checks if a+b, a-b, or b-a share a common factor with N.\n",
        "\n",
        "  Args:\n",
        "    N: The number to factor.\n",
        "    a: One of the integers in the difference of squares.\n",
        "    b: The other integer in the difference of squares.\n",
        "\n",
        "  Returns:\n",
        "    True if there is a common factor, False otherwise.\n",
        "  \"\"\"\n",
        "  import math\n",
        "\n",
        "  if 1 < math.gcd(abs(a + b), N) < N:\n",
        "    return True\n",
        "  if 1 < math.gcd(abs(a - b), N) < N:\n",
        "    return True\n",
        "  if 1 < math.gcd(abs(b - a), N) < N:\n",
        "    return True\n",
        "  return False"
      ]
    },
    {
      "cell_type": "code",
      "source": [
        "import math\n",
        "import matplotlib\n",
        "from matplotlib import pyplot as plt\n",
        "import numpy as np\n",
        "import pandas\n",
        "import random"
      ],
      "metadata": {
        "id": "xFRDSzMMFdpp"
      },
      "execution_count": 8,
      "outputs": []
    },
    {
      "cell_type": "code",
      "source": [
        "# prompt: Get the first few hundred prime numbers. Feel free to use whatever Python libraries simplify this.\n",
        "\n",
        "!pip install sympy\n",
        "\n",
        "from sympy import primerange\n",
        "\n",
        "primes = list(primerange(2, 1230)) # Get primes up to roughly the first 2000, as the 200th prime is 1223.\n",
        "primes\n",
        "\n",
        "# how many primes is this?\n",
        "len(primes)\n",
        "# ...close enough"
      ],
      "metadata": {
        "colab": {
          "base_uri": "https://localhost:8080/"
        },
        "id": "gonECbG2AWDr",
        "outputId": "7d02fe03-0b45-4a18-8641-8c3930a7b5dd"
      },
      "execution_count": 9,
      "outputs": [
        {
          "output_type": "stream",
          "name": "stdout",
          "text": [
            "Requirement already satisfied: sympy in /usr/local/lib/python3.11/dist-packages (1.13.1)\n",
            "Requirement already satisfied: mpmath<1.4,>=1.1.0 in /usr/local/lib/python3.11/dist-packages (from sympy) (1.3.0)\n"
          ]
        },
        {
          "output_type": "execute_result",
          "data": {
            "text/plain": [
              "201"
            ]
          },
          "metadata": {},
          "execution_count": 9
        }
      ]
    },
    {
      "cell_type": "markdown",
      "source": [
        "First, for a given set of primes, we find the members of the multiplicative group.\n",
        "\n"
      ],
      "metadata": {
        "id": "K6y7xh7tDOLU"
      }
    },
    {
      "cell_type": "code",
      "source": [
        "# prompt: Given a list of primes whose product is m, get the numbers in 1..m which are members of the multiplicative group.\n",
        "\n",
        "def multiplicative_group_members(primes):\n",
        "  \"\"\"Gets the numbers in 1..m which are members of the multiplicative group.\n",
        "\n",
        "  Args:\n",
        "    primes: A list of prime numbers.\n",
        "\n",
        "  Returns:\n",
        "    A list of numbers in 1..m that are members of the multiplicative group,\n",
        "    where m is the product of the primes.\n",
        "  \"\"\"\n",
        "  m = math.prod(primes)\n",
        "  members = []\n",
        "  for num in range(1, m + 1):\n",
        "    is_member = True\n",
        "    for p in primes:\n",
        "      if math.gcd(num, p) != 1:\n",
        "        is_member = False\n",
        "        break\n",
        "    if is_member:\n",
        "      members.append(num)\n",
        "  return members\n",
        "\n",
        "# Example usage:\n",
        "# m_members = multiplicative_group_members(primes)\n",
        "# print(m_members)"
      ],
      "metadata": {
        "id": "1MiA45OqFJpT"
      },
      "execution_count": 10,
      "outputs": []
    },
    {
      "cell_type": "markdown",
      "source": [
        "(This works. However, it might be faster to either check if any `p` in `primes` divides `num`, or check `math.gcd(num, m)!=1`. Admittedly, I'm not sure which of these would be faster.)"
      ],
      "metadata": {
        "id": "O_ueL0FUL0At"
      }
    },
    {
      "cell_type": "code",
      "source": [
        "# prompt: Write a function which is given a list `p` of primes, and first computes their product, `m`, and the elements of 1..m which form a multiplicative group.\n",
        "# It should then sample numbers N, which are a product of exactly two primes, and use sampling to find pairs `a` and `b` such that a^2-b^2 = N (mod m).\n",
        "# For each of these, it should then check whether N and _any_ of a+b, a-b, or b-a share a common factor.\n",
        "# It should expect \"number of samples\" as an argument. It should return a list of, for each sample:\n",
        "# - N\n",
        "# - a, b\n",
        "\n",
        "def solve_and_check_common_factors(p, num_samples):\n",
        "    \"\"\"\n",
        "    Samples numbers N (product of two primes) and finds pairs (a, b)\n",
        "    such that a^2 - b^2 = N (mod m), then checks for common factors.\n",
        "\n",
        "    Args:\n",
        "        p: A list of prime numbers.\n",
        "        num_samples: The number of samples to take.\n",
        "\n",
        "    Returns:\n",
        "        A list of tuples, where each tuple contains (N, (a, b)).\n",
        "    \"\"\"\n",
        "    m = math.prod(p)\n",
        "    m_members = multiplicative_group_members(p)\n",
        "\n",
        "    results = []\n",
        "\n",
        "    # Create a list of possible two-prime products within a reasonable range\n",
        "    possible_Ns = []\n",
        "    primes1 = [p for p in primes if p!=2 and p<math.sqrt(m+1)]\n",
        "    for i in range(len(primes)):\n",
        "        for j in range(i, len(primes)):\n",
        "            n = primes[i] * primes[j]\n",
        "            if n < m: # Ensure N is less than m for modulo operations\n",
        "                possible_Ns.append(n)\n",
        "\n",
        "    for _ in range(num_samples):\n",
        "        # Randomly sample an N which is a product of two primes\n",
        "        N = random.choice(possible_Ns)\n",
        "        if N >= m:\n",
        "          continue\n",
        "        num_congruent = 0\n",
        "        num_with_common_factor = 0\n",
        "        for _ in range(100000): # Try random pairs of a and b\n",
        "            a = random.choice(m_members)\n",
        "            b = random.choice(m_members)\n",
        "            # Check if a^2 - b^2 = N (mod m)\n",
        "            if (a**2 - b**2) % m == N % m:\n",
        "              num_congruent += 1\n",
        "              if has_common_factor(N, a, b):\n",
        "                num_with_common_factor += 1\n",
        "        results.append({\"m\": m, \"N\": N,\n",
        "                        \"num_congruent\": num_congruent,\n",
        "                        \"num_with_common_factor\": num_with_common_factor,\n",
        "                        \"p_common_factor\": num_with_common_factor / num_congruent})\n",
        "\n",
        "\n",
        "    return results\n",
        "\n",
        "# Example usage:\n",
        "p = [37,41]\n",
        "sample_results = solve_and_check_common_factors(p, 100)\n",
        "for x in sample_results:\n",
        "  print(x)"
      ],
      "metadata": {
        "colab": {
          "base_uri": "https://localhost:8080/"
        },
        "id": "O4s9rf1uSrR2",
        "outputId": "8f6ff37d-70fe-4e2b-c931-101f2a29dec2"
      },
      "execution_count": 11,
      "outputs": [
        {
          "output_type": "stream",
          "name": "stdout",
          "text": [
            "{'m': 1517, 'N': 91, 'num_congruent': 70, 'num_with_common_factor': 19, 'p_common_factor': 0.2714285714285714}\n",
            "{'m': 1517, 'N': 635, 'num_congruent': 58, 'num_with_common_factor': 27, 'p_common_factor': 0.46551724137931033}\n",
            "{'m': 1517, 'N': 119, 'num_congruent': 60, 'num_with_common_factor': 18, 'p_common_factor': 0.3}\n",
            "{'m': 1517, 'N': 562, 'num_congruent': 55, 'num_with_common_factor': 26, 'p_common_factor': 0.4727272727272727}\n",
            "{'m': 1517, 'N': 1157, 'num_congruent': 51, 'num_with_common_factor': 10, 'p_common_factor': 0.19607843137254902}\n",
            "{'m': 1517, 'N': 721, 'num_congruent': 81, 'num_with_common_factor': 32, 'p_common_factor': 0.3950617283950617}\n",
            "{'m': 1517, 'N': 177, 'num_congruent': 65, 'num_with_common_factor': 31, 'p_common_factor': 0.47692307692307695}\n",
            "{'m': 1517, 'N': 159, 'num_congruent': 61, 'num_with_common_factor': 30, 'p_common_factor': 0.4918032786885246}\n",
            "{'m': 1517, 'N': 721, 'num_congruent': 60, 'num_with_common_factor': 15, 'p_common_factor': 0.25}\n",
            "{'m': 1517, 'N': 1354, 'num_congruent': 79, 'num_with_common_factor': 38, 'p_common_factor': 0.4810126582278481}\n",
            "{'m': 1517, 'N': 206, 'num_congruent': 57, 'num_with_common_factor': 32, 'p_common_factor': 0.5614035087719298}\n",
            "{'m': 1517, 'N': 1441, 'num_congruent': 63, 'num_with_common_factor': 17, 'p_common_factor': 0.2698412698412698}\n",
            "{'m': 1517, 'N': 974, 'num_congruent': 57, 'num_with_common_factor': 25, 'p_common_factor': 0.43859649122807015}\n",
            "{'m': 1517, 'N': 1477, 'num_congruent': 55, 'num_with_common_factor': 16, 'p_common_factor': 0.2909090909090909}\n",
            "{'m': 1517, 'N': 667, 'num_congruent': 52, 'num_with_common_factor': 13, 'p_common_factor': 0.25}\n",
            "{'m': 1517, 'N': 959, 'num_congruent': 48, 'num_with_common_factor': 10, 'p_common_factor': 0.20833333333333334}\n",
            "{'m': 1517, 'N': 403, 'num_congruent': 60, 'num_with_common_factor': 9, 'p_common_factor': 0.15}\n",
            "{'m': 1517, 'N': 553, 'num_congruent': 75, 'num_with_common_factor': 20, 'p_common_factor': 0.26666666666666666}\n",
            "{'m': 1517, 'N': 1167, 'num_congruent': 74, 'num_with_common_factor': 38, 'p_common_factor': 0.5135135135135135}\n",
            "{'m': 1517, 'N': 961, 'num_congruent': 47, 'num_with_common_factor': 1, 'p_common_factor': 0.02127659574468085}\n",
            "{'m': 1517, 'N': 662, 'num_congruent': 62, 'num_with_common_factor': 34, 'p_common_factor': 0.5483870967741935}\n",
            "{'m': 1517, 'N': 649, 'num_congruent': 72, 'num_with_common_factor': 18, 'p_common_factor': 0.25}\n",
            "{'m': 1517, 'N': 842, 'num_congruent': 75, 'num_with_common_factor': 40, 'p_common_factor': 0.5333333333333333}\n",
            "{'m': 1517, 'N': 529, 'num_congruent': 68, 'num_with_common_factor': 6, 'p_common_factor': 0.08823529411764706}\n",
            "{'m': 1517, 'N': 1403, 'num_congruent': 56, 'num_with_common_factor': 7, 'p_common_factor': 0.125}\n",
            "{'m': 1517, 'N': 1007, 'num_congruent': 55, 'num_with_common_factor': 5, 'p_common_factor': 0.09090909090909091}\n",
            "{'m': 1517, 'N': 501, 'num_congruent': 59, 'num_with_common_factor': 38, 'p_common_factor': 0.6440677966101694}\n",
            "{'m': 1517, 'N': 1333, 'num_congruent': 52, 'num_with_common_factor': 5, 'p_common_factor': 0.09615384615384616}\n",
            "{'m': 1517, 'N': 943, 'num_congruent': 143, 'num_with_common_factor': 138, 'p_common_factor': 0.965034965034965}\n",
            "{'m': 1517, 'N': 982, 'num_congruent': 60, 'num_with_common_factor': 27, 'p_common_factor': 0.45}\n",
            "{'m': 1517, 'N': 237, 'num_congruent': 55, 'num_with_common_factor': 23, 'p_common_factor': 0.41818181818181815}\n",
            "{'m': 1517, 'N': 1133, 'num_congruent': 49, 'num_with_common_factor': 10, 'p_common_factor': 0.20408163265306123}\n",
            "{'m': 1517, 'N': 121, 'num_congruent': 63, 'num_with_common_factor': 9, 'p_common_factor': 0.14285714285714285}\n",
            "{'m': 1517, 'N': 591, 'num_congruent': 58, 'num_with_common_factor': 34, 'p_common_factor': 0.5862068965517241}\n",
            "{'m': 1517, 'N': 213, 'num_congruent': 74, 'num_with_common_factor': 37, 'p_common_factor': 0.5}\n",
            "{'m': 1517, 'N': 141, 'num_congruent': 46, 'num_with_common_factor': 21, 'p_common_factor': 0.45652173913043476}\n",
            "{'m': 1517, 'N': 1043, 'num_congruent': 49, 'num_with_common_factor': 16, 'p_common_factor': 0.32653061224489793}\n",
            "{'m': 1517, 'N': 1466, 'num_congruent': 55, 'num_with_common_factor': 26, 'p_common_factor': 0.4727272727272727}\n",
            "{'m': 1517, 'N': 893, 'num_congruent': 71, 'num_with_common_factor': 10, 'p_common_factor': 0.14084507042253522}\n",
            "{'m': 1517, 'N': 1046, 'num_congruent': 71, 'num_with_common_factor': 42, 'p_common_factor': 0.5915492957746479}\n",
            "{'m': 1517, 'N': 517, 'num_congruent': 57, 'num_with_common_factor': 18, 'p_common_factor': 0.3157894736842105}\n",
            "{'m': 1517, 'N': 291, 'num_congruent': 61, 'num_with_common_factor': 42, 'p_common_factor': 0.6885245901639344}\n",
            "{'m': 1517, 'N': 1094, 'num_congruent': 72, 'num_with_common_factor': 39, 'p_common_factor': 0.5416666666666666}\n",
            "{'m': 1517, 'N': 69, 'num_congruent': 61, 'num_with_common_factor': 39, 'p_common_factor': 0.639344262295082}\n",
            "{'m': 1517, 'N': 57, 'num_congruent': 55, 'num_with_common_factor': 36, 'p_common_factor': 0.6545454545454545}\n",
            "{'m': 1517, 'N': 482, 'num_congruent': 46, 'num_with_common_factor': 15, 'p_common_factor': 0.32608695652173914}\n",
            "{'m': 1517, 'N': 591, 'num_congruent': 62, 'num_with_common_factor': 40, 'p_common_factor': 0.6451612903225806}\n",
            "{'m': 1517, 'N': 799, 'num_congruent': 67, 'num_with_common_factor': 6, 'p_common_factor': 0.08955223880597014}\n",
            "{'m': 1517, 'N': 718, 'num_congruent': 66, 'num_with_common_factor': 32, 'p_common_factor': 0.48484848484848486}\n",
            "{'m': 1517, 'N': 1454, 'num_congruent': 56, 'num_with_common_factor': 26, 'p_common_factor': 0.4642857142857143}\n",
            "{'m': 1517, 'N': 267, 'num_congruent': 87, 'num_with_common_factor': 51, 'p_common_factor': 0.5862068965517241}\n",
            "{'m': 1517, 'N': 205, 'num_congruent': 150, 'num_with_common_factor': 127, 'p_common_factor': 0.8466666666666667}\n",
            "{'m': 1517, 'N': 538, 'num_congruent': 61, 'num_with_common_factor': 26, 'p_common_factor': 0.4262295081967213}\n",
            "{'m': 1517, 'N': 1226, 'num_congruent': 53, 'num_with_common_factor': 23, 'p_common_factor': 0.4339622641509434}\n",
            "{'m': 1517, 'N': 265, 'num_congruent': 59, 'num_with_common_factor': 23, 'p_common_factor': 0.3898305084745763}\n",
            "{'m': 1517, 'N': 681, 'num_congruent': 63, 'num_with_common_factor': 35, 'p_common_factor': 0.5555555555555556}\n",
            "{'m': 1517, 'N': 1286, 'num_congruent': 64, 'num_with_common_factor': 36, 'p_common_factor': 0.5625}\n",
            "{'m': 1517, 'N': 973, 'num_congruent': 62, 'num_with_common_factor': 20, 'p_common_factor': 0.3225806451612903}\n",
            "{'m': 1517, 'N': 849, 'num_congruent': 73, 'num_with_common_factor': 33, 'p_common_factor': 0.4520547945205479}\n",
            "{'m': 1517, 'N': 838, 'num_congruent': 61, 'num_with_common_factor': 36, 'p_common_factor': 0.5901639344262295}\n",
            "{'m': 1517, 'N': 746, 'num_congruent': 64, 'num_with_common_factor': 41, 'p_common_factor': 0.640625}\n",
            "{'m': 1517, 'N': 1457, 'num_congruent': 62, 'num_with_common_factor': 6, 'p_common_factor': 0.0967741935483871}\n",
            "{'m': 1517, 'N': 713, 'num_congruent': 56, 'num_with_common_factor': 7, 'p_common_factor': 0.125}\n",
            "{'m': 1517, 'N': 842, 'num_congruent': 77, 'num_with_common_factor': 41, 'p_common_factor': 0.5324675324675324}\n",
            "{'m': 1517, 'N': 1165, 'num_congruent': 68, 'num_with_common_factor': 18, 'p_common_factor': 0.2647058823529412}\n",
            "{'m': 1517, 'N': 527, 'num_congruent': 61, 'num_with_common_factor': 10, 'p_common_factor': 0.16393442622950818}\n",
            "{'m': 1517, 'N': 485, 'num_congruent': 62, 'num_with_common_factor': 28, 'p_common_factor': 0.45161290322580644}\n",
            "{'m': 1517, 'N': 662, 'num_congruent': 43, 'num_with_common_factor': 28, 'p_common_factor': 0.6511627906976745}\n",
            "{'m': 1517, 'N': 469, 'num_congruent': 58, 'num_with_common_factor': 17, 'p_common_factor': 0.29310344827586204}\n",
            "{'m': 1517, 'N': 87, 'num_congruent': 53, 'num_with_common_factor': 31, 'p_common_factor': 0.5849056603773585}\n",
            "{'m': 1517, 'N': 1507, 'num_congruent': 48, 'num_with_common_factor': 10, 'p_common_factor': 0.20833333333333334}\n",
            "{'m': 1517, 'N': 1157, 'num_congruent': 69, 'num_with_common_factor': 10, 'p_common_factor': 0.14492753623188406}\n",
            "{'m': 1517, 'N': 194, 'num_congruent': 55, 'num_with_common_factor': 35, 'p_common_factor': 0.6363636363636364}\n",
            "{'m': 1517, 'N': 1234, 'num_congruent': 66, 'num_with_common_factor': 29, 'p_common_factor': 0.4393939393939394}\n",
            "{'m': 1517, 'N': 674, 'num_congruent': 58, 'num_with_common_factor': 29, 'p_common_factor': 0.5}\n",
            "{'m': 1517, 'N': 203, 'num_congruent': 55, 'num_with_common_factor': 16, 'p_common_factor': 0.2909090909090909}\n",
            "{'m': 1517, 'N': 502, 'num_congruent': 68, 'num_with_common_factor': 41, 'p_common_factor': 0.6029411764705882}\n",
            "{'m': 1517, 'N': 851, 'num_congruent': 110, 'num_with_common_factor': 105, 'p_common_factor': 0.9545454545454546}\n",
            "{'m': 1517, 'N': 913, 'num_congruent': 63, 'num_with_common_factor': 6, 'p_common_factor': 0.09523809523809523}\n",
            "{'m': 1517, 'N': 813, 'num_congruent': 75, 'num_with_common_factor': 44, 'p_common_factor': 0.5866666666666667}\n",
            "{'m': 1517, 'N': 542, 'num_congruent': 53, 'num_with_common_factor': 29, 'p_common_factor': 0.5471698113207547}\n",
            "{'m': 1517, 'N': 842, 'num_congruent': 51, 'num_with_common_factor': 30, 'p_common_factor': 0.5882352941176471}\n",
            "{'m': 1517, 'N': 1478, 'num_congruent': 65, 'num_with_common_factor': 36, 'p_common_factor': 0.5538461538461539}\n",
            "{'m': 1517, 'N': 895, 'num_congruent': 63, 'num_with_common_factor': 27, 'p_common_factor': 0.42857142857142855}\n",
            "{'m': 1517, 'N': 295, 'num_congruent': 53, 'num_with_common_factor': 19, 'p_common_factor': 0.3584905660377358}\n",
            "{'m': 1517, 'N': 1114, 'num_congruent': 55, 'num_with_common_factor': 29, 'p_common_factor': 0.5272727272727272}\n",
            "{'m': 1517, 'N': 1195, 'num_congruent': 76, 'num_with_common_factor': 28, 'p_common_factor': 0.3684210526315789}\n",
            "{'m': 1517, 'N': 21, 'num_congruent': 58, 'num_with_common_factor': 42, 'p_common_factor': 0.7241379310344828}\n",
            "{'m': 1517, 'N': 1189, 'num_congruent': 150, 'num_with_common_factor': 144, 'p_common_factor': 0.96}\n",
            "{'m': 1517, 'N': 1042, 'num_congruent': 76, 'num_with_common_factor': 41, 'p_common_factor': 0.5394736842105263}\n",
            "{'m': 1517, 'N': 1047, 'num_congruent': 56, 'num_with_common_factor': 31, 'p_common_factor': 0.5535714285714286}\n",
            "{'m': 1517, 'N': 515, 'num_congruent': 57, 'num_with_common_factor': 20, 'p_common_factor': 0.3508771929824561}\n",
            "{'m': 1517, 'N': 667, 'num_congruent': 60, 'num_with_common_factor': 6, 'p_common_factor': 0.1}\n",
            "{'m': 1517, 'N': 1385, 'num_congruent': 53, 'num_with_common_factor': 21, 'p_common_factor': 0.39622641509433965}\n",
            "{'m': 1517, 'N': 1389, 'num_congruent': 63, 'num_with_common_factor': 36, 'p_common_factor': 0.5714285714285714}\n",
            "{'m': 1517, 'N': 1234, 'num_congruent': 72, 'num_with_common_factor': 35, 'p_common_factor': 0.4861111111111111}\n",
            "{'m': 1517, 'N': 1199, 'num_congruent': 60, 'num_with_common_factor': 9, 'p_common_factor': 0.15}\n",
            "{'m': 1517, 'N': 1346, 'num_congruent': 66, 'num_with_common_factor': 32, 'p_common_factor': 0.48484848484848486}\n",
            "{'m': 1517, 'N': 25, 'num_congruent': 55, 'num_with_common_factor': 19, 'p_common_factor': 0.34545454545454546}\n",
            "{'m': 1517, 'N': 662, 'num_congruent': 61, 'num_with_common_factor': 34, 'p_common_factor': 0.5573770491803278}\n"
          ]
        }
      ]
    },
    {
      "cell_type": "markdown",
      "source": [
        "We now plot how often a common factor is found."
      ],
      "metadata": {
        "id": "_BQLjTzkjcZq"
      }
    },
    {
      "cell_type": "code",
      "source": [
        "sample_results = pandas.DataFrame(sample_results)\n",
        "sample_results.plot.scatter(x='N', y='p_common_factor', alpha=0.5)"
      ],
      "metadata": {
        "colab": {
          "base_uri": "https://localhost:8080/",
          "height": 468
        },
        "id": "jgFaIxrhjjVR",
        "outputId": "7be5ab50-5f50-48db-db99-95cf40bc406c"
      },
      "execution_count": 12,
      "outputs": [
        {
          "output_type": "execute_result",
          "data": {
            "text/plain": [
              "<Axes: xlabel='N', ylabel='p_common_factor'>"
            ]
          },
          "metadata": {},
          "execution_count": 12
        },
        {
          "output_type": "display_data",
          "data": {
            "text/plain": [
              "<Figure size 640x480 with 1 Axes>"
            ],
            "image/png": "[encoded data removed]"
          },
          "metadata": {}
        }
      ]
    },
    {
      "cell_type": "markdown",
      "source": [
        "It looks like, if $a$ and $b$ are found which satisfy the congruence, it is fairly likely that $a+b$, $a-b$, or $b-a$ will share a factor\n",
        "with $N$.\n",
        "\n",
        "However, it's presumably not easy to find such $a$ and $b$."
      ],
      "metadata": {
        "id": "z90qDZJKk9Bs"
      }
    }
  ]
}