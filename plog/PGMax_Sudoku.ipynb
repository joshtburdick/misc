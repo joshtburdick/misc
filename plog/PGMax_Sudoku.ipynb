{
  "nbformat": 4,
  "nbformat_minor": 0,
  "metadata": {
    "colab": {
      "provenance": [],
      "authorship_tag": "ABX9TyNgy2W3s8WaPGr3eIwKD9vo",
      "include_colab_link": true
    },
    "kernelspec": {
      "name": "python3",
      "display_name": "Python 3"
    },
    "language_info": {
      "name": "python"
    }
  },
  "cells": [
    {
      "cell_type": "markdown",
      "metadata": {
        "id": "view-in-github",
        "colab_type": "text"
      },
      "source": [
        "<a href=\"https://colab.research.google.com/github/joshtburdick/misc/blob/master/plog/PGMax_Sudoku.ipynb\" target=\"_parent\"><img src=\"https://colab.research.google.com/assets/colab-badge.svg\" alt=\"Open In Colab\"/></a>"
      ]
    },
    {
      "cell_type": "markdown",
      "metadata": {
        "id": "e92da0a2"
      },
      "source": [
        "# Solving Sudoku using [PGMax](https://github.com/google-deepmind/PGMax)\n",
        "\n",
        "Trying to use the PGMax library, to solve *tiny* Sudoku problems. This is largely based on the [Ising model](https://colab.research.google.com/github/deepmind/PGMax/blob/master/examples/ising_model.ipynb#scrollTo=uBbZ9rmwswjx)."
      ]
    },
    {
      "cell_type": "code",
      "metadata": {
        "colab": {
          "base_uri": "https://localhost:8080/"
        },
        "id": "830d29e9",
        "outputId": "fb671a53-0bc1-470e-e89f-4bd5833a0b78"
      },
      "source": [
        "# %pip install pgmax\n",
        "# from Ising example:\n",
        "# Uncomment this block if running on colab.research.google.com\n",
        "!pip install git+https://github.com/deepmind/PGMax.git\n"
      ],
      "execution_count": 1,
      "outputs": [
        {
          "output_type": "stream",
          "name": "stdout",
          "text": [
            "Collecting git+https://github.com/deepmind/PGMax.git\n",
            "  Cloning https://github.com/deepmind/PGMax.git to /tmp/pip-req-build-j0y83bwt\n",
            "  Running command git clone --filter=blob:none --quiet https://github.com/deepmind/PGMax.git /tmp/pip-req-build-j0y83bwt\n",
            "  Resolved https://github.com/deepmind/PGMax.git to commit 741d532bb4e08f89d1bb86c8e272d913b48aa262\n",
            "  Preparing metadata (setup.py) ... \u001b[?25l\u001b[?25hdone\n",
            "Requirement already satisfied: typing_extensions in /usr/local/lib/python3.12/dist-packages (from pgmax==0.6.1) (4.15.0)\n",
            "Requirement already satisfied: jupyter>=1.0.0 in /usr/local/lib/python3.12/dist-packages (from pgmax==0.6.1) (1.1.1)\n",
            "Requirement already satisfied: matplotlib>=3.2.0 in /usr/local/lib/python3.12/dist-packages (from pgmax==0.6.1) (3.10.0)\n",
            "Requirement already satisfied: jax>=0.2.25 in /usr/local/lib/python3.12/dist-packages (from pgmax==0.6.1) (0.5.3)\n",
            "Requirement already satisfied: jaxlib>=0.1.74 in /usr/local/lib/python3.12/dist-packages (from pgmax==0.6.1) (0.5.3)\n",
            "Requirement already satisfied: numba>=0.55.0 in /usr/local/lib/python3.12/dist-packages (from pgmax==0.6.1) (0.60.0)\n",
            "Requirement already satisfied: numpy>=1.21.0 in /usr/local/lib/python3.12/dist-packages (from pgmax==0.6.1) (2.0.2)\n",
            "Requirement already satisfied: scipy>=1.2.3 in /usr/local/lib/python3.12/dist-packages (from pgmax==0.6.1) (1.16.1)\n",
            "Requirement already satisfied: jupytext>=1.11.3 in /usr/local/lib/python3.12/dist-packages (from pgmax==0.6.1) (1.17.2)\n",
            "Requirement already satisfied: tqdm>=4.61.0 in /usr/local/lib/python3.12/dist-packages (from pgmax==0.6.1) (4.67.1)\n",
            "Requirement already satisfied: sphinx>=4.4.0 in /usr/local/lib/python3.12/dist-packages (from pgmax==0.6.1) (8.2.3)\n",
            "Requirement already satisfied: scikit-learn>=1.0.1 in /usr/local/lib/python3.12/dist-packages (from pgmax==0.6.1) (1.6.1)\n",
            "Requirement already satisfied: joblib>=1.1.0 in /usr/local/lib/python3.12/dist-packages (from pgmax==0.6.1) (1.5.1)\n",
            "Requirement already satisfied: pytest>=7.0.1 in /usr/local/lib/python3.12/dist-packages (from pgmax==0.6.1) (8.4.1)\n",
            "Requirement already satisfied: pytest-env>=0.6.2 in /usr/local/lib/python3.12/dist-packages (from pgmax==0.6.1) (1.1.5)\n",
            "Requirement already satisfied: pre-commit>=2.13.0 in /usr/local/lib/python3.12/dist-packages (from pgmax==0.6.1) (4.3.0)\n",
            "Requirement already satisfied: sphinx-rtd-theme>=0.5.2 in /usr/local/lib/python3.12/dist-packages (from pgmax==0.6.1) (3.0.2)\n",
            "Requirement already satisfied: sphinx-book-theme>=0.3.3 in /usr/local/lib/python3.12/dist-packages (from pgmax==0.6.1) (1.1.4)\n",
            "Requirement already satisfied: pytest-cov>=2.12.1 in /usr/local/lib/python3.12/dist-packages (from pgmax==0.6.1) (6.2.1)\n",
            "Requirement already satisfied: tensorflow_datasets>=4.6.0 in /usr/local/lib/python3.12/dist-packages (from pgmax==0.6.1) (4.9.9)\n",
            "Requirement already satisfied: tensorflow>=2.9.1 in /usr/local/lib/python3.12/dist-packages (from pgmax==0.6.1) (2.19.0)\n",
            "Requirement already satisfied: cvxpy>=1.2.0 in /usr/local/lib/python3.12/dist-packages (from pgmax==0.6.1) (1.6.7)\n",
            "Requirement already satisfied: osqp>=0.6.2 in /usr/local/lib/python3.12/dist-packages (from cvxpy>=1.2.0->pgmax==0.6.1) (1.0.4)\n",
            "Requirement already satisfied: clarabel>=0.5.0 in /usr/local/lib/python3.12/dist-packages (from cvxpy>=1.2.0->pgmax==0.6.1) (0.11.1)\n",
            "Requirement already satisfied: scs>=3.2.4.post1 in /usr/local/lib/python3.12/dist-packages (from cvxpy>=1.2.0->pgmax==0.6.1) (3.2.8)\n",
            "Requirement already satisfied: ml_dtypes>=0.4.0 in /usr/local/lib/python3.12/dist-packages (from jax>=0.2.25->pgmax==0.6.1) (0.5.3)\n",
            "Requirement already satisfied: opt_einsum in /usr/local/lib/python3.12/dist-packages (from jax>=0.2.25->pgmax==0.6.1) (3.4.0)\n",
            "Requirement already satisfied: notebook in /usr/local/lib/python3.12/dist-packages (from jupyter>=1.0.0->pgmax==0.6.1) (6.5.7)\n",
            "Requirement already satisfied: jupyter-console in /usr/local/lib/python3.12/dist-packages (from jupyter>=1.0.0->pgmax==0.6.1) (6.1.0)\n",
            "Requirement already satisfied: nbconvert in /usr/local/lib/python3.12/dist-packages (from jupyter>=1.0.0->pgmax==0.6.1) (7.16.6)\n",
            "Requirement already satisfied: ipykernel in /usr/local/lib/python3.12/dist-packages (from jupyter>=1.0.0->pgmax==0.6.1) (6.17.1)\n",
            "Requirement already satisfied: ipywidgets in /usr/local/lib/python3.12/dist-packages (from jupyter>=1.0.0->pgmax==0.6.1) (7.7.1)\n",
            "Requirement already satisfied: jupyterlab in /usr/local/lib/python3.12/dist-packages (from jupyter>=1.0.0->pgmax==0.6.1) (4.4.7)\n",
            "Requirement already satisfied: markdown-it-py>=1.0 in /usr/local/lib/python3.12/dist-packages (from jupytext>=1.11.3->pgmax==0.6.1) (4.0.0)\n",
            "Requirement already satisfied: mdit-py-plugins in /usr/local/lib/python3.12/dist-packages (from jupytext>=1.11.3->pgmax==0.6.1) (0.5.0)\n",
            "Requirement already satisfied: nbformat in /usr/local/lib/python3.12/dist-packages (from jupytext>=1.11.3->pgmax==0.6.1) (5.10.4)\n",
            "Requirement already satisfied: packaging in /usr/local/lib/python3.12/dist-packages (from jupytext>=1.11.3->pgmax==0.6.1) (25.0)\n",
            "Requirement already satisfied: pyyaml in /usr/local/lib/python3.12/dist-packages (from jupytext>=1.11.3->pgmax==0.6.1) (6.0.2)\n",
            "Requirement already satisfied: contourpy>=1.0.1 in /usr/local/lib/python3.12/dist-packages (from matplotlib>=3.2.0->pgmax==0.6.1) (1.3.3)\n",
            "Requirement already satisfied: cycler>=0.10 in /usr/local/lib/python3.12/dist-packages (from matplotlib>=3.2.0->pgmax==0.6.1) (0.12.1)\n",
            "Requirement already satisfied: fonttools>=4.22.0 in /usr/local/lib/python3.12/dist-packages (from matplotlib>=3.2.0->pgmax==0.6.1) (4.59.1)\n",
            "Requirement already satisfied: kiwisolver>=1.3.1 in /usr/local/lib/python3.12/dist-packages (from matplotlib>=3.2.0->pgmax==0.6.1) (1.4.9)\n",
            "Requirement already satisfied: pillow>=8 in /usr/local/lib/python3.12/dist-packages (from matplotlib>=3.2.0->pgmax==0.6.1) (11.3.0)\n",
            "Requirement already satisfied: pyparsing>=2.3.1 in /usr/local/lib/python3.12/dist-packages (from matplotlib>=3.2.0->pgmax==0.6.1) (3.2.3)\n",
            "Requirement already satisfied: python-dateutil>=2.7 in /usr/local/lib/python3.12/dist-packages (from matplotlib>=3.2.0->pgmax==0.6.1) (2.9.0.post0)\n",
            "Requirement already satisfied: llvmlite<0.44,>=0.43.0dev0 in /usr/local/lib/python3.12/dist-packages (from numba>=0.55.0->pgmax==0.6.1) (0.43.0)\n",
            "Requirement already satisfied: cfgv>=2.0.0 in /usr/local/lib/python3.12/dist-packages (from pre-commit>=2.13.0->pgmax==0.6.1) (3.4.0)\n",
            "Requirement already satisfied: identify>=1.0.0 in /usr/local/lib/python3.12/dist-packages (from pre-commit>=2.13.0->pgmax==0.6.1) (2.6.13)\n",
            "Requirement already satisfied: nodeenv>=0.11.1 in /usr/local/lib/python3.12/dist-packages (from pre-commit>=2.13.0->pgmax==0.6.1) (1.9.1)\n",
            "Requirement already satisfied: virtualenv>=20.10.0 in /usr/local/lib/python3.12/dist-packages (from pre-commit>=2.13.0->pgmax==0.6.1) (20.34.0)\n",
            "Requirement already satisfied: iniconfig>=1 in /usr/local/lib/python3.12/dist-packages (from pytest>=7.0.1->pgmax==0.6.1) (2.1.0)\n",
            "Requirement already satisfied: pluggy<2,>=1.5 in /usr/local/lib/python3.12/dist-packages (from pytest>=7.0.1->pgmax==0.6.1) (1.6.0)\n",
            "Requirement already satisfied: pygments>=2.7.2 in /usr/local/lib/python3.12/dist-packages (from pytest>=7.0.1->pgmax==0.6.1) (2.19.2)\n",
            "Requirement already satisfied: coverage>=7.5 in /usr/local/lib/python3.12/dist-packages (from coverage[toml]>=7.5->pytest-cov>=2.12.1->pgmax==0.6.1) (7.10.6)\n",
            "Requirement already satisfied: threadpoolctl>=3.1.0 in /usr/local/lib/python3.12/dist-packages (from scikit-learn>=1.0.1->pgmax==0.6.1) (3.6.0)\n",
            "Requirement already satisfied: sphinxcontrib-applehelp>=1.0.7 in /usr/local/lib/python3.12/dist-packages (from sphinx>=4.4.0->pgmax==0.6.1) (2.0.0)\n",
            "Requirement already satisfied: sphinxcontrib-devhelp>=1.0.6 in /usr/local/lib/python3.12/dist-packages (from sphinx>=4.4.0->pgmax==0.6.1) (2.0.0)\n",
            "Requirement already satisfied: sphinxcontrib-htmlhelp>=2.0.6 in /usr/local/lib/python3.12/dist-packages (from sphinx>=4.4.0->pgmax==0.6.1) (2.1.0)\n",
            "Requirement already satisfied: sphinxcontrib-jsmath>=1.0.1 in /usr/local/lib/python3.12/dist-packages (from sphinx>=4.4.0->pgmax==0.6.1) (1.0.1)\n",
            "Requirement already satisfied: sphinxcontrib-qthelp>=1.0.6 in /usr/local/lib/python3.12/dist-packages (from sphinx>=4.4.0->pgmax==0.6.1) (2.0.0)\n",
            "Requirement already satisfied: sphinxcontrib-serializinghtml>=1.1.9 in /usr/local/lib/python3.12/dist-packages (from sphinx>=4.4.0->pgmax==0.6.1) (2.0.0)\n",
            "Requirement already satisfied: Jinja2>=3.1 in /usr/local/lib/python3.12/dist-packages (from sphinx>=4.4.0->pgmax==0.6.1) (3.1.6)\n",
            "Requirement already satisfied: docutils<0.22,>=0.20 in /usr/local/lib/python3.12/dist-packages (from sphinx>=4.4.0->pgmax==0.6.1) (0.21.2)\n",
            "Requirement already satisfied: snowballstemmer>=2.2 in /usr/local/lib/python3.12/dist-packages (from sphinx>=4.4.0->pgmax==0.6.1) (3.0.1)\n",
            "Requirement already satisfied: babel>=2.13 in /usr/local/lib/python3.12/dist-packages (from sphinx>=4.4.0->pgmax==0.6.1) (2.17.0)\n",
            "Requirement already satisfied: alabaster>=0.7.14 in /usr/local/lib/python3.12/dist-packages (from sphinx>=4.4.0->pgmax==0.6.1) (1.0.0)\n",
            "Requirement already satisfied: imagesize>=1.3 in /usr/local/lib/python3.12/dist-packages (from sphinx>=4.4.0->pgmax==0.6.1) (1.4.1)\n",
            "Requirement already satisfied: requests>=2.30.0 in /usr/local/lib/python3.12/dist-packages (from sphinx>=4.4.0->pgmax==0.6.1) (2.32.4)\n",
            "Requirement already satisfied: roman-numerals-py>=1.0.0 in /usr/local/lib/python3.12/dist-packages (from sphinx>=4.4.0->pgmax==0.6.1) (3.1.0)\n",
            "Requirement already satisfied: pydata-sphinx-theme==0.15.4 in /usr/local/lib/python3.12/dist-packages (from sphinx-book-theme>=0.3.3->pgmax==0.6.1) (0.15.4)\n",
            "Requirement already satisfied: beautifulsoup4 in /usr/local/lib/python3.12/dist-packages (from pydata-sphinx-theme==0.15.4->sphinx-book-theme>=0.3.3->pgmax==0.6.1) (4.13.5)\n",
            "Requirement already satisfied: accessible-pygments in /usr/local/lib/python3.12/dist-packages (from pydata-sphinx-theme==0.15.4->sphinx-book-theme>=0.3.3->pgmax==0.6.1) (0.0.5)\n",
            "Requirement already satisfied: sphinxcontrib-jquery<5,>=4 in /usr/local/lib/python3.12/dist-packages (from sphinx-rtd-theme>=0.5.2->pgmax==0.6.1) (4.1)\n",
            "Requirement already satisfied: absl-py>=1.0.0 in /usr/local/lib/python3.12/dist-packages (from tensorflow>=2.9.1->pgmax==0.6.1) (1.4.0)\n",
            "Requirement already satisfied: astunparse>=1.6.0 in /usr/local/lib/python3.12/dist-packages (from tensorflow>=2.9.1->pgmax==0.6.1) (1.6.3)\n",
            "Requirement already satisfied: flatbuffers>=24.3.25 in /usr/local/lib/python3.12/dist-packages (from tensorflow>=2.9.1->pgmax==0.6.1) (25.2.10)\n",
            "Requirement already satisfied: gast!=0.5.0,!=0.5.1,!=0.5.2,>=0.2.1 in /usr/local/lib/python3.12/dist-packages (from tensorflow>=2.9.1->pgmax==0.6.1) (0.6.0)\n",
            "Requirement already satisfied: google-pasta>=0.1.1 in /usr/local/lib/python3.12/dist-packages (from tensorflow>=2.9.1->pgmax==0.6.1) (0.2.0)\n",
            "Requirement already satisfied: libclang>=13.0.0 in /usr/local/lib/python3.12/dist-packages (from tensorflow>=2.9.1->pgmax==0.6.1) (18.1.1)\n",
            "Requirement already satisfied: protobuf!=4.21.0,!=4.21.1,!=4.21.2,!=4.21.3,!=4.21.4,!=4.21.5,<6.0.0dev,>=3.20.3 in /usr/local/lib/python3.12/dist-packages (from tensorflow>=2.9.1->pgmax==0.6.1) (5.29.5)\n",
            "Requirement already satisfied: setuptools in /usr/local/lib/python3.12/dist-packages (from tensorflow>=2.9.1->pgmax==0.6.1) (75.2.0)\n",
            "Requirement already satisfied: six>=1.12.0 in /usr/local/lib/python3.12/dist-packages (from tensorflow>=2.9.1->pgmax==0.6.1) (1.17.0)\n",
            "Requirement already satisfied: termcolor>=1.1.0 in /usr/local/lib/python3.12/dist-packages (from tensorflow>=2.9.1->pgmax==0.6.1) (3.1.0)\n",
            "Requirement already satisfied: wrapt>=1.11.0 in /usr/local/lib/python3.12/dist-packages (from tensorflow>=2.9.1->pgmax==0.6.1) (1.17.3)\n",
            "Requirement already satisfied: grpcio<2.0,>=1.24.3 in /usr/local/lib/python3.12/dist-packages (from tensorflow>=2.9.1->pgmax==0.6.1) (1.74.0)\n",
            "Requirement already satisfied: tensorboard~=2.19.0 in /usr/local/lib/python3.12/dist-packages (from tensorflow>=2.9.1->pgmax==0.6.1) (2.19.0)\n",
            "Requirement already satisfied: keras>=3.5.0 in /usr/local/lib/python3.12/dist-packages (from tensorflow>=2.9.1->pgmax==0.6.1) (3.10.0)\n",
            "Requirement already satisfied: h5py>=3.11.0 in /usr/local/lib/python3.12/dist-packages (from tensorflow>=2.9.1->pgmax==0.6.1) (3.14.0)\n",
            "Requirement already satisfied: array_record>=0.5.0 in /usr/local/lib/python3.12/dist-packages (from tensorflow_datasets>=4.6.0->pgmax==0.6.1) (0.8.1)\n",
            "Requirement already satisfied: dm-tree in /usr/local/lib/python3.12/dist-packages (from tensorflow_datasets>=4.6.0->pgmax==0.6.1) (0.1.9)\n",
            "Requirement already satisfied: etils>=1.9.1 in /usr/local/lib/python3.12/dist-packages (from etils[edc,enp,epath,epy,etree]>=1.9.1; python_version >= \"3.11\"->tensorflow_datasets>=4.6.0->pgmax==0.6.1) (1.13.0)\n",
            "Requirement already satisfied: immutabledict in /usr/local/lib/python3.12/dist-packages (from tensorflow_datasets>=4.6.0->pgmax==0.6.1) (4.2.1)\n",
            "Requirement already satisfied: promise in /usr/local/lib/python3.12/dist-packages (from tensorflow_datasets>=4.6.0->pgmax==0.6.1) (2.3)\n",
            "Requirement already satisfied: psutil in /usr/local/lib/python3.12/dist-packages (from tensorflow_datasets>=4.6.0->pgmax==0.6.1) (5.9.5)\n",
            "Requirement already satisfied: pyarrow in /usr/local/lib/python3.12/dist-packages (from tensorflow_datasets>=4.6.0->pgmax==0.6.1) (18.1.0)\n",
            "Requirement already satisfied: simple_parsing in /usr/local/lib/python3.12/dist-packages (from tensorflow_datasets>=4.6.0->pgmax==0.6.1) (0.1.7)\n",
            "Requirement already satisfied: tensorflow-metadata in /usr/local/lib/python3.12/dist-packages (from tensorflow_datasets>=4.6.0->pgmax==0.6.1) (1.17.2)\n",
            "Requirement already satisfied: toml in /usr/local/lib/python3.12/dist-packages (from tensorflow_datasets>=4.6.0->pgmax==0.6.1) (0.10.2)\n",
            "Requirement already satisfied: wheel<1.0,>=0.23.0 in /usr/local/lib/python3.12/dist-packages (from astunparse>=1.6.0->tensorflow>=2.9.1->pgmax==0.6.1) (0.45.1)\n",
            "Requirement already satisfied: cffi in /usr/local/lib/python3.12/dist-packages (from clarabel>=0.5.0->cvxpy>=1.2.0->pgmax==0.6.1) (1.17.1)\n",
            "Requirement already satisfied: einops in /usr/local/lib/python3.12/dist-packages (from etils[edc,enp,epath,epy,etree]>=1.9.1; python_version >= \"3.11\"->tensorflow_datasets>=4.6.0->pgmax==0.6.1) (0.8.1)\n",
            "Requirement already satisfied: fsspec in /usr/local/lib/python3.12/dist-packages (from etils[edc,enp,epath,epy,etree]>=1.9.1; python_version >= \"3.11\"->tensorflow_datasets>=4.6.0->pgmax==0.6.1) (2025.3.0)\n",
            "Requirement already satisfied: importlib_resources in /usr/local/lib/python3.12/dist-packages (from etils[edc,enp,epath,epy,etree]>=1.9.1; python_version >= \"3.11\"->tensorflow_datasets>=4.6.0->pgmax==0.6.1) (6.5.2)\n",
            "Requirement already satisfied: zipp in /usr/local/lib/python3.12/dist-packages (from etils[edc,enp,epath,epy,etree]>=1.9.1; python_version >= \"3.11\"->tensorflow_datasets>=4.6.0->pgmax==0.6.1) (3.23.0)\n",
            "Requirement already satisfied: MarkupSafe>=2.0 in /usr/local/lib/python3.12/dist-packages (from Jinja2>=3.1->sphinx>=4.4.0->pgmax==0.6.1) (3.0.2)\n",
            "Requirement already satisfied: rich in /usr/local/lib/python3.12/dist-packages (from keras>=3.5.0->tensorflow>=2.9.1->pgmax==0.6.1) (13.9.4)\n",
            "Requirement already satisfied: namex in /usr/local/lib/python3.12/dist-packages (from keras>=3.5.0->tensorflow>=2.9.1->pgmax==0.6.1) (0.1.0)\n",
            "Requirement already satisfied: optree in /usr/local/lib/python3.12/dist-packages (from keras>=3.5.0->tensorflow>=2.9.1->pgmax==0.6.1) (0.17.0)\n",
            "Requirement already satisfied: mdurl~=0.1 in /usr/local/lib/python3.12/dist-packages (from markdown-it-py>=1.0->jupytext>=1.11.3->pgmax==0.6.1) (0.1.2)\n",
            "Requirement already satisfied: charset_normalizer<4,>=2 in /usr/local/lib/python3.12/dist-packages (from requests>=2.30.0->sphinx>=4.4.0->pgmax==0.6.1) (3.4.3)\n",
            "Requirement already satisfied: idna<4,>=2.5 in /usr/local/lib/python3.12/dist-packages (from requests>=2.30.0->sphinx>=4.4.0->pgmax==0.6.1) (3.10)\n",
            "Requirement already satisfied: urllib3<3,>=1.21.1 in /usr/local/lib/python3.12/dist-packages (from requests>=2.30.0->sphinx>=4.4.0->pgmax==0.6.1) (2.5.0)\n",
            "Requirement already satisfied: certifi>=2017.4.17 in /usr/local/lib/python3.12/dist-packages (from requests>=2.30.0->sphinx>=4.4.0->pgmax==0.6.1) (2025.8.3)\n",
            "Requirement already satisfied: markdown>=2.6.8 in /usr/local/lib/python3.12/dist-packages (from tensorboard~=2.19.0->tensorflow>=2.9.1->pgmax==0.6.1) (3.8.2)\n",
            "Requirement already satisfied: tensorboard-data-server<0.8.0,>=0.7.0 in /usr/local/lib/python3.12/dist-packages (from tensorboard~=2.19.0->tensorflow>=2.9.1->pgmax==0.6.1) (0.7.2)\n",
            "Requirement already satisfied: werkzeug>=1.0.1 in /usr/local/lib/python3.12/dist-packages (from tensorboard~=2.19.0->tensorflow>=2.9.1->pgmax==0.6.1) (3.1.3)\n",
            "Requirement already satisfied: distlib<1,>=0.3.7 in /usr/local/lib/python3.12/dist-packages (from virtualenv>=20.10.0->pre-commit>=2.13.0->pgmax==0.6.1) (0.4.0)\n",
            "Requirement already satisfied: filelock<4,>=3.12.2 in /usr/local/lib/python3.12/dist-packages (from virtualenv>=20.10.0->pre-commit>=2.13.0->pgmax==0.6.1) (3.19.1)\n",
            "Requirement already satisfied: platformdirs<5,>=3.9.1 in /usr/local/lib/python3.12/dist-packages (from virtualenv>=20.10.0->pre-commit>=2.13.0->pgmax==0.6.1) (4.3.8)\n",
            "Requirement already satisfied: attrs>=18.2.0 in /usr/local/lib/python3.12/dist-packages (from dm-tree->tensorflow_datasets>=4.6.0->pgmax==0.6.1) (25.3.0)\n",
            "Requirement already satisfied: debugpy>=1.0 in /usr/local/lib/python3.12/dist-packages (from ipykernel->jupyter>=1.0.0->pgmax==0.6.1) (1.8.15)\n",
            "Requirement already satisfied: ipython>=7.23.1 in /usr/local/lib/python3.12/dist-packages (from ipykernel->jupyter>=1.0.0->pgmax==0.6.1) (7.34.0)\n",
            "Requirement already satisfied: jupyter-client>=6.1.12 in /usr/local/lib/python3.12/dist-packages (from ipykernel->jupyter>=1.0.0->pgmax==0.6.1) (7.4.9)\n",
            "Requirement already satisfied: matplotlib-inline>=0.1 in /usr/local/lib/python3.12/dist-packages (from ipykernel->jupyter>=1.0.0->pgmax==0.6.1) (0.1.7)\n",
            "Requirement already satisfied: nest-asyncio in /usr/local/lib/python3.12/dist-packages (from ipykernel->jupyter>=1.0.0->pgmax==0.6.1) (1.6.0)\n",
            "Requirement already satisfied: pyzmq>=17 in /usr/local/lib/python3.12/dist-packages (from ipykernel->jupyter>=1.0.0->pgmax==0.6.1) (26.2.1)\n",
            "Requirement already satisfied: tornado>=6.1 in /usr/local/lib/python3.12/dist-packages (from ipykernel->jupyter>=1.0.0->pgmax==0.6.1) (6.4.2)\n",
            "Requirement already satisfied: traitlets>=5.1.0 in /usr/local/lib/python3.12/dist-packages (from ipykernel->jupyter>=1.0.0->pgmax==0.6.1) (5.7.1)\n",
            "Requirement already satisfied: ipython-genutils~=0.2.0 in /usr/local/lib/python3.12/dist-packages (from ipywidgets->jupyter>=1.0.0->pgmax==0.6.1) (0.2.0)\n",
            "Requirement already satisfied: widgetsnbextension~=3.6.0 in /usr/local/lib/python3.12/dist-packages (from ipywidgets->jupyter>=1.0.0->pgmax==0.6.1) (3.6.10)\n",
            "Requirement already satisfied: jupyterlab-widgets>=1.0.0 in /usr/local/lib/python3.12/dist-packages (from ipywidgets->jupyter>=1.0.0->pgmax==0.6.1) (3.0.15)\n",
            "Requirement already satisfied: prompt-toolkit!=3.0.0,!=3.0.1,<3.1.0,>=2.0.0 in /usr/local/lib/python3.12/dist-packages (from jupyter-console->jupyter>=1.0.0->pgmax==0.6.1) (3.0.51)\n",
            "Requirement already satisfied: async-lru>=1.0.0 in /usr/local/lib/python3.12/dist-packages (from jupyterlab->jupyter>=1.0.0->pgmax==0.6.1) (2.0.5)\n",
            "Requirement already satisfied: httpx<1,>=0.25.0 in /usr/local/lib/python3.12/dist-packages (from jupyterlab->jupyter>=1.0.0->pgmax==0.6.1) (0.28.1)\n",
            "Requirement already satisfied: jupyter-core in /usr/local/lib/python3.12/dist-packages (from jupyterlab->jupyter>=1.0.0->pgmax==0.6.1) (5.8.1)\n",
            "Requirement already satisfied: jupyter-lsp>=2.0.0 in /usr/local/lib/python3.12/dist-packages (from jupyterlab->jupyter>=1.0.0->pgmax==0.6.1) (2.3.0)\n",
            "Requirement already satisfied: jupyter-server<3,>=2.4.0 in /usr/local/lib/python3.12/dist-packages (from jupyterlab->jupyter>=1.0.0->pgmax==0.6.1) (2.17.0)\n",
            "Requirement already satisfied: jupyterlab-server<3,>=2.27.1 in /usr/local/lib/python3.12/dist-packages (from jupyterlab->jupyter>=1.0.0->pgmax==0.6.1) (2.27.3)\n",
            "Requirement already satisfied: notebook-shim>=0.2 in /usr/local/lib/python3.12/dist-packages (from jupyterlab->jupyter>=1.0.0->pgmax==0.6.1) (0.2.4)\n",
            "Requirement already satisfied: bleach!=5.0.0 in /usr/local/lib/python3.12/dist-packages (from bleach[css]!=5.0.0->nbconvert->jupyter>=1.0.0->pgmax==0.6.1) (6.2.0)\n",
            "Requirement already satisfied: defusedxml in /usr/local/lib/python3.12/dist-packages (from nbconvert->jupyter>=1.0.0->pgmax==0.6.1) (0.7.1)\n",
            "Requirement already satisfied: jupyterlab-pygments in /usr/local/lib/python3.12/dist-packages (from nbconvert->jupyter>=1.0.0->pgmax==0.6.1) (0.3.0)\n",
            "Requirement already satisfied: mistune<4,>=2.0.3 in /usr/local/lib/python3.12/dist-packages (from nbconvert->jupyter>=1.0.0->pgmax==0.6.1) (3.1.3)\n",
            "Requirement already satisfied: nbclient>=0.5.0 in /usr/local/lib/python3.12/dist-packages (from nbconvert->jupyter>=1.0.0->pgmax==0.6.1) (0.10.2)\n",
            "Requirement already satisfied: pandocfilters>=1.4.1 in /usr/local/lib/python3.12/dist-packages (from nbconvert->jupyter>=1.0.0->pgmax==0.6.1) (1.5.1)\n",
            "Requirement already satisfied: fastjsonschema>=2.15 in /usr/local/lib/python3.12/dist-packages (from nbformat->jupytext>=1.11.3->pgmax==0.6.1) (2.21.2)\n",
            "Requirement already satisfied: jsonschema>=2.6 in /usr/local/lib/python3.12/dist-packages (from nbformat->jupytext>=1.11.3->pgmax==0.6.1) (4.25.1)\n",
            "Requirement already satisfied: argon2-cffi in /usr/local/lib/python3.12/dist-packages (from notebook->jupyter>=1.0.0->pgmax==0.6.1) (25.1.0)\n",
            "Requirement already satisfied: Send2Trash>=1.8.0 in /usr/local/lib/python3.12/dist-packages (from notebook->jupyter>=1.0.0->pgmax==0.6.1) (1.8.3)\n",
            "Requirement already satisfied: terminado>=0.8.3 in /usr/local/lib/python3.12/dist-packages (from notebook->jupyter>=1.0.0->pgmax==0.6.1) (0.18.1)\n",
            "Requirement already satisfied: prometheus-client in /usr/local/lib/python3.12/dist-packages (from notebook->jupyter>=1.0.0->pgmax==0.6.1) (0.22.1)\n",
            "Requirement already satisfied: nbclassic>=0.4.7 in /usr/local/lib/python3.12/dist-packages (from notebook->jupyter>=1.0.0->pgmax==0.6.1) (1.3.1)\n",
            "Requirement already satisfied: docstring-parser<1.0,>=0.15 in /usr/local/lib/python3.12/dist-packages (from simple_parsing->tensorflow_datasets>=4.6.0->pgmax==0.6.1) (0.17.0)\n",
            "Requirement already satisfied: googleapis-common-protos<2,>=1.56.4 in /usr/local/lib/python3.12/dist-packages (from tensorflow-metadata->tensorflow_datasets>=4.6.0->pgmax==0.6.1) (1.70.0)\n",
            "Requirement already satisfied: webencodings in /usr/local/lib/python3.12/dist-packages (from bleach!=5.0.0->bleach[css]!=5.0.0->nbconvert->jupyter>=1.0.0->pgmax==0.6.1) (0.5.1)\n",
            "Requirement already satisfied: tinycss2<1.5,>=1.1.0 in /usr/local/lib/python3.12/dist-packages (from bleach[css]!=5.0.0->nbconvert->jupyter>=1.0.0->pgmax==0.6.1) (1.4.0)\n",
            "Requirement already satisfied: anyio in /usr/local/lib/python3.12/dist-packages (from httpx<1,>=0.25.0->jupyterlab->jupyter>=1.0.0->pgmax==0.6.1) (4.10.0)\n",
            "Requirement already satisfied: httpcore==1.* in /usr/local/lib/python3.12/dist-packages (from httpx<1,>=0.25.0->jupyterlab->jupyter>=1.0.0->pgmax==0.6.1) (1.0.9)\n",
            "Requirement already satisfied: h11>=0.16 in /usr/local/lib/python3.12/dist-packages (from httpcore==1.*->httpx<1,>=0.25.0->jupyterlab->jupyter>=1.0.0->pgmax==0.6.1) (0.16.0)\n",
            "Requirement already satisfied: jedi>=0.16 in /usr/local/lib/python3.12/dist-packages (from ipython>=7.23.1->ipykernel->jupyter>=1.0.0->pgmax==0.6.1) (0.19.2)\n",
            "Requirement already satisfied: decorator in /usr/local/lib/python3.12/dist-packages (from ipython>=7.23.1->ipykernel->jupyter>=1.0.0->pgmax==0.6.1) (4.4.2)\n",
            "Requirement already satisfied: pickleshare in /usr/local/lib/python3.12/dist-packages (from ipython>=7.23.1->ipykernel->jupyter>=1.0.0->pgmax==0.6.1) (0.7.5)\n",
            "Requirement already satisfied: backcall in /usr/local/lib/python3.12/dist-packages (from ipython>=7.23.1->ipykernel->jupyter>=1.0.0->pgmax==0.6.1) (0.2.0)\n",
            "Requirement already satisfied: pexpect>4.3 in /usr/local/lib/python3.12/dist-packages (from ipython>=7.23.1->ipykernel->jupyter>=1.0.0->pgmax==0.6.1) (4.9.0)\n",
            "Requirement already satisfied: jsonschema-specifications>=2023.03.6 in /usr/local/lib/python3.12/dist-packages (from jsonschema>=2.6->nbformat->jupytext>=1.11.3->pgmax==0.6.1) (2025.4.1)\n",
            "Requirement already satisfied: referencing>=0.28.4 in /usr/local/lib/python3.12/dist-packages (from jsonschema>=2.6->nbformat->jupytext>=1.11.3->pgmax==0.6.1) (0.36.2)\n",
            "Requirement already satisfied: rpds-py>=0.7.1 in /usr/local/lib/python3.12/dist-packages (from jsonschema>=2.6->nbformat->jupytext>=1.11.3->pgmax==0.6.1) (0.27.0)\n",
            "Requirement already satisfied: entrypoints in /usr/local/lib/python3.12/dist-packages (from jupyter-client>=6.1.12->ipykernel->jupyter>=1.0.0->pgmax==0.6.1) (0.4)\n",
            "Requirement already satisfied: jupyter-events>=0.11.0 in /usr/local/lib/python3.12/dist-packages (from jupyter-server<3,>=2.4.0->jupyterlab->jupyter>=1.0.0->pgmax==0.6.1) (0.12.0)\n",
            "Requirement already satisfied: jupyter-server-terminals>=0.4.4 in /usr/local/lib/python3.12/dist-packages (from jupyter-server<3,>=2.4.0->jupyterlab->jupyter>=1.0.0->pgmax==0.6.1) (0.5.3)\n",
            "Requirement already satisfied: websocket-client>=1.7 in /usr/local/lib/python3.12/dist-packages (from jupyter-server<3,>=2.4.0->jupyterlab->jupyter>=1.0.0->pgmax==0.6.1) (1.8.0)\n",
            "Requirement already satisfied: argon2-cffi-bindings in /usr/local/lib/python3.12/dist-packages (from argon2-cffi->notebook->jupyter>=1.0.0->pgmax==0.6.1) (25.1.0)\n",
            "Requirement already satisfied: json5>=0.9.0 in /usr/local/lib/python3.12/dist-packages (from jupyterlab-server<3,>=2.27.1->jupyterlab->jupyter>=1.0.0->pgmax==0.6.1) (0.12.1)\n",
            "Requirement already satisfied: wcwidth in /usr/local/lib/python3.12/dist-packages (from prompt-toolkit!=3.0.0,!=3.0.1,<3.1.0,>=2.0.0->jupyter-console->jupyter>=1.0.0->pgmax==0.6.1) (0.2.13)\n",
            "Requirement already satisfied: ptyprocess in /usr/local/lib/python3.12/dist-packages (from terminado>=0.8.3->notebook->jupyter>=1.0.0->pgmax==0.6.1) (0.7.0)\n",
            "Requirement already satisfied: soupsieve>1.2 in /usr/local/lib/python3.12/dist-packages (from beautifulsoup4->pydata-sphinx-theme==0.15.4->sphinx-book-theme>=0.3.3->pgmax==0.6.1) (2.7)\n",
            "Requirement already satisfied: pycparser in /usr/local/lib/python3.12/dist-packages (from cffi->clarabel>=0.5.0->cvxpy>=1.2.0->pgmax==0.6.1) (2.22)\n",
            "Requirement already satisfied: sniffio>=1.1 in /usr/local/lib/python3.12/dist-packages (from anyio->httpx<1,>=0.25.0->jupyterlab->jupyter>=1.0.0->pgmax==0.6.1) (1.3.1)\n",
            "Requirement already satisfied: parso<0.9.0,>=0.8.4 in /usr/local/lib/python3.12/dist-packages (from jedi>=0.16->ipython>=7.23.1->ipykernel->jupyter>=1.0.0->pgmax==0.6.1) (0.8.5)\n",
            "Requirement already satisfied: python-json-logger>=2.0.4 in /usr/local/lib/python3.12/dist-packages (from jupyter-events>=0.11.0->jupyter-server<3,>=2.4.0->jupyterlab->jupyter>=1.0.0->pgmax==0.6.1) (3.3.0)\n",
            "Requirement already satisfied: rfc3339-validator in /usr/local/lib/python3.12/dist-packages (from jupyter-events>=0.11.0->jupyter-server<3,>=2.4.0->jupyterlab->jupyter>=1.0.0->pgmax==0.6.1) (0.1.4)\n",
            "Requirement already satisfied: rfc3986-validator>=0.1.1 in /usr/local/lib/python3.12/dist-packages (from jupyter-events>=0.11.0->jupyter-server<3,>=2.4.0->jupyterlab->jupyter>=1.0.0->pgmax==0.6.1) (0.1.1)\n",
            "Requirement already satisfied: fqdn in /usr/local/lib/python3.12/dist-packages (from jsonschema[format-nongpl]>=4.18.0->jupyter-events>=0.11.0->jupyter-server<3,>=2.4.0->jupyterlab->jupyter>=1.0.0->pgmax==0.6.1) (1.5.1)\n",
            "Requirement already satisfied: isoduration in /usr/local/lib/python3.12/dist-packages (from jsonschema[format-nongpl]>=4.18.0->jupyter-events>=0.11.0->jupyter-server<3,>=2.4.0->jupyterlab->jupyter>=1.0.0->pgmax==0.6.1) (20.11.0)\n",
            "Requirement already satisfied: jsonpointer>1.13 in /usr/local/lib/python3.12/dist-packages (from jsonschema[format-nongpl]>=4.18.0->jupyter-events>=0.11.0->jupyter-server<3,>=2.4.0->jupyterlab->jupyter>=1.0.0->pgmax==0.6.1) (3.0.0)\n",
            "Requirement already satisfied: rfc3987-syntax>=1.1.0 in /usr/local/lib/python3.12/dist-packages (from jsonschema[format-nongpl]>=4.18.0->jupyter-events>=0.11.0->jupyter-server<3,>=2.4.0->jupyterlab->jupyter>=1.0.0->pgmax==0.6.1) (1.1.0)\n",
            "Requirement already satisfied: uri-template in /usr/local/lib/python3.12/dist-packages (from jsonschema[format-nongpl]>=4.18.0->jupyter-events>=0.11.0->jupyter-server<3,>=2.4.0->jupyterlab->jupyter>=1.0.0->pgmax==0.6.1) (1.3.0)\n",
            "Requirement already satisfied: webcolors>=24.6.0 in /usr/local/lib/python3.12/dist-packages (from jsonschema[format-nongpl]>=4.18.0->jupyter-events>=0.11.0->jupyter-server<3,>=2.4.0->jupyterlab->jupyter>=1.0.0->pgmax==0.6.1) (24.11.1)\n",
            "Requirement already satisfied: lark>=1.2.2 in /usr/local/lib/python3.12/dist-packages (from rfc3987-syntax>=1.1.0->jsonschema[format-nongpl]>=4.18.0->jupyter-events>=0.11.0->jupyter-server<3,>=2.4.0->jupyterlab->jupyter>=1.0.0->pgmax==0.6.1) (1.2.2)\n",
            "Requirement already satisfied: arrow>=0.15.0 in /usr/local/lib/python3.12/dist-packages (from isoduration->jsonschema[format-nongpl]>=4.18.0->jupyter-events>=0.11.0->jupyter-server<3,>=2.4.0->jupyterlab->jupyter>=1.0.0->pgmax==0.6.1) (1.3.0)\n",
            "Requirement already satisfied: types-python-dateutil>=2.8.10 in /usr/local/lib/python3.12/dist-packages (from arrow>=0.15.0->isoduration->jsonschema[format-nongpl]>=4.18.0->jupyter-events>=0.11.0->jupyter-server<3,>=2.4.0->jupyterlab->jupyter>=1.0.0->pgmax==0.6.1) (2.9.0.20250822)\n"
          ]
        }
      ]
    },
    {
      "cell_type": "code",
      "metadata": {
        "id": "0a7ac338"
      },
      "source": [
        "import itertools\n",
        "\n",
        "import numpy as np\n",
        "import jax\n",
        "import jax.numpy as jnp\n",
        "import matplotlib.pyplot as plt\n",
        "import pgmax\n",
        "from pgmax import fgraph, fgroup, infer, vgroup"
      ],
      "execution_count": 2,
      "outputs": []
    },
    {
      "cell_type": "markdown",
      "source": [
        "First, we make the grid of variables."
      ],
      "metadata": {
        "id": "r0SJXPUGXcvg"
      }
    },
    {
      "cell_type": "code",
      "source": [
        "n = 4\n",
        "variables = vgroup.NDVarArray(num_states=n, shape=(n, n))\n",
        "variables"
      ],
      "metadata": {
        "colab": {
          "base_uri": "https://localhost:8080/"
        },
        "id": "b0aRtVjyXbwu",
        "outputId": "03995fd6-9cf6-4415-ffd7-c6ed2c8230fe"
      },
      "execution_count": 3,
      "outputs": [
        {
          "output_type": "execute_result",
          "data": {
            "text/plain": [
              "NDVarArray(shape=(4, 4), num_states=4, _hash=3709777776000000000)"
            ]
          },
          "metadata": {},
          "execution_count": 3
        }
      ]
    },
    {
      "cell_type": "markdown",
      "source": [
        "Next, we create the factor graph."
      ],
      "metadata": {
        "id": "YGBOtNnVkzBI"
      }
    },
    {
      "cell_type": "code",
      "source": [
        "# Initialize the factor graph\n",
        "fg = fgraph.FactorGraph(variable_groups=variables)\n",
        "fg"
      ],
      "metadata": {
        "colab": {
          "base_uri": "https://localhost:8080/"
        },
        "id": "7m1mnepBkYzD",
        "outputId": "a10b1ed4-1753-4d98-88f1-ca5cefcfeddc"
      },
      "execution_count": 4,
      "outputs": [
        {
          "output_type": "execute_result",
          "data": {
            "text/plain": [
              "FactorGraph(variable_groups=[NDVarArray(shape=(4, 4), num_states=4, _hash=3709777776000000000)])"
            ]
          },
          "metadata": {},
          "execution_count": 4
        }
      ]
    },
    {
      "cell_type": "markdown",
      "source": [
        "We'll use an EnumFactorGroup to list the valid Sudoku configurations (in which all the numbers in a row/column/block are different)."
      ],
      "metadata": {
        "id": "RTIsBC86lhDs"
      }
    },
    {
      "cell_type": "code",
      "source": [
        "all_different = np.array(list(itertools.permutations(range(n))))\n",
        "all_different"
      ],
      "metadata": {
        "id": "O0AJnIcZlgm8",
        "colab": {
          "base_uri": "https://localhost:8080/"
        },
        "outputId": "852c88c2-672c-4e1d-8c91-649b06525c9b"
      },
      "execution_count": 5,
      "outputs": [
        {
          "output_type": "execute_result",
          "data": {
            "text/plain": [
              "array([[0, 1, 2, 3],\n",
              "       [0, 1, 3, 2],\n",
              "       [0, 2, 1, 3],\n",
              "       [0, 2, 3, 1],\n",
              "       [0, 3, 1, 2],\n",
              "       [0, 3, 2, 1],\n",
              "       [1, 0, 2, 3],\n",
              "       [1, 0, 3, 2],\n",
              "       [1, 2, 0, 3],\n",
              "       [1, 2, 3, 0],\n",
              "       [1, 3, 0, 2],\n",
              "       [1, 3, 2, 0],\n",
              "       [2, 0, 1, 3],\n",
              "       [2, 0, 3, 1],\n",
              "       [2, 1, 0, 3],\n",
              "       [2, 1, 3, 0],\n",
              "       [2, 3, 0, 1],\n",
              "       [2, 3, 1, 0],\n",
              "       [3, 0, 1, 2],\n",
              "       [3, 0, 2, 1],\n",
              "       [3, 1, 0, 2],\n",
              "       [3, 1, 2, 0],\n",
              "       [3, 2, 0, 1],\n",
              "       [3, 2, 1, 0]])"
            ]
          },
          "metadata": {},
          "execution_count": 5
        }
      ]
    },
    {
      "cell_type": "markdown",
      "source": [
        "Now, we can add the factors."
      ],
      "metadata": {
        "id": "XrMtkGYUlX6S"
      }
    },
    {
      "cell_type": "code",
      "source": [
        "# Create the pairwise factor group\n",
        "variables_for_factors = []\n",
        "\n",
        "# Add factors for rows\n",
        "for row in range(n):\n",
        "    variables_for_factors.append([variables[row, col] for col in range(n)])\n",
        "\n",
        "# Add factors for columns\n",
        "for col in range(n):\n",
        "    variables_for_factors.append([variables[row, col] for row in range(n)])\n",
        "\n",
        "# Add factors for 2x2 blocks\n",
        "for block_row in range(0, n, 2):\n",
        "    for block_col in range(0, n, 2):\n",
        "        block_variables = []\n",
        "        for row in range(block_row, block_row + 2):\n",
        "            for col in range(block_col, block_col + 2):\n",
        "                block_variables.append(variables[row, col])\n",
        "        variables_for_factors.append(block_variables)\n",
        "\n",
        "factor_group = pgmax.fgroup.EnumFactorGroup(\n",
        "    variables_for_factors=variables_for_factors,\n",
        "    factor_configs=all_different\n",
        ")\n",
        "# Add the factors to the factor graph\n",
        "fg.add_factors(factor_group)\n",
        "fg"
      ],
      "metadata": {
        "colab": {
          "base_uri": "https://localhost:8080/"
        },
        "id": "_YFH5qErkwXy",
        "outputId": "6adc5912-90d8-436a-b37a-b2fa8a95a2d3"
      },
      "execution_count": 6,
      "outputs": [
        {
          "output_type": "execute_result",
          "data": {
            "text/plain": [
              "FactorGraph(variable_groups=[NDVarArray(shape=(4, 4), num_states=4, _hash=3709777776000000000)])"
            ]
          },
          "metadata": {},
          "execution_count": 6
        }
      ]
    },
    {
      "cell_type": "code",
      "source": [
        "bp = infer.build_inferer(fg.bp_state, backend=\"bp\")"
      ],
      "metadata": {
        "id": "Whzl4y0Pl3iS"
      },
      "execution_count": 7,
      "outputs": []
    },
    {
      "cell_type": "markdown",
      "source": [
        "We now run this."
      ],
      "metadata": {
        "id": "UTU-wRjLFjH0"
      }
    },
    {
      "cell_type": "code",
      "source": [
        "rng = jax.random.PRNGKey(0)\n",
        "evidence_updates={variables: jax.random.gumbel(rng, shape=(n, n, n))}\n",
        "\n",
        "# Run MAP inference\n",
        "inferer_arrays = bp.init(evidence_updates=evidence_updates)\n",
        "# inferer_arrays = bp.init()\n",
        "inferer_arrays, msgs_deltas = bp.run_with_diffs(inferer_arrays, num_iters=3000, temperature=0)\n",
        "\n",
        "# Compute the beliefs\n",
        "beliefs = bp.get_beliefs(inferer_arrays)"
      ],
      "metadata": {
        "id": "I8_EjVseFhkU"
      },
      "execution_count": 8,
      "outputs": []
    },
    {
      "cell_type": "markdown",
      "source": [
        "We try using the same code from the Ising model, to plot this..."
      ],
      "metadata": {
        "id": "uiXT9sKfGzuv"
      }
    },
    {
      "cell_type": "code",
      "source": [
        "# Get the MAP states\n",
        "map_states = infer.decode_map_states(beliefs)\n",
        "\n",
        "# Compute the energy of the decoding\n",
        "decoding_energy = (\n",
        "    infer.compute_energy(fg.bp_state, inferer_arrays, map_states)[0]\n",
        ")\n",
        "print(\"The energy of the decoding is\", decoding_energy)\n",
        "\n",
        "# Plot the image\n",
        "img = map_states[variables]\n",
        "fig, ax = plt.subplots(1, 1, figsize=(5, 5))\n",
        "ax.imshow(img)"
      ],
      "metadata": {
        "colab": {
          "base_uri": "https://localhost:8080/",
          "height": 540
        },
        "id": "P5V9Kts8FlE-",
        "outputId": "b47d7770-d18a-4977-bd9f-547968c1352d"
      },
      "execution_count": 9,
      "outputs": [
        {
          "output_type": "stream",
          "name": "stderr",
          "text": [
            "/usr/local/lib/python3.12/dist-packages/jax/_src/ops/scatter.py:93: FutureWarning: scatter inputs have incompatible types: cannot safely cast value from dtype=float32 to dtype=bool with jax_numpy_dtype_promotion='standard'. In future JAX releases this will result in an error.\n",
            "  warnings.warn(\n"
          ]
        },
        {
          "output_type": "stream",
          "name": "stdout",
          "text": [
            "The energy of the decoding is -20.109865\n"
          ]
        },
        {
          "output_type": "execute_result",
          "data": {
            "text/plain": [
              "<matplotlib.image.AxesImage at 0x7f1c79a23260>"
            ]
          },
          "metadata": {},
          "execution_count": 9
        },
        {
          "output_type": "display_data",
          "data": {
            "text/plain": [
              "<Figure size 500x500 with 1 Axes>"
            ],
            "image/png": "[encoded data removed]"
          },
          "metadata": {}
        }
      ]
    },
    {
      "cell_type": "markdown",
      "source": [
        "... which looks like a valid Sudoku board. Woot!\n",
        "\n",
        "To actually solve a Sudoku instance, we'd need to add factors, fixing some numbers in the grid."
      ],
      "metadata": {
        "id": "lXA0An3OHCFb"
      }
    }
  ]
}